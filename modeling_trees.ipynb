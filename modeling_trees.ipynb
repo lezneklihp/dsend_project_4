{
 "cells": [
  {
   "cell_type": "code",
   "execution_count": 15,
   "metadata": {},
   "outputs": [],
   "source": [
    "# Import third-party packages.\n",
    "from imblearn.over_sampling import RandomOverSampler, SMOTE\n",
    "from lightgbm import LGBMClassifier\n",
    "import matplotlib.pyplot as plt\n",
    "import numpy as np\n",
    "import pandas as pd\n",
    "import pickle\n",
    "from sklearn.ensemble import AdaBoostClassifier, RandomForestClassifier\n",
    "from sklearn.metrics import accuracy_score, average_precision_score, balanced_accuracy_score, classification_report, confusion_matrix, f1_score\n",
    "from sklearn.model_selection import GridSearchCV, train_test_split\n",
    "import warnings\n",
    "from xgboost import XGBClassifier\n",
    "\n",
    "%matplotlib inline\n",
    "\n",
    "pd.set_option('display.max_columns', None)\n",
    "pd.set_option('display.max_rows', 500)\n",
    "warnings.filterwarnings('ignore')"
   ]
  },
  {
   "cell_type": "code",
   "execution_count": 2,
   "metadata": {
    "scrolled": false
   },
   "outputs": [],
   "source": [
    "# Read in preprocessed data on trees.\n",
    "df = pd.read_csv('./data/data_preprocessed/features.csv') #, compression='gzip'"
   ]
  },
  {
   "cell_type": "code",
   "execution_count": 10,
   "metadata": {},
   "outputs": [
    {
     "data": {
      "text/plain": [
       "array([[<matplotlib.axes._subplots.AxesSubplot object at 0x10e98fe50>,\n",
       "        <matplotlib.axes._subplots.AxesSubplot object at 0x133d93af0>],\n",
       "       [<matplotlib.axes._subplots.AxesSubplot object at 0x139fb3f70>,\n",
       "        <matplotlib.axes._subplots.AxesSubplot object at 0x133e3b460>]],\n",
       "      dtype=object)"
      ]
     },
     "execution_count": 10,
     "metadata": {},
     "output_type": "execute_result"
    },
    {
     "data": {
      "image/png": "[encoded data removed]",
      "text/plain": [
       "<Figure size 432x288 with 4 Axes>"
      ]
     },
     "metadata": {
      "needs_background": "light"
     },
     "output_type": "display_data"
    }
   ],
   "source": [
    "x = df.loc[:, 'steward_Alive':'n_neighbors_two or more neighbors']\n",
    "y = df.loc[:, 'health_Dead|Stump':]\n",
    "\n",
    "# Split into training, testing, and validation datasets.\n",
    "x_train, x_valid, y_train, y_valid = train_test_split(x,\n",
    "                                                      y,\n",
    "                                                      test_size=0.5,\n",
    "                                                      random_state=34,\n",
    "                                                      shuffle=True,\n",
    "                                                      stratify=y)\n",
    "\n",
    "x_training, x_testing, y_training, y_testing = train_test_split(x_train,\n",
    "                                                                y_train,\n",
    "                                                                test_size=0.5,\n",
    "                                                                random_state=34,\n",
    "                                                                shuffle=True,\n",
    "                                                                stratify=y_train)\n",
    "\n",
    "# Check class imbalance of targets.\n",
    "y_training.hist()"
   ]
  },
  {
   "cell_type": "markdown",
   "metadata": {},
   "source": [
    "target_first_class = len(y_train.loc[y_train['health_Dead|Stump'] == 0]) / len(y_train)\n",
    "target_second_class = len(y_train.loc[y_train['health_Fair'] == 0]) / len(y_train)\n",
    "target_third_class = len(y_train.loc[y_train['health_Good'] == 0]) / len(y_train)\n",
    "target_fourth_class = len(y_train.loc[y_train['health_Poor'] == 0]) / len(y_train)\n",
    "\n",
    "\n",
    "class_weight_orig = [{0:target_first_class, 1:1-target_first_class},\n",
    "                     {0:target_second_class, 1:1-target_second_class},\n",
    "                     {0:target_third_class, 1:1-target_third_class},\n",
    "                     {0:target_fourth_class, 1:1-target_fourth_class}]\n",
    "\n",
    "class_weight_manip = [{0:target_first_class, 1:1-target_first_class},\n",
    "                      {0:1-target_second_class-0.1, 1:target_second_class+0.1},\n",
    "                      {0:target_third_class, 1:1-target_third_class},\n",
    "                      {0:1-target_fourth_class, 1:target_fourth_class}]\n",
    "\n",
    "print(class_weight_orig)\n",
    "print(class_weight_manip)"
   ]
  },
  {
   "cell_type": "markdown",
   "metadata": {},
   "source": [
    "# Oversampling"
   ]
  },
  {
   "cell_type": "code",
   "execution_count": 11,
   "metadata": {},
   "outputs": [
    {
     "data": {
      "text/plain": [
       "array([[<matplotlib.axes._subplots.AxesSubplot object at 0x133d0c130>,\n",
       "        <matplotlib.axes._subplots.AxesSubplot object at 0x1339f18b0>],\n",
       "       [<matplotlib.axes._subplots.AxesSubplot object at 0x133b8f0d0>,\n",
       "        <matplotlib.axes._subplots.AxesSubplot object at 0x133bc0820>]],\n",
       "      dtype=object)"
      ]
     },
     "execution_count": 11,
     "metadata": {},
     "output_type": "execute_result"
    },
    {
     "data": {
      "image/png": "[encoded data removed]",
      "text/plain": [
       "<Figure size 432x288 with 4 Axes>"
      ]
     },
     "metadata": {
      "needs_background": "light"
     },
     "output_type": "display_data"
    }
   ],
   "source": [
    "ros = RandomOverSampler(sampling_strategy='minority', random_state=34)\n",
    "\n",
    "x_training_ros, y_training_ros = ros.fit_resample(x_training.values, y_training.values)\n",
    "\n",
    "pd.DataFrame(y_training_ros, columns=df.columns[-3:]).hist()"
   ]
  },
  {
   "cell_type": "markdown",
   "metadata": {},
   "source": [
    "# SMOTE"
   ]
  },
  {
   "cell_type": "code",
   "execution_count": 6,
   "metadata": {},
   "outputs": [
    {
     "ename": "NameError",
     "evalue": "name 'df_new' is not defined",
     "output_type": "error",
     "traceback": [
      "\u001b[0;31m---------------------------------------------------------------------------\u001b[0m",
      "\u001b[0;31mNameError\u001b[0m                                 Traceback (most recent call last)",
      "\u001b[0;32m<ipython-input-6-f9753fd797c3>\u001b[0m in \u001b[0;36m<module>\u001b[0;34m\u001b[0m\n\u001b[0;32m----> 1\u001b[0;31m \u001b[0mdf_poorfair\u001b[0m \u001b[0;34m=\u001b[0m \u001b[0mdf\u001b[0m\u001b[0;34m.\u001b[0m\u001b[0mloc\u001b[0m\u001b[0;34m[\u001b[0m\u001b[0;34m(\u001b[0m\u001b[0mdf\u001b[0m\u001b[0;34m[\u001b[0m\u001b[0;34m'health_Poor|Fair'\u001b[0m\u001b[0;34m]\u001b[0m\u001b[0;34m==\u001b[0m\u001b[0;36m1\u001b[0m\u001b[0;34m)\u001b[0m \u001b[0;34m|\u001b[0m \u001b[0;34m(\u001b[0m\u001b[0mdf_new\u001b[0m\u001b[0;34m[\u001b[0m\u001b[0;34m'health_Dead|Stump'\u001b[0m\u001b[0;34m]\u001b[0m\u001b[0;34m==\u001b[0m\u001b[0;36m0\u001b[0m\u001b[0;34m)\u001b[0m\u001b[0;34m]\u001b[0m\u001b[0;34m.\u001b[0m\u001b[0mcopy\u001b[0m\u001b[0;34m(\u001b[0m\u001b[0;34m)\u001b[0m\u001b[0;34m.\u001b[0m\u001b[0mreindex\u001b[0m\u001b[0;34m(\u001b[0m\u001b[0;34m)\u001b[0m\u001b[0;34m\u001b[0m\u001b[0;34m\u001b[0m\u001b[0m\n\u001b[0m\u001b[1;32m      2\u001b[0m \u001b[0;34m\u001b[0m\u001b[0m\n\u001b[1;32m      3\u001b[0m \u001b[0mx_pf\u001b[0m \u001b[0;34m=\u001b[0m \u001b[0mdf_poorfair\u001b[0m\u001b[0;34m.\u001b[0m\u001b[0mloc\u001b[0m\u001b[0;34m[\u001b[0m\u001b[0;34m:\u001b[0m\u001b[0;34m,\u001b[0m \u001b[0;34m'steward_Alive'\u001b[0m\u001b[0;34m:\u001b[0m\u001b[0;34m'n_neighbors_two or more neighbors'\u001b[0m\u001b[0;34m]\u001b[0m\u001b[0;34m\u001b[0m\u001b[0;34m\u001b[0m\u001b[0m\n\u001b[1;32m      4\u001b[0m \u001b[0my_pf\u001b[0m \u001b[0;34m=\u001b[0m \u001b[0mdf_poorfair\u001b[0m\u001b[0;34m.\u001b[0m\u001b[0mloc\u001b[0m\u001b[0;34m[\u001b[0m\u001b[0;34m:\u001b[0m\u001b[0;34m,\u001b[0m \u001b[0;34m'health_Dead|Stump'\u001b[0m\u001b[0;34m:\u001b[0m\u001b[0;34m]\u001b[0m\u001b[0;34m\u001b[0m\u001b[0;34m\u001b[0m\u001b[0m\n\u001b[1;32m      5\u001b[0m \u001b[0;34m\u001b[0m\u001b[0m\n",
      "\u001b[0;31mNameError\u001b[0m: name 'df_new' is not defined"
     ]
    }
   ],
   "source": [
    "df_poorfair = df.loc[(df['health_Poor|Fair']==1) | (df_new['health_Dead|Stump']==0)].copy().reindex()\n",
    "\n",
    "x_pf = df_poorfair.loc[:, 'steward_Alive':'n_neighbors_two or more neighbors']\n",
    "y_pf = df_poorfair.loc[:, 'health_Dead|Stump':]\n",
    "\n",
    "x_train_pf, x_test_pf, y_train_pf, y_test_pf = train_test_split(x_pf,\n",
    "                                                                y_pf,\n",
    "                                                                test_size=0.5,\n",
    "                                                                random_state=34,\n",
    "                                                                stratify=y_pf)"
   ]
  },
  {
   "cell_type": "markdown",
   "metadata": {},
   "source": [
    "# Modelling"
   ]
  },
  {
   "cell_type": "code",
   "execution_count": null,
   "metadata": {},
   "outputs": [],
   "source": [
    "# Enlist classifiers and their default parameters.\n",
    "classifiers = {\n",
    "    'xgb': XGBClassifier(n_estimators=100,\n",
    "                         objective='binary:logistic',\n",
    "                         max_depth=8,\n",
    "                         learning_rate=0.1,\n",
    "                         verbosity=None,\n",
    "                         booster=None,\n",
    "                         tree_method=None,\n",
    "                         gamma=1,\n",
    "                         min_child_weight=None,\n",
    "                         max_delta_step=None,\n",
    "                         subsample=0.8,\n",
    "                         colsample_bytree=None,\n",
    "                         colsample_bylevel=None,\n",
    "                         colsample_bynode=None,\n",
    "                         reg_alpha=None,\n",
    "                         reg_lambda=None,\n",
    "                         scale_pos_weight=None,\n",
    "                         base_score=None,\n",
    "                         num_parallel_tree=None,\n",
    "                         random_state=34,\n",
    "                         n_jobs=-1,\n",
    "                         monotone_constraints=None,\n",
    "                         interaction_constraints=None,\n",
    "                         importance_type='gain',\n",
    "                         validate_parameters=None),\n",
    "    'ada': AdaBoostClassifier(base_estimator=None,\n",
    "                              n_estimators=50,\n",
    "                              learning_rate=1.0,\n",
    "                              random_state=34,\n",
    "                              algorithm='SAMME.R'),\n",
    "    \n",
    "}"
   ]
  },
  {
   "cell_type": "code",
   "execution_count": 32,
   "metadata": {},
   "outputs": [
    {
     "data": {
      "text/plain": [
       "{'base_estimator': None,\n",
       " 'n_estimators': 50,\n",
       " 'estimator_params': (),\n",
       " 'learning_rate': 1.0,\n",
       " 'random_state': None,\n",
       " 'algorithm': 'SAMME.R'}"
      ]
     },
     "execution_count": 32,
     "metadata": {},
     "output_type": "execute_result"
    }
   ],
   "source": [
    "AdaBoostClassifier().__dict__"
   ]
  },
  {
   "cell_type": "code",
   "execution_count": 8,
   "metadata": {
    "scrolled": false
   },
   "outputs": [
    {
     "ename": "KeyboardInterrupt",
     "evalue": "",
     "output_type": "error",
     "traceback": [
      "\u001b[0;31m---------------------------------------------------------------------------\u001b[0m",
      "\u001b[0;31mKeyboardInterrupt\u001b[0m                         Traceback (most recent call last)",
      "\u001b[0;32m<ipython-input-8-6c8594b6adfc>\u001b[0m in \u001b[0;36m<module>\u001b[0;34m\u001b[0m\n\u001b[1;32m      6\u001b[0m \u001b[0;34m\u001b[0m\u001b[0m\n\u001b[1;32m      7\u001b[0m     xgb_clfs[each] = {\n\u001b[0;32m----> 8\u001b[0;31m                 'trained_classifier': XGBClassifier(learning_rate=0.1,\n\u001b[0m\u001b[1;32m      9\u001b[0m                                                     \u001b[0mgamma\u001b[0m\u001b[0;34m=\u001b[0m\u001b[0;36m1\u001b[0m\u001b[0;34m,\u001b[0m\u001b[0;34m\u001b[0m\u001b[0;34m\u001b[0m\u001b[0m\n\u001b[1;32m     10\u001b[0m                                                     \u001b[0mn_estimators\u001b[0m\u001b[0;34m=\u001b[0m\u001b[0;36m3000\u001b[0m\u001b[0;34m,\u001b[0m\u001b[0;34m\u001b[0m\u001b[0;34m\u001b[0m\u001b[0m\n",
      "\u001b[0;32m/Library/Frameworks/Python.framework/Versions/3.8/lib/python3.8/site-packages/xgboost/sklearn.py\u001b[0m in \u001b[0;36mfit\u001b[0;34m(self, X, y, sample_weight, base_margin, eval_set, eval_metric, early_stopping_rounds, verbose, xgb_model, sample_weight_eval_set, callbacks)\u001b[0m\n\u001b[1;32m    816\u001b[0m                                 missing=self.missing, nthread=self.n_jobs)\n\u001b[1;32m    817\u001b[0m \u001b[0;34m\u001b[0m\u001b[0m\n\u001b[0;32m--> 818\u001b[0;31m         self._Booster = train(xgb_options, train_dmatrix,\n\u001b[0m\u001b[1;32m    819\u001b[0m                               \u001b[0mself\u001b[0m\u001b[0;34m.\u001b[0m\u001b[0mget_num_boosting_rounds\u001b[0m\u001b[0;34m(\u001b[0m\u001b[0;34m)\u001b[0m\u001b[0;34m,\u001b[0m\u001b[0;34m\u001b[0m\u001b[0;34m\u001b[0m\u001b[0m\n\u001b[1;32m    820\u001b[0m                               \u001b[0mevals\u001b[0m\u001b[0;34m=\u001b[0m\u001b[0mevals\u001b[0m\u001b[0;34m,\u001b[0m\u001b[0;34m\u001b[0m\u001b[0;34m\u001b[0m\u001b[0m\n",
      "\u001b[0;32m/Library/Frameworks/Python.framework/Versions/3.8/lib/python3.8/site-packages/xgboost/training.py\u001b[0m in \u001b[0;36mtrain\u001b[0;34m(params, dtrain, num_boost_round, evals, obj, feval, maximize, early_stopping_rounds, evals_result, verbose_eval, xgb_model, callbacks)\u001b[0m\n\u001b[1;32m    206\u001b[0m         \u001b[0mcallbacks\u001b[0m\u001b[0;34m.\u001b[0m\u001b[0mappend\u001b[0m\u001b[0;34m(\u001b[0m\u001b[0mcallback\u001b[0m\u001b[0;34m.\u001b[0m\u001b[0mrecord_evaluation\u001b[0m\u001b[0;34m(\u001b[0m\u001b[0mevals_result\u001b[0m\u001b[0;34m)\u001b[0m\u001b[0;34m)\u001b[0m\u001b[0;34m\u001b[0m\u001b[0;34m\u001b[0m\u001b[0m\n\u001b[1;32m    207\u001b[0m \u001b[0;34m\u001b[0m\u001b[0m\n\u001b[0;32m--> 208\u001b[0;31m     return _train_internal(params, dtrain,\n\u001b[0m\u001b[1;32m    209\u001b[0m                            \u001b[0mnum_boost_round\u001b[0m\u001b[0;34m=\u001b[0m\u001b[0mnum_boost_round\u001b[0m\u001b[0;34m,\u001b[0m\u001b[0;34m\u001b[0m\u001b[0;34m\u001b[0m\u001b[0m\n\u001b[1;32m    210\u001b[0m                            \u001b[0mevals\u001b[0m\u001b[0;34m=\u001b[0m\u001b[0mevals\u001b[0m\u001b[0;34m,\u001b[0m\u001b[0;34m\u001b[0m\u001b[0;34m\u001b[0m\u001b[0m\n",
      "\u001b[0;32m/Library/Frameworks/Python.framework/Versions/3.8/lib/python3.8/site-packages/xgboost/training.py\u001b[0m in \u001b[0;36m_train_internal\u001b[0;34m(params, dtrain, num_boost_round, evals, obj, feval, xgb_model, callbacks)\u001b[0m\n\u001b[1;32m     73\u001b[0m         \u001b[0;31m# Skip the first update if it is a recovery step.\u001b[0m\u001b[0;34m\u001b[0m\u001b[0;34m\u001b[0m\u001b[0;34m\u001b[0m\u001b[0m\n\u001b[1;32m     74\u001b[0m         \u001b[0;32mif\u001b[0m \u001b[0mversion\u001b[0m \u001b[0;34m%\u001b[0m \u001b[0;36m2\u001b[0m \u001b[0;34m==\u001b[0m \u001b[0;36m0\u001b[0m\u001b[0;34m:\u001b[0m\u001b[0;34m\u001b[0m\u001b[0;34m\u001b[0m\u001b[0m\n\u001b[0;32m---> 75\u001b[0;31m             \u001b[0mbst\u001b[0m\u001b[0;34m.\u001b[0m\u001b[0mupdate\u001b[0m\u001b[0;34m(\u001b[0m\u001b[0mdtrain\u001b[0m\u001b[0;34m,\u001b[0m \u001b[0mi\u001b[0m\u001b[0;34m,\u001b[0m \u001b[0mobj\u001b[0m\u001b[0;34m)\u001b[0m\u001b[0;34m\u001b[0m\u001b[0;34m\u001b[0m\u001b[0m\n\u001b[0m\u001b[1;32m     76\u001b[0m             \u001b[0mbst\u001b[0m\u001b[0;34m.\u001b[0m\u001b[0msave_rabit_checkpoint\u001b[0m\u001b[0;34m(\u001b[0m\u001b[0;34m)\u001b[0m\u001b[0;34m\u001b[0m\u001b[0;34m\u001b[0m\u001b[0m\n\u001b[1;32m     77\u001b[0m             \u001b[0mversion\u001b[0m \u001b[0;34m+=\u001b[0m \u001b[0;36m1\u001b[0m\u001b[0;34m\u001b[0m\u001b[0;34m\u001b[0m\u001b[0m\n",
      "\u001b[0;32m/Library/Frameworks/Python.framework/Versions/3.8/lib/python3.8/site-packages/xgboost/core.py\u001b[0m in \u001b[0;36mupdate\u001b[0;34m(self, dtrain, iteration, fobj)\u001b[0m\n\u001b[1;32m   1365\u001b[0m \u001b[0;34m\u001b[0m\u001b[0m\n\u001b[1;32m   1366\u001b[0m         \u001b[0;32mif\u001b[0m \u001b[0mfobj\u001b[0m \u001b[0;32mis\u001b[0m \u001b[0;32mNone\u001b[0m\u001b[0;34m:\u001b[0m\u001b[0;34m\u001b[0m\u001b[0;34m\u001b[0m\u001b[0m\n\u001b[0;32m-> 1367\u001b[0;31m             _check_call(_LIB.XGBoosterUpdateOneIter(self.handle,\n\u001b[0m\u001b[1;32m   1368\u001b[0m                                                     \u001b[0mctypes\u001b[0m\u001b[0;34m.\u001b[0m\u001b[0mc_int\u001b[0m\u001b[0;34m(\u001b[0m\u001b[0miteration\u001b[0m\u001b[0;34m)\u001b[0m\u001b[0;34m,\u001b[0m\u001b[0;34m\u001b[0m\u001b[0;34m\u001b[0m\u001b[0m\n\u001b[1;32m   1369\u001b[0m                                                     dtrain.handle))\n",
      "\u001b[0;31mKeyboardInterrupt\u001b[0m: "
     ]
    }
   ],
   "source": [
    "# Run the XGBClassifier with default parameter settings.\n",
    "xgb_clfs = {}\n",
    "\n",
    "for each in y.columns:\n",
    "    ind = list(y.columns).index(each)\n",
    "\n",
    "    xgb_clfs[each] = {\n",
    "                'trained_classifier': XGBClassifier(learning_rate=0.1,\n",
    "                                                    gamma=1,\n",
    "                                                    n_estimators=3000,\n",
    "                                                    max_depth=8,\n",
    "                                                    subsample=0.8,\n",
    "                                                    random_state=34,\n",
    "                                                    nthread=-1) \\\n",
    "                                     .fit(x_training_ros,\n",
    "                                          y_training_ros[:, ind])\n",
    "                }\n",
    "    xgb_clfs[each]['predictions'] = xgb_clfs[each]['trained_classifier'].predict(x_testing.values)\n",
    "    xgb_clfs[each]['accuracy'] = accuracy_score(y_testing.values[:, ind],\n",
    "                                                xgb_clfs[each]['predictions'])\n",
    "    \n",
    "    print(each, ': ', xgb_clfs[each]['accuracy'])\n",
    "    print(classification_report(y_testing.values[:, ind], xgb_clfs[each]['predictions']))\n",
    "    print(average_precision_score(y_testing.values[:, ind], xgb_clfs[each]['predictions'], average=None))\n",
    "    print('f1_score:', f1_score(y_testing.values[:, ind], xgb_clfs[each]['predictions'], average='binary'))"
   ]
  },
  {
   "cell_type": "code",
   "execution_count": 44,
   "metadata": {},
   "outputs": [
    {
     "name": "stdout",
     "output_type": "stream",
     "text": [
      "health_Dead|Stump :  0.9999958215989905\n",
      "              precision    recall  f1-score   support\n",
      "\n",
      "           0       1.00      1.00      1.00    228261\n",
      "           1       1.00      1.00      1.00     11065\n",
      "\n",
      "    accuracy                           1.00    239326\n",
      "   macro avg       1.00      1.00      1.00    239326\n",
      "weighted avg       1.00      1.00      1.00    239326\n",
      "\n",
      "0.9999138033445251\n",
      "f1_score: 0.9999548104297528\n",
      "health_Good :  0.8215822768942781\n",
      "              precision    recall  f1-score   support\n",
      "\n",
      "           0       0.92      0.23      0.37     54228\n",
      "           1       0.82      0.99      0.90    185098\n",
      "\n",
      "    accuracy                           0.82    239326\n",
      "   macro avg       0.87      0.61      0.63    239326\n",
      "weighted avg       0.84      0.82      0.78    239326\n",
      "\n",
      "0.8154654107101259\n",
      "f1_score: 0.8960073647243343\n",
      "health_Poor|Fair :  0.8215864552952876\n",
      "              precision    recall  f1-score   support\n",
      "\n",
      "           0       0.82      0.99      0.90    196163\n",
      "           1       0.58      0.04      0.07     43163\n",
      "\n",
      "    accuracy                           0.82    239326\n",
      "   macro avg       0.70      0.52      0.49    239326\n",
      "weighted avg       0.78      0.82      0.75    239326\n",
      "\n",
      "0.19540820509712564\n",
      "f1_score: 0.07008297580416839\n"
     ]
    }
   ],
   "source": [
    "# Run the AdaBoostClassifier with default parameter settings.\n",
    "ada_clfs = {}\n",
    "\n",
    "for each in y.columns:\n",
    "    ind = list(y.columns).index(each)\n",
    "\n",
    "    ada_clfs[each] = {\n",
    "                'trained_classifier': AdaBoostClassifier(learning_rate=1.0,\n",
    "                                                         algorithm='SAMME.R',\n",
    "                                                         n_estimators=50,\n",
    "                                                         random_state=34) \\\n",
    "                                     .fit(x_training_ros,\n",
    "                                          y_training_ros[:, ind])\n",
    "                }\n",
    "    ada_clfs[each]['predictions'] = ada_clfs[each]['trained_classifier'].predict(x_testing.values)\n",
    "    ada_clfs[each]['accuracy'] = accuracy_score(y_testing.values[:, ind],\n",
    "                                                ada_clfs[each]['predictions'])\n",
    "    \n",
    "    print(each, ': ', ada_clfs[each]['accuracy'])\n",
    "    print(classification_report(y_testing.values[:, ind], ada_clfs[each]['predictions']))\n",
    "    print(average_precision_score(y_testing.values[:, ind], ada_clfs[each]['predictions'], average=None))\n",
    "    print('f1_score:', f1_score(y_testing.values[:, ind], ada_clfs[each]['predictions'], average='binary'))"
   ]
  },
  {
   "cell_type": "code",
   "execution_count": 45,
   "metadata": {},
   "outputs": [
    {
     "name": "stderr",
     "output_type": "stream",
     "text": [
      "[Parallel(n_jobs=-1)]: Using backend ThreadingBackend with 12 concurrent workers.\n",
      "[Parallel(n_jobs=-1)]: Done  26 tasks      | elapsed:    0.8s\n",
      "[Parallel(n_jobs=-1)]: Done 100 out of 100 | elapsed:    2.5s finished\n",
      "[Parallel(n_jobs=12)]: Using backend ThreadingBackend with 12 concurrent workers.\n",
      "[Parallel(n_jobs=12)]: Done  26 tasks      | elapsed:    0.1s\n",
      "[Parallel(n_jobs=12)]: Done 100 out of 100 | elapsed:    0.2s finished\n"
     ]
    },
    {
     "name": "stdout",
     "output_type": "stream",
     "text": [
      "health_Dead|Stump :  0.9999958215989905\n",
      "              precision    recall  f1-score   support\n",
      "\n",
      "           0       1.00      1.00      1.00    228261\n",
      "           1       1.00      1.00      1.00     11065\n",
      "\n",
      "    accuracy                           1.00    239326\n",
      "   macro avg       1.00      1.00      1.00    239326\n",
      "weighted avg       1.00      1.00      1.00    239326\n",
      "\n",
      "0.9999138033445251\n",
      "f1_score: 0.9999548104297528\n"
     ]
    },
    {
     "name": "stderr",
     "output_type": "stream",
     "text": [
      "[Parallel(n_jobs=-1)]: Using backend ThreadingBackend with 12 concurrent workers.\n",
      "[Parallel(n_jobs=-1)]: Done  26 tasks      | elapsed:    2.8s\n",
      "[Parallel(n_jobs=-1)]: Done 100 out of 100 | elapsed:    7.9s finished\n",
      "[Parallel(n_jobs=12)]: Using backend ThreadingBackend with 12 concurrent workers.\n",
      "[Parallel(n_jobs=12)]: Done  26 tasks      | elapsed:    0.1s\n",
      "[Parallel(n_jobs=12)]: Done 100 out of 100 | elapsed:    0.3s finished\n"
     ]
    },
    {
     "name": "stdout",
     "output_type": "stream",
     "text": [
      "health_Good :  0.8211101175802044\n",
      "              precision    recall  f1-score   support\n",
      "\n",
      "           0       0.91      0.23      0.37     54228\n",
      "           1       0.82      0.99      0.90    185098\n",
      "\n",
      "    accuracy                           0.82    239326\n",
      "   macro avg       0.86      0.61      0.63    239326\n",
      "weighted avg       0.84      0.82      0.78    239326\n",
      "\n",
      "0.8153325018108686\n",
      "f1_score: 0.895706507837907\n"
     ]
    },
    {
     "name": "stderr",
     "output_type": "stream",
     "text": [
      "[Parallel(n_jobs=-1)]: Using backend ThreadingBackend with 12 concurrent workers.\n",
      "[Parallel(n_jobs=-1)]: Done  26 tasks      | elapsed:    2.7s\n",
      "[Parallel(n_jobs=-1)]: Done 100 out of 100 | elapsed:    7.8s finished\n",
      "[Parallel(n_jobs=12)]: Using backend ThreadingBackend with 12 concurrent workers.\n",
      "[Parallel(n_jobs=12)]: Done  26 tasks      | elapsed:    0.1s\n",
      "[Parallel(n_jobs=12)]: Done 100 out of 100 | elapsed:    0.3s finished\n"
     ]
    },
    {
     "name": "stdout",
     "output_type": "stream",
     "text": [
      "health_Poor|Fair :  0.8210892255751568\n",
      "              precision    recall  f1-score   support\n",
      "\n",
      "           0       0.82      0.99      0.90    196163\n",
      "           1       0.56      0.04      0.07     43163\n",
      "\n",
      "    accuracy                           0.82    239326\n",
      "   macro avg       0.69      0.52      0.49    239326\n",
      "weighted avg       0.78      0.82      0.75    239326\n",
      "\n",
      "0.19444098176209995\n",
      "f1_score: 0.06953800686687818\n"
     ]
    }
   ],
   "source": [
    "# Run the RandomForestClassifier with default parameter settings.\n",
    "rdf_clfs = {}\n",
    "\n",
    "for each in y.columns:\n",
    "    ind = list(y.columns).index(each)\n",
    "\n",
    "    rdf_clfs[each] = {\n",
    "                'trained_classifier': RandomForestClassifier(n_estimators=100,\n",
    "                                                             random_state=34,\n",
    "                                                             max_depth=None,\n",
    "                                                             max_samples=None,\n",
    "                                                             min_samples_split=2,\n",
    "                                                             min_samples_leaf=1,\n",
    "                                                             min_weight_fraction_leaf=0.0,\n",
    "                                                             max_features='auto',\n",
    "                                                             max_leaf_nodes=None,\n",
    "                                                             min_impurity_decrease=0.0,\n",
    "                                                             oob_score=False,\n",
    "                                                             bootstrap=True,\n",
    "                                                             n_jobs=-1,\n",
    "                                                             verbose=1,\n",
    "                                                             warm_start=False,\n",
    "                                                             class_weight=None,\n",
    "                                                             ccp_alpha=0.0) \\\n",
    "                                     .fit(x_training_ros,\n",
    "                                          y_training_ros[:, ind])\n",
    "                }\n",
    "    rdf_clfs[each]['predictions'] = rdf_clfs[each]['trained_classifier'].predict(x_testing.values)\n",
    "    rdf_clfs[each]['accuracy'] = accuracy_score(y_testing.values[:, ind],\n",
    "                                                rdf_clfs[each]['predictions'])\n",
    "    \n",
    "    print(each, ': ', rdf_clfs[each]['accuracy'])\n",
    "    print(classification_report(y_testing.values[:, ind], rdf_clfs[each]['predictions']))\n",
    "    print(average_precision_score(y_testing.values[:, ind], rdf_clfs[each]['predictions'], average=None))\n",
    "    print('f1_score:', f1_score(y_testing.values[:, ind], rdf_clfs[each]['predictions'], average='binary'))"
   ]
  },
  {
   "cell_type": "code",
   "execution_count": 46,
   "metadata": {},
   "outputs": [
    {
     "name": "stdout",
     "output_type": "stream",
     "text": [
      "health_Dead|Stump :  0.9999958215989905\n",
      "              precision    recall  f1-score   support\n",
      "\n",
      "           0       1.00      1.00      1.00    228261\n",
      "           1       1.00      1.00      1.00     11065\n",
      "\n",
      "    accuracy                           1.00    239326\n",
      "   macro avg       1.00      1.00      1.00    239326\n",
      "weighted avg       1.00      1.00      1.00    239326\n",
      "\n",
      "0.9999138033445251\n",
      "f1_score: 0.9999548104297528\n",
      "health_Good :  0.8216742017164871\n",
      "              precision    recall  f1-score   support\n",
      "\n",
      "           0       0.92      0.23      0.37     54228\n",
      "           1       0.82      0.99      0.90    185098\n",
      "\n",
      "    accuracy                           0.82    239326\n",
      "   macro avg       0.87      0.61      0.63    239326\n",
      "weighted avg       0.84      0.82      0.78    239326\n",
      "\n",
      "0.8153708267690787\n",
      "f1_score: 0.8960897935333074\n",
      "health_Poor|Fair :  0.8216783801174966\n",
      "              precision    recall  f1-score   support\n",
      "\n",
      "           0       0.82      0.99      0.90    196163\n",
      "           1       0.59      0.04      0.07     43163\n",
      "\n",
      "    accuracy                           0.82    239326\n",
      "   macro avg       0.71      0.52      0.48    239326\n",
      "weighted avg       0.78      0.82      0.75    239326\n",
      "\n",
      "0.19526037747182512\n",
      "f1_score: 0.06824880466344999\n"
     ]
    }
   ],
   "source": [
    "from sklearn.linear_model import RidgeClassifier\n",
    "\n",
    "# Try algs.\n",
    "log_regr = {}\n",
    "\n",
    "for each in y.columns:\n",
    "    ind = list(y.columns).index(each)\n",
    "\n",
    "    log_regr[each] = {\n",
    "                'trained_classifier': RidgeClassifier() \\\n",
    "                                     .fit(x_training_ros,\n",
    "                                          y_training_ros[:, ind])\n",
    "                }\n",
    "    log_regr[each]['predictions'] = log_regr[each]['trained_classifier'].predict(x_testing.values)\n",
    "    log_regr[each]['accuracy'] = accuracy_score(y_testing.values[:, ind],\n",
    "                                                log_regr[each]['predictions'])\n",
    "    \n",
    "    print(each, ': ', log_regr[each]['accuracy'])\n",
    "    print(classification_report(y_testing.values[:, ind], log_regr[each]['predictions']))\n",
    "    print(average_precision_score(y_testing.values[:, ind], log_regr[each]['predictions'], average=None))\n",
    "    print('f1_score:', f1_score(y_testing.values[:, ind], log_regr[each]['predictions'], average='binary'))"
   ]
  },
  {
   "cell_type": "code",
   "execution_count": 12,
   "metadata": {},
   "outputs": [
    {
     "name": "stdout",
     "output_type": "stream",
     "text": [
      "health_Dead|Stump :  0.9999958215989905\n",
      "              precision    recall  f1-score   support\n",
      "\n",
      "           0       1.00      1.00      1.00    228261\n",
      "           1       1.00      1.00      1.00     11065\n",
      "\n",
      "    accuracy                           1.00    239326\n",
      "   macro avg       1.00      1.00      1.00    239326\n",
      "weighted avg       1.00      1.00      1.00    239326\n",
      "\n",
      "0.9999138033445251\n",
      "f1_score: 0.9999548104297528\n",
      "health_Good :  0.8217619481376867\n",
      "              precision    recall  f1-score   support\n",
      "\n",
      "           0       0.93      0.23      0.37     54228\n",
      "           1       0.82      0.99      0.90    185098\n",
      "\n",
      "    accuracy                           0.82    239326\n",
      "   macro avg       0.87      0.61      0.63    239326\n",
      "weighted avg       0.84      0.82      0.78    239326\n",
      "\n",
      "0.8151910036133663\n",
      "f1_score: 0.8961861674036685\n",
      "health_Poor|Fair :  0.8216198825033636\n",
      "              precision    recall  f1-score   support\n",
      "\n",
      "           0       0.82      0.99      0.90    196163\n",
      "           1       0.59      0.03      0.07     43163\n",
      "\n",
      "    accuracy                           0.82    239326\n",
      "   macro avg       0.71      0.51      0.48    239326\n",
      "weighted avg       0.78      0.82      0.75    239326\n",
      "\n",
      "0.1947399833315145\n",
      "f1_score: 0.06586289140281394\n"
     ]
    }
   ],
   "source": [
    "from sklearn.neural_network import MLPClassifier\n",
    "\n",
    "# Try algs.\n",
    "mlp_clfs = {}\n",
    "\n",
    "for each in y.columns:\n",
    "    ind = list(y.columns).index(each)\n",
    "\n",
    "    mlp_clfs[each] = {\n",
    "                'trained_classifier': MLPClassifier() \\\n",
    "                                     .fit(x_training_ros,\n",
    "                                          y_training_ros[:, ind])\n",
    "                }\n",
    "    mlp_clfs[each]['predictions'] = mlp_clfs[each]['trained_classifier'].predict(x_testing.values)\n",
    "    mlp_clfs[each]['accuracy'] = accuracy_score(y_testing.values[:, ind],\n",
    "                                                mlp_clfs[each]['predictions'])\n",
    "    \n",
    "    print(each, ': ', mlp_clfs[each]['accuracy'])\n",
    "    print(classification_report(y_testing.values[:, ind], mlp_clfs[each]['predictions']))\n",
    "    print(average_precision_score(y_testing.values[:, ind], mlp_clfs[each]['predictions'], average=None))\n",
    "    print('f1_score:', f1_score(y_testing.values[:, ind], mlp_clfs[each]['predictions'], average='binary'))"
   ]
  },
  {
   "cell_type": "code",
   "execution_count": 48,
   "metadata": {},
   "outputs": [
    {
     "name": "stdout",
     "output_type": "stream",
     "text": [
      "health_Dead|Stump :  0.9999958215989905\n",
      "              precision    recall  f1-score   support\n",
      "\n",
      "           0       1.00      1.00      1.00    228261\n",
      "           1       1.00      1.00      1.00     11065\n",
      "\n",
      "    accuracy                           1.00    239326\n",
      "   macro avg       1.00      1.00      1.00    239326\n",
      "weighted avg       1.00      1.00      1.00    239326\n",
      "\n",
      "0.9999138033445251\n",
      "f1_score: 0.9999548104297528\n",
      "health_Good :  0.8216825585185061\n",
      "              precision    recall  f1-score   support\n",
      "\n",
      "           0       0.92      0.23      0.37     54228\n",
      "           1       0.82      0.99      0.90    185098\n",
      "\n",
      "    accuracy                           0.82    239326\n",
      "   macro avg       0.87      0.61      0.63    239326\n",
      "weighted avg       0.84      0.82      0.78    239326\n",
      "\n",
      "0.8153831217665312\n",
      "f1_score: 0.8960931451082749\n",
      "health_Poor|Fair :  0.8216867369195157\n",
      "              precision    recall  f1-score   support\n",
      "\n",
      "           0       0.82      0.99      0.90    196163\n",
      "           1       0.59      0.04      0.07     43163\n",
      "\n",
      "    accuracy                           0.82    239326\n",
      "   macro avg       0.71      0.52      0.48    239326\n",
      "weighted avg       0.78      0.82      0.75    239326\n",
      "\n",
      "0.19530467289112663\n",
      "f1_score: 0.06841450370014626\n"
     ]
    }
   ],
   "source": [
    "from sklearn.svm import LinearSVC\n",
    "\n",
    "# Try algs.\n",
    "log_regr = {}\n",
    "\n",
    "for each in y.columns:\n",
    "    ind = list(y.columns).index(each)\n",
    "\n",
    "    log_regr[each] = {\n",
    "                'trained_classifier': LinearSVC() \\\n",
    "                                     .fit(x_training_ros,\n",
    "                                          y_training_ros[:, ind])\n",
    "                }\n",
    "    log_regr[each]['predictions'] = log_regr[each]['trained_classifier'].predict(x_testing.values)\n",
    "    log_regr[each]['accuracy'] = accuracy_score(y_testing.values[:, ind],\n",
    "                                                log_regr[each]['predictions'])\n",
    "    \n",
    "    print(each, ': ', log_regr[each]['accuracy'])\n",
    "    print(classification_report(y_testing.values[:, ind], log_regr[each]['predictions']))\n",
    "    print(average_precision_score(y_testing.values[:, ind], log_regr[each]['predictions'], average=None))\n",
    "    print('f1_score:', f1_score(y_testing.values[:, ind], log_regr[each]['predictions'], average='binary'))"
   ]
  },
  {
   "cell_type": "code",
   "execution_count": 16,
   "metadata": {},
   "outputs": [
    {
     "name": "stdout",
     "output_type": "stream",
     "text": [
      "health_Dead|Stump :  0.9999367408906883\n",
      "              precision    recall  f1-score   support\n",
      "\n",
      "           0       1.00      1.00      1.00    163043\n",
      "           1       1.00      1.00      1.00      7904\n",
      "\n",
      "    accuracy                           1.00    170947\n",
      "   macro avg       1.00      1.00      1.00    170947\n",
      "weighted avg       1.00      1.00      1.00    170947\n",
      "\n",
      "0.9998793315476783\n",
      "f1_score: 0.9999367368887201\n",
      "[[163043      0]\n",
      " [     1   7903]]\n",
      "health_Good :  0.6178251473996208\n",
      "              precision    recall  f1-score   support\n",
      "\n",
      "           0       0.88      0.25      0.38     38734\n",
      "           1       0.82      0.99      0.90    132213\n",
      "\n",
      "    accuracy                           0.82    170947\n",
      "   macro avg       0.85      0.62      0.64    170947\n",
      "weighted avg       0.83      0.82      0.78    170947\n",
      "\n",
      "0.8170654198036122\n",
      "f1_score: 0.8955720125194547\n",
      "[[  9510  29224]\n",
      " [  1305 130908]]\n",
      "health_Poor|Fair :  0.5211800271795006\n",
      "              precision    recall  f1-score   support\n",
      "\n",
      "           0       0.83      0.99      0.90    140117\n",
      "           1       0.55      0.05      0.09     30830\n",
      "\n",
      "    accuracy                           0.82    170947\n",
      "   macro avg       0.69      0.52      0.50    170947\n",
      "weighted avg       0.78      0.82      0.76    170947\n",
      "\n",
      "0.1994613729952896\n",
      "f1_score: 0.09441907360180297\n",
      "[[138817   1300]\n",
      " [ 29238   1592]]\n"
     ]
    }
   ],
   "source": [
    "# Run LGBMClassifier with default parameter settings.\n",
    "lgbm_clfs = {}\n",
    "\n",
    "for each in y.columns:\n",
    "    ind = list(y.columns).index(each)\n",
    "\n",
    "    lgbm_clfs[each] = {\n",
    "                'trained_classifier': LGBMClassifier(boosting_type='dart',\n",
    "                                                     num_leaves=100,\n",
    "                                                     max_depth=-1,\n",
    "                                                     learning_rate=0.04,\n",
    "                                                     n_estimators=100,\n",
    "                                                     subsample_for_bin=200000,\n",
    "                                                     objective='binary',\n",
    "                                                     class_weight=None,\n",
    "                                                     min_split_gain=0.0,\n",
    "                                                     min_child_weight=1e-3,\n",
    "                                                     min_child_samples=20,\n",
    "                                                     subsample=1.0,\n",
    "                                                     subsample_freq=0,\n",
    "                                                     colsample_bytree=1.0,\n",
    "                                                     reg_alpha=0.0,\n",
    "                                                     reg_lambda=0.0,\n",
    "                                                     random_state=34,\n",
    "                                                     n_jobs=-1,\n",
    "                                                     silent=False,\n",
    "                                                     importance_type='split') \\\n",
    "                                     .fit(x_training_ros,\n",
    "                                          y_training_ros[:, ind])\n",
    "                }\n",
    "    lgbm_clfs[each]['predictions'] = lgbm_clfs[each]['trained_classifier'].predict(x_testing.values)\n",
    "    lgbm_clfs[each]['accuracy'] = balanced_accuracy_score(y_testing.values[:, ind],\n",
    "                                                          lgbm_clfs[each]['predictions'])\n",
    "    \n",
    "    print(each, ': ', lgbm_clfs[each]['accuracy'])\n",
    "    print(classification_report(y_testing.values[:, ind], lgbm_clfs[each]['predictions']))\n",
    "    print(average_precision_score(y_testing.values[:, ind], lgbm_clfs[each]['predictions'], average=None))\n",
    "    print('f1_score:', f1_score(y_testing.values[:, ind], lgbm_clfs[each]['predictions'], average='binary'))\n",
    "    print(confusion_matrix(y_testing.values[:, ind], lgbm_clfs[each]['predictions']))"
   ]
  },
  {
   "cell_type": "code",
   "execution_count": 30,
   "metadata": {},
   "outputs": [
    {
     "name": "stdout",
     "output_type": "stream",
     "text": [
      "0.8177388313336882\n",
      "                   precision    recall  f1-score   support\n",
      "\n",
      "health_Dead|Stump       1.00      1.00      1.00      7904\n",
      "      health_Good       0.82      0.99      0.90    132213\n",
      " health_Poor|Fair       0.55      0.05      0.10     30830\n",
      "\n",
      "        micro avg       0.82      0.82      0.82    170947\n",
      "        macro avg       0.79      0.68      0.66    170947\n",
      "     weighted avg       0.78      0.82      0.76    170947\n",
      "      samples avg       0.82      0.82      0.82    170947\n",
      "\n",
      "0.7128446791359935\n"
     ]
    }
   ],
   "source": [
    "from sklearn.multioutput import MultiOutputClassifier\n",
    "from sklearn.neural_network import MLPClassifier\n",
    "\n",
    "tes = MultiOutputClassifier(MLPClassifier()).fit(x_training_ros, y_training_ros)\n",
    "\n",
    "preds = tes.predict(x_testing.values)\n",
    "acc = accuracy_score(y_testing.values, preds)\n",
    "\n",
    "print(acc)\n",
    "print(classification_report(y_testing.values, preds, target_names=y.columns))\n",
    "print(average_precision_score(y_testing.values, preds, average='weighted'))"
   ]
  },
  {
   "cell_type": "code",
   "execution_count": null,
   "metadata": {},
   "outputs": [],
   "source": [
    "tes = np.array([[1,0,0,0,0,1,0,0,1,1,0,1,0,1,0,1,0,1,0,1,0,1,0,1,0,1,0,1,0,0]])\n",
    "\n",
    "tes = pd.Series([1,0,0,0,0,1,0,0,1,1,0,1,0,1,0,1,0,1,0,1,0,1,0,1,0,1,0,1,0,0])\n",
    "\n",
    "def classify_tree(tree, classifiers, targets):\n",
    "    # tree = np.array([[1,0,0,0,0,1,0,0,1,1,0,1,0,1,0,1,0,1,0,1,0,1,0,1,0,1,0,1,0,0]])\n",
    "    # classifiers = xgb_clfs\n",
    "    # targets = y\n",
    "\n",
    "    results = {\n",
    "        each: classifiers[each]['trained_classifier'].predict(tree)\n",
    "        for each in targets.columns\n",
    "        }\n",
    "\n",
    "    if (int(sum(results.values())) == 0) | (int(sum(results.values())) > 1):\n",
    "        print(\"This tree cannot be classified.\")\n",
    "    else:\n",
    "        if int(results['health_Dead|Stump']) == 1:\n",
    "            message = \"This is a dead or stump tree.\"\n",
    "        elif int(results['health_Good']) == 1:\n",
    "            message = \"This is a healthy tree.\"\n",
    "        else:\n",
    "            message = \"This is a tree in a poor or fair health condition.\"\n",
    "            \n",
    "    return results, message\n",
    "\n",
    "a, c = classify_tree(tes, xgb_clfs, y)"
   ]
  },
  {
   "cell_type": "code",
   "execution_count": 65,
   "metadata": {},
   "outputs": [
    {
     "name": "stdout",
     "output_type": "stream",
     "text": [
      "[{0: 0.6666666666666666, 1: 0.33333333333333337}, {0: 0.6666666666666666, 1: 0.33333333333333337}, {0: 0.6666666666666666, 1: 0.33333333333333337}]\n",
      "[{0: 0.2, 1: 0.8}, {0: 0.2, 1: 0.8}, {0: 0.2, 1: 0.8}]\n"
     ]
    }
   ],
   "source": [
    "target_first_class = len(y_train_smote[:, 0][y_train_smote[:, 0] == 0]) / len(y_train_smote)\n",
    "target_second_class = len(y_train_smote[:, 1][y_train_smote[:, 1] == 0]) / len(y_train_smote)\n",
    "target_third_class = len(y_train_smote[:, 2][y_train_smote[:, 2] == 0]) / len(y_train_smote)\n",
    "\n",
    "class_weight_orig = [{0:target_first_class, 1:1-target_first_class},\n",
    "                     {0:target_second_class, 1:1-target_second_class},\n",
    "                     {0:target_third_class, 1:1-target_third_class}]\n",
    "\n",
    "class_weight_manip = [{0:0.2, 1:0.8},\n",
    "                      {0:0.2, 1:0.8},\n",
    "                      {0:0.2, 1:0.8}]\n",
    "\n",
    "print(class_weight_orig)\n",
    "print(class_weight_manip)"
   ]
  },
  {
   "cell_type": "code",
   "execution_count": 75,
   "metadata": {},
   "outputs": [
    {
     "name": "stdout",
     "output_type": "stream",
     "text": [
      "0.8228047289510784\n"
     ]
    }
   ],
   "source": [
    "rdf_clf = RandomForestClassifier(class_weight=class_weight_manip, n_jobs=-1)\n",
    "\n",
    "rdf_clf.fit(x_train_ros, y_train_ros)\n",
    "y_pred = rdf_clf.predict(x_test)\n",
    "print(accuracy_score(y_test, y_pred))"
   ]
  },
  {
   "cell_type": "markdown",
   "metadata": {},
   "source": [
    "# Hyperparameter tuning"
   ]
  },
  {
   "cell_type": "code",
   "execution_count": 8,
   "metadata": {},
   "outputs": [
    {
     "name": "stdout",
     "output_type": "stream",
     "text": [
      "######### START HYPERPARAMETER TUNING FOR TARGET: health_Dead|Stump ###########################\n",
      "F1 score:  1.0\n",
      "Updated parameter setting: \n",
      "{'boosting_type': 'dart', 'num_leaves': 31, 'max_depth': -1, 'learning_rate': 0.1, 'n_estimators': 300, 'subsample_for_bin': 200000, 'objective': 'binary', 'class_weight': None, 'min_split_gain': 0.2, 'min_child_weight': 0.001, 'min_child_samples': 20, 'subsample': 1.0, 'subsample_freq': 0, 'colsample_bytree': 1.0, 'reg_alpha': 0.0, 'reg_lambda': 0.0, 'random_state': 34, 'n_jobs': -1, 'silent': True, 'importance_type': 'split'}\n",
      "######### FINISH #####################################################################\n",
      "######### START HYPERPARAMETER TUNING FOR TARGET: health_Good ###########################\n",
      "F1 score:  0.913399874894079\n",
      "Updated parameter setting: \n",
      "{'boosting_type': 'dart', 'num_leaves': 31, 'max_depth': -1, 'learning_rate': 0.1, 'n_estimators': 300, 'subsample_for_bin': 200000, 'objective': 'binary', 'class_weight': None, 'min_split_gain': 0.2, 'min_child_weight': 0.001, 'min_child_samples': 20, 'subsample': 1.0, 'subsample_freq': 0, 'colsample_bytree': 1.0, 'reg_alpha': 0.0, 'reg_lambda': 0.0, 'random_state': 34, 'n_jobs': -1, 'silent': True, 'importance_type': 'split'}\n",
      "######### FINISH #####################################################################\n",
      "######### START HYPERPARAMETER TUNING FOR TARGET: health_Poor|Fair ###########################\n"
     ]
    },
    {
     "ename": "KeyboardInterrupt",
     "evalue": "",
     "output_type": "error",
     "traceback": [
      "\u001b[0;31m---------------------------------------------------------------------------\u001b[0m",
      "\u001b[0;31mKeyboardInterrupt\u001b[0m                         Traceback (most recent call last)",
      "\u001b[0;32m<ipython-input-8-c92285525999>\u001b[0m in \u001b[0;36m<module>\u001b[0;34m\u001b[0m\n\u001b[1;32m     37\u001b[0m \u001b[0;34m\u001b[0m\u001b[0m\n\u001b[1;32m     38\u001b[0m     gridsearch_lgbm_clfs[each] = {\n\u001b[0;32m---> 39\u001b[0;31m                         'classifier': GridSearchCV(estimator=val['trained_classifier'],\n\u001b[0m\u001b[1;32m     40\u001b[0m                                                              \u001b[0mparam_grid\u001b[0m\u001b[0;34m=\u001b[0m\u001b[0mparameter_grid\u001b[0m\u001b[0;34m,\u001b[0m\u001b[0;34m\u001b[0m\u001b[0;34m\u001b[0m\u001b[0m\n\u001b[1;32m     41\u001b[0m                                                              \u001b[0mcv\u001b[0m\u001b[0;34m=\u001b[0m\u001b[0;36m5\u001b[0m\u001b[0;34m,\u001b[0m\u001b[0;34m\u001b[0m\u001b[0;34m\u001b[0m\u001b[0m\n",
      "\u001b[0;32m/Library/Frameworks/Python.framework/Versions/3.8/lib/python3.8/site-packages/sklearn/model_selection/_search.py\u001b[0m in \u001b[0;36mfit\u001b[0;34m(self, X, y, groups, **fit_params)\u001b[0m\n\u001b[1;32m    708\u001b[0m                 \u001b[0;32mreturn\u001b[0m \u001b[0mresults\u001b[0m\u001b[0;34m\u001b[0m\u001b[0;34m\u001b[0m\u001b[0m\n\u001b[1;32m    709\u001b[0m \u001b[0;34m\u001b[0m\u001b[0m\n\u001b[0;32m--> 710\u001b[0;31m             \u001b[0mself\u001b[0m\u001b[0;34m.\u001b[0m\u001b[0m_run_search\u001b[0m\u001b[0;34m(\u001b[0m\u001b[0mevaluate_candidates\u001b[0m\u001b[0;34m)\u001b[0m\u001b[0;34m\u001b[0m\u001b[0;34m\u001b[0m\u001b[0m\n\u001b[0m\u001b[1;32m    711\u001b[0m \u001b[0;34m\u001b[0m\u001b[0m\n\u001b[1;32m    712\u001b[0m         \u001b[0;31m# For multi-metric evaluation, store the best_index_, best_params_ and\u001b[0m\u001b[0;34m\u001b[0m\u001b[0;34m\u001b[0m\u001b[0;34m\u001b[0m\u001b[0m\n",
      "\u001b[0;32m/Library/Frameworks/Python.framework/Versions/3.8/lib/python3.8/site-packages/sklearn/model_selection/_search.py\u001b[0m in \u001b[0;36m_run_search\u001b[0;34m(self, evaluate_candidates)\u001b[0m\n\u001b[1;32m   1149\u001b[0m     \u001b[0;32mdef\u001b[0m \u001b[0m_run_search\u001b[0m\u001b[0;34m(\u001b[0m\u001b[0mself\u001b[0m\u001b[0;34m,\u001b[0m \u001b[0mevaluate_candidates\u001b[0m\u001b[0;34m)\u001b[0m\u001b[0;34m:\u001b[0m\u001b[0;34m\u001b[0m\u001b[0;34m\u001b[0m\u001b[0m\n\u001b[1;32m   1150\u001b[0m         \u001b[0;34m\"\"\"Search all candidates in param_grid\"\"\"\u001b[0m\u001b[0;34m\u001b[0m\u001b[0;34m\u001b[0m\u001b[0m\n\u001b[0;32m-> 1151\u001b[0;31m         \u001b[0mevaluate_candidates\u001b[0m\u001b[0;34m(\u001b[0m\u001b[0mParameterGrid\u001b[0m\u001b[0;34m(\u001b[0m\u001b[0mself\u001b[0m\u001b[0;34m.\u001b[0m\u001b[0mparam_grid\u001b[0m\u001b[0;34m)\u001b[0m\u001b[0;34m)\u001b[0m\u001b[0;34m\u001b[0m\u001b[0;34m\u001b[0m\u001b[0m\n\u001b[0m\u001b[1;32m   1152\u001b[0m \u001b[0;34m\u001b[0m\u001b[0m\n\u001b[1;32m   1153\u001b[0m \u001b[0;34m\u001b[0m\u001b[0m\n",
      "\u001b[0;32m/Library/Frameworks/Python.framework/Versions/3.8/lib/python3.8/site-packages/sklearn/model_selection/_search.py\u001b[0m in \u001b[0;36mevaluate_candidates\u001b[0;34m(candidate_params)\u001b[0m\n\u001b[1;32m    680\u001b[0m                               n_splits, n_candidates, n_candidates * n_splits))\n\u001b[1;32m    681\u001b[0m \u001b[0;34m\u001b[0m\u001b[0m\n\u001b[0;32m--> 682\u001b[0;31m                 out = parallel(delayed(_fit_and_score)(clone(base_estimator),\n\u001b[0m\u001b[1;32m    683\u001b[0m                                                        \u001b[0mX\u001b[0m\u001b[0;34m,\u001b[0m \u001b[0my\u001b[0m\u001b[0;34m,\u001b[0m\u001b[0;34m\u001b[0m\u001b[0;34m\u001b[0m\u001b[0m\n\u001b[1;32m    684\u001b[0m                                                        \u001b[0mtrain\u001b[0m\u001b[0;34m=\u001b[0m\u001b[0mtrain\u001b[0m\u001b[0;34m,\u001b[0m \u001b[0mtest\u001b[0m\u001b[0;34m=\u001b[0m\u001b[0mtest\u001b[0m\u001b[0;34m,\u001b[0m\u001b[0;34m\u001b[0m\u001b[0;34m\u001b[0m\u001b[0m\n",
      "\u001b[0;32m/Library/Frameworks/Python.framework/Versions/3.8/lib/python3.8/site-packages/joblib/parallel.py\u001b[0m in \u001b[0;36m__call__\u001b[0;34m(self, iterable)\u001b[0m\n\u001b[1;32m   1015\u001b[0m \u001b[0;34m\u001b[0m\u001b[0m\n\u001b[1;32m   1016\u001b[0m             \u001b[0;32mwith\u001b[0m \u001b[0mself\u001b[0m\u001b[0;34m.\u001b[0m\u001b[0m_backend\u001b[0m\u001b[0;34m.\u001b[0m\u001b[0mretrieval_context\u001b[0m\u001b[0;34m(\u001b[0m\u001b[0;34m)\u001b[0m\u001b[0;34m:\u001b[0m\u001b[0;34m\u001b[0m\u001b[0;34m\u001b[0m\u001b[0m\n\u001b[0;32m-> 1017\u001b[0;31m                 \u001b[0mself\u001b[0m\u001b[0;34m.\u001b[0m\u001b[0mretrieve\u001b[0m\u001b[0;34m(\u001b[0m\u001b[0;34m)\u001b[0m\u001b[0;34m\u001b[0m\u001b[0;34m\u001b[0m\u001b[0m\n\u001b[0m\u001b[1;32m   1018\u001b[0m             \u001b[0;31m# Make sure that we get a last message telling us we are done\u001b[0m\u001b[0;34m\u001b[0m\u001b[0;34m\u001b[0m\u001b[0;34m\u001b[0m\u001b[0m\n\u001b[1;32m   1019\u001b[0m             \u001b[0melapsed_time\u001b[0m \u001b[0;34m=\u001b[0m \u001b[0mtime\u001b[0m\u001b[0;34m.\u001b[0m\u001b[0mtime\u001b[0m\u001b[0;34m(\u001b[0m\u001b[0;34m)\u001b[0m \u001b[0;34m-\u001b[0m \u001b[0mself\u001b[0m\u001b[0;34m.\u001b[0m\u001b[0m_start_time\u001b[0m\u001b[0;34m\u001b[0m\u001b[0;34m\u001b[0m\u001b[0m\n",
      "\u001b[0;32m/Library/Frameworks/Python.framework/Versions/3.8/lib/python3.8/site-packages/joblib/parallel.py\u001b[0m in \u001b[0;36mretrieve\u001b[0;34m(self)\u001b[0m\n\u001b[1;32m    907\u001b[0m             \u001b[0;32mtry\u001b[0m\u001b[0;34m:\u001b[0m\u001b[0;34m\u001b[0m\u001b[0;34m\u001b[0m\u001b[0m\n\u001b[1;32m    908\u001b[0m                 \u001b[0;32mif\u001b[0m \u001b[0mgetattr\u001b[0m\u001b[0;34m(\u001b[0m\u001b[0mself\u001b[0m\u001b[0;34m.\u001b[0m\u001b[0m_backend\u001b[0m\u001b[0;34m,\u001b[0m \u001b[0;34m'supports_timeout'\u001b[0m\u001b[0;34m,\u001b[0m \u001b[0;32mFalse\u001b[0m\u001b[0;34m)\u001b[0m\u001b[0;34m:\u001b[0m\u001b[0;34m\u001b[0m\u001b[0;34m\u001b[0m\u001b[0m\n\u001b[0;32m--> 909\u001b[0;31m                     \u001b[0mself\u001b[0m\u001b[0;34m.\u001b[0m\u001b[0m_output\u001b[0m\u001b[0;34m.\u001b[0m\u001b[0mextend\u001b[0m\u001b[0;34m(\u001b[0m\u001b[0mjob\u001b[0m\u001b[0;34m.\u001b[0m\u001b[0mget\u001b[0m\u001b[0;34m(\u001b[0m\u001b[0mtimeout\u001b[0m\u001b[0;34m=\u001b[0m\u001b[0mself\u001b[0m\u001b[0;34m.\u001b[0m\u001b[0mtimeout\u001b[0m\u001b[0;34m)\u001b[0m\u001b[0;34m)\u001b[0m\u001b[0;34m\u001b[0m\u001b[0;34m\u001b[0m\u001b[0m\n\u001b[0m\u001b[1;32m    910\u001b[0m                 \u001b[0;32melse\u001b[0m\u001b[0;34m:\u001b[0m\u001b[0;34m\u001b[0m\u001b[0;34m\u001b[0m\u001b[0m\n\u001b[1;32m    911\u001b[0m                     \u001b[0mself\u001b[0m\u001b[0;34m.\u001b[0m\u001b[0m_output\u001b[0m\u001b[0;34m.\u001b[0m\u001b[0mextend\u001b[0m\u001b[0;34m(\u001b[0m\u001b[0mjob\u001b[0m\u001b[0;34m.\u001b[0m\u001b[0mget\u001b[0m\u001b[0;34m(\u001b[0m\u001b[0;34m)\u001b[0m\u001b[0;34m)\u001b[0m\u001b[0;34m\u001b[0m\u001b[0;34m\u001b[0m\u001b[0m\n",
      "\u001b[0;32m/Library/Frameworks/Python.framework/Versions/3.8/lib/python3.8/site-packages/joblib/_parallel_backends.py\u001b[0m in \u001b[0;36mwrap_future_result\u001b[0;34m(future, timeout)\u001b[0m\n\u001b[1;32m    560\u001b[0m         AsyncResults.get from multiprocessing.\"\"\"\n\u001b[1;32m    561\u001b[0m         \u001b[0;32mtry\u001b[0m\u001b[0;34m:\u001b[0m\u001b[0;34m\u001b[0m\u001b[0;34m\u001b[0m\u001b[0m\n\u001b[0;32m--> 562\u001b[0;31m             \u001b[0;32mreturn\u001b[0m \u001b[0mfuture\u001b[0m\u001b[0;34m.\u001b[0m\u001b[0mresult\u001b[0m\u001b[0;34m(\u001b[0m\u001b[0mtimeout\u001b[0m\u001b[0;34m=\u001b[0m\u001b[0mtimeout\u001b[0m\u001b[0;34m)\u001b[0m\u001b[0;34m\u001b[0m\u001b[0;34m\u001b[0m\u001b[0m\n\u001b[0m\u001b[1;32m    563\u001b[0m         \u001b[0;32mexcept\u001b[0m \u001b[0mLokyTimeoutError\u001b[0m\u001b[0;34m:\u001b[0m\u001b[0;34m\u001b[0m\u001b[0;34m\u001b[0m\u001b[0m\n\u001b[1;32m    564\u001b[0m             \u001b[0;32mraise\u001b[0m \u001b[0mTimeoutError\u001b[0m\u001b[0;34m(\u001b[0m\u001b[0;34m)\u001b[0m\u001b[0;34m\u001b[0m\u001b[0;34m\u001b[0m\u001b[0m\n",
      "\u001b[0;32m/Library/Frameworks/Python.framework/Versions/3.8/lib/python3.8/concurrent/futures/_base.py\u001b[0m in \u001b[0;36mresult\u001b[0;34m(self, timeout)\u001b[0m\n\u001b[1;32m    432\u001b[0m                 \u001b[0;32mreturn\u001b[0m \u001b[0mself\u001b[0m\u001b[0;34m.\u001b[0m\u001b[0m__get_result\u001b[0m\u001b[0;34m(\u001b[0m\u001b[0;34m)\u001b[0m\u001b[0;34m\u001b[0m\u001b[0;34m\u001b[0m\u001b[0m\n\u001b[1;32m    433\u001b[0m \u001b[0;34m\u001b[0m\u001b[0m\n\u001b[0;32m--> 434\u001b[0;31m             \u001b[0mself\u001b[0m\u001b[0;34m.\u001b[0m\u001b[0m_condition\u001b[0m\u001b[0;34m.\u001b[0m\u001b[0mwait\u001b[0m\u001b[0;34m(\u001b[0m\u001b[0mtimeout\u001b[0m\u001b[0;34m)\u001b[0m\u001b[0;34m\u001b[0m\u001b[0;34m\u001b[0m\u001b[0m\n\u001b[0m\u001b[1;32m    435\u001b[0m \u001b[0;34m\u001b[0m\u001b[0m\n\u001b[1;32m    436\u001b[0m             \u001b[0;32mif\u001b[0m \u001b[0mself\u001b[0m\u001b[0;34m.\u001b[0m\u001b[0m_state\u001b[0m \u001b[0;32min\u001b[0m \u001b[0;34m[\u001b[0m\u001b[0mCANCELLED\u001b[0m\u001b[0;34m,\u001b[0m \u001b[0mCANCELLED_AND_NOTIFIED\u001b[0m\u001b[0;34m]\u001b[0m\u001b[0;34m:\u001b[0m\u001b[0;34m\u001b[0m\u001b[0;34m\u001b[0m\u001b[0m\n",
      "\u001b[0;32m/Library/Frameworks/Python.framework/Versions/3.8/lib/python3.8/threading.py\u001b[0m in \u001b[0;36mwait\u001b[0;34m(self, timeout)\u001b[0m\n\u001b[1;32m    300\u001b[0m         \u001b[0;32mtry\u001b[0m\u001b[0;34m:\u001b[0m    \u001b[0;31m# restore state no matter what (e.g., KeyboardInterrupt)\u001b[0m\u001b[0;34m\u001b[0m\u001b[0;34m\u001b[0m\u001b[0m\n\u001b[1;32m    301\u001b[0m             \u001b[0;32mif\u001b[0m \u001b[0mtimeout\u001b[0m \u001b[0;32mis\u001b[0m \u001b[0;32mNone\u001b[0m\u001b[0;34m:\u001b[0m\u001b[0;34m\u001b[0m\u001b[0;34m\u001b[0m\u001b[0m\n\u001b[0;32m--> 302\u001b[0;31m                 \u001b[0mwaiter\u001b[0m\u001b[0;34m.\u001b[0m\u001b[0macquire\u001b[0m\u001b[0;34m(\u001b[0m\u001b[0;34m)\u001b[0m\u001b[0;34m\u001b[0m\u001b[0;34m\u001b[0m\u001b[0m\n\u001b[0m\u001b[1;32m    303\u001b[0m                 \u001b[0mgotit\u001b[0m \u001b[0;34m=\u001b[0m \u001b[0;32mTrue\u001b[0m\u001b[0;34m\u001b[0m\u001b[0;34m\u001b[0m\u001b[0m\n\u001b[1;32m    304\u001b[0m             \u001b[0;32melse\u001b[0m\u001b[0;34m:\u001b[0m\u001b[0;34m\u001b[0m\u001b[0;34m\u001b[0m\u001b[0m\n",
      "\u001b[0;31mKeyboardInterrupt\u001b[0m: "
     ]
    }
   ],
   "source": [
    "parameter_grid = [\n",
    "      #{'C': [1, 10, 100, 1000], 'kernel': ['linear']},\n",
    "                  {\n",
    "               'learning_rate': [0.1, 0.5, 0.8],\n",
    "               'n_estimators': [300, 1000, 3000, 5000]\n",
    "               }\n",
    "             ]\n",
    "\n",
    "default_parameters = {'boosting_type': 'dart',\n",
    "                      'num_leaves': 31,\n",
    "                      'max_depth': -1,\n",
    "                      'learning_rate': 0.1,\n",
    "                      'n_estimators': 100,\n",
    "                      'subsample_for_bin': 200000,\n",
    "                      'objective': 'binary',\n",
    "                      'class_weight': None,\n",
    "                      'min_split_gain': 0.2,\n",
    "                      'min_child_weight': 1e-3,\n",
    "                      'min_child_samples': 20,\n",
    "                      'subsample': 1.0,\n",
    "                      'subsample_freq': 0,\n",
    "                      'colsample_bytree': 1.0,\n",
    "                      'reg_alpha': 0.0,\n",
    "                      'reg_lambda': 0.0,\n",
    "                      'random_state': 34,\n",
    "                      'n_jobs': -1,\n",
    "                      'silent': True,\n",
    "                      'importance_type': 'split'}\n",
    "\n",
    "gridsearch_lgbm_clfs = {}\n",
    "\n",
    "for each, val in lgbm_clfs.items():\n",
    "    \n",
    "    ind = list(y.columns).index(each)\n",
    "    \n",
    "    print('######### START HYPERPARAMETER TUNING FOR TARGET:', each, '###########################')\n",
    "    \n",
    "    gridsearch_lgbm_clfs[each] = {\n",
    "                        'classifier': GridSearchCV(estimator=val['trained_classifier'],\n",
    "                                                             param_grid=parameter_grid,\n",
    "                                                             cv=5,\n",
    "                                                             scoring='f1',\n",
    "                                                             refit=True,\n",
    "                                                             verbose=0,\n",
    "                                                             error_score=0,\n",
    "                                                             return_train_score=False,\n",
    "                                                             n_jobs=-1) \\\n",
    "                                     .fit(x_training_ros,\n",
    "                                          y_training_ros[:, ind],\n",
    "                                          verbose=0)\n",
    "                        }\n",
    "    \n",
    "    print('F1 score: ', gridsearch_lgbm_clfs[each]['classifier'].best_score_)\n",
    "    \n",
    "    # Update the set of default parameters.\n",
    "    default_parameters['learning_rate'] = gridsearch_lgbm_clfs[each]['classifier'].best_params_['learning_rate']\n",
    "    default_parameters['n_estimators'] = gridsearch_lgbm_clfs[each]['classifier'].best_params_['n_estimators']    \n",
    "    \n",
    "    print('Updated parameter setting: ')\n",
    "    gridsearch_lgbm_clfs[each]['best_params'] = default_parameters\n",
    "    print(default_parameters)\n",
    "    print('######### FINISH #####################################################################')"
   ]
  },
  {
   "cell_type": "code",
   "execution_count": 8,
   "metadata": {},
   "outputs": [
    {
     "name": "stdout",
     "output_type": "stream",
     "text": [
      "######### START HYPERPARAMETER TUNING FOR TARGET: health_Dead|Stump ###########################\n",
      "F1 score:  1.0\n",
      "Updated parameter setting: \n",
      "{'boosting_type': 'dart', 'num_leaves': 31, 'max_depth': -1, 'learning_rate': 0.1, 'n_estimators': 300, 'subsample_for_bin': 200000, 'objective': 'binary', 'class_weight': None, 'min_split_gain': 0.2, 'min_child_weight': 0.001, 'min_child_samples': 20, 'subsample': 1.0, 'subsample_freq': 0, 'colsample_bytree': 1.0, 'reg_alpha': 0.0, 'reg_lambda': 0.0, 'random_state': 34, 'n_jobs': -1, 'silent': True, 'importance_type': 'split'}\n",
      "######### FINISH #####################################################################\n",
      "######### START HYPERPARAMETER TUNING FOR TARGET: health_Good ###########################\n",
      "F1 score:  0.8944577019175042\n",
      "Updated parameter setting: \n",
      "{'boosting_type': 'dart', 'num_leaves': 31, 'max_depth': -1, 'learning_rate': 0.5, 'n_estimators': 1000, 'subsample_for_bin': 200000, 'objective': 'binary', 'class_weight': None, 'min_split_gain': 0.2, 'min_child_weight': 0.001, 'min_child_samples': 20, 'subsample': 1.0, 'subsample_freq': 0, 'colsample_bytree': 1.0, 'reg_alpha': 0.0, 'reg_lambda': 0.0, 'random_state': 34, 'n_jobs': -1, 'silent': True, 'importance_type': 'split'}\n",
      "######### FINISH #####################################################################\n",
      "######### START HYPERPARAMETER TUNING FOR TARGET: health_Poor|Fair ###########################\n",
      "F1 score:  0.11558169706725455\n",
      "Updated parameter setting: \n",
      "{'boosting_type': 'dart', 'num_leaves': 31, 'max_depth': -1, 'learning_rate': 0.5, 'n_estimators': 3000, 'subsample_for_bin': 200000, 'objective': 'binary', 'class_weight': None, 'min_split_gain': 0.2, 'min_child_weight': 0.001, 'min_child_samples': 20, 'subsample': 1.0, 'subsample_freq': 0, 'colsample_bytree': 1.0, 'reg_alpha': 0.0, 'reg_lambda': 0.0, 'random_state': 34, 'n_jobs': -1, 'silent': True, 'importance_type': 'split'}\n",
      "######### FINISH #####################################################################\n"
     ]
    }
   ],
   "source": [
    "parameter_grid = [\n",
    "      #{'C': [1, 10, 100, 1000], 'kernel': ['linear']},\n",
    "                  {\n",
    "               'boosting_type': ['dart'],\n",
    "               'num_leaves': [31, 100, 1000],\n",
    "               'learning_rate': [0.1, 0.5],\n",
    "               'n_estimators': [300, 1000, 3000],\n",
    "               'objective': ['binary'],\n",
    "               'random_state': [34]\n",
    "               }\n",
    "             ]\n",
    "\n",
    "default_parameters = {'boosting_type': 'dart',\n",
    "                      'num_leaves': 31,\n",
    "                      'max_depth': -1,\n",
    "                      'learning_rate': 0.1,\n",
    "                      'n_estimators': 100,\n",
    "                      'subsample_for_bin': 200000,\n",
    "                      'objective': 'binary',\n",
    "                      'class_weight': None,\n",
    "                      'min_split_gain': 0.2,\n",
    "                      'min_child_weight': 1e-3,\n",
    "                      'min_child_samples': 20,\n",
    "                      'subsample': 1.0,\n",
    "                      'subsample_freq': 0,\n",
    "                      'colsample_bytree': 1.0,\n",
    "                      'reg_alpha': 0.0,\n",
    "                      'reg_lambda': 0.0,\n",
    "                      'random_state': 34,\n",
    "                      'n_jobs': -1,\n",
    "                      'silent': True,\n",
    "                      'importance_type': 'split'}\n",
    "\n",
    "gridsearch_lgbm_clfs = {}\n",
    "\n",
    "for each, val in lgbm_clfs.items():\n",
    "    \n",
    "    ind = list(y.columns).index(each)\n",
    "    \n",
    "    print('######### START HYPERPARAMETER TUNING FOR TARGET:', each, '###########################')\n",
    "    \n",
    "    gridsearch_lgbm_clfs[each] = {\n",
    "                        'classifier': GridSearchCV(estimator=val['trained_classifier'],\n",
    "                                                             param_grid=parameter_grid,\n",
    "                                                             cv=2,\n",
    "                                                             scoring='f1',\n",
    "                                                             refit=True,\n",
    "                                                             verbose=0,\n",
    "                                                             error_score=0,\n",
    "                                                             return_train_score=False,\n",
    "                                                             n_jobs=-1) \\\n",
    "                                     .fit(x_training_ros,\n",
    "                                          y_training_ros[:, ind],\n",
    "                                          verbose=0)\n",
    "                        }\n",
    "    \n",
    "    print('F1 score: ', gridsearch_lgbm_clfs[each]['classifier'].best_score_)\n",
    "    \n",
    "    # Update the set of default parameters.\n",
    "    default_parameters['num_leaves'] = gridsearch_lgbm_clfs[each]['classifier'].best_params_['num_leaves']\n",
    "    default_parameters['learning_rate'] = gridsearch_lgbm_clfs[each]['classifier'].best_params_['learning_rate']\n",
    "    default_parameters['n_estimators'] = gridsearch_lgbm_clfs[each]['classifier'].best_params_['n_estimators']    \n",
    "    \n",
    "    print('Updated parameter setting: ')\n",
    "    gridsearch_lgbm_clfs[each]['best_params'] = default_parameters\n",
    "    print(default_parameters)\n",
    "    print('######### FINISH #####################################################################')"
   ]
  },
  {
   "cell_type": "code",
   "execution_count": 14,
   "metadata": {},
   "outputs": [
    {
     "name": "stdout",
     "output_type": "stream",
     "text": [
      "######### START HYPERPARAMETER TUNING FOR TARGET: health_Dead|Stump ###########################\n",
      "F1 score:  1.0\n",
      "Updated parameter setting: \n",
      "{'hidden_layer_sizes': (100,), 'activation': 'identity', 'solver': 'lbfgs', 'alpha': 0.0001, 'batch_size': 'auto', 'learning_rate': 'constant', 'learning_rate_init': 0.001, 'power_t': 0.5, 'max_iter': 200, 'shuffle': True, 'tol': 0.0001, 'verbose': False, 'momentum': 0.9, 'nesterovs_momentum': True, 'early_stopping': True, 'validation_fraction': 0.1, 'random_state': 34, 'beta_1': 0.9, 'beta_2': 0.999, 'epsilon': 1e-08, 'n_iter_no_change': 10, 'max_fun': 15000}\n",
      "######### FINISH #####################################################################\n",
      "######### START HYPERPARAMETER TUNING FOR TARGET: health_Good ###########################\n",
      "F1 score:  0.9045008187549601\n",
      "Updated parameter setting: \n",
      "{'hidden_layer_sizes': (100,), 'activation': 'tanh', 'solver': 'sgd', 'alpha': 0.0001, 'batch_size': 'auto', 'learning_rate': 'invscaling', 'learning_rate_init': 0.001, 'power_t': 0.5, 'max_iter': 200, 'shuffle': True, 'tol': 0.0001, 'verbose': False, 'momentum': 0.9, 'nesterovs_momentum': True, 'early_stopping': True, 'validation_fraction': 0.1, 'random_state': 34, 'beta_1': 0.9, 'beta_2': 0.999, 'epsilon': 1e-08, 'n_iter_no_change': 10, 'max_fun': 15000}\n",
      "######### FINISH #####################################################################\n",
      "######### START HYPERPARAMETER TUNING FOR TARGET: health_Poor|Fair ###########################\n",
      "F1 score:  0.11707503527068443\n",
      "Updated parameter setting: \n",
      "{'hidden_layer_sizes': (100,), 'activation': 'relu', 'solver': 'sgd', 'alpha': 0.0001, 'batch_size': 'auto', 'learning_rate': 'adaptive', 'learning_rate_init': 0.001, 'power_t': 0.5, 'max_iter': 200, 'shuffle': True, 'tol': 0.0001, 'verbose': False, 'momentum': 0.9, 'nesterovs_momentum': True, 'early_stopping': True, 'validation_fraction': 0.1, 'random_state': 34, 'beta_1': 0.9, 'beta_2': 0.999, 'epsilon': 1e-08, 'n_iter_no_change': 10, 'max_fun': 15000}\n",
      "######### FINISH #####################################################################\n"
     ]
    }
   ],
   "source": [
    "parameter_grid = [\n",
    "                  {\n",
    "               'activation': ['identity', 'logistic', 'tanh', 'relu'],\n",
    "               'solver': ['lbfgs', 'sgd', 'adam'],\n",
    "               'learning_rate': ['constant', 'invscaling', 'adaptive']\n",
    "               }\n",
    "             ]\n",
    "\n",
    "default_parameters = {'hidden_layer_sizes': (100,),\n",
    "                      'activation': 'relu',\n",
    "                      'solver': 'adam',\n",
    "                      'alpha': 0.0001,\n",
    "                      'batch_size': 'auto',\n",
    "                      'learning_rate': 'constant',\n",
    "                      'learning_rate_init': 0.001,\n",
    "                      'power_t': 0.5,\n",
    "                      'max_iter': 200,\n",
    "                      'shuffle': True,\n",
    "                      'tol': 1e-4,\n",
    "                      'verbose': False,\n",
    "                      'momentum': 0.9, # only applies if solver='sgd'\n",
    "                      'nesterovs_momentum': True, # only applies if solver='sgd'\n",
    "                      'early_stopping': True,\n",
    "                      'validation_fraction': 0.1,\n",
    "                      'random_state': 34,\n",
    "                      'beta_1': 0.9, # only applies if solver='adam'\n",
    "                      'beta_2': 0.999, # only applies if solver='adam'\n",
    "                      'epsilon': 1e-8, # only applies if solver='adam'\n",
    "                      'n_iter_no_change': 10, # only applies if solver='adam' or 'sgd'\n",
    "                      'max_fun': 15000}\n",
    "\n",
    "gridsearch_mlp_clfs = {}\n",
    "\n",
    "for each, val in mlp_clfs.items():\n",
    "    \n",
    "    ind = list(y.columns).index(each)\n",
    "    \n",
    "    print('######### START HYPERPARAMETER TUNING FOR TARGET:', each, '###########################')\n",
    "    \n",
    "    gridsearch_mlp_clfs[each] = {\n",
    "                        'classifier': GridSearchCV(estimator=val['trained_classifier'],\n",
    "                                                             param_grid=parameter_grid,\n",
    "                                                             cv=2,\n",
    "                                                             scoring='f1',\n",
    "                                                             refit=True,\n",
    "                                                             verbose=0,\n",
    "                                                             error_score=0,\n",
    "                                                             return_train_score=False,\n",
    "                                                             n_jobs=-1) \\\n",
    "                                     .fit(x_training_ros,\n",
    "                                          y_training_ros[:, ind])\n",
    "                        }\n",
    "    \n",
    "    print('F1 score: ', gridsearch_mlp_clfs[each]['classifier'].best_score_)\n",
    "    \n",
    "    # Update the set of default parameters.\n",
    "    default_parameters['activation'] = gridsearch_mlp_clfs[each]['classifier'].best_params_['activation']\n",
    "    default_parameters['solver'] = gridsearch_mlp_clfs[each]['classifier'].best_params_['solver']\n",
    "    default_parameters['learning_rate'] = gridsearch_mlp_clfs[each]['classifier'].best_params_['learning_rate']    \n",
    "    \n",
    "    print('Updated parameter setting: ')\n",
    "    gridsearch_mlp_clfs[each]['best_params'] = default_parameters\n",
    "    print(default_parameters)\n",
    "    print('######### FINISH #####################################################################')"
   ]
  },
  {
   "cell_type": "markdown",
   "metadata": {},
   "source": [
    "# Testing with optimized hyperparameters"
   ]
  },
  {
   "cell_type": "code",
   "execution_count": 11,
   "metadata": {},
   "outputs": [
    {
     "name": "stdout",
     "output_type": "stream",
     "text": [
      "health_Dead|Stump :  0.9999958215989905\n",
      "              precision    recall  f1-score   support\n",
      "\n",
      "           0       1.00      1.00      1.00    228261\n",
      "           1       1.00      1.00      1.00     11065\n",
      "\n",
      "    accuracy                           1.00    239326\n",
      "   macro avg       1.00      1.00      1.00    239326\n",
      "weighted avg       1.00      1.00      1.00    239326\n",
      "\n",
      "0.9999138033445251\n",
      "f1_score: 0.9999548104297528\n",
      "health_Good :  0.8216867369195157\n",
      "              precision    recall  f1-score   support\n",
      "\n",
      "           0       0.92      0.23      0.37     54228\n",
      "           1       0.82      0.99      0.90    185098\n",
      "\n",
      "    accuracy                           0.82    239326\n",
      "   macro avg       0.87      0.61      0.63    239326\n",
      "weighted avg       0.84      0.82      0.78    239326\n",
      "\n",
      "0.8152667188228706\n",
      "f1_score: 0.8961191021574608\n",
      "health_Poor|Fair :  0.8216700233154777\n",
      "              precision    recall  f1-score   support\n",
      "\n",
      "           0       0.82      0.99      0.90    196163\n",
      "           1       0.59      0.04      0.07     43163\n",
      "\n",
      "    accuracy                           0.82    239326\n",
      "   macro avg       0.71      0.52      0.48    239326\n",
      "weighted avg       0.78      0.82      0.75    239326\n",
      "\n",
      "0.19497794607776878\n",
      "f1_score: 0.06669728181241663\n"
     ]
    }
   ],
   "source": [
    "# Run LGBMClassifier with tuned parameter settings.\n",
    "lgbm_clfs = {}\n",
    "\n",
    "for each in y.columns:\n",
    "    ind = list(y.columns).index(each)\n",
    "\n",
    "    lgbm_clfs[each] = {\n",
    "                'trained_classifier': LGBMClassifier(**gridsearch_lgbm_clfs[each]['best_params']) \\\n",
    "                                     .fit(x_training_ros,\n",
    "                                          y_training_ros[:, ind])\n",
    "                }\n",
    "    lgbm_clfs[each]['predictions'] = lgbm_clfs[each]['trained_classifier'].predict(x_testing.values)\n",
    "    lgbm_clfs[each]['accuracy'] = accuracy_score(y_testing.values[:, ind],\n",
    "                                                lgbm_clfs[each]['predictions'])\n",
    "    \n",
    "    print(each, ': ', lgbm_clfs[each]['accuracy'])\n",
    "    print(classification_report(y_testing.values[:, ind], lgbm_clfs[each]['predictions']))\n",
    "    print(average_precision_score(y_testing.values[:, ind], lgbm_clfs[each]['predictions'], average=None))\n",
    "    print('f1_score:', f1_score(y_testing.values[:, ind], lgbm_clfs[each]['predictions'], average='binary'))"
   ]
  },
  {
   "cell_type": "code",
   "execution_count": 15,
   "metadata": {},
   "outputs": [
    {
     "name": "stdout",
     "output_type": "stream",
     "text": [
      "health_Dead|Stump :  0.9999958215989905\n",
      "              precision    recall  f1-score   support\n",
      "\n",
      "           0       1.00      1.00      1.00    228261\n",
      "           1       1.00      1.00      1.00     11065\n",
      "\n",
      "    accuracy                           1.00    239326\n",
      "   macro avg       1.00      1.00      1.00    239326\n",
      "weighted avg       1.00      1.00      1.00    239326\n",
      "\n",
      "0.9999138033445251\n",
      "f1_score: 0.9999548104297528\n",
      "health_Good :  0.8216616665134586\n",
      "              precision    recall  f1-score   support\n",
      "\n",
      "           0       0.92      0.23      0.37     54228\n",
      "           1       0.82      0.99      0.90    185098\n",
      "\n",
      "    accuracy                           0.82    239326\n",
      "   macro avg       0.87      0.61      0.63    239326\n",
      "weighted avg       0.84      0.82      0.78    239326\n",
      "\n",
      "0.8152119805653325\n",
      "f1_score: 0.8961125891164179\n",
      "health_Poor|Fair :  0.8214276760569266\n",
      "              precision    recall  f1-score   support\n",
      "\n",
      "           0       0.82      0.99      0.90    196163\n",
      "           1       0.58      0.04      0.07     43163\n",
      "\n",
      "    accuracy                           0.82    239326\n",
      "   macro avg       0.70      0.52      0.49    239326\n",
      "weighted avg       0.78      0.82      0.75    239326\n",
      "\n",
      "0.19511892311037182\n",
      "f1_score: 0.0700654960071371\n"
     ]
    }
   ],
   "source": [
    "# Run LGBMClassifier with tuned parameter settings.\n",
    "mlp_clfs = {}\n",
    "\n",
    "for each in y.columns:\n",
    "    ind = list(y.columns).index(each)\n",
    "\n",
    "    mlp_clfs[each] = {\n",
    "                'trained_classifier': MLPClassifier(**gridsearch_mlp_clfs[each]['best_params']) \\\n",
    "                                     .fit(x_training_ros,\n",
    "                                          y_training_ros[:, ind])\n",
    "                }\n",
    "    mlp_clfs[each]['predictions'] = mlp_clfs[each]['trained_classifier'].predict(x_testing.values)\n",
    "    mlp_clfs[each]['accuracy'] = accuracy_score(y_testing.values[:, ind],\n",
    "                                                mlp_clfs[each]['predictions'])\n",
    "    \n",
    "    print(each, ': ', mlp_clfs[each]['accuracy'])\n",
    "    print(classification_report(y_testing.values[:, ind], mlp_clfs[each]['predictions']))\n",
    "    print(average_precision_score(y_testing.values[:, ind], mlp_clfs[each]['predictions'], average=None))\n",
    "    print('f1_score:', f1_score(y_testing.values[:, ind], mlp_clfs[each]['predictions'], average='binary'))"
   ]
  },
  {
   "cell_type": "markdown",
   "metadata": {},
   "source": [
    "# Save / load current status"
   ]
  },
  {
   "cell_type": "code",
   "execution_count": 21,
   "metadata": {},
   "outputs": [],
   "source": [
    "with open('xgb_clfs.pkl', 'wb') as handle:\n",
    "    pickle.dump(xgb_clfs, handle, protocol=pickle.HIGHEST_PROTOCOL)"
   ]
  },
  {
   "cell_type": "code",
   "execution_count": 9,
   "metadata": {},
   "outputs": [],
   "source": [
    "with open('gridsearch_lgbm_clfs.pkl', 'rb') as handle:\n",
    "    gridsearch_lgbm_clfs = pickle.load(handle)"
   ]
  },
  {
   "cell_type": "code",
   "execution_count": 22,
   "metadata": {},
   "outputs": [
    {
     "name": "stdout",
     "output_type": "stream",
     "text": [
      "total 231120\r\n",
      "drwxrwxr-x@ 24 phillip.kenzel  VF-ROOT\\Domain Users   768B May 31 23:56 \u001b[34m.\u001b[m\u001b[m\r\n",
      "drwxr-xr-x   9 phillip.kenzel  VF-ROOT\\Domain Users   288B May 24 14:59 \u001b[34m..\u001b[m\u001b[m\r\n",
      "-rw-r--r--@  1 phillip.kenzel  VF-ROOT\\Domain Users   6.0K May 24 14:59 .DS_Store\r\n",
      "drwxrwxr-x@ 11 phillip.kenzel  VF-ROOT\\Domain Users   352B May 30 18:38 \u001b[34m.ipynb_checkpoints\u001b[m\u001b[m\r\n",
      "-rw-rw-r--@  1 phillip.kenzel  VF-ROOT\\Domain Users   227B May 23 21:52 README.md\r\n",
      "drwxrwxr-x@  5 phillip.kenzel  VF-ROOT\\Domain Users   160B May 23 21:52 \u001b[34marchive\u001b[m\u001b[m\r\n",
      "-rw-r--r--   1 phillip.kenzel  VF-ROOT\\Domain Users    94K May 24 16:00 clustering.ipynb\r\n",
      "drwxrwxr-x@  5 phillip.kenzel  VF-ROOT\\Domain Users   160B May 23 21:52 \u001b[34mdata\u001b[m\u001b[m\r\n",
      "drwxrwxr-x@  6 phillip.kenzel  VF-ROOT\\Domain Users   192B May 23 21:52 \u001b[34mdata_descriptions\u001b[m\u001b[m\r\n",
      "-rw-rw-r--@  1 phillip.kenzel  VF-ROOT\\Domain Users    19K May 30 20:47 eda_trees.ipynb\r\n",
      "-rw-rw-r--@  1 phillip.kenzel  VF-ROOT\\Domain Users   147K May 30 13:36 featureeng_trees.ipynb\r\n",
      "-rw-r--r--   1 phillip.kenzel  VF-ROOT\\Domain Users    15M May 31 20:44 gridsearch_lgbm_clfs.pkl\r\n",
      "-rw-r--r--   1 phillip.kenzel  VF-ROOT\\Domain Users   384K May 31 22:16 gridsearch_mlp_clfs.pkl\r\n",
      "-rw-r--r--   1 phillip.kenzel  VF-ROOT\\Domain Users    14M May 31 22:16 lgbm_clfs.pkl\r\n",
      "-rw-r--r--   1 phillip.kenzel  VF-ROOT\\Domain Users   5.7M May 31 22:16 mlp_clfs.pkl\r\n",
      "-rw-rw-r--@  1 phillip.kenzel  VF-ROOT\\Domain Users   237K May 23 21:52 model_trees.ipynb\r\n",
      "-rw-r--r--   1 phillip.kenzel  VF-ROOT\\Domain Users   119K May 30 20:50 modeling_trees-Copy1.ipynb\r\n",
      "-rw-rw-r--@  1 phillip.kenzel  VF-ROOT\\Domain Users    90K May 31 23:55 modeling_trees.ipynb\r\n",
      "-rw-rw-r--@  1 phillip.kenzel  VF-ROOT\\Domain Users    15M May 23 21:52 rdf.pkl\r\n",
      "-rw-rw-r--@  1 phillip.kenzel  VF-ROOT\\Domain Users   5.2M May 23 21:52 strassenbaumkatasterleipzig12032020.csv\r\n",
      "-rw-rw-r--@  1 phillip.kenzel  VF-ROOT\\Domain Users    20K May 23 21:52 test_voila.ipynb\r\n",
      "-rw-rw-r--@  1 phillip.kenzel  VF-ROOT\\Domain Users    26K May 30 18:44 webapp_trees.ipynb\r\n",
      "-rw-r--r--   1 phillip.kenzel  VF-ROOT\\Domain Users   7.9M May 30 13:38 xgb_clfs.pickle\r\n",
      "-rw-r--r--   1 phillip.kenzel  VF-ROOT\\Domain Users    49M May 31 23:56 xgb_clfs.pkl\r\n"
     ]
    }
   ],
   "source": [
    "!ls -lah"
   ]
  }
 ],
 "metadata": {
  "kernelspec": {
   "display_name": "Python 3",
   "language": "python",
   "name": "python3"
  },
  "language_info": {
   "codemirror_mode": {
    "name": "ipython",
    "version": 3
   },
   "file_extension": ".py",
   "mimetype": "text/x-python",
   "name": "python",
   "nbconvert_exporter": "python",
   "pygments_lexer": "ipython3",
   "version": "3.8.1"
  }
 },
 "nbformat": 4,
 "nbformat_minor": 2
}
