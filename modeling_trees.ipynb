{
 "cells": [
  {
   "cell_type": "code",
   "execution_count": 1,
   "metadata": {},
   "outputs": [],
   "source": [
    "# Import third-party packages.\n",
    "from imblearn.over_sampling import RandomOverSampler\n",
    "from lightgbm import LGBMClassifier\n",
    "import matplotlib.pyplot as plt\n",
    "import numpy as np\n",
    "import pandas as pd\n",
    "import pickle\n",
    "from sklearn.ensemble import AdaBoostClassifier, RandomForestClassifier\n",
    "from sklearn.linear_model import RidgeClassifier\n",
    "from sklearn.metrics import accuracy_score, average_precision_score, classification_report, f1_score, make_scorer\n",
    "from sklearn.model_selection import GridSearchCV, train_test_split\n",
    "from sklearn.multioutput import MultiOutputClassifier\n",
    "from sklearn.neural_network import MLPClassifier\n",
    "from sklearn.svm import LinearSVC\n",
    "import warnings\n",
    "from xgboost import XGBClassifier\n",
    "\n",
    "%matplotlib inline\n",
    "\n",
    "pd.set_option('display.max_columns', None)\n",
    "pd.set_option('display.max_rows', 500)\n",
    "warnings.filterwarnings('ignore')"
   ]
  },
  {
   "cell_type": "code",
   "execution_count": 2,
   "metadata": {
    "scrolled": false
   },
   "outputs": [],
   "source": [
    "# Read in preprocessed data on trees.\n",
    "df = pd.read_csv('./data/data_preprocessed/features.csv') #, compression='gzip'"
   ]
  },
  {
   "cell_type": "markdown",
   "metadata": {},
   "source": [
    "# Split into training, testing, and validation datasets"
   ]
  },
  {
   "cell_type": "code",
   "execution_count": 3,
   "metadata": {},
   "outputs": [
    {
     "data": {
      "text/plain": [
       "array([[<matplotlib.axes._subplots.AxesSubplot object at 0x12cbbdca0>,\n",
       "        <matplotlib.axes._subplots.AxesSubplot object at 0x104f581c0>],\n",
       "       [<matplotlib.axes._subplots.AxesSubplot object at 0x104f86640>,\n",
       "        <matplotlib.axes._subplots.AxesSubplot object at 0x12cc12af0>]],\n",
       "      dtype=object)"
      ]
     },
     "execution_count": 3,
     "metadata": {},
     "output_type": "execute_result"
    },
    {
     "data": {
      "image/png": "[encoded data removed]",
      "text/plain": [
       "<Figure size 432x288 with 4 Axes>"
      ]
     },
     "metadata": {
      "needs_background": "light"
     },
     "output_type": "display_data"
    }
   ],
   "source": [
    "x = df.loc[:, 'steward_Alive':'n_neighbors_two or more neighbors']\n",
    "y = df.loc[:, 'health_Dead|Stump':]\n",
    "\n",
    "x_train, x_valid, y_train, y_valid = train_test_split(x,\n",
    "                                                      y,\n",
    "                                                      test_size=0.5,\n",
    "                                                      random_state=34,\n",
    "                                                      shuffle=True,\n",
    "                                                      stratify=y)\n",
    "\n",
    "x_training, x_testing, y_training, y_testing = train_test_split(x_train,\n",
    "                                                                y_train,\n",
    "                                                                test_size=0.5,\n",
    "                                                                random_state=34,\n",
    "                                                                shuffle=True,\n",
    "                                                                stratify=y_train)\n",
    "\n",
    "# Check class imbalance of targets.\n",
    "y_training.hist()"
   ]
  },
  {
   "cell_type": "markdown",
   "metadata": {},
   "source": [
    "# Oversampling"
   ]
  },
  {
   "cell_type": "code",
   "execution_count": 4,
   "metadata": {},
   "outputs": [
    {
     "data": {
      "text/plain": [
       "array([[<matplotlib.axes._subplots.AxesSubplot object at 0x12b94fc10>,\n",
       "        <matplotlib.axes._subplots.AxesSubplot object at 0x12b9a6a60>],\n",
       "       [<matplotlib.axes._subplots.AxesSubplot object at 0x12bffdf10>,\n",
       "        <matplotlib.axes._subplots.AxesSubplot object at 0x12c0363d0>]],\n",
       "      dtype=object)"
      ]
     },
     "execution_count": 4,
     "metadata": {},
     "output_type": "execute_result"
    },
    {
     "data": {
      "image/png": "[encoded data removed]",
      "text/plain": [
       "<Figure size 432x288 with 4 Axes>"
      ]
     },
     "metadata": {
      "needs_background": "light"
     },
     "output_type": "display_data"
    }
   ],
   "source": [
    "ros = RandomOverSampler(sampling_strategy='minority', random_state=34)\n",
    "\n",
    "x_training_ros, y_training_ros = ros.fit_resample(x_training.values, y_training.values)\n",
    "\n",
    "pd.DataFrame(y_training_ros, columns=df.columns[-3:]).hist()"
   ]
  },
  {
   "cell_type": "markdown",
   "metadata": {},
   "source": [
    "# Modelling"
   ]
  },
  {
   "cell_type": "code",
   "execution_count": 5,
   "metadata": {},
   "outputs": [],
   "source": [
    "# Enlist various classifiers with their default parameters.\n",
    "classifiers = {\n",
    "    'xgb': XGBClassifier(n_estimators=100,\n",
    "                         objective='binary:logistic',\n",
    "                         max_depth=8,\n",
    "                         learning_rate=0.1,\n",
    "                         verbosity=None,\n",
    "                         booster=None,\n",
    "                         tree_method=None,\n",
    "                         gamma=1,\n",
    "                         min_child_weight=None,\n",
    "                         max_delta_step=None,\n",
    "                         subsample=0.8,\n",
    "                         colsample_bytree=None,\n",
    "                         colsample_bylevel=None,\n",
    "                         colsample_bynode=None,\n",
    "                         reg_alpha=None,\n",
    "                         reg_lambda=None,\n",
    "                         scale_pos_weight=None,\n",
    "                         base_score=None,\n",
    "                         num_parallel_tree=None,\n",
    "                         random_state=34,\n",
    "                         n_jobs=-1,\n",
    "                         monotone_constraints=None,\n",
    "                         interaction_constraints=None,\n",
    "                         importance_type='gain',\n",
    "                         validate_parameters=None),\n",
    "    'ada': AdaBoostClassifier(base_estimator=None,\n",
    "                              n_estimators=50,\n",
    "                              learning_rate=1.0,\n",
    "                              random_state=34,\n",
    "                              algorithm='SAMME.R'),\n",
    "    'rdf': RandomForestClassifier(n_estimators=100,\n",
    "                                  bootstrap=True,\n",
    "                                  oob_score=False,\n",
    "                                  n_jobs=-1,\n",
    "                                  random_state=34,\n",
    "                                  verbose=0,\n",
    "                                  warm_start=False,\n",
    "                                  class_weight=None,\n",
    "                                  max_samples=None,\n",
    "                                  criterion='gini',\n",
    "                                  max_depth=None,\n",
    "                                  min_samples_split=2,\n",
    "                                  min_samples_leaf=1,\n",
    "                                  min_weight_fraction_leaf=0.0,\n",
    "                                  max_features='auto',\n",
    "                                  max_leaf_nodes=None,\n",
    "                                  min_impurity_decrease=0.0,\n",
    "                                  min_impurity_split=None,\n",
    "                                  ccp_alpha=0.0),\n",
    "    'rid': RidgeClassifier(alpha=1.0,\n",
    "                           fit_intercept=True,\n",
    "                           normalize=False,\n",
    "                           copy_X=True,\n",
    "                           max_iter=None,\n",
    "                           tol=0.001,\n",
    "                           solver='auto',\n",
    "                           random_state=34,\n",
    "                           class_weight=None),\n",
    "    'mlp': MLPClassifier(activation='relu',\n",
    "                         solver='adam',\n",
    "                         alpha=0.0001,\n",
    "                         batch_size='auto',\n",
    "                         learning_rate='constant',\n",
    "                         learning_rate_init=0.001,\n",
    "                         power_t=0.5,\n",
    "                         max_iter=200,\n",
    "                         hidden_layer_sizes=(100,),\n",
    "                         shuffle=True,\n",
    "                         random_state=34,\n",
    "                         tol=0.0001,\n",
    "                         verbose=False,\n",
    "                         warm_start=False,\n",
    "                         momentum=0.9,\n",
    "                         nesterovs_momentum=True,\n",
    "                         early_stopping=True,\n",
    "                         validation_fraction=0.1,\n",
    "                         beta_1=0.9,\n",
    "                         beta_2=0.999,\n",
    "                         epsilon=1e-08,\n",
    "                         n_iter_no_change=10,\n",
    "                         max_fun=15000),\n",
    "    'svc': LinearSVC(dual=True,\n",
    "                     tol=0.0001,\n",
    "                     C=1.0,\n",
    "                     multi_class='ovr',\n",
    "                     fit_intercept=True,\n",
    "                     intercept_scaling=1,\n",
    "                     class_weight=None,\n",
    "                     verbose=0,\n",
    "                     random_state=34,\n",
    "                     max_iter=1000,\n",
    "                     penalty='l2',\n",
    "                     loss='squared_hinge'),\n",
    "    'lgbm': LGBMClassifier(boosting_type='gbdt',\n",
    "                           objective=None,\n",
    "                           num_leaves=31,\n",
    "                           max_depth=-1,\n",
    "                           learning_rate=0.1,\n",
    "                           n_estimators=100,\n",
    "                           subsample_for_bin=200000,\n",
    "                           min_split_gain=0.0,\n",
    "                           min_child_weight=0.001,\n",
    "                           min_child_samples=20,\n",
    "                           subsample=1.0,\n",
    "                           subsample_freq=0,\n",
    "                           colsample_bytree=1.0,\n",
    "                           reg_alpha=0.0,\n",
    "                           reg_lambda=0.0,\n",
    "                           random_state=34,\n",
    "                           n_jobs=-1,\n",
    "                           silent=True,\n",
    "                           importance_type='split')\n",
    "    }"
   ]
  },
  {
   "cell_type": "code",
   "execution_count": 14,
   "metadata": {},
   "outputs": [
    {
     "name": "stdout",
     "output_type": "stream",
     "text": [
      "xgb accuaracy:  0.8213071887778083\n",
      "xgb average precision score:  0.7140848820164488\n",
      "                   precision    recall  f1-score   support\n",
      "\n",
      "health_Dead|Stump       1.00      1.00      1.00      7904\n",
      "      health_Good       0.82      0.99      0.90    132213\n",
      " health_Poor|Fair       0.55      0.05      0.09     30830\n",
      "\n",
      "        micro avg       0.82      0.82      0.82    170947\n",
      "        macro avg       0.79      0.68      0.66    170947\n",
      "     weighted avg       0.78      0.82      0.76    170947\n",
      "      samples avg       0.82      0.82      0.82    170947\n",
      "\n",
      "ada accuaracy:  0.8215762780276928\n",
      "ada average precision score:  0.7120247097132393\n",
      "                   precision    recall  f1-score   support\n",
      "\n",
      "health_Dead|Stump       1.00      1.00      1.00      7904\n",
      "      health_Good       0.82      0.99      0.90    132213\n",
      " health_Poor|Fair       0.59      0.04      0.07     30830\n",
      "\n",
      "        micro avg       0.82      0.82      0.82    170947\n",
      "        macro avg       0.80      0.68      0.65    170947\n",
      "     weighted avg       0.78      0.82      0.75    170947\n",
      "      samples avg       0.82      0.82      0.82    170947\n",
      "\n",
      "rdf accuaracy:  0.8209386535007926\n",
      "rdf average precision score:  0.7142764954628672\n",
      "                   precision    recall  f1-score   support\n",
      "\n",
      "health_Dead|Stump       1.00      1.00      1.00      7904\n",
      "      health_Good       0.82      0.99      0.90    132213\n",
      " health_Poor|Fair       0.54      0.05      0.10     30830\n",
      "\n",
      "        micro avg       0.82      0.82      0.82    170947\n",
      "        macro avg       0.78      0.68      0.66    170947\n",
      "     weighted avg       0.78      0.82      0.76    170947\n",
      "      samples avg       0.82      0.82      0.82    170947\n",
      "\n",
      "rid accuaracy:  0.8216523249896167\n",
      "rid average precision score:  0.7120112409147054\n",
      "                   precision    recall  f1-score   support\n",
      "\n",
      "health_Dead|Stump       1.00      1.00      1.00      7904\n",
      "      health_Good       0.82      0.99      0.90    132213\n",
      " health_Poor|Fair       0.59      0.04      0.07     30830\n",
      "\n",
      "        micro avg       0.82      0.82      0.82    170947\n",
      "        macro avg       0.80      0.68      0.65    170947\n",
      "     weighted avg       0.78      0.82      0.75    170947\n",
      "      samples avg       0.82      0.82      0.82    170947\n",
      "\n",
      "mlp accuaracy:  0.8179143243227434\n",
      "mlp average precision score:  0.7127231300818447\n",
      "                   precision    recall  f1-score   support\n",
      "\n",
      "health_Dead|Stump       1.00      1.00      1.00      7904\n",
      "      health_Good       0.82      0.99      0.90    132213\n",
      " health_Poor|Fair       0.55      0.05      0.10     30830\n",
      "\n",
      "        micro avg       0.82      0.83      0.82    170947\n",
      "        macro avg       0.79      0.68      0.66    170947\n",
      "     weighted avg       0.78      0.83      0.76    170947\n",
      "      samples avg       0.82      0.83      0.82    170947\n",
      "\n",
      "svc accuaracy:  0.8216581747559185\n",
      "svc average precision score:  0.7120234877430827\n",
      "                   precision    recall  f1-score   support\n",
      "\n",
      "health_Dead|Stump       1.00      1.00      1.00      7904\n",
      "      health_Good       0.82      0.99      0.90    132213\n",
      " health_Poor|Fair       0.59      0.04      0.07     30830\n",
      "\n",
      "        micro avg       0.82      0.82      0.82    170947\n",
      "        macro avg       0.80      0.68      0.65    170947\n",
      "     weighted avg       0.78      0.82      0.75    170947\n",
      "      samples avg       0.82      0.82      0.82    170947\n",
      "\n",
      "lgbm accuaracy:  0.8209386535007926\n",
      "lgbm average precision score:  0.7142485515434801\n",
      "                   precision    recall  f1-score   support\n",
      "\n",
      "health_Dead|Stump       1.00      1.00      1.00      7904\n",
      "      health_Good       0.82      0.99      0.90    132213\n",
      " health_Poor|Fair       0.55      0.05      0.10     30830\n",
      "\n",
      "        micro avg       0.82      0.82      0.82    170947\n",
      "        macro avg       0.79      0.68      0.66    170947\n",
      "     weighted avg       0.78      0.82      0.76    170947\n",
      "      samples avg       0.82      0.82      0.82    170947\n",
      "\n"
     ]
    }
   ],
   "source": [
    "# Train, predict, and evaluate the default classifiers.\n",
    "models = {}\n",
    "\n",
    "for each, clf in classifiers.items():\n",
    "    models[each] = {\n",
    "            'trained_clf': MultiOutputClassifier(clf).fit(x_training_ros,\n",
    "                                                          y_training_ros)\n",
    "            }\n",
    "    models[each]['y_pred'] = models[each]['trained_clf'].predict(x_testing)\n",
    "    models[each]['accuracy'] = accuracy_score(y_testing.values,\n",
    "                                              models[each]['y_pred'])\n",
    "    models[each]['avg_prsc'] = average_precision_score(y_testing.values,\n",
    "                                                       models[each]['y_pred'],\n",
    "                                                       average='weighted')\n",
    "    models[each]['clf_repo'] = classification_report(y_testing.values,\n",
    "                                                     models[each]['y_pred'],\n",
    "                                                     target_names=y.columns)\n",
    "    \n",
    "    print(each, 'accuaracy: ', models[each]['accuracy'])\n",
    "    print(each, 'average precision score: ', models[each]['avg_prsc'])\n",
    "    print(models[each]['clf_repo'])"
   ]
  },
  {
   "cell_type": "markdown",
   "metadata": {},
   "source": [
    "# Hyperparameter optimization"
   ]
  },
  {
   "cell_type": "code",
   "execution_count": 6,
   "metadata": {},
   "outputs": [],
   "source": [
    "def hypertune(model, parameters, gridsearch_clfs, allthemodels=classifiers, x_tr=x_training_ros, y_tr=y_training_ros):\n",
    "    \"\"\"\n",
    "    Performs hyperparameter optimization for all of the given models, updates their default parameters with the\n",
    "    best parameters after the optimization, and returns the result in a dictionary.\n",
    "    \n",
    "    :param model: str. Name of the algorithm to be tuned.\n",
    "    :param parameters: dict. Dictionary with desired variants of hyperparameters for tuning.\n",
    "    :param gridsearch_clfs: dict. Dictionary which should hold the output afterwards.\n",
    "    :param allthemodels: dict. Dictionary with all pre-trained models.\n",
    "    :param x_tr: numpy.ndarray. Training dataset of the features.\n",
    "    :param y_tr: numpy.ndarray. Training dataset of the targets.\n",
    "    \n",
    "    :return: None\n",
    "    \"\"\"\n",
    "    \n",
    "    score_metric = make_scorer(f1_score, average='weighted')\n",
    "    \n",
    "    print('######### START HYPERPARAMETER TUNING FOR MODEL:', model, '###########################')\n",
    "\n",
    "    gridsearch_clfs[model] = {\n",
    "                        'grid_classifier': GridSearchCV(MultiOutputClassifier(allthemodels[model]),\n",
    "                                                        param_grid=parameter_grid,\n",
    "                                                        cv=2, # try ShuffleSplit..\n",
    "                                                        scoring=score_metric,\n",
    "                                                        refit=True,\n",
    "                                                        verbose=0,\n",
    "                                                        error_score=0,\n",
    "                                                        return_train_score=False,\n",
    "                                                        n_jobs=-1) \\\n",
    "                                          .fit(x_training_ros,\n",
    "                                               y_training_ros)\n",
    "                        }\n",
    "\n",
    "    gridsearch_clfs[model]['f1_score'] = gridsearch_clfs[model]['grid_classifier'].best_score_\n",
    "    print('Best F1 score: ', gridsearch_clfs[model]['f1_score'])\n",
    "    \n",
    "    gridsearch_clfs[model]['best_parameters'] = gridsearch_clfs[model]['grid_classifier'].best_params_\n",
    "    gridsearch_clfs[model]['best_parameters'] = {i.replace('estimator__',''): v\n",
    "                                                 for i, v in gridsearch_clfs[model]['best_parameters'] \\\n",
    "                                                .items()}\n",
    "\n",
    "    # Return & update the set of default parameters.\n",
    "    for every, param in gridsearch_clfs[model]['best_parameters'].items():\n",
    "        allthemodels[model].__dict__[every] = gridsearch_clfs[model]['best_parameters'][every] \n",
    "\n",
    "    print('Updated parameter setting: ')\n",
    "    print(allthemodels[model])\n",
    "    \n",
    "    print('######### FINISH #####################################################################', '\\n')"
   ]
  },
  {
   "cell_type": "markdown",
   "metadata": {},
   "source": [
    "### LGBMClassifier"
   ]
  },
  {
   "cell_type": "code",
   "execution_count": 68,
   "metadata": {},
   "outputs": [
    {
     "name": "stdout",
     "output_type": "stream",
     "text": [
      "######### START HYPERPARAMETER TUNING FOR MODEL: rdf ###########################\n",
      "Best F1 score:  0.8568421403101456\n",
      "Updated parameter setting: \n",
      "RandomForestClassifier(bootstrap=True, ccp_alpha=0.0, class_weight=None,\n",
      "                       criterion='entropy', max_depth=None, max_features='log2',\n",
      "                       max_leaf_nodes=None, max_samples=None,\n",
      "                       min_impurity_decrease=0.0, min_impurity_split=None,\n",
      "                       min_samples_leaf=1, min_samples_split=2,\n",
      "                       min_weight_fraction_leaf=0.0, n_estimators=35, n_jobs=-1,\n",
      "                       oob_score=False, random_state=34, verbose=0,\n",
      "                       warm_start=False)\n",
      "######### FINISH ##################################################################### \n",
      "\n"
     ]
    }
   ],
   "source": [
    "gridsearch_rdf = {}\n",
    "\n",
    "parameter_grid = {\n",
    "       'estimator__criterion': ['entropy'],\n",
    "       'estimator__max_features': ['log2'],\n",
    "       'estimator__n_estimators': [35]\n",
    "       }\n",
    "\n",
    "hypertune('rdf', parameter_grid, gridsearch_rdf)"
   ]
  },
  {
   "cell_type": "markdown",
   "metadata": {},
   "source": [
    "-- 04.06.2020 --\n",
    "\n",
    "######### START HYPERPARAMETER TUNING FOR MODEL: rdf ###########################\n",
    "Best F1 score:  0.8568421403101456\n",
    "Updated parameter setting: \n",
    "RandomForestClassifier(bootstrap=True, ccp_alpha=0.0, class_weight=None,\n",
    "                       criterion='entropy', max_depth=None, max_features='log2',\n",
    "                       max_leaf_nodes=None, max_samples=None,\n",
    "                       min_impurity_decrease=0.0, min_impurity_split=None,\n",
    "                       min_samples_leaf=1, min_samples_split=2,\n",
    "                       min_weight_fraction_leaf=0.0, n_estimators=35, n_jobs=-1,\n",
    "                       oob_score=False, random_state=34, verbose=0,\n",
    "                       warm_start=False)\n",
    "######### FINISH ##################################################################### "
   ]
  },
  {
   "cell_type": "code",
   "execution_count": 7,
   "metadata": {},
   "outputs": [
    {
     "name": "stdout",
     "output_type": "stream",
     "text": [
      "######### START HYPERPARAMETER TUNING FOR MODEL: lgbm ###########################\n",
      "Best F1 score:  0.8776526203422736\n",
      "Updated parameter setting: \n",
      "LGBMClassifier(boosting_type='dart', class_weight=None, colsample_bytree=1.0,\n",
      "               importance_type='split', learning_rate=1.0, max_depth=-1,\n",
      "               min_child_samples=20, min_child_weight=1e-05, min_split_gain=0.0,\n",
      "               n_estimators=95, n_jobs=-1, num_leaves=140, objective=None,\n",
      "               random_state=34, reg_alpha=0.0, reg_lambda=2.0, silent=True,\n",
      "               subsample=0.1, subsample_for_bin=50000, subsample_freq=0)\n",
      "######### FINISH ##################################################################### \n",
      "\n"
     ]
    }
   ],
   "source": [
    "gridsearch_lgbm = {}\n",
    "\n",
    "parameter_grid = {\n",
    "       'estimator__boosting_type': ['dart'],\n",
    "       'estimator__num_leaves': [140],\n",
    "       'estimator__learning_rate': [1.0],\n",
    "       'estimator__n_estimators': [95],\n",
    "       'estimator__reg_lambda': [2.0],\n",
    "       'estimator__subsample': [0.1],\n",
    "       'estimator__min_child_weight': [0.00001],\n",
    "       'estimator__subsample_for_bin': [50000]\n",
    "       }\n",
    "\n",
    "hypertune('lgbm', parameter_grid, gridsearch_lgbm)"
   ]
  },
  {
   "cell_type": "markdown",
   "metadata": {},
   "source": [
    "-- 04.06.2020 --\n",
    "\n",
    "######### START HYPERPARAMETER TUNING FOR MODEL: lgbm ###########################\n",
    "Best F1 score:  0.8776526203422736\n",
    "Updated parameter setting: \n",
    "LGBMClassifier(boosting_type='dart', class_weight=None, colsample_bytree=1.0,\n",
    "               importance_type='split', learning_rate=1.0, max_depth=-1,\n",
    "               min_child_samples=20, min_child_weight=1e-05, min_split_gain=0.0,\n",
    "               n_estimators=95, n_jobs=-1, num_leaves=140, objective=None,\n",
    "               random_state=34, reg_alpha=0.0, reg_lambda=2.0, silent=True,\n",
    "               subsample=0.1, subsample_for_bin=50000, subsample_freq=0)\n",
    "######### FINISH ##################################################################### "
   ]
  },
  {
   "cell_type": "markdown",
   "metadata": {},
   "source": [
    "# Testing with optimized hyperparameters"
   ]
  },
  {
   "cell_type": "markdown",
   "metadata": {},
   "source": [
    "### LGBMClassifier"
   ]
  },
  {
   "cell_type": "code",
   "execution_count": 69,
   "metadata": {},
   "outputs": [
    {
     "name": "stdout",
     "output_type": "stream",
     "text": [
      "Accuracy:  0.8095023603807028\n",
      "F1 score:  0.7530120560658087\n",
      "                   precision    recall  f1-score   support\n",
      "\n",
      "health_Dead|Stump       1.00      1.00      1.00     15808\n",
      "      health_Good       0.82      0.99      0.90    264425\n",
      " health_Poor|Fair       0.43      0.04      0.08     61661\n",
      "\n",
      "        micro avg       0.82      0.82      0.82    341894\n",
      "        macro avg       0.75      0.68      0.66    341894\n",
      "     weighted avg       0.76      0.82      0.75    341894\n",
      "      samples avg       0.81      0.82      0.82    341894\n",
      "\n"
     ]
    }
   ],
   "source": [
    "tuned_classifier = MultiOutputClassifier(classifiers['lgbm']).fit(x_training_ros, y_training_ros)\n",
    "y_pred = tuned_classifier.predict(x_valid.values)\n",
    "accuracy = accuracy_score(y_valid.values,\n",
    "                          y_pred)\n",
    "f1 = f1_score(y_valid,\n",
    "              y_pred,\n",
    "              average='weighted')\n",
    "clf_report = classification_report(y_valid.values,\n",
    "                                   y_pred,\n",
    "                                   target_names=y.columns)\n",
    "\n",
    "print(\"Accuracy: \", accuracy)\n",
    "print(\"F1 score: \", f1)\n",
    "print(clf_report)"
   ]
  },
  {
   "cell_type": "markdown",
   "metadata": {},
   "source": [
    "# Save / load current status"
   ]
  },
  {
   "cell_type": "code",
   "execution_count": 72,
   "metadata": {},
   "outputs": [],
   "source": [
    "with open('rdf_clf.pkl', 'wb') as handle:\n",
    "    pickle.dump(gridsearch_rdf, handle, protocol=pickle.HIGHEST_PROTOCOL)"
   ]
  },
  {
   "cell_type": "code",
   "execution_count": null,
   "metadata": {},
   "outputs": [],
   "source": [
    "with open('gridsearch_lgbm_clfs.pkl', 'rb') as handle:\n",
    "    gridsearch_lgbm = pickle.load(handle)"
   ]
  }
 ],
 "metadata": {
  "kernelspec": {
   "display_name": "Python 3",
   "language": "python",
   "name": "python3"
  },
  "language_info": {
   "codemirror_mode": {
    "name": "ipython",
    "version": 3
   },
   "file_extension": ".py",
   "mimetype": "text/x-python",
   "name": "python",
   "nbconvert_exporter": "python",
   "pygments_lexer": "ipython3",
   "version": "3.8.1"
  }
 },
 "nbformat": 4,
 "nbformat_minor": 2
}
