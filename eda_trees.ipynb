{
 "cells": [
  {
   "cell_type": "code",
   "execution_count": 1,
   "metadata": {
    "scrolled": true
   },
   "outputs": [
    {
     "name": "stderr",
     "output_type": "stream",
     "text": [
      "C:\\ProgramData\\Anaconda3\\lib\\site-packages\\statsmodels\\tools\\_testing.py:19: FutureWarning: pandas.util.testing is deprecated. Use the functions in the public API at pandas.testing instead.\n",
      "  import pandas.util.testing as tm\n"
     ]
    }
   ],
   "source": [
    "# Import third-party packages.\n",
    "import geopandas as gpd\n",
    "from geopy.distance import great_circle\n",
    "import matplotlib.pyplot as plt\n",
    "import numpy as np\n",
    "import pandas as pd\n",
    "from pandas_profiling import ProfileReport\n",
    "from shapely.geometry import MultiPoint, Point\n",
    "from sklearn.cluster import DBSCAN\n",
    "\n",
    "%matplotlib widget\n",
    "\n",
    "# Change display settings for dataframes.\n",
    "pd.set_option('display.max_columns', None)"
   ]
  },
  {
   "cell_type": "code",
   "execution_count": 2,
   "metadata": {},
   "outputs": [
    {
     "name": "stderr",
     "output_type": "stream",
     "text": [
      "C:\\ProgramData\\Anaconda3\\lib\\site-packages\\pyproj\\crs.py:77: FutureWarning: '+init=<authority>:<code>' syntax is deprecated. '<authority>:<code>' is the preferred initialization method.\n",
      "  return _prepare_from_string(\" \".join(pjargs))\n"
     ]
    }
   ],
   "source": [
    "# Read in data on street trees.\n",
    "df_2015 = pd.read_csv('./data/data_raw/nyc_trees/nyc_tree_census_2015.csv.gz', compression='gzip')\n",
    "df_2015.drop('Unnamed: 0', axis=1, inplace=True)\n",
    "df = df_2015.copy()\n",
    "\n",
    "# Read in geographic data on New York City.\n",
    "nyc = gpd.read_file('./data/data_raw/nyc_boroughs/nyc_geo.shp')\n",
    "nyc_streets = gpd.read_file('./data/data_raw/nyc_streets/geo_export_f311eef5-5969-43eb-a781-39fa54d09b70.shp')\n",
    "\n",
    "# Bring geographic data on boroughs and street trees in NYC into a new format.\n",
    "trees = gpd.GeoDataFrame(df, geometry=[Point(coordinates) for coordinates in zip(df['longitude'], df['latitude'])])\n",
    "trees.crs = {'init': 'epsg:4326', 'no_defs': True}\n",
    "nyc = nyc.to_crs(epsg=4326)\n",
    "nyc.crs = {'init': 'epsg:4326', 'no_defs': True}"
   ]
  },
  {
   "cell_type": "code",
   "execution_count": null,
   "metadata": {},
   "outputs": [],
   "source": [
    "df.head(1)"
   ]
  },
  {
   "cell_type": "code",
   "execution_count": null,
   "metadata": {},
   "outputs": [],
   "source": [
    "# Lazy EDA.\n",
    "prfl = ProfileReport(df, title=\"Fast EDA\", explorative=True)\n",
    "prfl.to_notebook_iframe()"
   ]
  },
  {
   "cell_type": "markdown",
   "metadata": {},
   "source": [
    "many variables which might not have a large influence on a target"
   ]
  },
  {
   "cell_type": "markdown",
   "metadata": {},
   "source": [
    " "
   ]
  },
  {
   "cell_type": "markdown",
   "metadata": {},
   "source": [
    " "
   ]
  },
  {
   "cell_type": "markdown",
   "metadata": {},
   "source": [
    "# Inspecting specific columns"
   ]
  },
  {
   "cell_type": "markdown",
   "metadata": {},
   "source": [
    "### Tree diameter"
   ]
  },
  {
   "cell_type": "code",
   "execution_count": null,
   "metadata": {
    "scrolled": true
   },
   "outputs": [],
   "source": [
    "# Inspect data on tree diameters.\n",
    "df['tree_dbh'].describe()"
   ]
  },
  {
   "cell_type": "code",
   "execution_count": null,
   "metadata": {},
   "outputs": [],
   "source": [
    "df['tree_dbh'] \\\n",
    "    .plot(bins=450, kind='hist', title='Diameter at breast height of tree', xlim=(0,100)) \\\n",
    "    .set_xlabel('Diameter')"
   ]
  },
  {
   "cell_type": "markdown",
   "metadata": {},
   "source": [
    " "
   ]
  },
  {
   "cell_type": "markdown",
   "metadata": {},
   "source": [
    " "
   ]
  },
  {
   "cell_type": "markdown",
   "metadata": {},
   "source": [
    "### Tree species"
   ]
  },
  {
   "cell_type": "code",
   "execution_count": null,
   "metadata": {},
   "outputs": [],
   "source": [
    "df['spc_latin'].describe()"
   ]
  },
  {
   "cell_type": "code",
   "execution_count": null,
   "metadata": {},
   "outputs": [],
   "source": [
    "df['spc_latin'].isna().any()"
   ]
  },
  {
   "cell_type": "code",
   "execution_count": null,
   "metadata": {},
   "outputs": [],
   "source": [
    "len(df.loc[df['spc_latin'].isna()])"
   ]
  },
  {
   "cell_type": "code",
   "execution_count": null,
   "metadata": {},
   "outputs": [],
   "source": [
    "len(df.loc[df['health'].isna()])"
   ]
  },
  {
   "cell_type": "code",
   "execution_count": null,
   "metadata": {
    "scrolled": true
   },
   "outputs": [],
   "source": [
    "df.loc[df['spc_latin'].isna()]"
   ]
  },
  {
   "cell_type": "code",
   "execution_count": null,
   "metadata": {},
   "outputs": [],
   "source": [
    "df.loc[(df['spc_latin'].isna()) & (~df['health'].isna())]"
   ]
  },
  {
   "cell_type": "code",
   "execution_count": null,
   "metadata": {},
   "outputs": [],
   "source": [
    "# Finding: Tree species where the value is missing are mostly dead or stump trees with few (n = 5) exceptions."
   ]
  },
  {
   "cell_type": "markdown",
   "metadata": {},
   "source": [
    " "
   ]
  },
  {
   "cell_type": "markdown",
   "metadata": {},
   "source": [
    " "
   ]
  },
  {
   "cell_type": "markdown",
   "metadata": {},
   "source": [
    "# Inspecting missing values"
   ]
  },
  {
   "cell_type": "code",
   "execution_count": 3,
   "metadata": {},
   "outputs": [],
   "source": [
    "# Replace NaN values in features with entries signalling this tree is either dead or a stump.\n",
    "df['steward'].fillna('Dead|Stump', inplace=True)\n",
    "df['guards'].fillna('Dead|Stump', inplace=True)\n",
    "df['sidewalk'].fillna('Dead|Stump', inplace=True)\n",
    "\n",
    "# In 'steward', replace spectrum of answers to yes (= alive) or no (= dead/stump).\n",
    "df['steward'].replace(['1or2', '3or4', '4orMore', 'None'], 'Alive', inplace=True)\n",
    "\n",
    "# Replace NaN values in the target with entries signalling this tree is either dead or a stump.\n",
    "df['health'].fillna('Dead|Stump', inplace=True)"
   ]
  },
  {
   "cell_type": "markdown",
   "metadata": {},
   "source": [
    " "
   ]
  },
  {
   "cell_type": "markdown",
   "metadata": {},
   "source": [
    " "
   ]
  },
  {
   "cell_type": "markdown",
   "metadata": {},
   "source": [
    "# Geographic analysis"
   ]
  },
  {
   "cell_type": "code",
   "execution_count": null,
   "metadata": {},
   "outputs": [],
   "source": [
    "# Prepare geographic data on trees and boroughs in NYC.\n",
    "trees_grouped = trees.groupby('borough').count()['tree_id']\n",
    "trees_per_borough = nyc.merge(trees_grouped, left_on='bname', right_index=True)\n",
    "tree_counts_borough = trees_per_borough[['bname', 'tree_id']].sort_values('tree_id')"
   ]
  },
  {
   "cell_type": "markdown",
   "metadata": {},
   "source": [
    "# Question: How many streets trees exist in New York?"
   ]
  },
  {
   "cell_type": "code",
   "execution_count": null,
   "metadata": {},
   "outputs": [],
   "source": [
    "ax = tree_counts_borough.plot(kind='barh', color='green')\n",
    "ax.set_title('Number of street trees in New York per borough')\n",
    "ax.set_yticklabels(tree_counts_borough['bname'])\n",
    "ax.set_xlabel('Number of trees')\n",
    "ax.get_legend().remove()"
   ]
  },
  {
   "cell_type": "code",
   "execution_count": null,
   "metadata": {},
   "outputs": [],
   "source": [
    "fig, ax = plt.subplots(figsize=(20, 20))\n",
    "ax.axis('off')\n",
    "ax.set_title('Trees per borough in New York',\n",
    "             fontdict={'fontsize': 25})\n",
    "\n",
    "# Plot trees per borough.\n",
    "trees_per_borough.plot(column='tree_id', alpha=0.7, ax=ax, cmap='Greens', edgecolor='k')\n",
    "for borough in trees_per_borough.itertuples(index=True, name='bname'):\n",
    "    plt.text(borough.geometry.centroid.x,\n",
    "             borough.geometry.centroid.y,\n",
    "             borough.bname, \n",
    "             bbox=dict(boxstyle='square, pad=0.3',\n",
    "                       edgecolor='k',\n",
    "                       facecolor='white'))\n",
    "\n",
    "# Plot all trees additionally.\n",
    "trees.plot(ax=ax, alpha=0.2, color='k', markersize=0.1)\n",
    "\n",
    "# Add a legend.\n",
    "legend_bar = fig.colorbar(plt.cm.ScalarMappable(cmap='Greens'), fraction=0.03, pad=0.05)"
   ]
  },
  {
   "cell_type": "markdown",
   "metadata": {},
   "source": [
    "# Question: Which street trees exist?"
   ]
  },
  {
   "cell_type": "code",
   "execution_count": null,
   "metadata": {},
   "outputs": [],
   "source": [
    "# Find the count of tree species per borough.\n",
    "trees_species_grouped = trees.groupby(['borough', 'spc_common']).count()[['tree_id']].sort_values(['borough', 'tree_id'], ascending=False)\n",
    "tree_species_count_per_borough = pd.Series([len(trees_species_grouped.loc['Bronx']),\n",
    "                                            len(trees_species_grouped.loc['Brooklyn']),\n",
    "                                            len(trees_species_grouped.loc['Manhattan']),\n",
    "                                            len(trees_species_grouped.loc['Staten Island']),\n",
    "                                            len(trees_species_grouped.loc['Queens'])],\n",
    "                                          index=['Bronx', 'Brooklyn', 'Manhattan', 'Staten Island', 'Queens']) \\\n",
    "                                    .sort_values()\n",
    "tree_species_count_per_borough.name = 'species_count'\n",
    "trees_species_grouped_per_borough = nyc.merge(tree_species_count_per_borough, left_on='bname', right_index=True)\n",
    "\n",
    "ax = tree_species_count_per_borough.plot(kind='barh')\n",
    "ax.set_title('Diversity of street tree flora per borough in New York')\n",
    "ax.set_yticklabels(trees_species_grouped_per_borough['bname'])\n",
    "ax.set_xlabel('Number of species')"
   ]
  },
  {
   "cell_type": "code",
   "execution_count": null,
   "metadata": {},
   "outputs": [],
   "source": [
    "fig, ax = plt.subplots(figsize=(20, 20))\n",
    "ax.axis('off')\n",
    "ax.set_title('Diversity of street tree flora per borough in New York',\n",
    "             fontdict={'fontsize': 25})\n",
    "\n",
    "# Plot trees per borough.\n",
    "trees_species_grouped_per_borough.plot(column='species_count', alpha=0.7, ax=ax, cmap='summer_r', edgecolor='k')\n",
    "for borough in trees_per_borough.itertuples(index=True, name='bname'):\n",
    "    plt.text(borough.geometry.centroid.x,\n",
    "             borough.geometry.centroid.y,\n",
    "             borough.bname, \n",
    "             bbox=dict(boxstyle='square, pad=0.3',\n",
    "                       edgecolor='k',\n",
    "                       facecolor='white'))\n",
    "\n",
    "# Add a legend.\n",
    "legend_bar = fig.colorbar(plt.cm.ScalarMappable(cmap='summer_r'), fraction=0.03, pad=0.05)"
   ]
  },
  {
   "cell_type": "markdown",
   "metadata": {},
   "source": [
    "# Question: In which condition are New York's street trees?"
   ]
  },
  {
   "cell_type": "code",
   "execution_count": null,
   "metadata": {},
   "outputs": [],
   "source": [
    "# Find health condition of street trees per borough.\n",
    "trees_health_count = trees.groupby('health').count()['tree_id'].sort_values()\n",
    "\n",
    "ax = trees_health_count.plot(kind='barh', color='grey')\n",
    "ax.set_title('Health condition of street trees in New York')\n",
    "ax.set_yticklabels(trees_health_count.index)\n",
    "ax.set_xlabel('Number of trees')\n",
    "ax.set_ylabel('')"
   ]
  },
  {
   "cell_type": "markdown",
   "metadata": {},
   "source": [
    "# Question: Which street trees might need to be removed?"
   ]
  },
  {
   "cell_type": "code",
   "execution_count": null,
   "metadata": {},
   "outputs": [],
   "source": [
    "# Find unhealthy street trees per borough.\n",
    "trees_grouped_unhealthy = trees.loc[(trees['health']=='Fair') |\n",
    "                                    (trees['health']=='Dead|Stump') |\n",
    "                                    (trees['health']=='Poor')].groupby('borough').count()['tree_id']\n",
    "trees_grouped_unhealthy = nyc.merge(trees_grouped_unhealthy, left_on='bname', right_index=True)\n",
    "tree_counts_borough = trees_per_borough[['bname', 'tree_id']].sort_values('tree_id')\n",
    "\n",
    "fig, ax = plt.subplots(figsize=(20, 20))\n",
    "ax.axis('off')\n",
    "ax.set_title('Unhealthy trees per borough in New York',\n",
    "             fontdict={'fontsize': 25})\n",
    "\n",
    "# Plot unhealthy trees per borough.\n",
    "trees_grouped_unhealthy.plot(column='tree_id', alpha=0.7, ax=ax, cmap='Greys', edgecolor='k')\n",
    "for borough in trees_per_borough.itertuples(index=True, name='bname'):\n",
    "    plt.text(borough.geometry.centroid.x,\n",
    "             borough.geometry.centroid.y,\n",
    "             borough.bname, \n",
    "             bbox=dict(boxstyle='square, pad=0.3',\n",
    "                       edgecolor='k',\n",
    "                       facecolor='white'))\n",
    "\n",
    "# Plot all unhealthy trees.\n",
    "trees.loc[(trees['health']=='Fair') |\n",
    "          (trees['health']=='Dead|Stump') |\n",
    "          (trees['health']=='Poor')].plot(ax=ax, alpha=0.2, color='k', markersize=0.1)\n",
    "\n",
    "# Add a legend.\n",
    "legend_bar = fig.colorbar(plt.cm.ScalarMappable(cmap='Greys'), fraction=0.03, pad=0.05)"
   ]
  },
  {
   "cell_type": "code",
   "execution_count": 11,
   "metadata": {},
   "outputs": [
    {
     "data": {
      "application/vnd.jupyter.widget-view+json": {
       "model_id": "af73930d422049ecbadccebee2938410",
       "version_major": 2,
       "version_minor": 0
      },
      "text/plain": [
       "Canvas(toolbar=Toolbar(toolitems=[('Home', 'Reset original view', 'home', 'home'), ('Back', 'Back to previous …"
      ]
     },
     "metadata": {},
     "output_type": "display_data"
    }
   ],
   "source": [
    "# Filter for dead / stump trees.\n",
    "dead_trees = trees.loc[trees['health'] == 'Dead|Stump']\n",
    "dead_trees_locations = dead_trees[['latitude', 'longitude']].values\n",
    "\n",
    "# Find clusters of dead / stump street trees in New York.\n",
    "distance_earth_radius = 0.5 / 6371.0\n",
    "db = DBSCAN(eps=distance_earth_radius,\n",
    "            min_samples=1,\n",
    "            algorithm='ball_tree',\n",
    "            metric='haversine',\n",
    "            n_jobs=-1).fit(np.radians(dead_trees_locations))\n",
    "n_clusters = len(set(db.labels_))\n",
    "clusters = pd.Series([dead_trees_locations[db.labels_ == n] for n in range(n_clusters)])\n",
    "\n",
    "def get_centermost_point(cluster):\n",
    "    \"\"\"\n",
    "    Finds the centroid of a cluster of points.\n",
    "    \n",
    "    Method adapted from author mentioned in source[1].\n",
    "    \n",
    "    :param cluster: pandas.core.series.Series: Pairs of geographic coordinates in WGS 84.\n",
    "\n",
    "    :return: pandas.core.series.Series\n",
    "    \"\"\"\n",
    "    \n",
    "    centroid = (MultiPoint(cluster).centroid.x, MultiPoint(cluster).centroid.y)\n",
    "    centermost_point = min(cluster, key=lambda point: great_circle(point, centroid).m)\n",
    "    centermost_point_coords = tuple(centermost_point)\n",
    "    \n",
    "    return centermost_point_coords\n",
    "\n",
    "clusters_centers = clusters.map(get_centermost_point)\n",
    "\n",
    "# Plot clusters.\n",
    "fig, ax = plt.subplots(figsize=(10, 7))\n",
    "fig.canvas.header_visible = False\n",
    "ax.axis('off')\n",
    "ax.set_title('{} dead / stump street tree clusters in New York'.format(n_clusters),\n",
    "              fontdict={'fontsize': 25})\n",
    "\n",
    "core_samples_mask = np.zeros_like(db.labels_, dtype=bool)\n",
    "core_samples_mask[db.core_sample_indices_] = True\n",
    "colorspectrum = [plt.cm.tab20(each) for each in np.linspace(0, 1, n_clusters)]\n",
    "for k, col in zip(set(db.labels_), colorspectrum):\n",
    "    if k == -1:\n",
    "        col = [0, 0, 0, 1]\n",
    "\n",
    "    class_member_mask = (db.labels_ == k)\n",
    "\n",
    "    xy = dead_trees_locations[class_member_mask & core_samples_mask]\n",
    "    plt.plot(xy[:, 1], xy[:, 0], 'o', markerfacecolor=tuple(col),\n",
    "             markeredgecolor='k', markersize=2)\n",
    "\n",
    "    xy = dead_trees_locations[class_member_mask & ~core_samples_mask]\n",
    "    plt.plot(xy[:, 1], xy[:, 0], 'o', markerfacecolor=tuple(col),\n",
    "             markeredgecolor='k', markersize=1)\n",
    "\n",
    "# Plot boroughs of NYC for context as well.\n",
    "nyc.plot(alpha=0.2, ax=ax, color='grey', edgecolor='k')\n",
    "for borough in nyc.itertuples(index=True, name='bname'):\n",
    "    plt.text(borough.geometry.centroid.x,\n",
    "             borough.geometry.centroid.y,\n",
    "             borough.bname, \n",
    "             bbox=dict(boxstyle='square, pad=0.3',\n",
    "                       edgecolor='k',\n",
    "                       facecolor='white'))"
   ]
  },
  {
   "cell_type": "markdown",
   "metadata": {},
   "source": [
    " "
   ]
  },
  {
   "cell_type": "markdown",
   "metadata": {},
   "source": [
    " "
   ]
  },
  {
   "cell_type": "markdown",
   "metadata": {},
   "source": [
    "# Prepare dataset for next step"
   ]
  },
  {
   "cell_type": "code",
   "execution_count": 4,
   "metadata": {},
   "outputs": [],
   "source": [
    "# Remove irrelevant columns.\n",
    "df.drop(['block_id',\n",
    "         'created_at',\n",
    "         'tree_dbh',\n",
    "         'stump_diam',\n",
    "         'curb_loc',\n",
    "         'spc_latin',\n",
    "         'spc_common',\n",
    "         'user_type',\n",
    "         'problems',\n",
    "         'address',\n",
    "         'postcode',\n",
    "         'zip_city',\n",
    "         'community board',\n",
    "         'borocode',\n",
    "         'borough',\n",
    "         'cncldist',\n",
    "         'st_assem',\n",
    "         'st_senate',\n",
    "         'nta',\n",
    "         'nta_name',\n",
    "         'boro_ct',\n",
    "         'state',\n",
    "         'x_sp',\n",
    "         'y_sp',\n",
    "         'council district',\n",
    "         'census tract',\n",
    "         'bin',\n",
    "         'bbl'],\n",
    "         axis=1,\n",
    "         inplace=True)"
   ]
  },
  {
   "cell_type": "code",
   "execution_count": 5,
   "metadata": {},
   "outputs": [],
   "source": [
    "df.to_csv('./data/data_eda/data.csv.gz', compression='gzip', index=False)"
   ]
  }
 ],
 "metadata": {
  "kernelspec": {
   "display_name": "Python 3",
   "language": "python",
   "name": "python3"
  },
  "language_info": {
   "codemirror_mode": {
    "name": "ipython",
    "version": 3
   },
   "file_extension": ".py",
   "mimetype": "text/x-python",
   "name": "python",
   "nbconvert_exporter": "python",
   "pygments_lexer": "ipython3",
   "version": "3.7.1"
  }
 },
 "nbformat": 4,
 "nbformat_minor": 2
}
