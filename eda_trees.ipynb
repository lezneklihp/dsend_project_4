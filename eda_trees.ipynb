{
 "cells": [
  {
   "cell_type": "code",
   "execution_count": null,
   "metadata": {
    "scrolled": true
   },
   "outputs": [],
   "source": [
    "import geopandas as gpd\n",
    "from geopy.distance import great_circle\n",
    "import matplotlib.pyplot as plt\n",
    "import numpy as np\n",
    "import pandas as pd\n",
    "from pandas_profiling import ProfileReport\n",
    "from shapely.geometry import MultiPoint, Point\n",
    "from sklearn.cluster import DBSCAN\n",
    "import warnings\n",
    "\n",
    "# Set default settings.\n",
    "%matplotlib inline\n",
    "pd.set_option('display.max_columns', None)\n",
    "warnings.filterwarnings('ignore')"
   ]
  },
  {
   "cell_type": "code",
   "execution_count": null,
   "metadata": {},
   "outputs": [],
   "source": [
    "# Read in data on street trees.\n",
    "df = pd.read_csv('https://data.cityofnewyork.us/api/views/uvpi-gqnh/rows.csv?accessType=DOWNLOAD')\n",
    "\n",
    "# Read in geographic data on New York City.\n",
    "nyc = gpd.read_file('./data/data_raw/nyc_boroughs/nyc_geo.shp')\n",
    "nyc_streets = gpd.read_file('./data/data_raw/nyc_streets/geo_export_f311eef5-5969-43eb-a781-39fa54d09b70.shp')"
   ]
  },
  {
   "cell_type": "code",
   "execution_count": null,
   "metadata": {},
   "outputs": [],
   "source": [
    "df.head(1)"
   ]
  },
  {
   "cell_type": "code",
   "execution_count": null,
   "metadata": {
    "scrolled": false
   },
   "outputs": [],
   "source": [
    "# Lazy EDA.\n",
    "prfl = ProfileReport(df.loc[:, 'tree_id':'bbl'], title='Fast EDA', explorative=True)\n",
    "prfl.to_notebook_iframe()"
   ]
  },
  {
   "cell_type": "code",
   "execution_count": null,
   "metadata": {},
   "outputs": [],
   "source": [
    "prfl.to_file('eda_trees_report.html')"
   ]
  },
  {
   "cell_type": "markdown",
   "metadata": {},
   "source": [
    " "
   ]
  },
  {
   "cell_type": "markdown",
   "metadata": {},
   "source": [
    " "
   ]
  },
  {
   "cell_type": "markdown",
   "metadata": {},
   "source": [
    "# Inspecting specific columns"
   ]
  },
  {
   "cell_type": "markdown",
   "metadata": {},
   "source": [
    "### Tree diameter"
   ]
  },
  {
   "cell_type": "code",
   "execution_count": null,
   "metadata": {
    "scrolled": true
   },
   "outputs": [],
   "source": [
    "# Inspect data on tree diameters.\n",
    "df['tree_dbh'].describe()"
   ]
  },
  {
   "cell_type": "code",
   "execution_count": null,
   "metadata": {},
   "outputs": [],
   "source": [
    "df['tree_dbh'] \\\n",
    "    .plot(bins=450, figsize=(10, 6), kind='hist', title='Diameter at breast height of tree', xlim=(0, 100)) \\\n",
    "    .set_xlabel('Diameter')"
   ]
  },
  {
   "cell_type": "markdown",
   "metadata": {},
   "source": [
    " "
   ]
  },
  {
   "cell_type": "markdown",
   "metadata": {},
   "source": [
    " "
   ]
  },
  {
   "cell_type": "markdown",
   "metadata": {},
   "source": [
    "### Tree species"
   ]
  },
  {
   "cell_type": "code",
   "execution_count": null,
   "metadata": {},
   "outputs": [],
   "source": [
    "df['spc_latin'].describe()"
   ]
  },
  {
   "cell_type": "code",
   "execution_count": null,
   "metadata": {},
   "outputs": [],
   "source": [
    "df['spc_latin'].isna().any()"
   ]
  },
  {
   "cell_type": "code",
   "execution_count": null,
   "metadata": {},
   "outputs": [],
   "source": [
    "len(df.loc[df['spc_latin'].isna()])"
   ]
  },
  {
   "cell_type": "code",
   "execution_count": null,
   "metadata": {},
   "outputs": [],
   "source": [
    "len(df.loc[df['health'].isna()])"
   ]
  },
  {
   "cell_type": "code",
   "execution_count": null,
   "metadata": {
    "scrolled": true
   },
   "outputs": [],
   "source": [
    "df.loc[df['spc_latin'].isna()]"
   ]
  },
  {
   "cell_type": "code",
   "execution_count": null,
   "metadata": {},
   "outputs": [],
   "source": [
    "df.loc[(df['spc_latin'].isna()) & (~df['health'].isna())]"
   ]
  },
  {
   "cell_type": "code",
   "execution_count": null,
   "metadata": {},
   "outputs": [],
   "source": [
    "# Finding: Tree species where the value is missing are mostly dead or stump trees with few (n = 5) exceptions."
   ]
  },
  {
   "cell_type": "markdown",
   "metadata": {},
   "source": [
    " "
   ]
  },
  {
   "cell_type": "markdown",
   "metadata": {},
   "source": [
    " "
   ]
  },
  {
   "cell_type": "markdown",
   "metadata": {},
   "source": [
    "# Inspecting missing values"
   ]
  },
  {
   "cell_type": "code",
   "execution_count": null,
   "metadata": {},
   "outputs": [],
   "source": [
    "# Replace NaN values in features with entries signalling this tree is either dead or a stump.\n",
    "df['steward'].fillna('Dead|Stump', inplace=True)\n",
    "df['guards'].fillna('Dead|Stump', inplace=True)\n",
    "df['sidewalk'].fillna('Dead|Stump', inplace=True)\n",
    "\n",
    "# In 'steward', replace spectrum of answers to yes (= alive) or no (= dead/stump).\n",
    "df['steward'].replace(['1or2', '3or4', '4orMore', 'None'], 'Alive', inplace=True)\n",
    "\n",
    "# Replace NaN values in the target with entries signalling this tree is either dead or a stump.\n",
    "df['health'].fillna('Dead|Stump', inplace=True)"
   ]
  },
  {
   "cell_type": "markdown",
   "metadata": {},
   "source": [
    " "
   ]
  },
  {
   "cell_type": "markdown",
   "metadata": {},
   "source": [
    " "
   ]
  },
  {
   "cell_type": "markdown",
   "metadata": {},
   "source": [
    "# Geographic analysis"
   ]
  },
  {
   "cell_type": "code",
   "execution_count": null,
   "metadata": {},
   "outputs": [],
   "source": [
    "# Bring geographic data on boroughs and street trees in NYC into a new format.\n",
    "trees = gpd.GeoDataFrame(df, geometry=[Point(coordinates) for coordinates in zip(df['longitude'], df['latitude'])])\n",
    "trees.crs = {'init': 'epsg:4326', 'no_defs': True}\n",
    "nyc = nyc.to_crs(epsg=4326)\n",
    "nyc.crs = {'init': 'epsg:4326', 'no_defs': True}"
   ]
  },
  {
   "cell_type": "code",
   "execution_count": null,
   "metadata": {},
   "outputs": [],
   "source": [
    "# Prepare geographic data on trees and boroughs in NYC.\n",
    "trees_grouped = trees.groupby('borough').count()['tree_id']\n",
    "trees_per_borough = nyc.merge(trees_grouped, left_on='bname', right_index=True)\n",
    "tree_counts_borough = trees_per_borough[['bname', 'tree_id']].sort_values('tree_id')"
   ]
  },
  {
   "cell_type": "markdown",
   "metadata": {},
   "source": [
    "# Question: Which borough of New York has the most streets trees?"
   ]
  },
  {
   "cell_type": "code",
   "execution_count": null,
   "metadata": {},
   "outputs": [],
   "source": [
    "fig, axs = plt.subplots(ncols=2, figsize=(15,5))\n",
    "\n",
    "fig.suptitle('Count of street trees per borough in New York', fontsize=18)\n",
    "\n",
    "fig.subplots_adjust(wspace=0.3)\n",
    "\n",
    "# Plot chloropleth of count of street trees per NYC borough.\n",
    "fig1 = trees_per_borough.plot(ax=axs[0],\n",
    "                              column='tree_id',\n",
    "                              alpha=0.7,\n",
    "                              cmap='Greens',\n",
    "                              edgecolor='k',\n",
    "                              linewidth=0.3)\n",
    "\n",
    "axs[0].axis('off')\n",
    "\n",
    "# Add names of NYC Boroughs to the center of each polygon.\n",
    "for borough in trees_per_borough.itertuples(index=True, name='bname'):\n",
    "    axs[0].text(borough.geometry.centroid.x,\n",
    "                borough.geometry.centroid.y,\n",
    "                borough.bname,\n",
    "                fontsize=13,\n",
    "                bbox={\n",
    "                  'boxstyle': 'square, pad=0.3',\n",
    "                  'edgecolor': 'k',\n",
    "                  'facecolor': 'white'\n",
    "                  })\n",
    "\n",
    "# Create a horizontal barchart for the number of trees per NYC borough.\n",
    "fig2 = tree_counts_borough['tree_id'].plot(ax=axs[1],\n",
    "                                           kind='barh',\n",
    "                                           color='green',\n",
    "                                           width=0.6,\n",
    "                                           edgecolor='k',\n",
    "                                           linewidth=0.6)\n",
    "fig2.set_yticklabels(tree_counts_borough['bname'])\n",
    "fig2.spines['left'].set_linewidth(3)\n",
    "fig2.tick_params(axis='both', which='major', labelsize=13)"
   ]
  },
  {
   "cell_type": "markdown",
   "metadata": {},
   "source": [
    "# Question: Which borough has the most diverse street tree flora?"
   ]
  },
  {
   "cell_type": "code",
   "execution_count": null,
   "metadata": {},
   "outputs": [],
   "source": [
    "fig, axs = plt.subplots(ncols=2, figsize=(15,5))\n",
    "\n",
    "fig.suptitle('Count of street tree species per borough in New York', fontsize=18)\n",
    "\n",
    "fig.subplots_adjust(wspace=0.3)\n",
    "\n",
    "# Determine the number of street tree species per borough.\n",
    "trees_species_grouped = trees.groupby(['borough', 'spc_common']) \\\n",
    "                             .count()[['tree_id']] \\\n",
    "                             .sort_values(['borough', 'tree_id'], \n",
    "                                          ascending=False)\n",
    "\n",
    "tree_species_count_per_borough = pd.Series([len(trees_species_grouped.loc['Bronx']),\n",
    "                                            len(trees_species_grouped.loc['Brooklyn']),\n",
    "                                            len(trees_species_grouped.loc['Manhattan']),\n",
    "                                            len(trees_species_grouped.loc['Staten Island']),\n",
    "                                            len(trees_species_grouped.loc['Queens'])],\n",
    "                                          index=['Bronx', 'Brooklyn', 'Manhattan', 'Staten Island', 'Queens']) \\\n",
    "                                    .sort_values()\n",
    "\n",
    "tree_species_count_per_borough.name = 'species_count'\n",
    "\n",
    "trees_species_grouped_per_borough = nyc.merge(tree_species_count_per_borough,\n",
    "                                              left_on='bname',\n",
    "                                              right_index=True)\n",
    "\n",
    "# Plot chloropleth of count of street tree species of each NYC borough.\n",
    "fig3 = trees_species_grouped_per_borough.plot(ax=axs[0],\n",
    "                                              column='species_count',\n",
    "                                              alpha=0.7,\n",
    "                                              cmap='summer_r',\n",
    "                                              edgecolor='k',\n",
    "                                              linewidth=0.3)\n",
    "axs[0].axis('off')\n",
    "# Add names of NYC Boroughs to the center of each polygon.\n",
    "for borough in trees_per_borough.itertuples(index=True, name='bname'):\n",
    "    axs[0].text(borough.geometry.centroid.x,\n",
    "                borough.geometry.centroid.y,\n",
    "                borough.bname,\n",
    "                fontsize=13,\n",
    "                bbox={\n",
    "                  'boxstyle': 'square, pad=0.3',\n",
    "                  'edgecolor': 'k',\n",
    "                  'facecolor': 'white'\n",
    "                  })\n",
    "\n",
    "# Create a horizontal barchart for the number of street tree species per borough in NYC.\n",
    "fig4 = tree_species_count_per_borough.plot(ax=axs[1],\n",
    "                                           kind='barh',\n",
    "                                           color='lightskyblue',\n",
    "                                           width=0.6,\n",
    "                                           edgecolor='k',\n",
    "                                           linewidth=0.6)\n",
    "\n",
    "# Set other subplot settings.\n",
    "fig4.set_yticklabels(tree_species_count_per_borough.index, fontdict={'fontsize': 13}, rotation=360)\n",
    "fig4.spines['left'].set_linewidth(3)\n",
    "fig4.tick_params(axis='both', which='major', labelsize=13)"
   ]
  },
  {
   "cell_type": "markdown",
   "metadata": {},
   "source": [
    "# Question: In which condition are most of New York's street trees?"
   ]
  },
  {
   "cell_type": "code",
   "execution_count": null,
   "metadata": {},
   "outputs": [],
   "source": [
    "# Find health condition of street trees per borough.\n",
    "trees_health_count = trees.groupby('health').count()['tree_id'].sort_values(ascending=False)\n",
    "\n",
    "# Find unhealthy street trees per borough.\n",
    "trees_grouped_unhealthy = trees.loc[(trees['health']=='Fair') |\n",
    "                                    (trees['health']=='Dead|Stump') |\n",
    "                                    (trees['health']=='Poor')] \\\n",
    "                               .groupby('borough') \\\n",
    "                               .count()['tree_id'] \\\n",
    "                               .sort_values()\n",
    "\n",
    "fig, axs = plt.subplots(ncols=2, figsize=(15,5))\n",
    "\n",
    "fig.subplots_adjust(wspace=0.2)\n",
    "\n",
    "# Plot count of streets in their respective health condition.\n",
    "fig5 = trees_health_count.plot(ax=axs[0],\n",
    "                               kind='bar',\n",
    "                               color='navy', \n",
    "                               width=0.6,\n",
    "                               edgecolor='k',\n",
    "                               linewidth=0.6)\n",
    "\n",
    "# Set other plot settings.\n",
    "fig5.set_title('Health condition of street trees in New York', fontsize=18, pad=20)\n",
    "fig5.set_xticklabels(trees_health_count.index, fontdict={'fontsize': 13}, rotation=360)\n",
    "fig5.set_xlabel('')\n",
    "fig5.set_ylabel('Number of trees', fontdict={'fontsize': 13}, labelpad=20)\n",
    "fig5.spines['bottom'].set_linewidth(3)\n",
    "fig5.tick_params(axis='both', which='major', labelsize=13)\n",
    "\n",
    "# Visualize count of trees in an unhealthy condition per borough.\n",
    "fig6 = trees_grouped_unhealthy.plot(ax=axs[1],\n",
    "                                    kind='bar',\n",
    "                                    color='grey', \n",
    "                                    width=0.6,\n",
    "                                    edgecolor='k',\n",
    "                                    linewidth=0.6)\n",
    "\n",
    "# Set other plot settings.\n",
    "fig6.set_title('Count of unhealthy street trees per borough', fontsize=18, pad=20)\n",
    "fig6.set_xticklabels(trees_grouped_unhealthy.index, fontdict={'fontsize': 13}, rotation=360)\n",
    "fig6.set_xlabel('')\n",
    "fig6.set_ylabel('')\n",
    "fig6.spines['bottom'].set_linewidth(3)\n",
    "fig6.tick_params(axis='both', which='major', labelsize=13)"
   ]
  },
  {
   "cell_type": "markdown",
   "metadata": {},
   "source": [
    "# Question: Which street trees might need to be removed?"
   ]
  },
  {
   "cell_type": "code",
   "execution_count": null,
   "metadata": {},
   "outputs": [],
   "source": [
    "# Filter for dead / stump trees.\n",
    "dead_trees = trees.loc[trees['health'] == 'Dead|Stump']\n",
    "dead_trees_locations = dead_trees[['latitude', 'longitude']].values\n",
    "\n",
    "# Find clusters of dead / stump street trees in New York.\n",
    "distance_earth_radius = 0.5 / 6371.0\n",
    "db = DBSCAN(eps=distance_earth_radius,\n",
    "            min_samples=1,\n",
    "            algorithm='ball_tree',\n",
    "            metric='haversine',\n",
    "            n_jobs=-1).fit(np.radians(dead_trees_locations))\n",
    "n_clusters = len(set(db.labels_))\n",
    "clusters = pd.Series([dead_trees_locations[db.labels_ == n] for n in range(n_clusters)])\n",
    "\n",
    "def get_centermost_point(cluster):\n",
    "    \"\"\"\n",
    "    Finds the centroid of a cluster of points.\n",
    "    \n",
    "    Method adapted from author: https://geoffboeing.com/2014/08/clustering-to-reduce-spatial-data-set-size/.\n",
    "    \n",
    "    :param cluster: pandas.core.series.Series: Pairs of geographic coordinates in WGS 84.\n",
    "\n",
    "    :return: pandas.core.series.Series\n",
    "    \"\"\"\n",
    "    \n",
    "    centroid = (MultiPoint(cluster).centroid.x, MultiPoint(cluster).centroid.y)\n",
    "    centermost_point = min(cluster, key=lambda point: great_circle(point, centroid).m)\n",
    "    centermost_point_coords = tuple(centermost_point)\n",
    "    \n",
    "    return centermost_point_coords\n",
    "\n",
    "clusters_centers = clusters.map(get_centermost_point)\n",
    "\n",
    "# Plot clusters.\n",
    "fig, ax = plt.subplots(figsize=(10, 7))\n",
    "fig.canvas.header_visible = False\n",
    "ax.axis('off')\n",
    "ax.set_title('{} dead / stump street tree clusters in New York'.format(n_clusters),\n",
    "              fontdict={'fontsize': 25})\n",
    "\n",
    "core_samples_mask = np.zeros_like(db.labels_, dtype=bool)\n",
    "core_samples_mask[db.core_sample_indices_] = True\n",
    "colorspectrum = [plt.cm.tab20(each) for each in np.linspace(0, 1, n_clusters)]\n",
    "for k, col in zip(set(db.labels_), colorspectrum):\n",
    "    if k == -1:\n",
    "        col = [0, 0, 0, 1]\n",
    "\n",
    "    class_member_mask = (db.labels_ == k)\n",
    "\n",
    "    xy = dead_trees_locations[class_member_mask & core_samples_mask]\n",
    "    plt.plot(xy[:, 1], xy[:, 0], 'o', markerfacecolor=tuple(col),\n",
    "             markeredgecolor='k', markersize=2)\n",
    "\n",
    "    xy = dead_trees_locations[class_member_mask & ~core_samples_mask]\n",
    "    plt.plot(xy[:, 1], xy[:, 0], 'o', markerfacecolor=tuple(col),\n",
    "             markeredgecolor='k', markersize=1)\n",
    "\n",
    "# Plot boroughs of NYC for context as well.\n",
    "nyc.plot(alpha=0.2, ax=ax, color='grey', edgecolor='k')\n",
    "for borough in nyc.itertuples(index=True, name='bname'):\n",
    "    plt.text(borough.geometry.centroid.x,\n",
    "             borough.geometry.centroid.y,\n",
    "             borough.bname, \n",
    "             bbox=dict(boxstyle='square, pad=0.3',\n",
    "                       edgecolor='k',\n",
    "                       facecolor='white'))"
   ]
  },
  {
   "cell_type": "markdown",
   "metadata": {},
   "source": [
    " "
   ]
  },
  {
   "cell_type": "markdown",
   "metadata": {},
   "source": [
    " "
   ]
  },
  {
   "cell_type": "markdown",
   "metadata": {},
   "source": [
    "# Prepare dataset for next step"
   ]
  },
  {
   "cell_type": "code",
   "execution_count": null,
   "metadata": {},
   "outputs": [],
   "source": [
    "# Remove irrelevant columns.\n",
    "df.drop(['block_id',\n",
    "         'created_at',\n",
    "         'tree_dbh',\n",
    "         'stump_diam',\n",
    "         'curb_loc',\n",
    "         'spc_latin',\n",
    "         'spc_common',\n",
    "         'user_type',\n",
    "         'problems',\n",
    "         'address',\n",
    "         'postcode',\n",
    "         'zip_city',\n",
    "         'community board',\n",
    "         'borocode',\n",
    "         'borough',\n",
    "         'cncldist',\n",
    "         'st_assem',\n",
    "         'st_senate',\n",
    "         'nta',\n",
    "         'nta_name',\n",
    "         'boro_ct',\n",
    "         'state',\n",
    "         'x_sp',\n",
    "         'y_sp',\n",
    "         'council district',\n",
    "         'census tract',\n",
    "         'bin',\n",
    "         'bbl'],\n",
    "         axis=1,\n",
    "         inplace=True)"
   ]
  },
  {
   "cell_type": "code",
   "execution_count": null,
   "metadata": {},
   "outputs": [],
   "source": [
    "df.to_csv('./data/data_eda/data.csv.gz', compression='gzip', index=False)"
   ]
  }
 ],
 "metadata": {
  "kernelspec": {
   "display_name": "Python 3",
   "language": "python",
   "name": "python3"
  },
  "language_info": {
   "codemirror_mode": {
    "name": "ipython",
    "version": 3
   },
   "file_extension": ".py",
   "mimetype": "text/x-python",
   "name": "python",
   "nbconvert_exporter": "python",
   "pygments_lexer": "ipython3",
   "version": "3.7.1"
  }
 },
 "nbformat": 4,
 "nbformat_minor": 2
}
