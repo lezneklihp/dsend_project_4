{
 "cells": [
  {
   "cell_type": "markdown",
   "metadata": {},
   "source": [
    "TODO:\n",
    "    - changes over time for trees in the same area as a feature?\n",
    "    - add here: test run with rdf for feature importance"
   ]
  },
  {
   "cell_type": "code",
   "execution_count": null,
   "metadata": {},
   "outputs": [],
   "source": [
    "# Import third-party packages.\n",
    "import datetime\n",
    "import geopandas as gpd\n",
    "from geopy.distance import geodesic\n",
    "import matplotlib.pyplot as plt\n",
    "import numpy as np\n",
    "import pandas as pd\n",
    "from scipy.spatial import cKDTree\n",
    "\n",
    "%matplotlib inline\n",
    "\n",
    "# Change display settings for dataframes.\n",
    "pd.set_option('display.max_columns', None)"
   ]
  },
  {
   "cell_type": "code",
   "execution_count": null,
   "metadata": {},
   "outputs": [],
   "source": [
    "# Read in data on street trees.\n",
    "df_1995 = pd.read_csv('./data/nyc_trees/nyc_tree_census_1995.csv.gz', compression='gzip')\n",
    "df_2005 = pd.read_csv('./data/nyc_trees/nyc_tree_census_2005.csv.gz', compression='gzip')\n",
    "df_2015 = pd.read_csv('./data/nyc_trees/nyc_tree_census_2015.csv.gz', compression='gzip')\n",
    "df_1995.drop('Unnamed: 0', axis=1, inplace=True)\n",
    "df_2005.drop('Unnamed: 0', axis=1, inplace=True)\n",
    "df_2015.drop('Unnamed: 0', axis=1, inplace=True)\n",
    "\n",
    "# Read in geographic data on New York City.\n",
    "nyc = gpd.read_file('./data/nyc/nyc_geo.shp')"
   ]
  },
  {
   "cell_type": "code",
   "execution_count": null,
   "metadata": {},
   "outputs": [],
   "source": [
    "df = df_2015.copy()"
   ]
  },
  {
   "cell_type": "markdown",
   "metadata": {},
   "source": [
    "## Imputing or aggregating existing features"
   ]
  },
  {
   "cell_type": "code",
   "execution_count": null,
   "metadata": {},
   "outputs": [],
   "source": [
    "# Replace NaN values in features with entries signalling this tree is either dead or a stump.\n",
    "df['steward'].fillna('Dead|Stump', inplace=True)\n",
    "df['guards'].fillna('Dead|Stump', inplace=True)\n",
    "\n",
    "# In 'steward', replace spectrum of answers to yes (= alive) or no (= dead/stump).\n",
    "df['steward'].replace(['1or2', '3or4', '4orMore', 'None'], 'Alive', inplace=True)\n",
    "\n",
    "# Replace NaN values in the target with entries signalling this tree is either dead or a stump.\n",
    "df['health'].fillna('Dead|Stump', inplace=True)"
   ]
  },
  {
   "cell_type": "markdown",
   "metadata": {},
   "source": [
    "## Creating a new feature n_neighbors: The number of trees in a tree's proximity. "
   ]
  },
  {
   "cell_type": "code",
   "execution_count": null,
   "metadata": {},
   "outputs": [],
   "source": [
    "# Turn geographic coordinates into Shapely objects.\n",
    "trees = gpd.GeoDataFrame(df, geometry=[Point(coordinates) for coordinates in zip(df['longitude'], df['latitude'])])\n",
    "\n",
    "# Define CRS as WGS-84, then switch to a metric CRS.\n",
    "trees.crs = {'init': 'epsg:4326', 'no_defs': True}\n",
    "trees = trees.to_crs(epsg=3857)\n",
    "trees.crs = {'init': 'epsg:3857', 'no_defs': True}\n",
    "\n",
    "# Create circles with a 20m radius around each tree location. But since the radius of a tree might just touch another circle,\n",
    "# the maximum distance between such trees should be 20m and thus a radius of 10m each.\n",
    "buffers = trees.buffer(10)\n",
    "\n",
    "# Set the Shapely objects for the circle to be in the WGS-84 CRS.\n",
    "buffers = buffers.to_crs(epsg=4326)\n",
    "buffers.crs = {'init': 'epsg:4326', 'no_defs': True}\n",
    "\n",
    "# Switch the CRS again back to WGS-84.\n",
    "trees = trees.to_crs(epsg=4326)\n",
    "trees.crs = {'init': 'epsg:4326', 'no_defs': True}"
   ]
  },
  {
   "cell_type": "code",
   "execution_count": null,
   "metadata": {},
   "outputs": [],
   "source": [
    "# Turn the GeoSeries for the circles into a dataframe for a later sjoin.\n",
    "circles = gpd.GeoDataFrame(buffers, geometry=buffers)\n",
    "circles.rename(columns={0:'circles'}, inplace=True)\n",
    "\n",
    "# Spatial join to find neighboring trees.\n",
    "neighbors = gpd.sjoin(trees, gpd.GeoDataFrame(circles), how='right', op='intersects')\n",
    "\n",
    "# Drop irrelevant columns.\n",
    "neighbors.drop('index_right', axis=1, inplace=True)\n",
    "#neighbors.drop_duplicates(inplace=True)"
   ]
  },
  {
   "cell_type": "code",
   "execution_count": null,
   "metadata": {},
   "outputs": [],
   "source": [
    "# Count neighboring trees per tree.\n",
    "n_neighbors = neighbors.groupby('tree_id').count()\n",
    "\n",
    "# Add tree counts to data of each tree.\n",
    "df_new = pd.merge(df, n_neighbors[['circles']], on='tree_id', right_index=True)\n",
    "df_new.rename(columns={'circles': 'n_neighbors'}, inplace=True)\n",
    "\n",
    "# Encode the feature on the number of neighboring trees.\n",
    "df_new.loc[df_new['n_neighbors'] == 1, 'n_neighbors'] = 0.1\n",
    "df_new.loc[((df_new['n_neighbors'] >= 2) & (df_new['n_neighbors'] <= 3)), 'n_neighbors'] = 0.2\n",
    "df_new.loc[df_new['n_neighbors'] >= 4, 'n_neighbors'] = 0.3\n",
    "df_new.loc[df_new['n_neighbors'] == 0.1, 'n_neighbors'] = \"no neighbor\"\n",
    "df_new.loc[df_new['n_neighbors'] == 0.2, 'n_neighbors'] = \"two or three neighbors\"\n",
    "df_new.loc[df_new['n_neighbors'] == 0.3, 'n_neighbors'] = \"more than three neighbors\""
   ]
  },
  {
   "cell_type": "markdown",
   "metadata": {},
   "source": [
    "## Feature selection"
   ]
  },
  {
   "cell_type": "code",
   "execution_count": null,
   "metadata": {},
   "outputs": [],
   "source": [
    "# Selecting features and the target ('health').\n",
    "df_sel = df_new[['tree_id',\n",
    "                 'steward',\n",
    "                 'guards',\n",
    "                 'root_stone',\n",
    "                 'root_grate',\n",
    "                 'root_other',\n",
    "                 'trunk_wire',\n",
    "                 'trnk_light',\n",
    "                 'trnk_other',\n",
    "                 'brch_light',\n",
    "                 'brch_shoe',\n",
    "                 'brch_other',\n",
    "                 'n_neighbors',\n",
    "                 'health']]\n",
    "\n",
    "# One-hot encoding the categorical features and the target.\n",
    "df_sel_enc = pd.get_dummies(df_sel)"
   ]
  },
  {
   "cell_type": "code",
   "execution_count": null,
   "metadata": {},
   "outputs": [],
   "source": [
    "# Search for correlations between features (and target) categories.\n",
    "corrmat = df_sel_enc.corr()\n",
    "plt.subplots(figsize=(25,20))\n",
    "sns.heatmap(corrmat, annot=False)\n",
    "plt.show()"
   ]
  },
  {
   "cell_type": "code",
   "execution_count": null,
   "metadata": {},
   "outputs": [],
   "source": [
    "# Conduct stratified splitting of the dataset.\n",
    "x_train, x_test, y_train, y_test = train_test_split(x, y, test_size=0.2, stratify=y)"
   ]
  },
  {
   "cell_type": "code",
   "execution_count": null,
   "metadata": {},
   "outputs": [],
   "source": [
    "# Training & pruning with model-based feature selection.\n",
    "rdf_clf_sm = SelectFromModel(RandomForestClassifier(random_state=0), threshold='median')\n",
    "rdf_clf_sm.fit(x_train, y_train)\n",
    "x_train_fs = rdf_clf_sm.transform(x_train)\n",
    "x_test_fs = rdf_clf_sm.transform(x_test)\n",
    "\n",
    "rdf_clf_n = RandomForestClassifier(random_state=0).fit(x_train_fs, y_train)\n",
    "y_pred_fs = rdf_clf_n.predict(x_test_fs)\n",
    "accuracy = rdf_clf_n.score(x_test_fs, y_test)\n",
    "print(\"Accuracy score:\", accuracy)"
   ]
  },
  {
   "cell_type": "markdown",
   "metadata": {},
   "source": [
    "## Export feature / target dataframe as .csv file"
   ]
  },
  {
   "cell_type": "code",
   "execution_count": null,
   "metadata": {},
   "outputs": [],
   "source": [
    "df_sel_enc.to_csv('./data_preprocessed/features.csv', index=False)"
   ]
  }
 ],
 "metadata": {
  "kernelspec": {
   "display_name": "Python 3",
   "language": "python",
   "name": "python3"
  },
  "language_info": {
   "codemirror_mode": {
    "name": "ipython",
    "version": 3
   },
   "file_extension": ".py",
   "mimetype": "text/x-python",
   "name": "python",
   "nbconvert_exporter": "python",
   "pygments_lexer": "ipython3",
   "version": "3.7.1"
  }
 },
 "nbformat": 4,
 "nbformat_minor": 2
}
