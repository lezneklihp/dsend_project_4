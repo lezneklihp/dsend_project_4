{
 "cells": [
  {
   "cell_type": "code",
   "execution_count": 1,
   "metadata": {},
   "outputs": [],
   "source": [
    "import geopandas as gpd\n",
    "import ipympl\n",
    "from ipywidgets import AppLayout, Dropdown\n",
    "import matplotlib.pyplot as plt\n",
    "import pandas as pd\n",
    "from shapely.geometry import Point\n",
    "\n",
    "%matplotlib widget\n",
    "plt.ioff()"
   ]
  },
  {
   "cell_type": "code",
   "execution_count": 2,
   "metadata": {},
   "outputs": [
    {
     "name": "stderr",
     "output_type": "stream",
     "text": [
      "C:\\ProgramData\\Anaconda3\\lib\\site-packages\\pyproj\\crs.py:77: FutureWarning: '+init=<authority>:<code>' syntax is deprecated. '<authority>:<code>' is the preferred initialization method.\n",
      "  return _prepare_from_string(\" \".join(pjargs))\n"
     ]
    }
   ],
   "source": [
    "# Import data. TODO: Outsource to one location to increase Voila serving process.\n",
    "df_enc = pd.read_csv('./data/data_preprocessed/features.csv')\n",
    "df = pd.read_csv('./data/data_raw/nyc_trees/nyc_tree_census_2015.csv.gz', compression='gzip')\n",
    "nyc = gpd.read_file('./data/data_raw/nyc/nyc_geo.shp')\n",
    "nyc_streets = gpd.read_file('./data/data_raw/nyc_streets/geo_export_f311eef5-5969-43eb-a781-39fa54d09b70.shp')\n",
    "\n",
    "# Bring data into right format.\n",
    "trees = gpd.GeoDataFrame(df, geometry=[Point(coordinates) for coordinates in zip(df['longitude'], df['latitude'])])\n",
    "trees.crs = {'init': 'epsg:4326', 'no_defs': True}\n",
    "nyc = nyc.to_crs(epsg=4326)\n",
    "nyc.crs = {'init': 'epsg:4326', 'no_defs': True}\n",
    "trees_grouped = trees.groupby('borough').count()['tree_id']\n",
    "#trees_per_borough = nyc.merge(trees_grouped, left_on='bname', right_index=True)"
   ]
  },
  {
   "cell_type": "code",
   "execution_count": 3,
   "metadata": {
    "scrolled": false
   },
   "outputs": [
    {
     "data": {
      "application/vnd.jupyter.widget-view+json": {
       "model_id": "54a92308d99448d88877e84075f4c1d1",
       "version_major": 2,
       "version_minor": 0
      },
      "text/plain": [
       "AppLayout(children=(Dropdown(description='Display:', layout=Layout(grid_area='footer', margin='0px 30% 0px 30%…"
      ]
     },
     "metadata": {},
     "output_type": "display_data"
    }
   ],
   "source": [
    "# Specifiy dropdown menu for displaying trees.\n",
    "sel_boroughs = Dropdown(options=[('All street trees', 1),\n",
    "                                 ('Healthy street trees', 2),\n",
    "                                 ('Dead street trees', 3),\n",
    "                                 ('Ok street trees', 4)],\n",
    "                        value=1,\n",
    "                        description='Display:')\n",
    "sel_boroughs.layout.margin = '0px 30% 0px 30%'\n",
    "sel_boroughs.layout.width = '40%'\n",
    "sel_boroughs.layout.padding = '2.0'\n",
    "\n",
    "fig, ax = plt.subplots()\n",
    "fig.canvas.header_visible = False\n",
    "plt.title('Street trees in New York',\n",
    "           fontdict={'fontsize': 25},\n",
    "           pad=2.5)\n",
    "fig.canvas.layout.min_height = '400px'\n",
    "ax.axis('off')\n",
    "\n",
    "# Plot NYC boroughs, streets, and trees.\n",
    "nyc.plot(alpha=0.7, ax=ax, color='grey', edgecolor='k')\n",
    "for borough in nyc.itertuples(index=True, name='bname'):\n",
    "    plt.text(borough.geometry.centroid.x,\n",
    "             borough.geometry.centroid.y,\n",
    "             borough.bname, \n",
    "             bbox=dict(boxstyle='square, pad=0.3',\n",
    "                       edgecolor='k',\n",
    "                       facecolor='white'))\n",
    "\n",
    "# Plot streets for additional context.\n",
    "nyc_streets.plot(ax=ax, alpha=0.2, color='grey')\n",
    "tree_visual = trees.plot(ax=ax, alpha=1, color='white', edgecolor='white', markersize=1.4)\n",
    "\n",
    "def update_view(change, tree_visual=tree_visual):\n",
    "    \"\"\"\n",
    "    Updates the figure drawn above.\n",
    "    \"\"\"\n",
    "    \n",
    "    if change.new == 2:\n",
    "        tree_visual = trees.loc[df_enc.loc[df_enc['health_Good']==1].index]\n",
    "        tree_visual.plot(ax=ax, color='green', edgecolor='green', markersize=1.4)\n",
    "    elif change.new == 3:\n",
    "        tree_visual = trees.loc[df_enc.loc[df_enc['health_Dead|Stump']==1].index]\n",
    "        tree_visual.plot(ax=ax, color='red', edgecolor='red', markersize=1.4)\n",
    "    elif change.new == 4:\n",
    "        tree_visual = trees.loc[df_enc.loc[df_enc['health_Poor|Fair']==1].index]\n",
    "        tree_visual.plot(ax=ax, color='orange', edgecolor='orange', markersize=1.4)\n",
    "    else:\n",
    "        tree_visual = trees.plot(ax=ax, alpha=1, color='white', edgecolor='white', markersize=1.4)\n",
    "        fig.canvas.draw()\n",
    "    \n",
    "    return tree_visual\n",
    "    \n",
    "sel_boroughs.observe(update_view, names='value')\n",
    "\n",
    "AppLayout(center=fig.canvas,\n",
    "          footer=sel_boroughs,\n",
    "          pane_heights=[0, 10, 2])"
   ]
  }
 ],
 "metadata": {
  "kernelspec": {
   "display_name": "Python 3",
   "language": "python",
   "name": "python3"
  },
  "language_info": {
   "codemirror_mode": {
    "name": "ipython",
    "version": 3
   },
   "file_extension": ".py",
   "mimetype": "text/x-python",
   "name": "python",
   "nbconvert_exporter": "python",
   "pygments_lexer": "ipython3",
   "version": "3.7.1"
  }
 },
 "nbformat": 4,
 "nbformat_minor": 2
}
