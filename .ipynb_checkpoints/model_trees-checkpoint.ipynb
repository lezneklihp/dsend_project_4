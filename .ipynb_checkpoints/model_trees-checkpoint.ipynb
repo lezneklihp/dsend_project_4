{
 "cells": [
  {
   "cell_type": "code",
   "execution_count": null,
   "metadata": {},
   "outputs": [],
   "source": [
    "# Multiclass classification\n",
    "\n",
    "# nonlinear classifier - the RandomForestClassifier. It requires little hyperparameter tuning.\n",
    "\n",
    "# No need for imputing the missing data --> data description.\n",
    "\n",
    "# Problem: You can't see every tree.. predict the health of the tree."
   ]
  },
  {
   "cell_type": "code",
   "execution_count": 1,
   "metadata": {},
   "outputs": [],
   "source": [
    "# Import third-party packages.\n",
    "import datetime\n",
    "import matplotlib.pyplot as plt\n",
    "import numpy as np\n",
    "import pandas as pd\n",
    "from sklearn.ensemble import AdaBoostClassifier, RandomForestClassifier\n",
    "from sklearn.feature_selection import SelectFromModel, RFE\n",
    "from sklearn.metrics import accuracy_score, classification_report, f1_score\n",
    "from sklearn.model_selection import train_test_split, GridSearchCV, cross_val_score\n",
    "\n",
    "%matplotlib inline"
   ]
  },
  {
   "cell_type": "code",
   "execution_count": 2,
   "metadata": {
    "scrolled": false
   },
   "outputs": [
    {
     "name": "stderr",
     "output_type": "stream",
     "text": [
      "C:\\ProgramData\\Anaconda3\\lib\\site-packages\\IPython\\core\\interactiveshell.py:3051: DtypeWarning: Columns (38) have mixed types.Specify dtype option on import or set low_memory=False.\n",
      "  interactivity=interactivity, compiler=compiler, result=result)\n"
     ]
    }
   ],
   "source": [
    "# Read in data on trees.\n",
    "df_1995 = pd.read_csv('./data/nyc_trees/nyc_tree_census_1995.csv.gz', compression='gzip')\n",
    "df_2005 = pd.read_csv('./data/nyc_trees/nyc_tree_census_2005.csv.gz', compression='gzip')\n",
    "df_2015 = pd.read_csv('./data/nyc_trees/nyc_tree_census_2015.csv.gz', compression='gzip')\n",
    "df_1995.drop('Unnamed: 0', axis=1, inplace=True)\n",
    "df_2005.drop('Unnamed: 0', axis=1, inplace=True)\n",
    "df_2015.drop('Unnamed: 0', axis=1, inplace=True)"
   ]
  },
  {
   "cell_type": "code",
   "execution_count": 3,
   "metadata": {},
   "outputs": [],
   "source": [
    "test = df_2015.copy()"
   ]
  },
  {
   "cell_type": "code",
   "execution_count": 4,
   "metadata": {
    "scrolled": false
   },
   "outputs": [
    {
     "name": "stderr",
     "output_type": "stream",
     "text": [
      "C:\\Users\\phill\\AppData\\Roaming\\Python\\Python37\\site-packages\\pandas\\core\\generic.py:6245: SettingWithCopyWarning: \n",
      "A value is trying to be set on a copy of a slice from a DataFrame\n",
      "\n",
      "See the caveats in the documentation: https://pandas.pydata.org/pandas-docs/stable/user_guide/indexing.html#returning-a-view-versus-a-copy\n",
      "  self._update_inplace(new_data)\n",
      "C:\\Users\\phill\\AppData\\Roaming\\Python\\Python37\\site-packages\\pandas\\core\\generic.py:6746: SettingWithCopyWarning: \n",
      "A value is trying to be set on a copy of a slice from a DataFrame\n",
      "\n",
      "See the caveats in the documentation: https://pandas.pydata.org/pandas-docs/stable/user_guide/indexing.html#returning-a-view-versus-a-copy\n",
      "  self._update_inplace(new_data)\n"
     ]
    }
   ],
   "source": [
    "df_sel = test[['tree_id',\n",
    "               'steward',\n",
    "               'guards',\n",
    "               'root_stone',\n",
    "               'root_grate',\n",
    "               'root_other',\n",
    "               'trunk_wire',\n",
    "               'trnk_light',\n",
    "               'trnk_other',\n",
    "               'brch_light',\n",
    "               'brch_shoe',\n",
    "               'brch_other',\n",
    "               'health']]\n",
    "\n",
    "# Replace NaN values in features with entries signalling this tree is either dead or a stump.\n",
    "df_sel['steward'].fillna('Dead|Stump', inplace=True)\n",
    "df_sel['guards'].fillna('Dead|Stump', inplace=True)\n",
    "\n",
    "# In 'steward', replace spectrum of answers to yes (= alive) or no (= dead/stump).\n",
    "df_sel['steward'].replace(['1or2', '3or4', '4orMore', 'None'], 'Alive', inplace=True)\n",
    "\n",
    "# Replace NaN values in the target with entries signalling this tree is either dead or a stump.\n",
    "df_sel['health'].fillna('Dead|Stump', inplace=True)\n",
    "\n",
    "# One-hot encoding the categorical features and the target.\n",
    "df_sel_enc = pd.get_dummies(df_sel)"
   ]
  },
  {
   "cell_type": "code",
   "execution_count": 5,
   "metadata": {},
   "outputs": [],
   "source": [
    "x = df_sel_enc[list(df_sel_enc.columns)[1:26]]\n",
    "y = df_sel_enc[list(df_sel_enc.columns)[26:]]\n",
    "\n",
    "# Split into train, test, and validation datasets.\n",
    "x_train_vali, x_test, y_train_vali, y_test = train_test_split(x, y, random_state=0)\n",
    "x_train, x_vali, y_train, y_vali = train_test_split(x_train_vali, y_train_vali, random_state=0)"
   ]
  },
  {
   "cell_type": "code",
   "execution_count": 6,
   "metadata": {},
   "outputs": [
    {
     "name": "stdout",
     "output_type": "stream",
     "text": [
      "0.8152058825249932\n"
     ]
    }
   ],
   "source": [
    "rdf_clf = RandomForestClassifier()\n",
    "rdf_clf.fit(x_train, y_train)\n",
    "y_pred = rdf_clf.predict(x_test)\n",
    "print(accuracy_score(y_test, y_pred))"
   ]
  },
  {
   "cell_type": "code",
   "execution_count": 20,
   "metadata": {
    "scrolled": true
   },
   "outputs": [
    {
     "name": "stdout",
     "output_type": "stream",
     "text": [
      "Accuracy score: 0.819248071039562\n"
     ]
    }
   ],
   "source": [
    "# Training & pruning with model-based feature selection.\n",
    "rdf_clf = SelectFromModel(RandomForestClassifier(random_state=0))\n",
    "rdf_clf.fit(x_train, y_train)\n",
    "x_train_fs = rdf_clf.transform(x_train)\n",
    "x_test_fs = rdf_clf.transform(x_test)\n",
    "rdf_clf_n = RandomForestClassifier(random_state=0).fit(x_train_fs, y_train)\n",
    "accuracy = rdf_clf_n.score(x_test_fs, y_test)\n",
    "print(\"Accuracy score:\", accuracy)"
   ]
  },
  {
   "cell_type": "code",
   "execution_count": 22,
   "metadata": {},
   "outputs": [
    {
     "name": "stdout",
     "output_type": "stream",
     "text": [
      "                   precision    recall  f1-score   support\n",
      "\n",
      "health_Dead|Stump       1.00      1.00      1.00      8000\n",
      "      health_Fair       0.34      0.00      0.00     24284\n",
      "      health_Good       0.82      0.99      0.90    132049\n",
      "      health_Poor       0.00      0.00      0.00      6614\n",
      "\n",
      "        micro avg       0.82      0.82      0.82    170947\n",
      "        macro avg       0.54      0.50      0.47    170947\n",
      "     weighted avg       0.73      0.82      0.74    170947\n",
      "      samples avg       0.82      0.82      0.82    170947\n",
      "\n",
      "F1-score of positive classes: [0.9999375  0.00164325]\n",
      "F1-score (micro): 0.39756079422919616\n",
      "F1-score (macro): 0.5007903732213483\n",
      "F1-score (weighted): 0.24902133131668303\n",
      "Old accuracy score: 0.8152058825249932\n"
     ]
    }
   ],
   "source": [
    "print(classification_report(y_test, y_pred, target_names=y.columns))\n",
    "print(\"F1-score of positive classes:\", f1_score(y_test, y_pred, labels=np.unique(y_pred), average=None))\n",
    "print(\"F1-score (micro):\", f1_score(y_test, y_pred, labels=np.unique(y_pred), average='micro'))\n",
    "print(\"F1-score (macro):\", f1_score(y_test, y_pred, labels=np.unique(y_pred), average='macro'))\n",
    "print(\"F1-score (weighted):\", f1_score(y_test, y_pred, labels=np.unique(y_pred), average='weighted'))\n",
    "print(\"Old accuracy score:\", accuracy_score(y_test, y_pred))"
   ]
  },
  {
   "cell_type": "code",
   "execution_count": null,
   "metadata": {
    "scrolled": true
   },
   "outputs": [],
   "source": [
    "rdf_clf_n.predict([probe])"
   ]
  },
  {
   "cell_type": "code",
   "execution_count": null,
   "metadata": {},
   "outputs": [],
   "source": [
    "parameter_grid = dict(n_estimators=list(range(5000, 6001, 1000)),\n",
    "                      criterion=['gini','entropy'],\n",
    "                      max_features=list(range(1, round(np.sqrt(len(x.columns))).astype(int), 6)))\n",
    "gcv_rdf_clf = GridSearchCV(estimator=rdf_clf, param_grid=parameter_grid, cv=5, verbose=1)"
   ]
  },
  {
   "cell_type": "code",
   "execution_count": null,
   "metadata": {},
   "outputs": [],
   "source": [
    "accuracy_scores = cross_val_score(gcv_rdf_clf, x_train, y_train)\n",
    "accuracy_scores"
   ]
  }
 ],
 "metadata": {
  "kernelspec": {
   "display_name": "Python 3",
   "language": "python",
   "name": "python3"
  },
  "language_info": {
   "codemirror_mode": {
    "name": "ipython",
    "version": 3
   },
   "file_extension": ".py",
   "mimetype": "text/x-python",
   "name": "python",
   "nbconvert_exporter": "python",
   "pygments_lexer": "ipython3",
   "version": "3.7.1"
  }
 },
 "nbformat": 4,
 "nbformat_minor": 2
}
