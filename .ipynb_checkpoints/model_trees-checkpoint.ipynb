{
 "cells": [
  {
   "cell_type": "code",
   "execution_count": null,
   "metadata": {},
   "outputs": [],
   "source": [
    "# Multiclass classification\n",
    "\n",
    "# nonlinear classifier - the RandomForestClassifier. It requires little hyperparameter tuning.\n",
    "\n",
    "# No need for imputing the missing data --> data description.\n",
    "\n",
    "# Problem: You can't see every tree.. predict the health of the tree."
   ]
  },
  {
   "cell_type": "code",
   "execution_count": 1,
   "metadata": {},
   "outputs": [
    {
     "name": "stderr",
     "output_type": "stream",
     "text": [
      "C:\\ProgramData\\Anaconda3\\lib\\site-packages\\statsmodels\\tools\\_testing.py:19: FutureWarning: pandas.util.testing is deprecated. Use the functions in the public API at pandas.testing instead.\n",
      "  import pandas.util.testing as tm\n"
     ]
    }
   ],
   "source": [
    "# Import third-party packages.\n",
    "import datetime\n",
    "import geopandas as gpd\n",
    "import matplotlib.pyplot as plt\n",
    "import numpy as np\n",
    "import pandas as pd\n",
    "from scipy.spatial import cKDTree\n",
    "import seaborn as sns\n",
    "from shapely.geometry import Point\n",
    "from sklearn.ensemble import AdaBoostClassifier, RandomForestClassifier\n",
    "from sklearn.feature_selection import SelectFromModel, RFE\n",
    "from sklearn.metrics import accuracy_score, classification_report, f1_score, precision_recall_fscore_support\n",
    "from sklearn.model_selection import cross_val_score, GridSearchCV, train_test_split\n",
    "\n",
    "%matplotlib inline\n",
    "\n",
    "# Change display settings for dataframes.\n",
    "pd.set_option('display.max_columns', None)\n",
    "pd.set_option('display.max_rows', 500)"
   ]
  },
  {
   "cell_type": "code",
   "execution_count": 2,
   "metadata": {
    "scrolled": false
   },
   "outputs": [],
   "source": [
    "# Read in data on trees.\n",
    "#df_1995 = pd.read_csv('./data/nyc_trees/nyc_tree_census_1995.csv.gz', compression='gzip')\n",
    "#df_2005 = pd.read_csv('./data/nyc_trees/nyc_tree_census_2005.csv.gz', compression='gzip')\n",
    "df_2015 = pd.read_csv('./data/nyc_trees/nyc_tree_census_2015.csv.gz', compression='gzip')\n",
    "#df_1995.drop('Unnamed: 0', axis=1, inplace=True)\n",
    "#df_2005.drop('Unnamed: 0', axis=1, inplace=True)\n",
    "df_2015.drop('Unnamed: 0', axis=1, inplace=True)"
   ]
  },
  {
   "cell_type": "code",
   "execution_count": 18,
   "metadata": {},
   "outputs": [],
   "source": [
    "# Read in geographic data on New York City.\n",
    "nyc = gpd.read_file('./data/nyc/nyc_geo.shp')"
   ]
  },
  {
   "cell_type": "code",
   "execution_count": 28,
   "metadata": {},
   "outputs": [],
   "source": [
    "test = df_2015.copy()"
   ]
  },
  {
   "cell_type": "code",
   "execution_count": 29,
   "metadata": {},
   "outputs": [],
   "source": [
    "test.drop(['block_id', 'created_at', 'tree_dbh', 'stump_diam', 'curb_loc', 'spc_latin', 'spc_common', 'user_type', 'problems', 'address', 'postcode', 'zip_city', 'community board', 'borocode', 'borough', 'cncldist', 'st_assem', 'st_senate', 'nta', 'nta_name', 'boro_ct', 'state', 'x_sp', 'y_sp', 'council district', 'census tract', 'bin', 'bbl'], axis=1, inplace=True)"
   ]
  },
  {
   "cell_type": "code",
   "execution_count": 30,
   "metadata": {},
   "outputs": [],
   "source": [
    "test_geo = gpd.GeoDataFrame(test, geometry=[Point(coordinates) for coordinates in zip(test['longitude'], test['latitude'])])"
   ]
  },
  {
   "cell_type": "code",
   "execution_count": 31,
   "metadata": {},
   "outputs": [
    {
     "name": "stderr",
     "output_type": "stream",
     "text": [
      "C:\\ProgramData\\Anaconda3\\lib\\site-packages\\pyproj\\crs.py:77: FutureWarning: '+init=<authority>:<code>' syntax is deprecated. '<authority>:<code>' is the preferred initialization method.\n",
      "  return _prepare_from_string(\" \".join(pjargs))\n",
      "C:\\ProgramData\\Anaconda3\\lib\\site-packages\\pyproj\\crs.py:77: FutureWarning: '+init=<authority>:<code>' syntax is deprecated. '<authority>:<code>' is the preferred initialization method.\n",
      "  return _prepare_from_string(\" \".join(pjargs))\n",
      "C:\\ProgramData\\Anaconda3\\lib\\site-packages\\pyproj\\crs.py:77: FutureWarning: '+init=<authority>:<code>' syntax is deprecated. '<authority>:<code>' is the preferred initialization method.\n",
      "  return _prepare_from_string(\" \".join(pjargs))\n"
     ]
    }
   ],
   "source": [
    "# Create circles with a 20m radius around each tree location. But since the radius of a tree might just touch another, the\n",
    "# maximum distance between such trees should be 20m and thus a radius of 10m each.\n",
    "test_geo.crs = {'init': 'epsg:4326', 'no_defs': True}\n",
    "test_geo = test_geo.to_crs(epsg=3857)\n",
    "test_geo.crs = {'init': 'epsg:3857', 'no_defs': True}\n",
    "buffers = test_geo.buffer(4.5)\n",
    "test_geo = test_geo.to_crs(epsg=4326)\n",
    "test_geo.crs = {'init': 'epsg:4326', 'no_defs': True}\n",
    "buffers = buffers.to_crs(epsg=4326)\n",
    "buffers.crs = {'init': 'epsg:4326', 'no_defs': True}\n",
    "buffers_gdf = gpd.GeoDataFrame(buffers, geometry=buffers)\n",
    "buffers_gdf.rename(columns={0:'circles'}, inplace=True)"
   ]
  },
  {
   "cell_type": "code",
   "execution_count": 32,
   "metadata": {},
   "outputs": [],
   "source": [
    "res = gpd.sjoin(test_geo, buffers_gdf, how='right')\n",
    "res.drop('index_left', axis=1, inplace=True)"
   ]
  },
  {
   "cell_type": "code",
   "execution_count": 51,
   "metadata": {
    "scrolled": true
   },
   "outputs": [],
   "source": [
    "n_neighbors = res.groupby('tree_id').count()\n",
    "n_neighbors.rename(columns={'circles': 'n_neighbors'}, inplace=True)\n",
    "test_new = pd.merge(test, n_neighbors[['n_neighbors']], on='tree_id', right_index=True)"
   ]
  },
  {
   "cell_type": "code",
   "execution_count": 52,
   "metadata": {
    "scrolled": true
   },
   "outputs": [],
   "source": [
    "res_2 = pd.merge(res, n_neighbors['n_neighbors'], on='tree_id')"
   ]
  },
  {
   "cell_type": "code",
   "execution_count": 53,
   "metadata": {},
   "outputs": [],
   "source": [
    "res_2['circs_lat'] = res_2.geometry.centroid.y.values"
   ]
  },
  {
   "cell_type": "code",
   "execution_count": 54,
   "metadata": {},
   "outputs": [],
   "source": [
    "res_2['circs_long'] = res_2.geometry.centroid.x.values"
   ]
  },
  {
   "cell_type": "code",
   "execution_count": 58,
   "metadata": {},
   "outputs": [],
   "source": [
    "from geopy.distance import geodesic\n",
    "\n",
    "res_2['distance'] = [geodesic((res_2['latitude'].loc[i], res_2['longitude'].loc[i]), (res_2['circs_lat'].loc[i], res_2['circs_long'].loc[i])).meters for i in res_2.index]"
   ]
  },
  {
   "cell_type": "code",
   "execution_count": 70,
   "metadata": {},
   "outputs": [
    {
     "data": {
      "text/plain": [
       "0.025104969768131206"
      ]
     },
     "execution_count": 70,
     "metadata": {},
     "output_type": "execute_result"
    }
   ],
   "source": [
    "# 3m\n",
    "res_2[res_2['circles_y'] > 1]['circles_y'].count() / len(res_2)"
   ]
  },
  {
   "cell_type": "code",
   "execution_count": 71,
   "metadata": {},
   "outputs": [
    {
     "data": {
      "text/plain": [
       "6.91654725740815"
      ]
     },
     "execution_count": 71,
     "metadata": {},
     "output_type": "execute_result"
    }
   ],
   "source": [
    "# Number of neighboring trees in a 3m radius per tree on average.\n",
    "res_2[res_2['circles_y'] > 1]['circles_y'].mean()"
   ]
  },
  {
   "cell_type": "code",
   "execution_count": 72,
   "metadata": {},
   "outputs": [
    {
     "data": {
      "text/plain": [
       "0.7498945668019268"
      ]
     },
     "execution_count": 72,
     "metadata": {},
     "output_type": "execute_result"
    }
   ],
   "source": [
    "# Average distance of a street tree to another street tree in New York.\n",
    "res_2[(res_2['circles_y'] > 1) & (res_2['circs_lat'] != res_2['latitude']) & (res_2['circs_long'] != res_2['longitude'])]['distance_geopy'].mean()"
   ]
  },
  {
   "cell_type": "code",
   "execution_count": 56,
   "metadata": {},
   "outputs": [
    {
     "data": {
      "text/plain": [
       "0.06679096724193123"
      ]
     },
     "execution_count": 56,
     "metadata": {},
     "output_type": "execute_result"
    }
   ],
   "source": [
    "# 4.5m\n",
    "res_2[res_2['n_neighbors'] > 1]['n_neighbors'].count() / len(res_2)"
   ]
  },
  {
   "cell_type": "code",
   "execution_count": 57,
   "metadata": {},
   "outputs": [
    {
     "data": {
      "text/plain": [
       "5.068275456150677"
      ]
     },
     "execution_count": 57,
     "metadata": {},
     "output_type": "execute_result"
    }
   ],
   "source": [
    "# Number of neighboring trees in a 4.5m radius per tree on average.\n",
    "res_2[res_2['n_neighbors'] > 1]['n_neighbors'].mean()"
   ]
  },
  {
   "cell_type": "code",
   "execution_count": 61,
   "metadata": {},
   "outputs": [
    {
     "data": {
      "text/plain": [
       "1.4196490327659852"
      ]
     },
     "execution_count": 61,
     "metadata": {},
     "output_type": "execute_result"
    }
   ],
   "source": [
    "# Average distance of a street tree to another street tree in New York.\n",
    "res_2[(res_2['n_neighbors'] > 1) & \\\n",
    "      (res_2['circs_lat'] != res_2['latitude']) & \\\n",
    "      (res_2['circs_long'] != res_2['longitude'])]['distance'].mean()"
   ]
  },
  {
   "cell_type": "code",
   "execution_count": 118,
   "metadata": {},
   "outputs": [
    {
     "data": {
      "text/plain": [
       "0.4481354879481572"
      ]
     },
     "execution_count": 118,
     "metadata": {},
     "output_type": "execute_result"
    }
   ],
   "source": [
    "# 9m\n",
    "res_2[res_2['circles_y'] > 1]['circles_y'].count() / len(res_2)"
   ]
  },
  {
   "cell_type": "code",
   "execution_count": 119,
   "metadata": {},
   "outputs": [
    {
     "data": {
      "text/plain": [
       "2.8565803661210794"
      ]
     },
     "execution_count": 119,
     "metadata": {},
     "output_type": "execute_result"
    }
   ],
   "source": [
    "# Number of neighboring trees with a 9m radius per tree on average.\n",
    "res_2[res_2['circles_y'] > 1]['circles_y'].mean()"
   ]
  },
  {
   "cell_type": "code",
   "execution_count": 120,
   "metadata": {},
   "outputs": [
    {
     "data": {
      "text/plain": [
       "3.3064958383325758"
      ]
     },
     "execution_count": 120,
     "metadata": {},
     "output_type": "execute_result"
    }
   ],
   "source": [
    "# Average distance of a street tree to another street tree in New York.\n",
    "res_2[(res_2['circles_y'] > 1) & (res_2['circs_lat'] != res_2['latitude']) & (res_2['circs_long'] != res_2['longitude'])]['distance_geopy'].mean()"
   ]
  },
  {
   "cell_type": "code",
   "execution_count": 103,
   "metadata": {},
   "outputs": [
    {
     "data": {
      "text/plain": [
       "0.0853620942478171"
      ]
     },
     "execution_count": 103,
     "metadata": {},
     "output_type": "execute_result"
    }
   ],
   "source": [
    "# 5m\n",
    "res_2[res_2['circles_y'] > 1]['circles_y'].count() / len(res_2)"
   ]
  },
  {
   "cell_type": "code",
   "execution_count": 104,
   "metadata": {},
   "outputs": [
    {
     "data": {
      "text/plain": [
       "4.502513298521302"
      ]
     },
     "execution_count": 104,
     "metadata": {},
     "output_type": "execute_result"
    }
   ],
   "source": [
    "# Number of neighboring trees with a 10m radius per tree on average.\n",
    "res_2[res_2['circles_y'] > 1]['circles_y'].mean()"
   ]
  },
  {
   "cell_type": "code",
   "execution_count": 105,
   "metadata": {},
   "outputs": [
    {
     "data": {
      "text/plain": [
       "1.5929308784771194"
      ]
     },
     "execution_count": 105,
     "metadata": {},
     "output_type": "execute_result"
    }
   ],
   "source": [
    "# Average distance of a street tree to another street tree in New York.\n",
    "res_2[(res_2['circles_y'] > 1) & (res_2['circs_lat'] != res_2['latitude']) & (res_2['circs_long'] != res_2['longitude'])]['distance_geopy'].mean()"
   ]
  },
  {
   "cell_type": "code",
   "execution_count": 63,
   "metadata": {
    "scrolled": true
   },
   "outputs": [
    {
     "data": {
      "text/html": [
       "<div>\n",
       "<style scoped>\n",
       "    .dataframe tbody tr th:only-of-type {\n",
       "        vertical-align: middle;\n",
       "    }\n",
       "\n",
       "    .dataframe tbody tr th {\n",
       "        vertical-align: top;\n",
       "    }\n",
       "\n",
       "    .dataframe thead th {\n",
       "        text-align: right;\n",
       "    }\n",
       "</style>\n",
       "<table border=\"1\" class=\"dataframe\">\n",
       "  <thead>\n",
       "    <tr style=\"text-align: right;\">\n",
       "      <th></th>\n",
       "      <th>tree_id</th>\n",
       "      <th>status</th>\n",
       "      <th>health</th>\n",
       "      <th>steward</th>\n",
       "      <th>guards</th>\n",
       "      <th>sidewalk</th>\n",
       "      <th>root_stone</th>\n",
       "      <th>root_grate</th>\n",
       "      <th>root_other</th>\n",
       "      <th>trunk_wire</th>\n",
       "      <th>trnk_light</th>\n",
       "      <th>trnk_other</th>\n",
       "      <th>brch_light</th>\n",
       "      <th>brch_shoe</th>\n",
       "      <th>brch_other</th>\n",
       "      <th>latitude</th>\n",
       "      <th>longitude</th>\n",
       "      <th>geometry</th>\n",
       "      <th>n_neighbors</th>\n",
       "    </tr>\n",
       "  </thead>\n",
       "  <tbody>\n",
       "    <tr>\n",
       "      <th>0</th>\n",
       "      <td>180683</td>\n",
       "      <td>Alive</td>\n",
       "      <td>Fair</td>\n",
       "      <td>None</td>\n",
       "      <td>None</td>\n",
       "      <td>NoDamage</td>\n",
       "      <td>No</td>\n",
       "      <td>No</td>\n",
       "      <td>No</td>\n",
       "      <td>No</td>\n",
       "      <td>No</td>\n",
       "      <td>No</td>\n",
       "      <td>No</td>\n",
       "      <td>No</td>\n",
       "      <td>No</td>\n",
       "      <td>40.723092</td>\n",
       "      <td>-73.844215</td>\n",
       "      <td>POINT (-73.84422 40.72309)</td>\n",
       "      <td>1</td>\n",
       "    </tr>\n",
       "    <tr>\n",
       "      <th>1</th>\n",
       "      <td>200540</td>\n",
       "      <td>Alive</td>\n",
       "      <td>Fair</td>\n",
       "      <td>None</td>\n",
       "      <td>None</td>\n",
       "      <td>Damage</td>\n",
       "      <td>Yes</td>\n",
       "      <td>No</td>\n",
       "      <td>No</td>\n",
       "      <td>No</td>\n",
       "      <td>No</td>\n",
       "      <td>No</td>\n",
       "      <td>No</td>\n",
       "      <td>No</td>\n",
       "      <td>No</td>\n",
       "      <td>40.794111</td>\n",
       "      <td>-73.818679</td>\n",
       "      <td>POINT (-73.81868 40.79411)</td>\n",
       "      <td>1</td>\n",
       "    </tr>\n",
       "    <tr>\n",
       "      <th>2</th>\n",
       "      <td>204026</td>\n",
       "      <td>Alive</td>\n",
       "      <td>Good</td>\n",
       "      <td>1or2</td>\n",
       "      <td>None</td>\n",
       "      <td>Damage</td>\n",
       "      <td>No</td>\n",
       "      <td>No</td>\n",
       "      <td>No</td>\n",
       "      <td>No</td>\n",
       "      <td>No</td>\n",
       "      <td>No</td>\n",
       "      <td>No</td>\n",
       "      <td>No</td>\n",
       "      <td>No</td>\n",
       "      <td>40.717581</td>\n",
       "      <td>-73.936608</td>\n",
       "      <td>POINT (-73.93661 40.71758)</td>\n",
       "      <td>1</td>\n",
       "    </tr>\n",
       "    <tr>\n",
       "      <th>3</th>\n",
       "      <td>204337</td>\n",
       "      <td>Alive</td>\n",
       "      <td>Good</td>\n",
       "      <td>None</td>\n",
       "      <td>None</td>\n",
       "      <td>Damage</td>\n",
       "      <td>Yes</td>\n",
       "      <td>No</td>\n",
       "      <td>No</td>\n",
       "      <td>No</td>\n",
       "      <td>No</td>\n",
       "      <td>No</td>\n",
       "      <td>No</td>\n",
       "      <td>No</td>\n",
       "      <td>No</td>\n",
       "      <td>40.713537</td>\n",
       "      <td>-73.934456</td>\n",
       "      <td>POINT (-73.93446 40.71354)</td>\n",
       "      <td>1</td>\n",
       "    </tr>\n",
       "    <tr>\n",
       "      <th>4</th>\n",
       "      <td>189565</td>\n",
       "      <td>Alive</td>\n",
       "      <td>Good</td>\n",
       "      <td>None</td>\n",
       "      <td>None</td>\n",
       "      <td>Damage</td>\n",
       "      <td>Yes</td>\n",
       "      <td>No</td>\n",
       "      <td>No</td>\n",
       "      <td>No</td>\n",
       "      <td>No</td>\n",
       "      <td>No</td>\n",
       "      <td>No</td>\n",
       "      <td>No</td>\n",
       "      <td>No</td>\n",
       "      <td>40.666778</td>\n",
       "      <td>-73.975979</td>\n",
       "      <td>POINT (-73.97598 40.66678)</td>\n",
       "      <td>1</td>\n",
       "    </tr>\n",
       "    <tr>\n",
       "      <th>...</th>\n",
       "      <td>...</td>\n",
       "      <td>...</td>\n",
       "      <td>...</td>\n",
       "      <td>...</td>\n",
       "      <td>...</td>\n",
       "      <td>...</td>\n",
       "      <td>...</td>\n",
       "      <td>...</td>\n",
       "      <td>...</td>\n",
       "      <td>...</td>\n",
       "      <td>...</td>\n",
       "      <td>...</td>\n",
       "      <td>...</td>\n",
       "      <td>...</td>\n",
       "      <td>...</td>\n",
       "      <td>...</td>\n",
       "      <td>...</td>\n",
       "      <td>...</td>\n",
       "      <td>...</td>\n",
       "    </tr>\n",
       "    <tr>\n",
       "      <th>683783</th>\n",
       "      <td>155433</td>\n",
       "      <td>Alive</td>\n",
       "      <td>Good</td>\n",
       "      <td>None</td>\n",
       "      <td>None</td>\n",
       "      <td>Damage</td>\n",
       "      <td>No</td>\n",
       "      <td>No</td>\n",
       "      <td>No</td>\n",
       "      <td>No</td>\n",
       "      <td>No</td>\n",
       "      <td>No</td>\n",
       "      <td>No</td>\n",
       "      <td>No</td>\n",
       "      <td>No</td>\n",
       "      <td>40.713211</td>\n",
       "      <td>-73.954944</td>\n",
       "      <td>POINT (-73.95494 40.71321)</td>\n",
       "      <td>1</td>\n",
       "    </tr>\n",
       "    <tr>\n",
       "      <th>683784</th>\n",
       "      <td>183795</td>\n",
       "      <td>Alive</td>\n",
       "      <td>Good</td>\n",
       "      <td>1or2</td>\n",
       "      <td>None</td>\n",
       "      <td>NoDamage</td>\n",
       "      <td>No</td>\n",
       "      <td>No</td>\n",
       "      <td>No</td>\n",
       "      <td>No</td>\n",
       "      <td>No</td>\n",
       "      <td>No</td>\n",
       "      <td>No</td>\n",
       "      <td>No</td>\n",
       "      <td>No</td>\n",
       "      <td>40.715194</td>\n",
       "      <td>-73.856650</td>\n",
       "      <td>POINT (-73.85665 40.71519)</td>\n",
       "      <td>1</td>\n",
       "    </tr>\n",
       "    <tr>\n",
       "      <th>683785</th>\n",
       "      <td>166161</td>\n",
       "      <td>Alive</td>\n",
       "      <td>Good</td>\n",
       "      <td>None</td>\n",
       "      <td>None</td>\n",
       "      <td>Damage</td>\n",
       "      <td>No</td>\n",
       "      <td>No</td>\n",
       "      <td>No</td>\n",
       "      <td>No</td>\n",
       "      <td>No</td>\n",
       "      <td>No</td>\n",
       "      <td>No</td>\n",
       "      <td>No</td>\n",
       "      <td>No</td>\n",
       "      <td>40.620762</td>\n",
       "      <td>-74.136517</td>\n",
       "      <td>POINT (-74.13652 40.62076)</td>\n",
       "      <td>1</td>\n",
       "    </tr>\n",
       "    <tr>\n",
       "      <th>683786</th>\n",
       "      <td>184028</td>\n",
       "      <td>Alive</td>\n",
       "      <td>Good</td>\n",
       "      <td>None</td>\n",
       "      <td>None</td>\n",
       "      <td>NoDamage</td>\n",
       "      <td>No</td>\n",
       "      <td>No</td>\n",
       "      <td>No</td>\n",
       "      <td>No</td>\n",
       "      <td>No</td>\n",
       "      <td>No</td>\n",
       "      <td>No</td>\n",
       "      <td>No</td>\n",
       "      <td>No</td>\n",
       "      <td>40.850828</td>\n",
       "      <td>-73.903115</td>\n",
       "      <td>POINT (-73.90311 40.85083)</td>\n",
       "      <td>1</td>\n",
       "    </tr>\n",
       "    <tr>\n",
       "      <th>683787</th>\n",
       "      <td>200607</td>\n",
       "      <td>Alive</td>\n",
       "      <td>Fair</td>\n",
       "      <td>None</td>\n",
       "      <td>None</td>\n",
       "      <td>NoDamage</td>\n",
       "      <td>No</td>\n",
       "      <td>No</td>\n",
       "      <td>No</td>\n",
       "      <td>No</td>\n",
       "      <td>No</td>\n",
       "      <td>No</td>\n",
       "      <td>No</td>\n",
       "      <td>No</td>\n",
       "      <td>No</td>\n",
       "      <td>40.732165</td>\n",
       "      <td>-73.787526</td>\n",
       "      <td>POINT (-73.78753 40.73217)</td>\n",
       "      <td>1</td>\n",
       "    </tr>\n",
       "  </tbody>\n",
       "</table>\n",
       "<p>683788 rows × 19 columns</p>\n",
       "</div>"
      ],
      "text/plain": [
       "        tree_id status health steward guards  sidewalk root_stone root_grate  \\\n",
       "0        180683  Alive   Fair    None   None  NoDamage         No         No   \n",
       "1        200540  Alive   Fair    None   None    Damage        Yes         No   \n",
       "2        204026  Alive   Good    1or2   None    Damage         No         No   \n",
       "3        204337  Alive   Good    None   None    Damage        Yes         No   \n",
       "4        189565  Alive   Good    None   None    Damage        Yes         No   \n",
       "...         ...    ...    ...     ...    ...       ...        ...        ...   \n",
       "683783   155433  Alive   Good    None   None    Damage         No         No   \n",
       "683784   183795  Alive   Good    1or2   None  NoDamage         No         No   \n",
       "683785   166161  Alive   Good    None   None    Damage         No         No   \n",
       "683786   184028  Alive   Good    None   None  NoDamage         No         No   \n",
       "683787   200607  Alive   Fair    None   None  NoDamage         No         No   \n",
       "\n",
       "       root_other trunk_wire trnk_light trnk_other brch_light brch_shoe  \\\n",
       "0              No         No         No         No         No        No   \n",
       "1              No         No         No         No         No        No   \n",
       "2              No         No         No         No         No        No   \n",
       "3              No         No         No         No         No        No   \n",
       "4              No         No         No         No         No        No   \n",
       "...           ...        ...        ...        ...        ...       ...   \n",
       "683783         No         No         No         No         No        No   \n",
       "683784         No         No         No         No         No        No   \n",
       "683785         No         No         No         No         No        No   \n",
       "683786         No         No         No         No         No        No   \n",
       "683787         No         No         No         No         No        No   \n",
       "\n",
       "       brch_other   latitude  longitude                    geometry  \\\n",
       "0              No  40.723092 -73.844215  POINT (-73.84422 40.72309)   \n",
       "1              No  40.794111 -73.818679  POINT (-73.81868 40.79411)   \n",
       "2              No  40.717581 -73.936608  POINT (-73.93661 40.71758)   \n",
       "3              No  40.713537 -73.934456  POINT (-73.93446 40.71354)   \n",
       "4              No  40.666778 -73.975979  POINT (-73.97598 40.66678)   \n",
       "...           ...        ...        ...                         ...   \n",
       "683783         No  40.713211 -73.954944  POINT (-73.95494 40.71321)   \n",
       "683784         No  40.715194 -73.856650  POINT (-73.85665 40.71519)   \n",
       "683785         No  40.620762 -74.136517  POINT (-74.13652 40.62076)   \n",
       "683786         No  40.850828 -73.903115  POINT (-73.90311 40.85083)   \n",
       "683787         No  40.732165 -73.787526  POINT (-73.78753 40.73217)   \n",
       "\n",
       "        n_neighbors  \n",
       "0                 1  \n",
       "1                 1  \n",
       "2                 1  \n",
       "3                 1  \n",
       "4                 1  \n",
       "...             ...  \n",
       "683783            1  \n",
       "683784            1  \n",
       "683785            1  \n",
       "683786            1  \n",
       "683787            1  \n",
       "\n",
       "[683788 rows x 19 columns]"
      ]
     },
     "execution_count": 63,
     "metadata": {},
     "output_type": "execute_result"
    }
   ],
   "source": [
    "test_new"
   ]
  },
  {
   "cell_type": "code",
   "execution_count": 64,
   "metadata": {},
   "outputs": [],
   "source": [
    "# Encode the feature on the number of neighboring trees.\n",
    "test_new.loc[test_new['n_neighbors'] == 1, 'n_neighbors'] = 0.1\n",
    "test_new.loc[test_new['n_neighbors'] == 2, 'n_neighbors'] = 0.2\n",
    "test_new.loc[test_new['n_neighbors'] >= 3, 'n_neighbors'] = 0.3"
   ]
  },
  {
   "cell_type": "code",
   "execution_count": 65,
   "metadata": {},
   "outputs": [],
   "source": [
    "test_new.loc[test_new['n_neighbors'] == 0.1, 'n_neighbors'] = \"no neighbor\"\n",
    "test_new.loc[test_new['n_neighbors'] == 0.2, 'n_neighbors'] = \"one neighbor\"\n",
    "test_new.loc[test_new['n_neighbors'] == 0.3, 'n_neighbors'] = \"two or more neighbors\""
   ]
  },
  {
   "cell_type": "code",
   "execution_count": 66,
   "metadata": {},
   "outputs": [
    {
     "data": {
      "text/plain": [
       "no neighbor              664680\n",
       "one neighbor              15134\n",
       "two or more neighbors      3974\n",
       "Name: n_neighbors, dtype: int64"
      ]
     },
     "execution_count": 66,
     "metadata": {},
     "output_type": "execute_result"
    }
   ],
   "source": [
    "test_new.n_neighbors.value_counts()"
   ]
  },
  {
   "cell_type": "code",
   "execution_count": 13,
   "metadata": {},
   "outputs": [
    {
     "data": {
      "text/plain": [
       "0.07423817812763712"
      ]
     },
     "execution_count": 13,
     "metadata": {},
     "output_type": "execute_result"
    }
   ],
   "source": [
    "test_new.tree_dbh.corr(test_new.health)"
   ]
  },
  {
   "cell_type": "code",
   "execution_count": null,
   "metadata": {},
   "outputs": [],
   "source": [
    "# Nur für einen Eintrag\n",
    "neighbors = []\n",
    "for ind, i in enumerate(test_geo.index):\n",
    "    print(ind)\n",
    "    if test_geo['geometry'].loc[0].intersects(buffers.loc[i]):\n",
    "        neighbors.append(i)"
   ]
  },
  {
   "cell_type": "code",
   "execution_count": null,
   "metadata": {},
   "outputs": [],
   "source": [
    "# Circa mehr als 2 Tage Rechenaufwand..\n",
    "test_geo = test_geo.to_crs(epsg=3857)\n",
    "test_geo.crs = {'init': 'epsg:3857', 'no_defs': True}\n",
    "\n",
    "xs_all = test_geo['geometry'].x\n",
    "ys_all = test_geo['geometry'].y\n",
    "pot_neighbors = np.array(list(zip(xs_all, ys_all)))\n",
    "\n",
    "def n_neighbors(point, size=3, distance=10.0, potential_neighbors=pot_neighbors):\n",
    "    point = point.reshape(-1, 2)\n",
    "    bin_trie = cKDTree(point)\n",
    "    remaining_points = np.delete(potential_neighbors, np.where(potential_neighbors == point), axis=0).reshape(-1, 2)\n",
    "    dist, ids = bin_trie.query(remaining_points, k=size, distance_upper_bound=distance, n_jobs=-1)\n",
    "    count_neighbors = len(dist[dist != np.inf])\n",
    "    \n",
    "    return count_neighbors\n",
    "\n",
    "inp = np.array(list(zip(test_geo['geometry'].x.values, test_geo['geometry'].y.values)))\n",
    "\n",
    "test_geo['n_neighbors'] = [n_neighbors(i) for i in inp]"
   ]
  },
  {
   "cell_type": "code",
   "execution_count": null,
   "metadata": {},
   "outputs": [
    {
     "name": "stderr",
     "output_type": "stream",
     "text": [
      "C:\\ProgramData\\Anaconda3\\lib\\site-packages\\pyproj\\crs.py:77: FutureWarning: '+init=<authority>:<code>' syntax is deprecated. '<authority>:<code>' is the preferred initialization method.\n",
      "  return _prepare_from_string(\" \".join(pjargs))\n"
     ]
    }
   ],
   "source": [
    "nyc = nyc.to_crs(epsg=4326)\n",
    "nyc.crs = {'init': 'epsg:4326', 'no_defs': True}\n",
    "circles = buffers.unary_union\n",
    "a = nyc['geometry'].intersection(circles)"
   ]
  },
  {
   "cell_type": "code",
   "execution_count": null,
   "metadata": {},
   "outputs": [],
   "source": [
    "sns.set(style='whitegrid')\n",
    "sns.mpl.rc('figure')\n",
    "fig, ax = plt.subplots()\n",
    "a.plot(ax=ax)"
   ]
  },
  {
   "cell_type": "code",
   "execution_count": null,
   "metadata": {},
   "outputs": [],
   "source": [
    "tree_radi = nyc.intersection(trees_geo_circs)\n",
    "tree_radi.plot(ax=ax)"
   ]
  },
  {
   "cell_type": "code",
   "execution_count": null,
   "metadata": {},
   "outputs": [],
   "source": []
  },
  {
   "cell_type": "code",
   "execution_count": null,
   "metadata": {},
   "outputs": [],
   "source": []
  },
  {
   "cell_type": "code",
   "execution_count": 67,
   "metadata": {
    "scrolled": false
   },
   "outputs": [
    {
     "name": "stderr",
     "output_type": "stream",
     "text": [
      "C:\\Users\\phill\\AppData\\Roaming\\Python\\Python37\\site-packages\\pandas\\core\\generic.py:6245: SettingWithCopyWarning: \n",
      "A value is trying to be set on a copy of a slice from a DataFrame\n",
      "\n",
      "See the caveats in the documentation: https://pandas.pydata.org/pandas-docs/stable/user_guide/indexing.html#returning-a-view-versus-a-copy\n",
      "  self._update_inplace(new_data)\n",
      "C:\\Users\\phill\\AppData\\Roaming\\Python\\Python37\\site-packages\\pandas\\core\\generic.py:6746: SettingWithCopyWarning: \n",
      "A value is trying to be set on a copy of a slice from a DataFrame\n",
      "\n",
      "See the caveats in the documentation: https://pandas.pydata.org/pandas-docs/stable/user_guide/indexing.html#returning-a-view-versus-a-copy\n",
      "  self._update_inplace(new_data)\n"
     ]
    }
   ],
   "source": [
    "df_sel = test_new[['tree_id',\n",
    "               'steward',\n",
    "               'guards',\n",
    "               'sidewalk',\n",
    "               'root_stone',\n",
    "               'root_grate',\n",
    "               'root_other',\n",
    "               'trunk_wire',\n",
    "               'trnk_light',\n",
    "               'trnk_other',\n",
    "               'brch_light',\n",
    "               'brch_shoe',\n",
    "               'brch_other',\n",
    "               'n_neighbors',\n",
    "               'health']]\n",
    "\n",
    "# Replace NaN values in features with entries signalling this tree is either dead or a stump.\n",
    "df_sel['steward'].fillna('Dead|Stump', inplace=True)\n",
    "df_sel['guards'].fillna('Dead|Stump', inplace=True)\n",
    "\n",
    "# In 'steward', replace spectrum of answers to yes (= alive) or no (= dead/stump).\n",
    "df_sel['steward'].replace(['1or2', '3or4', '4orMore', 'None'], 'Alive', inplace=True)\n",
    "\n",
    "# Replace NaN values in the target with entries signalling this tree is either dead or a stump.\n",
    "df_sel['health'].fillna('Dead|Stump', inplace=True)\n",
    "\n",
    "#df_sel['health'].replace(['Poor', 'Fair'], 'Poor|Fair', inplace=True)\n",
    "\n",
    "# One-hot encoding the categorical features and the target.\n",
    "df_sel_enc = pd.get_dummies(df_sel)"
   ]
  },
  {
   "cell_type": "code",
   "execution_count": 68,
   "metadata": {},
   "outputs": [
    {
     "data": {
      "image/png": "[encoded data removed]",
      "text/plain": [
       "<Figure size 1800x1440 with 2 Axes>"
      ]
     },
     "metadata": {
      "needs_background": "light"
     },
     "output_type": "display_data"
    }
   ],
   "source": [
    "corrmat = df_sel_enc.corr()\n",
    "plt.subplots(figsize=(25,20))\n",
    "sns.heatmap(corrmat, annot=False)\n",
    "plt.show()"
   ]
  },
  {
   "cell_type": "code",
   "execution_count": 75,
   "metadata": {},
   "outputs": [],
   "source": [
    "x = df_sel_enc[list(df_sel_enc.columns)[1:31]]\n",
    "y = df_sel_enc[list(df_sel_enc.columns)[31:]]\n",
    "\n",
    "# Split into train, test, and validation datasets, with stratification as some labels were not predicted in previous runs.\n",
    "# x_train_vali, x_test, y_train_vali, y_test = train_test_split(x, y, random_state=0)\n",
    "# x_train, x_vali, y_train, y_vali = train_test_split(x_train_vali, y_train_vali, random_state=0)\n",
    "\n",
    "x_train, x_test, y_train, y_test = train_test_split(x, y, test_size=0.5, random_state=None, stratify=y)"
   ]
  },
  {
   "cell_type": "code",
   "execution_count": 80,
   "metadata": {
    "scrolled": true
   },
   "outputs": [
    {
     "data": {
      "text/plain": [
       "array([[<matplotlib.axes._subplots.AxesSubplot object at 0x000001BB47EF8080>,\n",
       "        <matplotlib.axes._subplots.AxesSubplot object at 0x000001BA1A3524E0>],\n",
       "       [<matplotlib.axes._subplots.AxesSubplot object at 0x000001BB47EFE390>,\n",
       "        <matplotlib.axes._subplots.AxesSubplot object at 0x000001B9C7C4A748>]],\n",
       "      dtype=object)"
      ]
     },
     "execution_count": 80,
     "metadata": {},
     "output_type": "execute_result"
    },
    {
     "data": {
      "image/png": "[encoded data removed]",
      "text/plain": [
       "<Figure size 432x288 with 4 Axes>"
      ]
     },
     "metadata": {
      "needs_background": "light"
     },
     "output_type": "display_data"
    }
   ],
   "source": [
    "y.hist()"
   ]
  },
  {
   "cell_type": "code",
   "execution_count": 101,
   "metadata": {},
   "outputs": [],
   "source": [
    "target_first_class = len(y.loc[y['health_Dead|Stump'] == 0]) / len(y)\n",
    "target_second_class = len(y.loc[y['health_Fair'] == 0]) / len(y)\n",
    "target_third_class = len(y.loc[y['health_Good'] == 0]) / len(y)\n",
    "target_fourth_class = len(y.loc[y['health_Poor'] == 0]) / len(y)\n",
    "\n",
    "\n",
    "class_weight_orig = [{0:target_first_class, 1:1-target_first_class},\n",
    "                     {0:target_second_class, 1:1-target_second_class},\n",
    "                     {0:target_third_class, 1:1-target_third_class},\n",
    "                     {0:target_fourth_class, 1:1-target_fourth_class}]\n",
    "\n",
    "class_weight_manip = [{0:target_first_class, 1:1-target_first_class/2},\n",
    "                      {0:target_second_class/2, 1:1-target_second_class/2},\n",
    "                      {0:target_third_class, 1:1-target_third_class/2},\n",
    "                      {0:target_fourth_class/2, 1:1-target_fourth_class/2}]"
   ]
  },
  {
   "cell_type": "code",
   "execution_count": 20,
   "metadata": {},
   "outputs": [],
   "source": [
    "from imblearn.under_sampling import RandomUnderSampler\n",
    "\n",
    "rs = RandomUnderSampler(sampling_strategy='majority', random_state=None)\n",
    "x_train_rs_fair, y_train_rs_fair = rs.fit_sample(x_train, y_train['health_Fair'])\n",
    "x_train_rs_poor, y_train_rs_poor = rs.fit_sample(x_train, y_train['health_Poor'])\n",
    "\n",
    "\n",
    "health_fair_rs = pd.concat([x_train_rs_fair, y_train_rs_fair], axis=1)\n",
    "health_poor_rs = pd.concat([x_train_rs_poor, y_train_rs_poor], axis=1)\n",
    "health_fair_rs = health_fair_rs[health_fair_rs.health_Fair == 1]\n",
    "health_poor_rs = health_poor_rs[health_poor_rs.health_Poor == 1]\n",
    "\n",
    "df_sel_enc_rs = pd.concat([df_sel_enc, health_fair_rs, health_poor_rs], ignore_index=True)\n",
    "df_sel_enc_rs.fillna(0, inplace=True)\n",
    "df_sel_enc_rs[df_sel_enc_rs.columns[-4:]] = df_sel_enc_rs[df_sel_enc_rs.columns[-4:]].astype(int)"
   ]
  },
  {
   "cell_type": "code",
   "execution_count": 21,
   "metadata": {
    "scrolled": true
   },
   "outputs": [
    {
     "name": "stderr",
     "output_type": "stream",
     "text": [
      "C:\\Users\\phill\\AppData\\Roaming\\Python\\Python37\\site-packages\\pandas\\plotting\\_matplotlib\\tools.py:298: MatplotlibDeprecationWarning: \n",
      "The rowNum attribute was deprecated in Matplotlib 3.2 and will be removed two minor releases later. Use ax.get_subplotspec().rowspan.start instead.\n",
      "  layout[ax.rowNum, ax.colNum] = ax.get_visible()\n",
      "C:\\Users\\phill\\AppData\\Roaming\\Python\\Python37\\site-packages\\pandas\\plotting\\_matplotlib\\tools.py:298: MatplotlibDeprecationWarning: \n",
      "The colNum attribute was deprecated in Matplotlib 3.2 and will be removed two minor releases later. Use ax.get_subplotspec().colspan.start instead.\n",
      "  layout[ax.rowNum, ax.colNum] = ax.get_visible()\n",
      "C:\\Users\\phill\\AppData\\Roaming\\Python\\Python37\\site-packages\\pandas\\plotting\\_matplotlib\\tools.py:304: MatplotlibDeprecationWarning: \n",
      "The rowNum attribute was deprecated in Matplotlib 3.2 and will be removed two minor releases later. Use ax.get_subplotspec().rowspan.start instead.\n",
      "  if not layout[ax.rowNum + 1, ax.colNum]:\n",
      "C:\\Users\\phill\\AppData\\Roaming\\Python\\Python37\\site-packages\\pandas\\plotting\\_matplotlib\\tools.py:304: MatplotlibDeprecationWarning: \n",
      "The colNum attribute was deprecated in Matplotlib 3.2 and will be removed two minor releases later. Use ax.get_subplotspec().colspan.start instead.\n",
      "  if not layout[ax.rowNum + 1, ax.colNum]:\n"
     ]
    },
    {
     "data": {
      "text/plain": [
       "array([[<matplotlib.axes._subplots.AxesSubplot object at 0x000001940D991518>,\n",
       "        <matplotlib.axes._subplots.AxesSubplot object at 0x0000019416146978>],\n",
       "       [<matplotlib.axes._subplots.AxesSubplot object at 0x0000019408D7DBE0>,\n",
       "        <matplotlib.axes._subplots.AxesSubplot object at 0x000001941600BE48>]],\n",
       "      dtype=object)"
      ]
     },
     "execution_count": 21,
     "metadata": {},
     "output_type": "execute_result"
    },
    {
     "data": {
      "image/png": "[encoded data removed]",
      "text/plain": [
       "<Figure size 432x288 with 4 Axes>"
      ]
     },
     "metadata": {
      "needs_background": "light"
     },
     "output_type": "display_data"
    }
   ],
   "source": [
    "df_sel_enc_rs[['health_Dead|Stump', 'health_Fair', 'health_Good', 'health_Poor']].hist()"
   ]
  },
  {
   "cell_type": "code",
   "execution_count": 82,
   "metadata": {
    "scrolled": true
   },
   "outputs": [],
   "source": [
    "from imblearn.over_sampling import SMOTE\n",
    "\n",
    "smote_sampler = SMOTE(sampling_strategy='not majority', random_state=None, n_jobs=-1)\n",
    "x_train_smo_fair, y_train_smo_fair = smote_sampler.fit_sample(x_train, y_train['health_Fair'])\n",
    "x_train_smo_poor, y_train_smo_poor = smote_sampler.fit_sample(x_train, y_train['health_Poor'])\n",
    "x_train_smo_good, y_train_smo_good = smote_sampler.fit_sample(x_train, y_train['health_Good'])\n",
    "x_train_smo_deadstump, y_train_smo_deadstump = smote_sampler.fit_sample(x_train, y_train['health_Dead|Stump'])"
   ]
  },
  {
   "cell_type": "code",
   "execution_count": 83,
   "metadata": {},
   "outputs": [],
   "source": [
    "health_fair = pd.concat([x_train_smo_fair, y_train_smo_fair], axis=1)\n",
    "health_poor = pd.concat([x_train_smo_poor, y_train_smo_poor], axis=1)\n",
    "health_fair = health_fair[health_fair.health_Fair != 0]\n",
    "health_poor = health_poor[health_poor.health_Poor != 0]\n",
    "health_good = pd.concat([x_train_smo_good, y_train_smo_good], axis=1)\n",
    "health_good = health_good[health_good.health_Good != 0]\n",
    "health_deadstump = pd.concat([x_train_smo_deadstump, y_train_smo_deadstump], axis=1)\n",
    "health_deadstump = health_deadstump[health_deadstump['health_Dead|Stump'] != 0]\n",
    "df_sel_enc_smo = pd.concat([health_fair, health_poor, health_good, health_deadstump], ignore_index=True)\n",
    "#df_sel_enc_smo = pd.concat([df_sel_enc, health_fair, health_poor], ignore_index=True)\n",
    "df_sel_enc_smo.fillna(0, inplace=True)\n",
    "df_sel_enc_smo[df_sel_enc_smo.columns[-4:]] = df_sel_enc_smo[df_sel_enc_smo.columns[-4:]].astype(int)"
   ]
  },
  {
   "cell_type": "code",
   "execution_count": 283,
   "metadata": {},
   "outputs": [],
   "source": [
    "df_sel_enc_smo.drop_duplicates(inplace=True)"
   ]
  },
  {
   "cell_type": "code",
   "execution_count": 84,
   "metadata": {
    "scrolled": true
   },
   "outputs": [
    {
     "name": "stderr",
     "output_type": "stream",
     "text": [
      "C:\\Users\\phill\\AppData\\Roaming\\Python\\Python37\\site-packages\\pandas\\plotting\\_matplotlib\\tools.py:298: MatplotlibDeprecationWarning: \n",
      "The rowNum attribute was deprecated in Matplotlib 3.2 and will be removed two minor releases later. Use ax.get_subplotspec().rowspan.start instead.\n",
      "  layout[ax.rowNum, ax.colNum] = ax.get_visible()\n",
      "C:\\Users\\phill\\AppData\\Roaming\\Python\\Python37\\site-packages\\pandas\\plotting\\_matplotlib\\tools.py:298: MatplotlibDeprecationWarning: \n",
      "The colNum attribute was deprecated in Matplotlib 3.2 and will be removed two minor releases later. Use ax.get_subplotspec().colspan.start instead.\n",
      "  layout[ax.rowNum, ax.colNum] = ax.get_visible()\n",
      "C:\\Users\\phill\\AppData\\Roaming\\Python\\Python37\\site-packages\\pandas\\plotting\\_matplotlib\\tools.py:304: MatplotlibDeprecationWarning: \n",
      "The rowNum attribute was deprecated in Matplotlib 3.2 and will be removed two minor releases later. Use ax.get_subplotspec().rowspan.start instead.\n",
      "  if not layout[ax.rowNum + 1, ax.colNum]:\n",
      "C:\\Users\\phill\\AppData\\Roaming\\Python\\Python37\\site-packages\\pandas\\plotting\\_matplotlib\\tools.py:304: MatplotlibDeprecationWarning: \n",
      "The colNum attribute was deprecated in Matplotlib 3.2 and will be removed two minor releases later. Use ax.get_subplotspec().colspan.start instead.\n",
      "  if not layout[ax.rowNum + 1, ax.colNum]:\n"
     ]
    },
    {
     "data": {
      "text/plain": [
       "array([[<matplotlib.axes._subplots.AxesSubplot object at 0x000001BB4DED77B8>,\n",
       "        <matplotlib.axes._subplots.AxesSubplot object at 0x000001B9C9485B00>],\n",
       "       [<matplotlib.axes._subplots.AxesSubplot object at 0x000001B9795EAD68>,\n",
       "        <matplotlib.axes._subplots.AxesSubplot object at 0x000001BA20379E80>]],\n",
       "      dtype=object)"
      ]
     },
     "execution_count": 84,
     "metadata": {},
     "output_type": "execute_result"
    },
    {
     "data": {
      "image/png": "[encoded data removed]",
      "text/plain": [
       "<Figure size 432x288 with 4 Axes>"
      ]
     },
     "metadata": {
      "needs_background": "light"
     },
     "output_type": "display_data"
    }
   ],
   "source": [
    "df_sel_enc_smo[['health_Dead|Stump', 'health_Fair', 'health_Good', 'health_Poor']].hist()"
   ]
  },
  {
   "cell_type": "code",
   "execution_count": 91,
   "metadata": {},
   "outputs": [],
   "source": [
    "x_new = df_sel_enc_smo[list(df_sel_enc_smo.columns)[0:30]]\n",
    "y_new = df_sel_enc_smo[list(df_sel_enc_smo.columns)[30:]]\n",
    "\n",
    "# Split into train, test, and validation datasets, with stratification as some labels were not predicted in previous runs.\n",
    "# x_train_vali, x_test, y_train_vali, y_test = train_test_split(x, y, random_state=0)\n",
    "# x_train, x_vali, y_train, y_vali = train_test_split(x_train_vali, y_train_vali, random_state=0)\n",
    "\n",
    "x_train_new, x_test_new, y_train_new, y_test_new = train_test_split(x_new, y_new, test_size=0.2, random_state=None, stratify=y_new)"
   ]
  },
  {
   "cell_type": "code",
   "execution_count": 94,
   "metadata": {
    "scrolled": true
   },
   "outputs": [
    {
     "name": "stderr",
     "output_type": "stream",
     "text": [
      "C:\\Users\\phill\\AppData\\Roaming\\Python\\Python37\\site-packages\\pandas\\plotting\\_matplotlib\\tools.py:298: MatplotlibDeprecationWarning: \n",
      "The rowNum attribute was deprecated in Matplotlib 3.2 and will be removed two minor releases later. Use ax.get_subplotspec().rowspan.start instead.\n",
      "  layout[ax.rowNum, ax.colNum] = ax.get_visible()\n",
      "C:\\Users\\phill\\AppData\\Roaming\\Python\\Python37\\site-packages\\pandas\\plotting\\_matplotlib\\tools.py:298: MatplotlibDeprecationWarning: \n",
      "The colNum attribute was deprecated in Matplotlib 3.2 and will be removed two minor releases later. Use ax.get_subplotspec().colspan.start instead.\n",
      "  layout[ax.rowNum, ax.colNum] = ax.get_visible()\n",
      "C:\\Users\\phill\\AppData\\Roaming\\Python\\Python37\\site-packages\\pandas\\plotting\\_matplotlib\\tools.py:304: MatplotlibDeprecationWarning: \n",
      "The rowNum attribute was deprecated in Matplotlib 3.2 and will be removed two minor releases later. Use ax.get_subplotspec().rowspan.start instead.\n",
      "  if not layout[ax.rowNum + 1, ax.colNum]:\n",
      "C:\\Users\\phill\\AppData\\Roaming\\Python\\Python37\\site-packages\\pandas\\plotting\\_matplotlib\\tools.py:304: MatplotlibDeprecationWarning: \n",
      "The colNum attribute was deprecated in Matplotlib 3.2 and will be removed two minor releases later. Use ax.get_subplotspec().colspan.start instead.\n",
      "  if not layout[ax.rowNum + 1, ax.colNum]:\n"
     ]
    },
    {
     "data": {
      "text/plain": [
       "array([[<matplotlib.axes._subplots.AxesSubplot object at 0x000001BA204B8908>,\n",
       "        <matplotlib.axes._subplots.AxesSubplot object at 0x000001BB564D33C8>],\n",
       "       [<matplotlib.axes._subplots.AxesSubplot object at 0x000001B9C4F19668>,\n",
       "        <matplotlib.axes._subplots.AxesSubplot object at 0x000001BA26AA9898>]],\n",
       "      dtype=object)"
      ]
     },
     "execution_count": 94,
     "metadata": {},
     "output_type": "execute_result"
    },
    {
     "data": {
      "image/png": "[encoded data removed]",
      "text/plain": [
       "<Figure size 432x288 with 4 Axes>"
      ]
     },
     "metadata": {
      "needs_background": "light"
     },
     "output_type": "display_data"
    }
   ],
   "source": [
    "y_train_new.hist()"
   ]
  },
  {
   "cell_type": "code",
   "execution_count": 95,
   "metadata": {},
   "outputs": [
    {
     "name": "stdout",
     "output_type": "stream",
     "text": [
      "0.31275151735057394\n"
     ]
    }
   ],
   "source": [
    "rdf_clf = RandomForestClassifier()\n",
    "rdf_clf.fit(x_train_new, y_train_new)\n",
    "y_pred_new = rdf_clf.predict(x_test_new)\n",
    "print(accuracy_score(y_test_new, y_pred_new))"
   ]
  },
  {
   "cell_type": "code",
   "execution_count": 102,
   "metadata": {},
   "outputs": [
    {
     "name": "stdout",
     "output_type": "stream",
     "text": [
      "0.5332291529225491\n"
     ]
    }
   ],
   "source": [
    "rdf_clf = RandomForestClassifier(class_weight=class_weight_manip)\n",
    "rdf_clf.fit(x_train_new, y_train_new)\n",
    "y_pred_new = rdf_clf.predict(x_test_new)\n",
    "print(accuracy_score(y_test_new, y_pred_new))"
   ]
  },
  {
   "cell_type": "code",
   "execution_count": 98,
   "metadata": {},
   "outputs": [
    {
     "name": "stdout",
     "output_type": "stream",
     "text": [
      "                   precision    recall  f1-score   support\n",
      "\n",
      "      health_Fair       0.65      0.03      0.05     58729\n",
      "      health_Poor       0.67      0.13      0.22     65697\n",
      "      health_Good       0.67      0.01      0.01     52885\n",
      "health_Dead|Stump       1.00      1.00      1.00     65217\n",
      "\n",
      "        micro avg       0.94      0.31      0.47    242528\n",
      "        macro avg       0.75      0.29      0.32    242528\n",
      "     weighted avg       0.75      0.31      0.34    242528\n",
      "      samples avg       0.31      0.31      0.31    242528\n",
      "\n"
     ]
    }
   ],
   "source": [
    "print(classification_report(y_test_new, y_pred_new, target_names=y_new.columns))\n",
    "#print(\"F1-score of positive classes:\", f1_score(y_test_new, y_pred_new, labels=np.unique(y_pred_new), average=None))\n",
    "#print(\"F1-score (micro):\", f1_score(y_test_new, y_pred_new, labels=np.unique(y_pred_new), average='micro'))\n",
    "#print(\"F1-score (macro):\", f1_score(y_test_new, y_pred_new, labels=np.unique(y_pred_new), average='macro'))\n",
    "#print(\"F1-score (weighted):\", f1_score(y_test_new, y_pred_new, labels=np.unique(y_pred_new), average='weighted'))"
   ]
  },
  {
   "cell_type": "code",
   "execution_count": 103,
   "metadata": {},
   "outputs": [
    {
     "name": "stdout",
     "output_type": "stream",
     "text": [
      "                   precision    recall  f1-score   support\n",
      "\n",
      "      health_Fair       0.78      0.01      0.01     58729\n",
      "      health_Poor       0.58      0.20      0.29     65697\n",
      "      health_Good       0.33      0.96      0.49     52885\n",
      "health_Dead|Stump       1.00      1.00      1.00     65217\n",
      "\n",
      "        micro avg       0.53      0.53      0.53    242528\n",
      "        macro avg       0.67      0.54      0.45    242528\n",
      "     weighted avg       0.69      0.53      0.46    242528\n",
      "      samples avg       0.53      0.53      0.53    242528\n",
      "\n"
     ]
    },
    {
     "name": "stderr",
     "output_type": "stream",
     "text": [
      "C:\\ProgramData\\Anaconda3\\lib\\site-packages\\sklearn\\metrics\\_classification.py:1268: UndefinedMetricWarning: Precision and F-score are ill-defined and being set to 0.0 in samples with no predicted labels. Use `zero_division` parameter to control this behavior.\n",
      "  _warn_prf(average, modifier, msg_start, len(result))\n"
     ]
    }
   ],
   "source": [
    "print(classification_report(y_test_new, y_pred_new, target_names=y_new.columns))"
   ]
  },
  {
   "cell_type": "code",
   "execution_count": 77,
   "metadata": {},
   "outputs": [
    {
     "name": "stdout",
     "output_type": "stream",
     "text": [
      "0.8157791596225731\n"
     ]
    }
   ],
   "source": [
    "# class_weight=class_weight_manip\n",
    "rdf_clf = RandomForestClassifier()\n",
    "rdf_clf.fit(x_train, y_train)\n",
    "y_pred = rdf_clf.predict(x_test)\n",
    "print(accuracy_score(y_test, y_pred))"
   ]
  },
  {
   "cell_type": "code",
   "execution_count": 78,
   "metadata": {},
   "outputs": [
    {
     "name": "stderr",
     "output_type": "stream",
     "text": [
      "C:\\ProgramData\\Anaconda3\\lib\\site-packages\\sklearn\\metrics\\_classification.py:1268: UndefinedMetricWarning: Precision and F-score are ill-defined and being set to 0.0 in samples with no predicted labels. Use `zero_division` parameter to control this behavior.\n",
      "  _warn_prf(average, modifier, msg_start, len(result))\n"
     ]
    },
    {
     "name": "stdout",
     "output_type": "stream",
     "text": [
      "                   precision    recall  f1-score   support\n",
      "\n",
      "health_Dead|Stump       1.00      1.00      1.00     15808\n",
      "      health_Fair       0.33      0.00      0.01     48252\n",
      "      health_Good       0.82      0.99      0.90    264425\n",
      "      health_Poor       0.23      0.00      0.00     13409\n",
      "\n",
      "        micro avg       0.82      0.82      0.82    341894\n",
      "        macro avg       0.59      0.50      0.48    341894\n",
      "     weighted avg       0.73      0.82      0.74    341894\n",
      "      samples avg       0.82      0.82      0.82    341894\n",
      "\n",
      "F1-score of positive classes: [1.         0.00595556]\n",
      "F1-score (micro): 0.3972855186153655\n",
      "F1-score (macro): 0.5029777796032365\n",
      "F1-score (weighted): 0.2512545682614852\n"
     ]
    }
   ],
   "source": [
    "# \"if the macromedia result is significantly lower than the micromedia one, it means your smaller labels\n",
    "# are poorly classified, whereas your larger ones are probably correctly classified.\"\n",
    "print(classification_report(y_test, y_pred, target_names=y.columns))\n",
    "print(\"F1-score of positive classes:\", f1_score(y_test, y_pred, labels=np.unique(y_pred), average=None))\n",
    "print(\"F1-score (micro):\", f1_score(y_test, y_pred, labels=np.unique(y_pred), average='micro'))\n",
    "print(\"F1-score (macro):\", f1_score(y_test, y_pred, labels=np.unique(y_pred), average='macro'))\n",
    "print(\"F1-score (weighted):\", f1_score(y_test, y_pred, labels=np.unique(y_pred), average='weighted'))"
   ]
  },
  {
   "cell_type": "code",
   "execution_count": 81,
   "metadata": {
    "scrolled": true
   },
   "outputs": [
    {
     "name": "stdout",
     "output_type": "stream",
     "text": [
      "steward_Dead|Stump                   0.298415\n",
      "steward_Alive                        0.254103\n",
      "guards_Dead|Stump                    0.209015\n",
      "guards_None                          0.059262\n",
      "sidewalk_NoDamage                    0.031818\n",
      "brch_other_No                        0.023798\n",
      "sidewalk_Damage                      0.023647\n",
      "brch_other_Yes                       0.022850\n",
      "trnk_other_No                        0.017567\n",
      "trnk_other_Yes                       0.017058\n",
      "guards_Helpful                       0.006880\n",
      "root_stone_Yes                       0.004116\n",
      "guards_Harmful                       0.003389\n",
      "root_other_No                        0.003287\n",
      "root_other_Yes                       0.002945\n",
      "root_stone_No                        0.002573\n",
      "brch_light_No                        0.002144\n",
      "brch_light_Yes                       0.002086\n",
      "trunk_wire_No                        0.002025\n",
      "trunk_wire_Yes                       0.001928\n",
      "guards_Unsure                        0.001827\n",
      "n_neighbors_no neighbor              0.001735\n",
      "n_neighbors_one neighbor             0.001467\n",
      "root_grate_No                        0.001375\n",
      "root_grate_Yes                       0.001301\n",
      "n_neighbors_two or more neighbors    0.001006\n",
      "trnk_light_No                        0.000792\n",
      "trnk_light_Yes                       0.000777\n",
      "brch_shoe_Yes                        0.000436\n",
      "brch_shoe_No                         0.000376\n",
      "dtype: float64\n"
     ]
    }
   ],
   "source": [
    "feature_imp = pd.Series(rdf_clf.feature_importances_, index=x.columns).sort_values(ascending=False)\n",
    "print(feature_imp)"
   ]
  },
  {
   "cell_type": "code",
   "execution_count": 109,
   "metadata": {},
   "outputs": [
    {
     "name": "stdout",
     "output_type": "stream",
     "text": [
      "Accuracy score: 0.8159341784295717\n"
     ]
    }
   ],
   "source": [
    "# Training & pruning with model-based feature selection.\n",
    "rdf_clf_sm = SelectFromModel(RandomForestClassifier(random_state=0), threshold='median')\n",
    "rdf_clf_sm.fit(x_train, y_train)\n",
    "x_train_fs = rdf_clf_sm.transform(x_train)\n",
    "x_test_fs = rdf_clf_sm.transform(x_test)\n",
    "rdf_clf_n = RandomForestClassifier(random_state=0).fit(x_train_fs, y_train)\n",
    "y_pred_fs = rdf_clf_n.predict(x_test_fs)\n",
    "accuracy = rdf_clf_n.score(x_test_fs, y_test)\n",
    "print(\"Accuracy score:\", accuracy)"
   ]
  },
  {
   "cell_type": "code",
   "execution_count": 110,
   "metadata": {},
   "outputs": [
    {
     "name": "stdout",
     "output_type": "stream",
     "text": [
      "steward_Dead|Stump    0.305886\n",
      "guards_Dead|Stump     0.277009\n",
      "steward_Alive         0.211296\n",
      "guards_None           0.054011\n",
      "brch_other_Yes        0.025025\n",
      "brch_other_No         0.022733\n",
      "sidewalk_Damage       0.019883\n",
      "sidewalk_NoDamage     0.019418\n",
      "trnk_other_No         0.018776\n",
      "trnk_other_Yes        0.016902\n",
      "guards_Helpful        0.014148\n",
      "root_stone_Yes        0.006175\n",
      "guards_Harmful        0.003652\n",
      "root_other_Yes        0.002673\n",
      "root_other_No         0.002412\n",
      "dtype: float64\n"
     ]
    }
   ],
   "source": [
    "feature_imp = pd.Series(rdf_clf_n.feature_importances_, index=x.columns[rdf_clf_sm.get_support()]).sort_values(ascending=False)\n",
    "print(feature_imp)"
   ]
  },
  {
   "cell_type": "code",
   "execution_count": 111,
   "metadata": {},
   "outputs": [
    {
     "name": "stdout",
     "output_type": "stream",
     "text": [
      "                   precision    recall  f1-score   support\n",
      "\n",
      "health_Dead|Stump       1.00      1.00      1.00     15808\n",
      "      health_Fair       0.34      0.00      0.00     48252\n",
      "      health_Good       0.82      1.00      0.90    264425\n",
      "      health_Poor       0.00      0.00      0.00     13409\n",
      "\n",
      "        micro avg       0.82      0.82      0.82    341894\n",
      "        macro avg       0.54      0.50      0.47    341894\n",
      "     weighted avg       0.72      0.82      0.74    341894\n",
      "      samples avg       0.82      0.82      0.82    341894\n",
      "\n"
     ]
    },
    {
     "name": "stderr",
     "output_type": "stream",
     "text": [
      "C:\\ProgramData\\Anaconda3\\lib\\site-packages\\sklearn\\metrics\\_classification.py:1268: UndefinedMetricWarning: Precision and F-score are ill-defined and being set to 0.0 in samples with no predicted labels. Use `zero_division` parameter to control this behavior.\n",
      "  _warn_prf(average, modifier, msg_start, len(result))\n"
     ]
    }
   ],
   "source": [
    "print(classification_report(y_test, y_pred_fs, target_names=y.columns))"
   ]
  },
  {
   "cell_type": "code",
   "execution_count": 113,
   "metadata": {},
   "outputs": [
    {
     "name": "stdout",
     "output_type": "stream",
     "text": [
      "Accuracy score: 0.3103064388441747\n"
     ]
    }
   ],
   "source": [
    "rdf_clf_sm = SelectFromModel(RandomForestClassifier(random_state=0), threshold='median')\n",
    "rdf_clf_sm.fit(x_train_new, y_train_new)\n",
    "x_train_new_fs = rdf_clf_sm.transform(x_train_new)\n",
    "x_test_new_fs = rdf_clf_sm.transform(x_test_new)\n",
    "rdf_clf_n = RandomForestClassifier(random_state=0).fit(x_train_new_fs, y_train_new)\n",
    "y_pred_new_fs = rdf_clf_n.predict(x_test_new_fs)\n",
    "accuracy = rdf_clf_n.score(x_test_new_fs, y_test_new)\n",
    "print(\"Accuracy score:\", accuracy)"
   ]
  },
  {
   "cell_type": "code",
   "execution_count": 114,
   "metadata": {},
   "outputs": [
    {
     "name": "stdout",
     "output_type": "stream",
     "text": [
      "steward_Dead|Stump    0.301071\n",
      "guards_Dead|Stump     0.263500\n",
      "steward_Alive         0.197443\n",
      "guards_None           0.099378\n",
      "sidewalk_NoDamage     0.066370\n",
      "brch_other_Yes        0.012644\n",
      "trnk_other_Yes        0.010351\n",
      "brch_other_No         0.010345\n",
      "sidewalk_Damage       0.010074\n",
      "trnk_other_No         0.006145\n",
      "root_stone_No         0.006104\n",
      "root_stone_Yes        0.005835\n",
      "guards_Helpful        0.004306\n",
      "brch_light_Yes        0.004171\n",
      "guards_Harmful        0.002264\n",
      "dtype: float64\n"
     ]
    }
   ],
   "source": [
    "feature_imp = pd.Series(rdf_clf_n.feature_importances_, index=x.columns[rdf_clf_sm.get_support()]).sort_values(ascending=False)\n",
    "print(feature_imp)"
   ]
  },
  {
   "cell_type": "code",
   "execution_count": 115,
   "metadata": {},
   "outputs": [
    {
     "name": "stdout",
     "output_type": "stream",
     "text": [
      "                   precision    recall  f1-score   support\n",
      "\n",
      "health_Dead|Stump       0.57      0.01      0.02     58729\n",
      "      health_Fair       0.61      0.15      0.23     65697\n",
      "      health_Good       0.62      0.00      0.00     52885\n",
      "      health_Poor       1.00      1.00      1.00     65217\n",
      "\n",
      "        micro avg       0.92      0.31      0.46    242528\n",
      "        macro avg       0.70      0.29      0.31    242528\n",
      "     weighted avg       0.71      0.31      0.34    242528\n",
      "      samples avg       0.31      0.31      0.31    242528\n",
      "\n"
     ]
    },
    {
     "name": "stderr",
     "output_type": "stream",
     "text": [
      "C:\\ProgramData\\Anaconda3\\lib\\site-packages\\sklearn\\metrics\\_classification.py:1268: UndefinedMetricWarning: Precision and F-score are ill-defined and being set to 0.0 in samples with no predicted labels. Use `zero_division` parameter to control this behavior.\n",
      "  _warn_prf(average, modifier, msg_start, len(result))\n"
     ]
    }
   ],
   "source": [
    "print(classification_report(y_test_new, y_pred_new_fs, target_names=y.columns))"
   ]
  },
  {
   "cell_type": "code",
   "execution_count": null,
   "metadata": {},
   "outputs": [],
   "source": []
  },
  {
   "cell_type": "code",
   "execution_count": null,
   "metadata": {},
   "outputs": [],
   "source": []
  },
  {
   "cell_type": "code",
   "execution_count": 51,
   "metadata": {},
   "outputs": [
    {
     "data": {
      "text/plain": [
       "(0.6036339939433434, 0.6666666666666666, 0.6318593312306401, None)"
      ]
     },
     "execution_count": 51,
     "metadata": {},
     "output_type": "execute_result"
    }
   ],
   "source": [
    "precision_recall_fscore_support(y_test, y_pred, average='macro')"
   ]
  },
  {
   "cell_type": "code",
   "execution_count": 56,
   "metadata": {},
   "outputs": [
    {
     "name": "stdout",
     "output_type": "stream",
     "text": [
      "health_Dead|Stump\n",
      "0    652172\n",
      "1     31616\n",
      "Name: health_Dead|Stump, dtype: int64\n",
      "health_Good\n",
      "1    528850\n",
      "0    154938\n",
      "Name: health_Good, dtype: int64\n",
      "health_Poor|Fair\n",
      "0    560466\n",
      "1    123322\n",
      "Name: health_Poor|Fair, dtype: int64\n"
     ]
    }
   ],
   "source": [
    "for col in y:\n",
    "    print(col)\n",
    "    print(y[col].value_counts())"
   ]
  },
  {
   "cell_type": "code",
   "execution_count": 60,
   "metadata": {},
   "outputs": [
    {
     "data": {
      "text/html": [
       "<div>\n",
       "<style scoped>\n",
       "    .dataframe tbody tr th:only-of-type {\n",
       "        vertical-align: middle;\n",
       "    }\n",
       "\n",
       "    .dataframe tbody tr th {\n",
       "        vertical-align: top;\n",
       "    }\n",
       "\n",
       "    .dataframe thead th {\n",
       "        text-align: right;\n",
       "    }\n",
       "</style>\n",
       "<table border=\"1\" class=\"dataframe\">\n",
       "  <thead>\n",
       "    <tr style=\"text-align: right;\">\n",
       "      <th></th>\n",
       "      <th>tree_id</th>\n",
       "      <th>steward_Alive</th>\n",
       "      <th>steward_Dead|Stump</th>\n",
       "      <th>guards_Dead|Stump</th>\n",
       "      <th>guards_Harmful</th>\n",
       "      <th>guards_Helpful</th>\n",
       "      <th>guards_None</th>\n",
       "      <th>guards_Unsure</th>\n",
       "      <th>root_stone_No</th>\n",
       "      <th>root_stone_Yes</th>\n",
       "      <th>root_grate_No</th>\n",
       "      <th>root_grate_Yes</th>\n",
       "      <th>root_other_No</th>\n",
       "      <th>root_other_Yes</th>\n",
       "      <th>trunk_wire_No</th>\n",
       "      <th>trunk_wire_Yes</th>\n",
       "      <th>trnk_light_No</th>\n",
       "      <th>trnk_light_Yes</th>\n",
       "      <th>trnk_other_No</th>\n",
       "      <th>trnk_other_Yes</th>\n",
       "      <th>brch_light_No</th>\n",
       "      <th>brch_light_Yes</th>\n",
       "      <th>brch_shoe_No</th>\n",
       "      <th>brch_shoe_Yes</th>\n",
       "      <th>brch_other_No</th>\n",
       "      <th>brch_other_Yes</th>\n",
       "      <th>circles_one neighbor</th>\n",
       "      <th>circles_two or more neighbors</th>\n",
       "      <th>health_Dead|Stump</th>\n",
       "      <th>health_Good</th>\n",
       "      <th>health_Poor|Fair</th>\n",
       "    </tr>\n",
       "  </thead>\n",
       "  <tbody>\n",
       "    <tr>\n",
       "      <th>count</th>\n",
       "      <td>123322.000000</td>\n",
       "      <td>123322.0</td>\n",
       "      <td>123322.0</td>\n",
       "      <td>123322.000000</td>\n",
       "      <td>123322.000000</td>\n",
       "      <td>123322.000000</td>\n",
       "      <td>123322.000000</td>\n",
       "      <td>123322.000000</td>\n",
       "      <td>123322.000000</td>\n",
       "      <td>123322.000000</td>\n",
       "      <td>123322.000000</td>\n",
       "      <td>123322.000000</td>\n",
       "      <td>123322.000000</td>\n",
       "      <td>123322.000000</td>\n",
       "      <td>123322.000000</td>\n",
       "      <td>123322.000000</td>\n",
       "      <td>123322.000000</td>\n",
       "      <td>123322.000000</td>\n",
       "      <td>123322.000000</td>\n",
       "      <td>123322.000000</td>\n",
       "      <td>123322.000000</td>\n",
       "      <td>123322.000000</td>\n",
       "      <td>123322.000000</td>\n",
       "      <td>123322.000000</td>\n",
       "      <td>123322.000000</td>\n",
       "      <td>123322.000000</td>\n",
       "      <td>123322.000000</td>\n",
       "      <td>123322.000000</td>\n",
       "      <td>123322.0</td>\n",
       "      <td>123322.0</td>\n",
       "      <td>123322.0</td>\n",
       "    </tr>\n",
       "    <tr>\n",
       "      <th>mean</th>\n",
       "      <td>312148.365823</td>\n",
       "      <td>1.0</td>\n",
       "      <td>0.0</td>\n",
       "      <td>0.000008</td>\n",
       "      <td>0.039977</td>\n",
       "      <td>0.074828</td>\n",
       "      <td>0.870299</td>\n",
       "      <td>0.014888</td>\n",
       "      <td>0.767381</td>\n",
       "      <td>0.232619</td>\n",
       "      <td>0.991023</td>\n",
       "      <td>0.008977</td>\n",
       "      <td>0.930199</td>\n",
       "      <td>0.069801</td>\n",
       "      <td>0.971465</td>\n",
       "      <td>0.028535</td>\n",
       "      <td>0.997754</td>\n",
       "      <td>0.002246</td>\n",
       "      <td>0.892152</td>\n",
       "      <td>0.107848</td>\n",
       "      <td>0.892201</td>\n",
       "      <td>0.107799</td>\n",
       "      <td>0.998978</td>\n",
       "      <td>0.001022</td>\n",
       "      <td>0.906375</td>\n",
       "      <td>0.093625</td>\n",
       "      <td>0.652803</td>\n",
       "      <td>0.347197</td>\n",
       "      <td>0.0</td>\n",
       "      <td>0.0</td>\n",
       "      <td>1.0</td>\n",
       "    </tr>\n",
       "    <tr>\n",
       "      <th>std</th>\n",
       "      <td>199996.442662</td>\n",
       "      <td>0.0</td>\n",
       "      <td>0.0</td>\n",
       "      <td>0.002848</td>\n",
       "      <td>0.195905</td>\n",
       "      <td>0.263115</td>\n",
       "      <td>0.335976</td>\n",
       "      <td>0.121105</td>\n",
       "      <td>0.422503</td>\n",
       "      <td>0.422503</td>\n",
       "      <td>0.094319</td>\n",
       "      <td>0.094319</td>\n",
       "      <td>0.254812</td>\n",
       "      <td>0.254812</td>\n",
       "      <td>0.166496</td>\n",
       "      <td>0.166496</td>\n",
       "      <td>0.047341</td>\n",
       "      <td>0.047341</td>\n",
       "      <td>0.310189</td>\n",
       "      <td>0.310189</td>\n",
       "      <td>0.310128</td>\n",
       "      <td>0.310128</td>\n",
       "      <td>0.031948</td>\n",
       "      <td>0.031948</td>\n",
       "      <td>0.291307</td>\n",
       "      <td>0.291307</td>\n",
       "      <td>0.476081</td>\n",
       "      <td>0.476081</td>\n",
       "      <td>0.0</td>\n",
       "      <td>0.0</td>\n",
       "      <td>0.0</td>\n",
       "    </tr>\n",
       "    <tr>\n",
       "      <th>min</th>\n",
       "      <td>7.000000</td>\n",
       "      <td>1.0</td>\n",
       "      <td>0.0</td>\n",
       "      <td>0.000000</td>\n",
       "      <td>0.000000</td>\n",
       "      <td>0.000000</td>\n",
       "      <td>0.000000</td>\n",
       "      <td>0.000000</td>\n",
       "      <td>0.000000</td>\n",
       "      <td>0.000000</td>\n",
       "      <td>0.000000</td>\n",
       "      <td>0.000000</td>\n",
       "      <td>0.000000</td>\n",
       "      <td>0.000000</td>\n",
       "      <td>0.000000</td>\n",
       "      <td>0.000000</td>\n",
       "      <td>0.000000</td>\n",
       "      <td>0.000000</td>\n",
       "      <td>0.000000</td>\n",
       "      <td>0.000000</td>\n",
       "      <td>0.000000</td>\n",
       "      <td>0.000000</td>\n",
       "      <td>0.000000</td>\n",
       "      <td>0.000000</td>\n",
       "      <td>0.000000</td>\n",
       "      <td>0.000000</td>\n",
       "      <td>0.000000</td>\n",
       "      <td>0.000000</td>\n",
       "      <td>0.0</td>\n",
       "      <td>0.0</td>\n",
       "      <td>1.0</td>\n",
       "    </tr>\n",
       "    <tr>\n",
       "      <th>25%</th>\n",
       "      <td>144045.750000</td>\n",
       "      <td>1.0</td>\n",
       "      <td>0.0</td>\n",
       "      <td>0.000000</td>\n",
       "      <td>0.000000</td>\n",
       "      <td>0.000000</td>\n",
       "      <td>1.000000</td>\n",
       "      <td>0.000000</td>\n",
       "      <td>1.000000</td>\n",
       "      <td>0.000000</td>\n",
       "      <td>1.000000</td>\n",
       "      <td>0.000000</td>\n",
       "      <td>1.000000</td>\n",
       "      <td>0.000000</td>\n",
       "      <td>1.000000</td>\n",
       "      <td>0.000000</td>\n",
       "      <td>1.000000</td>\n",
       "      <td>0.000000</td>\n",
       "      <td>1.000000</td>\n",
       "      <td>0.000000</td>\n",
       "      <td>1.000000</td>\n",
       "      <td>0.000000</td>\n",
       "      <td>1.000000</td>\n",
       "      <td>0.000000</td>\n",
       "      <td>1.000000</td>\n",
       "      <td>0.000000</td>\n",
       "      <td>0.000000</td>\n",
       "      <td>0.000000</td>\n",
       "      <td>0.0</td>\n",
       "      <td>0.0</td>\n",
       "      <td>1.0</td>\n",
       "    </tr>\n",
       "    <tr>\n",
       "      <th>50%</th>\n",
       "      <td>286565.000000</td>\n",
       "      <td>1.0</td>\n",
       "      <td>0.0</td>\n",
       "      <td>0.000000</td>\n",
       "      <td>0.000000</td>\n",
       "      <td>0.000000</td>\n",
       "      <td>1.000000</td>\n",
       "      <td>0.000000</td>\n",
       "      <td>1.000000</td>\n",
       "      <td>0.000000</td>\n",
       "      <td>1.000000</td>\n",
       "      <td>0.000000</td>\n",
       "      <td>1.000000</td>\n",
       "      <td>0.000000</td>\n",
       "      <td>1.000000</td>\n",
       "      <td>0.000000</td>\n",
       "      <td>1.000000</td>\n",
       "      <td>0.000000</td>\n",
       "      <td>1.000000</td>\n",
       "      <td>0.000000</td>\n",
       "      <td>1.000000</td>\n",
       "      <td>0.000000</td>\n",
       "      <td>1.000000</td>\n",
       "      <td>0.000000</td>\n",
       "      <td>1.000000</td>\n",
       "      <td>0.000000</td>\n",
       "      <td>1.000000</td>\n",
       "      <td>0.000000</td>\n",
       "      <td>0.0</td>\n",
       "      <td>0.0</td>\n",
       "      <td>1.0</td>\n",
       "    </tr>\n",
       "    <tr>\n",
       "      <th>75%</th>\n",
       "      <td>472063.750000</td>\n",
       "      <td>1.0</td>\n",
       "      <td>0.0</td>\n",
       "      <td>0.000000</td>\n",
       "      <td>0.000000</td>\n",
       "      <td>0.000000</td>\n",
       "      <td>1.000000</td>\n",
       "      <td>0.000000</td>\n",
       "      <td>1.000000</td>\n",
       "      <td>0.000000</td>\n",
       "      <td>1.000000</td>\n",
       "      <td>0.000000</td>\n",
       "      <td>1.000000</td>\n",
       "      <td>0.000000</td>\n",
       "      <td>1.000000</td>\n",
       "      <td>0.000000</td>\n",
       "      <td>1.000000</td>\n",
       "      <td>0.000000</td>\n",
       "      <td>1.000000</td>\n",
       "      <td>0.000000</td>\n",
       "      <td>1.000000</td>\n",
       "      <td>0.000000</td>\n",
       "      <td>1.000000</td>\n",
       "      <td>0.000000</td>\n",
       "      <td>1.000000</td>\n",
       "      <td>0.000000</td>\n",
       "      <td>1.000000</td>\n",
       "      <td>1.000000</td>\n",
       "      <td>0.0</td>\n",
       "      <td>0.0</td>\n",
       "      <td>1.0</td>\n",
       "    </tr>\n",
       "    <tr>\n",
       "      <th>max</th>\n",
       "      <td>722688.000000</td>\n",
       "      <td>1.0</td>\n",
       "      <td>0.0</td>\n",
       "      <td>1.000000</td>\n",
       "      <td>1.000000</td>\n",
       "      <td>1.000000</td>\n",
       "      <td>1.000000</td>\n",
       "      <td>1.000000</td>\n",
       "      <td>1.000000</td>\n",
       "      <td>1.000000</td>\n",
       "      <td>1.000000</td>\n",
       "      <td>1.000000</td>\n",
       "      <td>1.000000</td>\n",
       "      <td>1.000000</td>\n",
       "      <td>1.000000</td>\n",
       "      <td>1.000000</td>\n",
       "      <td>1.000000</td>\n",
       "      <td>1.000000</td>\n",
       "      <td>1.000000</td>\n",
       "      <td>1.000000</td>\n",
       "      <td>1.000000</td>\n",
       "      <td>1.000000</td>\n",
       "      <td>1.000000</td>\n",
       "      <td>1.000000</td>\n",
       "      <td>1.000000</td>\n",
       "      <td>1.000000</td>\n",
       "      <td>1.000000</td>\n",
       "      <td>1.000000</td>\n",
       "      <td>0.0</td>\n",
       "      <td>0.0</td>\n",
       "      <td>1.0</td>\n",
       "    </tr>\n",
       "  </tbody>\n",
       "</table>\n",
       "</div>"
      ],
      "text/plain": [
       "             tree_id  steward_Alive  steward_Dead|Stump  guards_Dead|Stump  \\\n",
       "count  123322.000000       123322.0            123322.0      123322.000000   \n",
       "mean   312148.365823            1.0                 0.0           0.000008   \n",
       "std    199996.442662            0.0                 0.0           0.002848   \n",
       "min         7.000000            1.0                 0.0           0.000000   \n",
       "25%    144045.750000            1.0                 0.0           0.000000   \n",
       "50%    286565.000000            1.0                 0.0           0.000000   \n",
       "75%    472063.750000            1.0                 0.0           0.000000   \n",
       "max    722688.000000            1.0                 0.0           1.000000   \n",
       "\n",
       "       guards_Harmful  guards_Helpful    guards_None  guards_Unsure  \\\n",
       "count   123322.000000   123322.000000  123322.000000  123322.000000   \n",
       "mean         0.039977        0.074828       0.870299       0.014888   \n",
       "std          0.195905        0.263115       0.335976       0.121105   \n",
       "min          0.000000        0.000000       0.000000       0.000000   \n",
       "25%          0.000000        0.000000       1.000000       0.000000   \n",
       "50%          0.000000        0.000000       1.000000       0.000000   \n",
       "75%          0.000000        0.000000       1.000000       0.000000   \n",
       "max          1.000000        1.000000       1.000000       1.000000   \n",
       "\n",
       "       root_stone_No  root_stone_Yes  root_grate_No  root_grate_Yes  \\\n",
       "count  123322.000000   123322.000000  123322.000000   123322.000000   \n",
       "mean        0.767381        0.232619       0.991023        0.008977   \n",
       "std         0.422503        0.422503       0.094319        0.094319   \n",
       "min         0.000000        0.000000       0.000000        0.000000   \n",
       "25%         1.000000        0.000000       1.000000        0.000000   \n",
       "50%         1.000000        0.000000       1.000000        0.000000   \n",
       "75%         1.000000        0.000000       1.000000        0.000000   \n",
       "max         1.000000        1.000000       1.000000        1.000000   \n",
       "\n",
       "       root_other_No  root_other_Yes  trunk_wire_No  trunk_wire_Yes  \\\n",
       "count  123322.000000   123322.000000  123322.000000   123322.000000   \n",
       "mean        0.930199        0.069801       0.971465        0.028535   \n",
       "std         0.254812        0.254812       0.166496        0.166496   \n",
       "min         0.000000        0.000000       0.000000        0.000000   \n",
       "25%         1.000000        0.000000       1.000000        0.000000   \n",
       "50%         1.000000        0.000000       1.000000        0.000000   \n",
       "75%         1.000000        0.000000       1.000000        0.000000   \n",
       "max         1.000000        1.000000       1.000000        1.000000   \n",
       "\n",
       "       trnk_light_No  trnk_light_Yes  trnk_other_No  trnk_other_Yes  \\\n",
       "count  123322.000000   123322.000000  123322.000000   123322.000000   \n",
       "mean        0.997754        0.002246       0.892152        0.107848   \n",
       "std         0.047341        0.047341       0.310189        0.310189   \n",
       "min         0.000000        0.000000       0.000000        0.000000   \n",
       "25%         1.000000        0.000000       1.000000        0.000000   \n",
       "50%         1.000000        0.000000       1.000000        0.000000   \n",
       "75%         1.000000        0.000000       1.000000        0.000000   \n",
       "max         1.000000        1.000000       1.000000        1.000000   \n",
       "\n",
       "       brch_light_No  brch_light_Yes   brch_shoe_No  brch_shoe_Yes  \\\n",
       "count  123322.000000   123322.000000  123322.000000  123322.000000   \n",
       "mean        0.892201        0.107799       0.998978       0.001022   \n",
       "std         0.310128        0.310128       0.031948       0.031948   \n",
       "min         0.000000        0.000000       0.000000       0.000000   \n",
       "25%         1.000000        0.000000       1.000000       0.000000   \n",
       "50%         1.000000        0.000000       1.000000       0.000000   \n",
       "75%         1.000000        0.000000       1.000000       0.000000   \n",
       "max         1.000000        1.000000       1.000000       1.000000   \n",
       "\n",
       "       brch_other_No  brch_other_Yes  circles_one neighbor  \\\n",
       "count  123322.000000   123322.000000         123322.000000   \n",
       "mean        0.906375        0.093625              0.652803   \n",
       "std         0.291307        0.291307              0.476081   \n",
       "min         0.000000        0.000000              0.000000   \n",
       "25%         1.000000        0.000000              0.000000   \n",
       "50%         1.000000        0.000000              1.000000   \n",
       "75%         1.000000        0.000000              1.000000   \n",
       "max         1.000000        1.000000              1.000000   \n",
       "\n",
       "       circles_two or more neighbors  health_Dead|Stump  health_Good  \\\n",
       "count                  123322.000000           123322.0     123322.0   \n",
       "mean                        0.347197                0.0          0.0   \n",
       "std                         0.476081                0.0          0.0   \n",
       "min                         0.000000                0.0          0.0   \n",
       "25%                         0.000000                0.0          0.0   \n",
       "50%                         0.000000                0.0          0.0   \n",
       "75%                         1.000000                0.0          0.0   \n",
       "max                         1.000000                0.0          0.0   \n",
       "\n",
       "       health_Poor|Fair  \n",
       "count          123322.0  \n",
       "mean                1.0  \n",
       "std                 0.0  \n",
       "min                 1.0  \n",
       "25%                 1.0  \n",
       "50%                 1.0  \n",
       "75%                 1.0  \n",
       "max                 1.0  "
      ]
     },
     "execution_count": 60,
     "metadata": {},
     "output_type": "execute_result"
    }
   ],
   "source": [
    "df_sel_enc.loc[df_sel_enc['health_Poor|Fair'] == 1].describe()"
   ]
  },
  {
   "cell_type": "code",
   "execution_count": null,
   "metadata": {},
   "outputs": [],
   "source": []
  },
  {
   "cell_type": "code",
   "execution_count": null,
   "metadata": {
    "scrolled": true
   },
   "outputs": [],
   "source": [
    "rdf_clf_n.predict([probe])"
   ]
  },
  {
   "cell_type": "code",
   "execution_count": null,
   "metadata": {},
   "outputs": [],
   "source": [
    "parameter_grid = dict(n_estimators=list(range(5000, 6001, 1000)),\n",
    "                      criterion=['gini','entropy'],\n",
    "                      max_features=list(range(1, round(np.sqrt(len(x.columns))).astype(int), 6)))\n",
    "gcv_rdf_clf = GridSearchCV(estimator=rdf_clf, param_grid=parameter_grid, cv=5, verbose=1)"
   ]
  },
  {
   "cell_type": "code",
   "execution_count": null,
   "metadata": {},
   "outputs": [],
   "source": [
    "accuracy_scores = cross_val_score(gcv_rdf_clf, x_train, y_train)\n",
    "accuracy_scores"
   ]
  }
 ],
 "metadata": {
  "kernelspec": {
   "display_name": "Python 3",
   "language": "python",
   "name": "python3"
  },
  "language_info": {
   "codemirror_mode": {
    "name": "ipython",
    "version": 3
   },
   "file_extension": ".py",
   "mimetype": "text/x-python",
   "name": "python",
   "nbconvert_exporter": "python",
   "pygments_lexer": "ipython3",
   "version": "3.7.1"
  }
 },
 "nbformat": 4,
 "nbformat_minor": 2
}
