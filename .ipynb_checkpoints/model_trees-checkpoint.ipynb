{
 "cells": [
  {
   "cell_type": "code",
   "execution_count": null,
   "metadata": {},
   "outputs": [],
   "source": [
    "# Multiclass classification\n",
    "\n",
    "# nonlinear classifier - the RandomForestClassifier. It requires little hyperparameter tuning.\n",
    "\n",
    "# No need for imputing the missing data --> data description.\n",
    "\n",
    "# Problem: You can't see every tree.. predict the health of the tree."
   ]
  },
  {
   "cell_type": "code",
   "execution_count": 47,
   "metadata": {},
   "outputs": [],
   "source": [
    "# Import third-party packages.\n",
    "import datetime\n",
    "import geopandas as gpd\n",
    "import matplotlib.pyplot as plt\n",
    "import numpy as np\n",
    "import pandas as pd\n",
    "from scipy.spatial import cKDTree\n",
    "import seaborn as sns\n",
    "from shapely.geometry import Point\n",
    "from sklearn.ensemble import AdaBoostClassifier, RandomForestClassifier\n",
    "from sklearn.feature_selection import SelectFromModel, RFE\n",
    "from sklearn.metrics import accuracy_score, classification_report, f1_score, precision_recall_fscore_support\n",
    "from sklearn.model_selection import cross_val_score, GridSearchCV, StratifiedShuffleSplit, train_test_split\n",
    "\n",
    "%matplotlib inline\n",
    "\n",
    "# Change display settings for dataframes.\n",
    "pd.set_option('display.max_columns', None)"
   ]
  },
  {
   "cell_type": "code",
   "execution_count": 3,
   "metadata": {
    "scrolled": false
   },
   "outputs": [],
   "source": [
    "# Read in data on trees.\n",
    "#df_1995 = pd.read_csv('./data/nyc_trees/nyc_tree_census_1995.csv.gz', compression='gzip')\n",
    "#df_2005 = pd.read_csv('./data/nyc_trees/nyc_tree_census_2005.csv.gz', compression='gzip')\n",
    "df_2015 = pd.read_csv('./data/nyc_trees/nyc_tree_census_2015.csv.gz', compression='gzip')\n",
    "#df_1995.drop('Unnamed: 0', axis=1, inplace=True)\n",
    "#df_2005.drop('Unnamed: 0', axis=1, inplace=True)\n",
    "df_2015.drop('Unnamed: 0', axis=1, inplace=True)"
   ]
  },
  {
   "cell_type": "code",
   "execution_count": null,
   "metadata": {},
   "outputs": [],
   "source": [
    "# Read in geographic data on New York City.\n",
    "nyc = gpd.read_file('./data/nyc/nyc_geo.shp')"
   ]
  },
  {
   "cell_type": "code",
   "execution_count": 4,
   "metadata": {},
   "outputs": [],
   "source": [
    "test = df_2015.copy()"
   ]
  },
  {
   "cell_type": "code",
   "execution_count": 5,
   "metadata": {},
   "outputs": [],
   "source": [
    "test_geo = gpd.GeoDataFrame(test, geometry=[Point(coordinates) for coordinates in zip(test['longitude'], test['latitude'])])"
   ]
  },
  {
   "cell_type": "code",
   "execution_count": 6,
   "metadata": {},
   "outputs": [
    {
     "name": "stderr",
     "output_type": "stream",
     "text": [
      "C:\\ProgramData\\Anaconda3\\lib\\site-packages\\pyproj\\crs.py:77: FutureWarning: '+init=<authority>:<code>' syntax is deprecated. '<authority>:<code>' is the preferred initialization method.\n",
      "  return _prepare_from_string(\" \".join(pjargs))\n"
     ]
    }
   ],
   "source": [
    "test_geo.crs = {'init': 'epsg:4326', 'no_defs': True}\n",
    "test_geo = test_geo.to_crs(epsg=3857)\n",
    "test_geo.crs = {'init': 'epsg:3857', 'no_defs': True}"
   ]
  },
  {
   "cell_type": "code",
   "execution_count": 7,
   "metadata": {},
   "outputs": [
    {
     "name": "stderr",
     "output_type": "stream",
     "text": [
      "C:\\ProgramData\\Anaconda3\\lib\\site-packages\\pyproj\\crs.py:77: FutureWarning: '+init=<authority>:<code>' syntax is deprecated. '<authority>:<code>' is the preferred initialization method.\n",
      "  return _prepare_from_string(\" \".join(pjargs))\n"
     ]
    }
   ],
   "source": [
    "# Create circles with a 20m radius around each tree location. But since the radius of a tree might just touch another, the\n",
    "# maximum distance between such trees should be 20m and thus a radius of 10m each.\n",
    "buffers = test_geo.buffer(10)\n",
    "test_geo = test_geo.to_crs(epsg=4326)\n",
    "test_geo.crs = {'init': 'epsg:4326', 'no_defs': True}"
   ]
  },
  {
   "cell_type": "code",
   "execution_count": 8,
   "metadata": {},
   "outputs": [
    {
     "name": "stderr",
     "output_type": "stream",
     "text": [
      "C:\\ProgramData\\Anaconda3\\lib\\site-packages\\pyproj\\crs.py:77: FutureWarning: '+init=<authority>:<code>' syntax is deprecated. '<authority>:<code>' is the preferred initialization method.\n",
      "  return _prepare_from_string(\" \".join(pjargs))\n"
     ]
    }
   ],
   "source": [
    "buffers = buffers.to_crs(epsg=4326)\n",
    "buffers.crs = {'init': 'epsg:4326', 'no_defs': True}"
   ]
  },
  {
   "cell_type": "code",
   "execution_count": null,
   "metadata": {},
   "outputs": [],
   "source": [
    "nyc = nyc.to_crs(epsg=4326)\n",
    "nyc.crs = {'init': 'epsg:4326', 'no_defs': True}"
   ]
  },
  {
   "cell_type": "code",
   "execution_count": null,
   "metadata": {},
   "outputs": [],
   "source": [
    "circles = buffers.unary_union"
   ]
  },
  {
   "cell_type": "code",
   "execution_count": null,
   "metadata": {},
   "outputs": [],
   "source": [
    "a = nyc['geometry'].intersection(circles)"
   ]
  },
  {
   "cell_type": "code",
   "execution_count": null,
   "metadata": {},
   "outputs": [],
   "source": [
    "buffers"
   ]
  },
  {
   "cell_type": "code",
   "execution_count": 9,
   "metadata": {},
   "outputs": [],
   "source": [
    "buffers_gdf = gpd.GeoDataFrame(buffers, geometry=buffers)\n",
    "buffers_gdf.rename(columns={0:'circles'}, inplace=True)"
   ]
  },
  {
   "cell_type": "code",
   "execution_count": null,
   "metadata": {},
   "outputs": [],
   "source": [
    "test_geo.tree_id.nunique()"
   ]
  },
  {
   "cell_type": "code",
   "execution_count": 10,
   "metadata": {},
   "outputs": [],
   "source": [
    "res = gpd.sjoin(test_geo, buffers_gdf)"
   ]
  },
  {
   "cell_type": "code",
   "execution_count": 12,
   "metadata": {},
   "outputs": [],
   "source": [
    "n_neighbors = res.groupby('tree_id').count()"
   ]
  },
  {
   "cell_type": "code",
   "execution_count": 13,
   "metadata": {},
   "outputs": [],
   "source": [
    "test_new = pd.merge(test, n_neighbors[['circles']], on='tree_id', right_index=True)"
   ]
  },
  {
   "cell_type": "code",
   "execution_count": 19,
   "metadata": {
    "scrolled": true
   },
   "outputs": [
    {
     "data": {
      "text/plain": [
       "1     451367\n",
       "2     168522\n",
       "3      54210\n",
       "4       5531\n",
       "5       2210\n",
       "6        840\n",
       "7        394\n",
       "8        235\n",
       "9        145\n",
       "10        96\n",
       "12        52\n",
       "46        45\n",
       "29        28\n",
       "11        25\n",
       "15        20\n",
       "17        20\n",
       "18        18\n",
       "13        16\n",
       "16         5\n",
       "19         4\n",
       "20         2\n",
       "14         1\n",
       "30         1\n",
       "47         1\n",
       "Name: circles, dtype: int64"
      ]
     },
     "execution_count": 19,
     "metadata": {},
     "output_type": "execute_result"
    }
   ],
   "source": [
    "test_new.circles.value_counts()"
   ]
  },
  {
   "cell_type": "code",
   "execution_count": 20,
   "metadata": {},
   "outputs": [
    {
     "data": {
      "text/plain": [
       "count    683788.000000\n",
       "mean          1.464486\n",
       "std           0.881569\n",
       "min           1.000000\n",
       "25%           1.000000\n",
       "50%           1.000000\n",
       "75%           2.000000\n",
       "max          47.000000\n",
       "Name: circles, dtype: float64"
      ]
     },
     "execution_count": 20,
     "metadata": {},
     "output_type": "execute_result"
    }
   ],
   "source": [
    "test_new.circles.describe()"
   ]
  },
  {
   "cell_type": "code",
   "execution_count": 21,
   "metadata": {},
   "outputs": [],
   "source": [
    "# Encode the feature on the number of neighboring trees.\n",
    "test_new.loc[test_new['circles'] < 2, 'circles'] = 0.1 #few\n",
    "test_new.loc[test_new['circles'] >= 2, 'circles'] = 0.2 #many\n",
    "test_new.loc[test_new['circles'] == 0.1, 'circles'] = \"one neighbor\"\n",
    "test_new.loc[test_new['circles'] == 0.2, 'circles'] = \"two or more neighbors\""
   ]
  },
  {
   "cell_type": "code",
   "execution_count": null,
   "metadata": {
    "scrolled": true
   },
   "outputs": [],
   "source": [
    "# Encode the feature on the number of neighboring trees.\n",
    "test_new.loc[test_new['circles'] < 2, 'circles'] = 0.1 #few\n",
    "test_new.loc[((test_new['circles'] >= 2) & (test_new['circles'] <= 4)), 'circles'] = 0.2 #average\n",
    "test_new.loc[test_new['circles'] > 4, 'circles'] = 0.3 #many\n",
    "test_new.loc[test_new['circles'] == 0.1, 'circles'] = \"less than 2\"\n",
    "test_new.loc[test_new['circles'] == 0.2, 'circles'] = \"average\"\n",
    "test_new.loc[test_new['circles'] == 0.3, 'circles'] = \"more than 4\""
   ]
  },
  {
   "cell_type": "code",
   "execution_count": null,
   "metadata": {},
   "outputs": [],
   "source": [
    "# Nur für einen Eintrag\n",
    "neighbors = []\n",
    "for ind, i in enumerate(test_geo.index):\n",
    "    print(ind)\n",
    "    if test_geo['geometry'].loc[0].intersects(buffers.loc[i]):\n",
    "        neighbors.append(i)"
   ]
  },
  {
   "cell_type": "code",
   "execution_count": null,
   "metadata": {},
   "outputs": [],
   "source": [
    "# Circa mehr als 2 Tage Rechenaufwand..\n",
    "test_geo = test_geo.to_crs(epsg=3857)\n",
    "test_geo.crs = {'init': 'epsg:3857', 'no_defs': True}\n",
    "\n",
    "xs_all = test_geo['geometry'].x\n",
    "ys_all = test_geo['geometry'].y\n",
    "pot_neighbors = np.array(list(zip(xs_all, ys_all)))\n",
    "\n",
    "def n_neighbors(point, size=3, distance=10.0, potential_neighbors=pot_neighbors):\n",
    "    point = point.reshape(-1, 2)\n",
    "    bin_trie = cKDTree(point)\n",
    "    remaining_points = np.delete(potential_neighbors, np.where(potential_neighbors == point), axis=0).reshape(-1, 2)\n",
    "    dist, ids = bin_trie.query(remaining_points, k=size, distance_upper_bound=distance, n_jobs=-1)\n",
    "    count_neighbors = len(dist[dist != np.inf])\n",
    "    \n",
    "    return count_neighbors\n",
    "\n",
    "inp = np.array(list(zip(test_geo['geometry'].x.values, test_geo['geometry'].y.values)))\n",
    "\n",
    "test_geo['n_neighbors'] = [n_neighbors(i) for i in inp]"
   ]
  },
  {
   "cell_type": "code",
   "execution_count": null,
   "metadata": {},
   "outputs": [],
   "source": []
  },
  {
   "cell_type": "code",
   "execution_count": null,
   "metadata": {},
   "outputs": [],
   "source": [
    "sns.set(style='whitegrid')\n",
    "sns.mpl.rc('figure')\n",
    "fig, ax = plt.subplots()\n",
    "a.plot(ax=ax)"
   ]
  },
  {
   "cell_type": "code",
   "execution_count": null,
   "metadata": {},
   "outputs": [],
   "source": [
    "tree_radi = nyc.intersection(trees_geo_circs)\n",
    "tree_radi.plot(ax=ax)"
   ]
  },
  {
   "cell_type": "code",
   "execution_count": null,
   "metadata": {},
   "outputs": [],
   "source": []
  },
  {
   "cell_type": "code",
   "execution_count": null,
   "metadata": {},
   "outputs": [],
   "source": []
  },
  {
   "cell_type": "code",
   "execution_count": 67,
   "metadata": {
    "scrolled": false
   },
   "outputs": [
    {
     "name": "stderr",
     "output_type": "stream",
     "text": [
      "C:\\Users\\phill\\AppData\\Roaming\\Python\\Python37\\site-packages\\pandas\\core\\generic.py:6245: SettingWithCopyWarning: \n",
      "A value is trying to be set on a copy of a slice from a DataFrame\n",
      "\n",
      "See the caveats in the documentation: https://pandas.pydata.org/pandas-docs/stable/user_guide/indexing.html#returning-a-view-versus-a-copy\n",
      "  self._update_inplace(new_data)\n",
      "C:\\Users\\phill\\AppData\\Roaming\\Python\\Python37\\site-packages\\pandas\\core\\generic.py:6746: SettingWithCopyWarning: \n",
      "A value is trying to be set on a copy of a slice from a DataFrame\n",
      "\n",
      "See the caveats in the documentation: https://pandas.pydata.org/pandas-docs/stable/user_guide/indexing.html#returning-a-view-versus-a-copy\n",
      "  self._update_inplace(new_data)\n"
     ]
    }
   ],
   "source": [
    "df_sel = test_new[['tree_id',\n",
    "               'steward',\n",
    "               'guards',\n",
    "               'root_stone',\n",
    "               'root_grate',\n",
    "               'root_other',\n",
    "               'trunk_wire',\n",
    "               'trnk_light',\n",
    "               'trnk_other',\n",
    "               'brch_light',\n",
    "               'brch_shoe',\n",
    "               'brch_other',\n",
    "               'circles',\n",
    "               'health']]\n",
    "\n",
    "# Replace NaN values in features with entries signalling this tree is either dead or a stump.\n",
    "df_sel['steward'].fillna('Dead|Stump', inplace=True)\n",
    "df_sel['guards'].fillna('Dead|Stump', inplace=True)\n",
    "\n",
    "# In 'steward', replace spectrum of answers to yes (= alive) or no (= dead/stump).\n",
    "df_sel['steward'].replace(['1or2', '3or4', '4orMore', 'None'], 'Alive', inplace=True)\n",
    "\n",
    "# Replace NaN values in the target with entries signalling this tree is either dead or a stump.\n",
    "df_sel['health'].fillna('Dead|Stump', inplace=True)\n",
    "\n",
    "#df_sel['health'].replace(['Poor', 'Fair'], 'Poor|Fair', inplace=True)\n",
    "\n",
    "# One-hot encoding the categorical features and the target.\n",
    "df_sel_enc = pd.get_dummies(df_sel)"
   ]
  },
  {
   "cell_type": "code",
   "execution_count": 70,
   "metadata": {},
   "outputs": [
    {
     "data": {
      "image/png": "[encoded data removed]",
      "text/plain": [
       "<Figure size 1800x1440 with 2 Axes>"
      ]
     },
     "metadata": {
      "needs_background": "light"
     },
     "output_type": "display_data"
    }
   ],
   "source": [
    "corrmat = df_sel_enc.corr()\n",
    "plt.subplots(figsize=(25,20))\n",
    "sns.heatmap(corrmat, annot=False)\n",
    "plt.show()"
   ]
  },
  {
   "cell_type": "code",
   "execution_count": 76,
   "metadata": {
    "collapsed": true
   },
   "outputs": [
    {
     "ename": "KeyError",
     "evalue": "\"None of [Int64Index([117495, 240720,   8484, 536148, 423124, 398965, 259092, 385023,\\n            574734, 403310,\\n            ...\\n            113080, 380492, 179945, 438642, 332021,  69170, 272012, 225116,\\n             36898, 234925],\\n           dtype='int64', length=676950)] are in the [columns]\"",
     "output_type": "error",
     "traceback": [
      "\u001b[1;31m---------------------------------------------------------------------------\u001b[0m",
      "\u001b[1;31mKeyError\u001b[0m                                  Traceback (most recent call last)",
      "\u001b[1;32m<ipython-input-76-fddc4851e084>\u001b[0m in \u001b[0;36m<module>\u001b[1;34m\u001b[0m\n\u001b[0;32m      8\u001b[0m \u001b[0msss\u001b[0m \u001b[1;33m=\u001b[0m \u001b[0mStratifiedShuffleSplit\u001b[0m\u001b[1;33m(\u001b[0m\u001b[0mn_splits\u001b[0m\u001b[1;33m=\u001b[0m\u001b[1;36m1\u001b[0m\u001b[1;33m,\u001b[0m \u001b[0mtest_size\u001b[0m\u001b[1;33m=\u001b[0m\u001b[1;36m0.01\u001b[0m\u001b[1;33m,\u001b[0m \u001b[0mrandom_state\u001b[0m\u001b[1;33m=\u001b[0m\u001b[1;36m0\u001b[0m\u001b[1;33m)\u001b[0m\u001b[1;33m\u001b[0m\u001b[1;33m\u001b[0m\u001b[0m\n\u001b[0;32m      9\u001b[0m \u001b[1;32mfor\u001b[0m \u001b[0mtrain_index\u001b[0m\u001b[1;33m,\u001b[0m \u001b[0mtest_index\u001b[0m \u001b[1;32min\u001b[0m \u001b[0msss\u001b[0m\u001b[1;33m.\u001b[0m\u001b[0msplit\u001b[0m\u001b[1;33m(\u001b[0m\u001b[0mx\u001b[0m\u001b[1;33m,\u001b[0m \u001b[0my\u001b[0m\u001b[1;33m)\u001b[0m\u001b[1;33m:\u001b[0m\u001b[1;33m\u001b[0m\u001b[1;33m\u001b[0m\u001b[0m\n\u001b[1;32m---> 10\u001b[1;33m     \u001b[0mx_train\u001b[0m\u001b[1;33m,\u001b[0m \u001b[0mx_test\u001b[0m \u001b[1;33m=\u001b[0m \u001b[0mx\u001b[0m\u001b[1;33m[\u001b[0m\u001b[0mtrain_index\u001b[0m\u001b[1;33m]\u001b[0m\u001b[1;33m,\u001b[0m \u001b[0mx\u001b[0m\u001b[1;33m[\u001b[0m\u001b[0mtest_index\u001b[0m\u001b[1;33m]\u001b[0m\u001b[1;33m\u001b[0m\u001b[1;33m\u001b[0m\u001b[0m\n\u001b[0m\u001b[0;32m     11\u001b[0m     \u001b[0my_train\u001b[0m\u001b[1;33m,\u001b[0m \u001b[0my_test\u001b[0m \u001b[1;33m=\u001b[0m \u001b[0my\u001b[0m\u001b[1;33m[\u001b[0m\u001b[0mtrain_index\u001b[0m\u001b[1;33m]\u001b[0m\u001b[1;33m,\u001b[0m \u001b[0my\u001b[0m\u001b[1;33m[\u001b[0m\u001b[0mtest_index\u001b[0m\u001b[1;33m]\u001b[0m\u001b[1;33m\u001b[0m\u001b[1;33m\u001b[0m\u001b[0m\n\u001b[0;32m     12\u001b[0m \u001b[1;33m\u001b[0m\u001b[0m\n",
      "\u001b[1;32m~\\AppData\\Roaming\\Python\\Python37\\site-packages\\pandas\\core\\frame.py\u001b[0m in \u001b[0;36m__getitem__\u001b[1;34m(self, key)\u001b[0m\n\u001b[0;32m   2804\u001b[0m             \u001b[1;32mif\u001b[0m \u001b[0mis_iterator\u001b[0m\u001b[1;33m(\u001b[0m\u001b[0mkey\u001b[0m\u001b[1;33m)\u001b[0m\u001b[1;33m:\u001b[0m\u001b[1;33m\u001b[0m\u001b[1;33m\u001b[0m\u001b[0m\n\u001b[0;32m   2805\u001b[0m                 \u001b[0mkey\u001b[0m \u001b[1;33m=\u001b[0m \u001b[0mlist\u001b[0m\u001b[1;33m(\u001b[0m\u001b[0mkey\u001b[0m\u001b[1;33m)\u001b[0m\u001b[1;33m\u001b[0m\u001b[1;33m\u001b[0m\u001b[0m\n\u001b[1;32m-> 2806\u001b[1;33m             \u001b[0mindexer\u001b[0m \u001b[1;33m=\u001b[0m \u001b[0mself\u001b[0m\u001b[1;33m.\u001b[0m\u001b[0mloc\u001b[0m\u001b[1;33m.\u001b[0m\u001b[0m_get_listlike_indexer\u001b[0m\u001b[1;33m(\u001b[0m\u001b[0mkey\u001b[0m\u001b[1;33m,\u001b[0m \u001b[0maxis\u001b[0m\u001b[1;33m=\u001b[0m\u001b[1;36m1\u001b[0m\u001b[1;33m,\u001b[0m \u001b[0mraise_missing\u001b[0m\u001b[1;33m=\u001b[0m\u001b[1;32mTrue\u001b[0m\u001b[1;33m)\u001b[0m\u001b[1;33m[\u001b[0m\u001b[1;36m1\u001b[0m\u001b[1;33m]\u001b[0m\u001b[1;33m\u001b[0m\u001b[1;33m\u001b[0m\u001b[0m\n\u001b[0m\u001b[0;32m   2807\u001b[0m \u001b[1;33m\u001b[0m\u001b[0m\n\u001b[0;32m   2808\u001b[0m         \u001b[1;31m# take() does not accept boolean indexers\u001b[0m\u001b[1;33m\u001b[0m\u001b[1;33m\u001b[0m\u001b[1;33m\u001b[0m\u001b[0m\n",
      "\u001b[1;32m~\\AppData\\Roaming\\Python\\Python37\\site-packages\\pandas\\core\\indexing.py\u001b[0m in \u001b[0;36m_get_listlike_indexer\u001b[1;34m(self, key, axis, raise_missing)\u001b[0m\n\u001b[0;32m   1550\u001b[0m \u001b[1;33m\u001b[0m\u001b[0m\n\u001b[0;32m   1551\u001b[0m         self._validate_read_indexer(\n\u001b[1;32m-> 1552\u001b[1;33m             \u001b[0mkeyarr\u001b[0m\u001b[1;33m,\u001b[0m \u001b[0mindexer\u001b[0m\u001b[1;33m,\u001b[0m \u001b[0mo\u001b[0m\u001b[1;33m.\u001b[0m\u001b[0m_get_axis_number\u001b[0m\u001b[1;33m(\u001b[0m\u001b[0maxis\u001b[0m\u001b[1;33m)\u001b[0m\u001b[1;33m,\u001b[0m \u001b[0mraise_missing\u001b[0m\u001b[1;33m=\u001b[0m\u001b[0mraise_missing\u001b[0m\u001b[1;33m\u001b[0m\u001b[1;33m\u001b[0m\u001b[0m\n\u001b[0m\u001b[0;32m   1553\u001b[0m         )\n\u001b[0;32m   1554\u001b[0m         \u001b[1;32mreturn\u001b[0m \u001b[0mkeyarr\u001b[0m\u001b[1;33m,\u001b[0m \u001b[0mindexer\u001b[0m\u001b[1;33m\u001b[0m\u001b[1;33m\u001b[0m\u001b[0m\n",
      "\u001b[1;32m~\\AppData\\Roaming\\Python\\Python37\\site-packages\\pandas\\core\\indexing.py\u001b[0m in \u001b[0;36m_validate_read_indexer\u001b[1;34m(self, key, indexer, axis, raise_missing)\u001b[0m\n\u001b[0;32m   1637\u001b[0m             \u001b[1;32mif\u001b[0m \u001b[0mmissing\u001b[0m \u001b[1;33m==\u001b[0m \u001b[0mlen\u001b[0m\u001b[1;33m(\u001b[0m\u001b[0mindexer\u001b[0m\u001b[1;33m)\u001b[0m\u001b[1;33m:\u001b[0m\u001b[1;33m\u001b[0m\u001b[1;33m\u001b[0m\u001b[0m\n\u001b[0;32m   1638\u001b[0m                 \u001b[0maxis_name\u001b[0m \u001b[1;33m=\u001b[0m \u001b[0mself\u001b[0m\u001b[1;33m.\u001b[0m\u001b[0mobj\u001b[0m\u001b[1;33m.\u001b[0m\u001b[0m_get_axis_name\u001b[0m\u001b[1;33m(\u001b[0m\u001b[0maxis\u001b[0m\u001b[1;33m)\u001b[0m\u001b[1;33m\u001b[0m\u001b[1;33m\u001b[0m\u001b[0m\n\u001b[1;32m-> 1639\u001b[1;33m                 \u001b[1;32mraise\u001b[0m \u001b[0mKeyError\u001b[0m\u001b[1;33m(\u001b[0m\u001b[1;34mf\"None of [{key}] are in the [{axis_name}]\"\u001b[0m\u001b[1;33m)\u001b[0m\u001b[1;33m\u001b[0m\u001b[1;33m\u001b[0m\u001b[0m\n\u001b[0m\u001b[0;32m   1640\u001b[0m \u001b[1;33m\u001b[0m\u001b[0m\n\u001b[0;32m   1641\u001b[0m             \u001b[1;31m# We (temporarily) allow for some missing keys with .loc, except in\u001b[0m\u001b[1;33m\u001b[0m\u001b[1;33m\u001b[0m\u001b[1;33m\u001b[0m\u001b[0m\n",
      "\u001b[1;31mKeyError\u001b[0m: \"None of [Int64Index([117495, 240720,   8484, 536148, 423124, 398965, 259092, 385023,\\n            574734, 403310,\\n            ...\\n            113080, 380492, 179945, 438642, 332021,  69170, 272012, 225116,\\n             36898, 234925],\\n           dtype='int64', length=676950)] are in the [columns]\""
     ]
    }
   ],
   "source": [
    "x = df_sel_enc[list(df_sel_enc.columns)[1:28]]\n",
    "y = df_sel_enc[list(df_sel_enc.columns)[28:]]\n",
    "\n",
    "# Split into train, test, and validation datasets, with stratification as some labels were not predicted in previous runs.\n",
    "# x_train_vali, x_test, y_train_vali, y_test = train_test_split(x, y, random_state=0)\n",
    "# x_train, x_vali, y_train, y_vali = train_test_split(x_train_vali, y_train_vali, random_state=0)\n",
    "\n",
    "sss = StratifiedShuffleSplit(n_splits=1, test_size=0.01, random_state=0)\n",
    "for train_index, test_index in sss.split(x, y):\n",
    "    x_train, x_test = x[train_index], x[test_index]\n",
    "    y_train, y_test = y[train_index], y[test_index]\n",
    "\n",
    "#x_train, x_test, y_train, y_test = train_test_split(x, y, test_size=0.2, stratify=y)"
   ]
  },
  {
   "cell_type": "code",
   "execution_count": null,
   "metadata": {},
   "outputs": [],
   "source": [
    "rdf_clf = RandomForestClassifier()\n",
    "rdf_clf.fit(x_train, y_train)\n",
    "y_pred = rdf_clf.predict(x_test)\n",
    "print(accuracy_score(y_test, y_pred))"
   ]
  },
  {
   "cell_type": "code",
   "execution_count": 45,
   "metadata": {
    "scrolled": true
   },
   "outputs": [
    {
     "name": "stdout",
     "output_type": "stream",
     "text": [
      "Accuracy score: 0.8196449202240454\n"
     ]
    }
   ],
   "source": [
    "# Training & pruning with model-based feature selection.\n",
    "rdf_clf = SelectFromModel(RandomForestClassifier(random_state=0))\n",
    "rdf_clf.fit(x_train, y_train)\n",
    "x_train_fs = rdf_clf.transform(x_train)\n",
    "x_test_fs = rdf_clf.transform(x_test)\n",
    "rdf_clf_n = RandomForestClassifier(random_state=0).fit(x_train_fs, y_train)\n",
    "y_pred = rdf_clf_n.predict(x_test_fs)\n",
    "accuracy = rdf_clf_n.score(x_test_fs, y_test)\n",
    "print(\"Accuracy score:\", accuracy)"
   ]
  },
  {
   "cell_type": "code",
   "execution_count": 46,
   "metadata": {},
   "outputs": [
    {
     "name": "stdout",
     "output_type": "stream",
     "text": [
      "                   precision    recall  f1-score   support\n",
      "\n",
      "health_Dead|Stump       1.00      1.00      1.00      6323\n",
      "      health_Good       0.81      1.00      0.90    105770\n",
      " health_Poor|Fair       1.00      0.00      0.00     24665\n",
      "\n",
      "        micro avg       0.82      0.82      0.82    136758\n",
      "        macro avg       0.60      0.67      0.63    136758\n",
      "     weighted avg       0.67      0.82      0.74    136758\n",
      "      samples avg       0.82      0.82      0.82    136758\n",
      "\n"
     ]
    },
    {
     "name": "stderr",
     "output_type": "stream",
     "text": [
      "C:\\ProgramData\\Anaconda3\\lib\\site-packages\\sklearn\\metrics\\_classification.py:1268: UndefinedMetricWarning: Precision and F-score are ill-defined and being set to 0.0 in labels with no predicted samples. Use `zero_division` parameter to control this behavior.\n",
      "  _warn_prf(average, modifier, msg_start, len(result))\n"
     ]
    },
    {
     "name": "stdout",
     "output_type": "stream",
     "text": [
      "F1-score of positive classes: [1.         0.89557799]\n",
      "F1-score (micro): 0.9008844650011453\n",
      "F1-score (macro): 0.9477889968459601\n",
      "F1-score (weighted): 0.901468284306731\n"
     ]
    }
   ],
   "source": [
    "# \"f the macromedia result is significantly lower than the micromedia one, it means your smaller labels\n",
    "# are poorly classified, whereas your larger ones are probably correctly classified.\"\n",
    "print(classification_report(y_test, y_pred, target_names=y.columns))\n",
    "print(\"F1-score of positive classes:\", f1_score(y_test, y_pred, labels=np.unique(y_pred), average=None))\n",
    "print(\"F1-score (micro):\", f1_score(y_test, y_pred, labels=np.unique(y_pred), average='micro'))\n",
    "print(\"F1-score (macro):\", f1_score(y_test, y_pred, labels=np.unique(y_pred), average='macro'))\n",
    "print(\"F1-score (weighted):\", f1_score(y_test, y_pred, labels=np.unique(y_pred), average='weighted'))"
   ]
  },
  {
   "cell_type": "code",
   "execution_count": 51,
   "metadata": {},
   "outputs": [
    {
     "data": {
      "text/plain": [
       "(0.6036339939433434, 0.6666666666666666, 0.6318593312306401, None)"
      ]
     },
     "execution_count": 51,
     "metadata": {},
     "output_type": "execute_result"
    }
   ],
   "source": [
    "precision_recall_fscore_support(y_test, y_pred, average='macro')"
   ]
  },
  {
   "cell_type": "code",
   "execution_count": 56,
   "metadata": {},
   "outputs": [
    {
     "name": "stdout",
     "output_type": "stream",
     "text": [
      "health_Dead|Stump\n",
      "0    652172\n",
      "1     31616\n",
      "Name: health_Dead|Stump, dtype: int64\n",
      "health_Good\n",
      "1    528850\n",
      "0    154938\n",
      "Name: health_Good, dtype: int64\n",
      "health_Poor|Fair\n",
      "0    560466\n",
      "1    123322\n",
      "Name: health_Poor|Fair, dtype: int64\n"
     ]
    }
   ],
   "source": [
    "for col in y:\n",
    "    print(col)\n",
    "    print(y[col].value_counts())"
   ]
  },
  {
   "cell_type": "code",
   "execution_count": 60,
   "metadata": {},
   "outputs": [
    {
     "data": {
      "text/html": [
       "<div>\n",
       "<style scoped>\n",
       "    .dataframe tbody tr th:only-of-type {\n",
       "        vertical-align: middle;\n",
       "    }\n",
       "\n",
       "    .dataframe tbody tr th {\n",
       "        vertical-align: top;\n",
       "    }\n",
       "\n",
       "    .dataframe thead th {\n",
       "        text-align: right;\n",
       "    }\n",
       "</style>\n",
       "<table border=\"1\" class=\"dataframe\">\n",
       "  <thead>\n",
       "    <tr style=\"text-align: right;\">\n",
       "      <th></th>\n",
       "      <th>tree_id</th>\n",
       "      <th>steward_Alive</th>\n",
       "      <th>steward_Dead|Stump</th>\n",
       "      <th>guards_Dead|Stump</th>\n",
       "      <th>guards_Harmful</th>\n",
       "      <th>guards_Helpful</th>\n",
       "      <th>guards_None</th>\n",
       "      <th>guards_Unsure</th>\n",
       "      <th>root_stone_No</th>\n",
       "      <th>root_stone_Yes</th>\n",
       "      <th>root_grate_No</th>\n",
       "      <th>root_grate_Yes</th>\n",
       "      <th>root_other_No</th>\n",
       "      <th>root_other_Yes</th>\n",
       "      <th>trunk_wire_No</th>\n",
       "      <th>trunk_wire_Yes</th>\n",
       "      <th>trnk_light_No</th>\n",
       "      <th>trnk_light_Yes</th>\n",
       "      <th>trnk_other_No</th>\n",
       "      <th>trnk_other_Yes</th>\n",
       "      <th>brch_light_No</th>\n",
       "      <th>brch_light_Yes</th>\n",
       "      <th>brch_shoe_No</th>\n",
       "      <th>brch_shoe_Yes</th>\n",
       "      <th>brch_other_No</th>\n",
       "      <th>brch_other_Yes</th>\n",
       "      <th>circles_one neighbor</th>\n",
       "      <th>circles_two or more neighbors</th>\n",
       "      <th>health_Dead|Stump</th>\n",
       "      <th>health_Good</th>\n",
       "      <th>health_Poor|Fair</th>\n",
       "    </tr>\n",
       "  </thead>\n",
       "  <tbody>\n",
       "    <tr>\n",
       "      <th>count</th>\n",
       "      <td>123322.000000</td>\n",
       "      <td>123322.0</td>\n",
       "      <td>123322.0</td>\n",
       "      <td>123322.000000</td>\n",
       "      <td>123322.000000</td>\n",
       "      <td>123322.000000</td>\n",
       "      <td>123322.000000</td>\n",
       "      <td>123322.000000</td>\n",
       "      <td>123322.000000</td>\n",
       "      <td>123322.000000</td>\n",
       "      <td>123322.000000</td>\n",
       "      <td>123322.000000</td>\n",
       "      <td>123322.000000</td>\n",
       "      <td>123322.000000</td>\n",
       "      <td>123322.000000</td>\n",
       "      <td>123322.000000</td>\n",
       "      <td>123322.000000</td>\n",
       "      <td>123322.000000</td>\n",
       "      <td>123322.000000</td>\n",
       "      <td>123322.000000</td>\n",
       "      <td>123322.000000</td>\n",
       "      <td>123322.000000</td>\n",
       "      <td>123322.000000</td>\n",
       "      <td>123322.000000</td>\n",
       "      <td>123322.000000</td>\n",
       "      <td>123322.000000</td>\n",
       "      <td>123322.000000</td>\n",
       "      <td>123322.000000</td>\n",
       "      <td>123322.0</td>\n",
       "      <td>123322.0</td>\n",
       "      <td>123322.0</td>\n",
       "    </tr>\n",
       "    <tr>\n",
       "      <th>mean</th>\n",
       "      <td>312148.365823</td>\n",
       "      <td>1.0</td>\n",
       "      <td>0.0</td>\n",
       "      <td>0.000008</td>\n",
       "      <td>0.039977</td>\n",
       "      <td>0.074828</td>\n",
       "      <td>0.870299</td>\n",
       "      <td>0.014888</td>\n",
       "      <td>0.767381</td>\n",
       "      <td>0.232619</td>\n",
       "      <td>0.991023</td>\n",
       "      <td>0.008977</td>\n",
       "      <td>0.930199</td>\n",
       "      <td>0.069801</td>\n",
       "      <td>0.971465</td>\n",
       "      <td>0.028535</td>\n",
       "      <td>0.997754</td>\n",
       "      <td>0.002246</td>\n",
       "      <td>0.892152</td>\n",
       "      <td>0.107848</td>\n",
       "      <td>0.892201</td>\n",
       "      <td>0.107799</td>\n",
       "      <td>0.998978</td>\n",
       "      <td>0.001022</td>\n",
       "      <td>0.906375</td>\n",
       "      <td>0.093625</td>\n",
       "      <td>0.652803</td>\n",
       "      <td>0.347197</td>\n",
       "      <td>0.0</td>\n",
       "      <td>0.0</td>\n",
       "      <td>1.0</td>\n",
       "    </tr>\n",
       "    <tr>\n",
       "      <th>std</th>\n",
       "      <td>199996.442662</td>\n",
       "      <td>0.0</td>\n",
       "      <td>0.0</td>\n",
       "      <td>0.002848</td>\n",
       "      <td>0.195905</td>\n",
       "      <td>0.263115</td>\n",
       "      <td>0.335976</td>\n",
       "      <td>0.121105</td>\n",
       "      <td>0.422503</td>\n",
       "      <td>0.422503</td>\n",
       "      <td>0.094319</td>\n",
       "      <td>0.094319</td>\n",
       "      <td>0.254812</td>\n",
       "      <td>0.254812</td>\n",
       "      <td>0.166496</td>\n",
       "      <td>0.166496</td>\n",
       "      <td>0.047341</td>\n",
       "      <td>0.047341</td>\n",
       "      <td>0.310189</td>\n",
       "      <td>0.310189</td>\n",
       "      <td>0.310128</td>\n",
       "      <td>0.310128</td>\n",
       "      <td>0.031948</td>\n",
       "      <td>0.031948</td>\n",
       "      <td>0.291307</td>\n",
       "      <td>0.291307</td>\n",
       "      <td>0.476081</td>\n",
       "      <td>0.476081</td>\n",
       "      <td>0.0</td>\n",
       "      <td>0.0</td>\n",
       "      <td>0.0</td>\n",
       "    </tr>\n",
       "    <tr>\n",
       "      <th>min</th>\n",
       "      <td>7.000000</td>\n",
       "      <td>1.0</td>\n",
       "      <td>0.0</td>\n",
       "      <td>0.000000</td>\n",
       "      <td>0.000000</td>\n",
       "      <td>0.000000</td>\n",
       "      <td>0.000000</td>\n",
       "      <td>0.000000</td>\n",
       "      <td>0.000000</td>\n",
       "      <td>0.000000</td>\n",
       "      <td>0.000000</td>\n",
       "      <td>0.000000</td>\n",
       "      <td>0.000000</td>\n",
       "      <td>0.000000</td>\n",
       "      <td>0.000000</td>\n",
       "      <td>0.000000</td>\n",
       "      <td>0.000000</td>\n",
       "      <td>0.000000</td>\n",
       "      <td>0.000000</td>\n",
       "      <td>0.000000</td>\n",
       "      <td>0.000000</td>\n",
       "      <td>0.000000</td>\n",
       "      <td>0.000000</td>\n",
       "      <td>0.000000</td>\n",
       "      <td>0.000000</td>\n",
       "      <td>0.000000</td>\n",
       "      <td>0.000000</td>\n",
       "      <td>0.000000</td>\n",
       "      <td>0.0</td>\n",
       "      <td>0.0</td>\n",
       "      <td>1.0</td>\n",
       "    </tr>\n",
       "    <tr>\n",
       "      <th>25%</th>\n",
       "      <td>144045.750000</td>\n",
       "      <td>1.0</td>\n",
       "      <td>0.0</td>\n",
       "      <td>0.000000</td>\n",
       "      <td>0.000000</td>\n",
       "      <td>0.000000</td>\n",
       "      <td>1.000000</td>\n",
       "      <td>0.000000</td>\n",
       "      <td>1.000000</td>\n",
       "      <td>0.000000</td>\n",
       "      <td>1.000000</td>\n",
       "      <td>0.000000</td>\n",
       "      <td>1.000000</td>\n",
       "      <td>0.000000</td>\n",
       "      <td>1.000000</td>\n",
       "      <td>0.000000</td>\n",
       "      <td>1.000000</td>\n",
       "      <td>0.000000</td>\n",
       "      <td>1.000000</td>\n",
       "      <td>0.000000</td>\n",
       "      <td>1.000000</td>\n",
       "      <td>0.000000</td>\n",
       "      <td>1.000000</td>\n",
       "      <td>0.000000</td>\n",
       "      <td>1.000000</td>\n",
       "      <td>0.000000</td>\n",
       "      <td>0.000000</td>\n",
       "      <td>0.000000</td>\n",
       "      <td>0.0</td>\n",
       "      <td>0.0</td>\n",
       "      <td>1.0</td>\n",
       "    </tr>\n",
       "    <tr>\n",
       "      <th>50%</th>\n",
       "      <td>286565.000000</td>\n",
       "      <td>1.0</td>\n",
       "      <td>0.0</td>\n",
       "      <td>0.000000</td>\n",
       "      <td>0.000000</td>\n",
       "      <td>0.000000</td>\n",
       "      <td>1.000000</td>\n",
       "      <td>0.000000</td>\n",
       "      <td>1.000000</td>\n",
       "      <td>0.000000</td>\n",
       "      <td>1.000000</td>\n",
       "      <td>0.000000</td>\n",
       "      <td>1.000000</td>\n",
       "      <td>0.000000</td>\n",
       "      <td>1.000000</td>\n",
       "      <td>0.000000</td>\n",
       "      <td>1.000000</td>\n",
       "      <td>0.000000</td>\n",
       "      <td>1.000000</td>\n",
       "      <td>0.000000</td>\n",
       "      <td>1.000000</td>\n",
       "      <td>0.000000</td>\n",
       "      <td>1.000000</td>\n",
       "      <td>0.000000</td>\n",
       "      <td>1.000000</td>\n",
       "      <td>0.000000</td>\n",
       "      <td>1.000000</td>\n",
       "      <td>0.000000</td>\n",
       "      <td>0.0</td>\n",
       "      <td>0.0</td>\n",
       "      <td>1.0</td>\n",
       "    </tr>\n",
       "    <tr>\n",
       "      <th>75%</th>\n",
       "      <td>472063.750000</td>\n",
       "      <td>1.0</td>\n",
       "      <td>0.0</td>\n",
       "      <td>0.000000</td>\n",
       "      <td>0.000000</td>\n",
       "      <td>0.000000</td>\n",
       "      <td>1.000000</td>\n",
       "      <td>0.000000</td>\n",
       "      <td>1.000000</td>\n",
       "      <td>0.000000</td>\n",
       "      <td>1.000000</td>\n",
       "      <td>0.000000</td>\n",
       "      <td>1.000000</td>\n",
       "      <td>0.000000</td>\n",
       "      <td>1.000000</td>\n",
       "      <td>0.000000</td>\n",
       "      <td>1.000000</td>\n",
       "      <td>0.000000</td>\n",
       "      <td>1.000000</td>\n",
       "      <td>0.000000</td>\n",
       "      <td>1.000000</td>\n",
       "      <td>0.000000</td>\n",
       "      <td>1.000000</td>\n",
       "      <td>0.000000</td>\n",
       "      <td>1.000000</td>\n",
       "      <td>0.000000</td>\n",
       "      <td>1.000000</td>\n",
       "      <td>1.000000</td>\n",
       "      <td>0.0</td>\n",
       "      <td>0.0</td>\n",
       "      <td>1.0</td>\n",
       "    </tr>\n",
       "    <tr>\n",
       "      <th>max</th>\n",
       "      <td>722688.000000</td>\n",
       "      <td>1.0</td>\n",
       "      <td>0.0</td>\n",
       "      <td>1.000000</td>\n",
       "      <td>1.000000</td>\n",
       "      <td>1.000000</td>\n",
       "      <td>1.000000</td>\n",
       "      <td>1.000000</td>\n",
       "      <td>1.000000</td>\n",
       "      <td>1.000000</td>\n",
       "      <td>1.000000</td>\n",
       "      <td>1.000000</td>\n",
       "      <td>1.000000</td>\n",
       "      <td>1.000000</td>\n",
       "      <td>1.000000</td>\n",
       "      <td>1.000000</td>\n",
       "      <td>1.000000</td>\n",
       "      <td>1.000000</td>\n",
       "      <td>1.000000</td>\n",
       "      <td>1.000000</td>\n",
       "      <td>1.000000</td>\n",
       "      <td>1.000000</td>\n",
       "      <td>1.000000</td>\n",
       "      <td>1.000000</td>\n",
       "      <td>1.000000</td>\n",
       "      <td>1.000000</td>\n",
       "      <td>1.000000</td>\n",
       "      <td>1.000000</td>\n",
       "      <td>0.0</td>\n",
       "      <td>0.0</td>\n",
       "      <td>1.0</td>\n",
       "    </tr>\n",
       "  </tbody>\n",
       "</table>\n",
       "</div>"
      ],
      "text/plain": [
       "             tree_id  steward_Alive  steward_Dead|Stump  guards_Dead|Stump  \\\n",
       "count  123322.000000       123322.0            123322.0      123322.000000   \n",
       "mean   312148.365823            1.0                 0.0           0.000008   \n",
       "std    199996.442662            0.0                 0.0           0.002848   \n",
       "min         7.000000            1.0                 0.0           0.000000   \n",
       "25%    144045.750000            1.0                 0.0           0.000000   \n",
       "50%    286565.000000            1.0                 0.0           0.000000   \n",
       "75%    472063.750000            1.0                 0.0           0.000000   \n",
       "max    722688.000000            1.0                 0.0           1.000000   \n",
       "\n",
       "       guards_Harmful  guards_Helpful    guards_None  guards_Unsure  \\\n",
       "count   123322.000000   123322.000000  123322.000000  123322.000000   \n",
       "mean         0.039977        0.074828       0.870299       0.014888   \n",
       "std          0.195905        0.263115       0.335976       0.121105   \n",
       "min          0.000000        0.000000       0.000000       0.000000   \n",
       "25%          0.000000        0.000000       1.000000       0.000000   \n",
       "50%          0.000000        0.000000       1.000000       0.000000   \n",
       "75%          0.000000        0.000000       1.000000       0.000000   \n",
       "max          1.000000        1.000000       1.000000       1.000000   \n",
       "\n",
       "       root_stone_No  root_stone_Yes  root_grate_No  root_grate_Yes  \\\n",
       "count  123322.000000   123322.000000  123322.000000   123322.000000   \n",
       "mean        0.767381        0.232619       0.991023        0.008977   \n",
       "std         0.422503        0.422503       0.094319        0.094319   \n",
       "min         0.000000        0.000000       0.000000        0.000000   \n",
       "25%         1.000000        0.000000       1.000000        0.000000   \n",
       "50%         1.000000        0.000000       1.000000        0.000000   \n",
       "75%         1.000000        0.000000       1.000000        0.000000   \n",
       "max         1.000000        1.000000       1.000000        1.000000   \n",
       "\n",
       "       root_other_No  root_other_Yes  trunk_wire_No  trunk_wire_Yes  \\\n",
       "count  123322.000000   123322.000000  123322.000000   123322.000000   \n",
       "mean        0.930199        0.069801       0.971465        0.028535   \n",
       "std         0.254812        0.254812       0.166496        0.166496   \n",
       "min         0.000000        0.000000       0.000000        0.000000   \n",
       "25%         1.000000        0.000000       1.000000        0.000000   \n",
       "50%         1.000000        0.000000       1.000000        0.000000   \n",
       "75%         1.000000        0.000000       1.000000        0.000000   \n",
       "max         1.000000        1.000000       1.000000        1.000000   \n",
       "\n",
       "       trnk_light_No  trnk_light_Yes  trnk_other_No  trnk_other_Yes  \\\n",
       "count  123322.000000   123322.000000  123322.000000   123322.000000   \n",
       "mean        0.997754        0.002246       0.892152        0.107848   \n",
       "std         0.047341        0.047341       0.310189        0.310189   \n",
       "min         0.000000        0.000000       0.000000        0.000000   \n",
       "25%         1.000000        0.000000       1.000000        0.000000   \n",
       "50%         1.000000        0.000000       1.000000        0.000000   \n",
       "75%         1.000000        0.000000       1.000000        0.000000   \n",
       "max         1.000000        1.000000       1.000000        1.000000   \n",
       "\n",
       "       brch_light_No  brch_light_Yes   brch_shoe_No  brch_shoe_Yes  \\\n",
       "count  123322.000000   123322.000000  123322.000000  123322.000000   \n",
       "mean        0.892201        0.107799       0.998978       0.001022   \n",
       "std         0.310128        0.310128       0.031948       0.031948   \n",
       "min         0.000000        0.000000       0.000000       0.000000   \n",
       "25%         1.000000        0.000000       1.000000       0.000000   \n",
       "50%         1.000000        0.000000       1.000000       0.000000   \n",
       "75%         1.000000        0.000000       1.000000       0.000000   \n",
       "max         1.000000        1.000000       1.000000       1.000000   \n",
       "\n",
       "       brch_other_No  brch_other_Yes  circles_one neighbor  \\\n",
       "count  123322.000000   123322.000000         123322.000000   \n",
       "mean        0.906375        0.093625              0.652803   \n",
       "std         0.291307        0.291307              0.476081   \n",
       "min         0.000000        0.000000              0.000000   \n",
       "25%         1.000000        0.000000              0.000000   \n",
       "50%         1.000000        0.000000              1.000000   \n",
       "75%         1.000000        0.000000              1.000000   \n",
       "max         1.000000        1.000000              1.000000   \n",
       "\n",
       "       circles_two or more neighbors  health_Dead|Stump  health_Good  \\\n",
       "count                  123322.000000           123322.0     123322.0   \n",
       "mean                        0.347197                0.0          0.0   \n",
       "std                         0.476081                0.0          0.0   \n",
       "min                         0.000000                0.0          0.0   \n",
       "25%                         0.000000                0.0          0.0   \n",
       "50%                         0.000000                0.0          0.0   \n",
       "75%                         1.000000                0.0          0.0   \n",
       "max                         1.000000                0.0          0.0   \n",
       "\n",
       "       health_Poor|Fair  \n",
       "count          123322.0  \n",
       "mean                1.0  \n",
       "std                 0.0  \n",
       "min                 1.0  \n",
       "25%                 1.0  \n",
       "50%                 1.0  \n",
       "75%                 1.0  \n",
       "max                 1.0  "
      ]
     },
     "execution_count": 60,
     "metadata": {},
     "output_type": "execute_result"
    }
   ],
   "source": [
    "df_sel_enc.loc[df_sel_enc['health_Poor|Fair'] == 1].describe()"
   ]
  },
  {
   "cell_type": "code",
   "execution_count": null,
   "metadata": {},
   "outputs": [],
   "source": []
  },
  {
   "cell_type": "code",
   "execution_count": null,
   "metadata": {
    "scrolled": true
   },
   "outputs": [],
   "source": [
    "rdf_clf_n.predict([probe])"
   ]
  },
  {
   "cell_type": "code",
   "execution_count": null,
   "metadata": {},
   "outputs": [],
   "source": [
    "parameter_grid = dict(n_estimators=list(range(5000, 6001, 1000)),\n",
    "                      criterion=['gini','entropy'],\n",
    "                      max_features=list(range(1, round(np.sqrt(len(x.columns))).astype(int), 6)))\n",
    "gcv_rdf_clf = GridSearchCV(estimator=rdf_clf, param_grid=parameter_grid, cv=5, verbose=1)"
   ]
  },
  {
   "cell_type": "code",
   "execution_count": null,
   "metadata": {},
   "outputs": [],
   "source": [
    "accuracy_scores = cross_val_score(gcv_rdf_clf, x_train, y_train)\n",
    "accuracy_scores"
   ]
  }
 ],
 "metadata": {
  "kernelspec": {
   "display_name": "Python 3",
   "language": "python",
   "name": "python3"
  },
  "language_info": {
   "codemirror_mode": {
    "name": "ipython",
    "version": 3
   },
   "file_extension": ".py",
   "mimetype": "text/x-python",
   "name": "python",
   "nbconvert_exporter": "python",
   "pygments_lexer": "ipython3",
   "version": "3.7.1"
  }
 },
 "nbformat": 4,
 "nbformat_minor": 2
}
