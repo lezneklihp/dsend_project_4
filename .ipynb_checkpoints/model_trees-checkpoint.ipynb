{
 "cells": [
  {
   "cell_type": "code",
   "execution_count": null,
   "metadata": {},
   "outputs": [],
   "source": [
    "# Multiclass classification\n",
    "\n",
    "# nonlinear classifier - the RandomForestClassifier. It requires little hyperparameter tuning.\n",
    "\n",
    "# No need for imputing the missing data --> data description.\n",
    "\n",
    "# Problem: You can't see every tree.. predict the health of the tree."
   ]
  },
  {
   "cell_type": "code",
   "execution_count": 1,
   "metadata": {},
   "outputs": [
    {
     "name": "stderr",
     "output_type": "stream",
     "text": [
      "C:\\ProgramData\\Anaconda3\\lib\\site-packages\\statsmodels\\tools\\_testing.py:19: FutureWarning: pandas.util.testing is deprecated. Use the functions in the public API at pandas.testing instead.\n",
      "  import pandas.util.testing as tm\n"
     ]
    }
   ],
   "source": [
    "# Import third-party packages.\n",
    "import datetime\n",
    "import geopandas as gpd\n",
    "import matplotlib.pyplot as plt\n",
    "import numpy as np\n",
    "import pandas as pd\n",
    "from scipy.spatial import cKDTree\n",
    "import seaborn as sns\n",
    "from shapely.geometry import Point\n",
    "from sklearn.ensemble import AdaBoostClassifier, RandomForestClassifier\n",
    "from sklearn.feature_selection import SelectFromModel, RFE\n",
    "from sklearn.metrics import accuracy_score, classification_report, f1_score, precision_recall_fscore_support\n",
    "from sklearn.model_selection import cross_val_score, GridSearchCV, train_test_split\n",
    "\n",
    "%matplotlib inline\n",
    "\n",
    "# Change display settings for dataframes.\n",
    "pd.set_option('display.max_columns', None)\n",
    "pd.set_option('display.max_rows', 500)"
   ]
  },
  {
   "cell_type": "code",
   "execution_count": 2,
   "metadata": {
    "scrolled": false
   },
   "outputs": [],
   "source": [
    "# Read in data on trees.\n",
    "#df_1995 = pd.read_csv('./data/nyc_trees/nyc_tree_census_1995.csv.gz', compression='gzip')\n",
    "#df_2005 = pd.read_csv('./data/nyc_trees/nyc_tree_census_2005.csv.gz', compression='gzip')\n",
    "df_2015 = pd.read_csv('./data/nyc_trees/nyc_tree_census_2015.csv.gz', compression='gzip')\n",
    "#df_1995.drop('Unnamed: 0', axis=1, inplace=True)\n",
    "#df_2005.drop('Unnamed: 0', axis=1, inplace=True)\n",
    "df_2015.drop('Unnamed: 0', axis=1, inplace=True)"
   ]
  },
  {
   "cell_type": "code",
   "execution_count": 18,
   "metadata": {},
   "outputs": [],
   "source": [
    "# Read in geographic data on New York City.\n",
    "nyc = gpd.read_file('./data/nyc/nyc_geo.shp')"
   ]
  },
  {
   "cell_type": "code",
   "execution_count": 3,
   "metadata": {},
   "outputs": [],
   "source": [
    "test = df_2015.copy()"
   ]
  },
  {
   "cell_type": "code",
   "execution_count": 4,
   "metadata": {},
   "outputs": [],
   "source": [
    "test_geo = gpd.GeoDataFrame(test, geometry=[Point(coordinates) for coordinates in zip(test['longitude'], test['latitude'])])"
   ]
  },
  {
   "cell_type": "code",
   "execution_count": 5,
   "metadata": {},
   "outputs": [
    {
     "name": "stderr",
     "output_type": "stream",
     "text": [
      "C:\\ProgramData\\Anaconda3\\lib\\site-packages\\pyproj\\crs.py:77: FutureWarning: '+init=<authority>:<code>' syntax is deprecated. '<authority>:<code>' is the preferred initialization method.\n",
      "  return _prepare_from_string(\" \".join(pjargs))\n",
      "C:\\ProgramData\\Anaconda3\\lib\\site-packages\\pyproj\\crs.py:77: FutureWarning: '+init=<authority>:<code>' syntax is deprecated. '<authority>:<code>' is the preferred initialization method.\n",
      "  return _prepare_from_string(\" \".join(pjargs))\n",
      "C:\\ProgramData\\Anaconda3\\lib\\site-packages\\pyproj\\crs.py:77: FutureWarning: '+init=<authority>:<code>' syntax is deprecated. '<authority>:<code>' is the preferred initialization method.\n",
      "  return _prepare_from_string(\" \".join(pjargs))\n"
     ]
    }
   ],
   "source": [
    "# Create circles with a 20m radius around each tree location. But since the radius of a tree might just touch another, the\n",
    "# maximum distance between such trees should be 20m and thus a radius of 10m each.\n",
    "test_geo.crs = {'init': 'epsg:4326', 'no_defs': True}\n",
    "test_geo = test_geo.to_crs(epsg=3857)\n",
    "test_geo.crs = {'init': 'epsg:3857', 'no_defs': True}\n",
    "buffers = test_geo.buffer(10)\n",
    "test_geo = test_geo.to_crs(epsg=4326)\n",
    "test_geo.crs = {'init': 'epsg:4326', 'no_defs': True}\n",
    "buffers = buffers.to_crs(epsg=4326)\n",
    "buffers.crs = {'init': 'epsg:4326', 'no_defs': True}\n",
    "buffers_gdf = gpd.GeoDataFrame(buffers, geometry=buffers)\n",
    "buffers_gdf.rename(columns={0:'circles'}, inplace=True)"
   ]
  },
  {
   "cell_type": "code",
   "execution_count": 6,
   "metadata": {},
   "outputs": [],
   "source": [
    "res = gpd.sjoin(test_geo, buffers_gdf)\n",
    "res.drop('index_right', axis=1, inplace=True)"
   ]
  },
  {
   "cell_type": "code",
   "execution_count": 7,
   "metadata": {},
   "outputs": [],
   "source": [
    "n_neighbors = res.groupby('tree_id').count()\n",
    "test_new = pd.merge(test, n_neighbors[['circles']], on='tree_id', right_index=True)"
   ]
  },
  {
   "cell_type": "code",
   "execution_count": 8,
   "metadata": {},
   "outputs": [],
   "source": [
    "# Encode the feature on the number of neighboring trees.\n",
    "test_new.loc[test_new['circles'] < 2, 'circles'] = 0.1 #few\n",
    "test_new.loc[test_new['circles'] >= 2, 'circles'] = 0.2 #many\n",
    "test_new.loc[test_new['circles'] == 0.1, 'circles'] = \"one neighbor\"\n",
    "test_new.loc[test_new['circles'] == 0.2, 'circles'] = \"two or more neighbors\""
   ]
  },
  {
   "cell_type": "code",
   "execution_count": 13,
   "metadata": {},
   "outputs": [
    {
     "data": {
      "text/plain": [
       "0.07423817812763712"
      ]
     },
     "execution_count": 13,
     "metadata": {},
     "output_type": "execute_result"
    }
   ],
   "source": [
    "test_new.tree_dbh.corr(test_new.health)"
   ]
  },
  {
   "cell_type": "code",
   "execution_count": null,
   "metadata": {},
   "outputs": [],
   "source": [
    "# Nur für einen Eintrag\n",
    "neighbors = []\n",
    "for ind, i in enumerate(test_geo.index):\n",
    "    print(ind)\n",
    "    if test_geo['geometry'].loc[0].intersects(buffers.loc[i]):\n",
    "        neighbors.append(i)"
   ]
  },
  {
   "cell_type": "code",
   "execution_count": null,
   "metadata": {},
   "outputs": [],
   "source": [
    "# Circa mehr als 2 Tage Rechenaufwand..\n",
    "test_geo = test_geo.to_crs(epsg=3857)\n",
    "test_geo.crs = {'init': 'epsg:3857', 'no_defs': True}\n",
    "\n",
    "xs_all = test_geo['geometry'].x\n",
    "ys_all = test_geo['geometry'].y\n",
    "pot_neighbors = np.array(list(zip(xs_all, ys_all)))\n",
    "\n",
    "def n_neighbors(point, size=3, distance=10.0, potential_neighbors=pot_neighbors):\n",
    "    point = point.reshape(-1, 2)\n",
    "    bin_trie = cKDTree(point)\n",
    "    remaining_points = np.delete(potential_neighbors, np.where(potential_neighbors == point), axis=0).reshape(-1, 2)\n",
    "    dist, ids = bin_trie.query(remaining_points, k=size, distance_upper_bound=distance, n_jobs=-1)\n",
    "    count_neighbors = len(dist[dist != np.inf])\n",
    "    \n",
    "    return count_neighbors\n",
    "\n",
    "inp = np.array(list(zip(test_geo['geometry'].x.values, test_geo['geometry'].y.values)))\n",
    "\n",
    "test_geo['n_neighbors'] = [n_neighbors(i) for i in inp]"
   ]
  },
  {
   "cell_type": "code",
   "execution_count": null,
   "metadata": {},
   "outputs": [
    {
     "name": "stderr",
     "output_type": "stream",
     "text": [
      "C:\\ProgramData\\Anaconda3\\lib\\site-packages\\pyproj\\crs.py:77: FutureWarning: '+init=<authority>:<code>' syntax is deprecated. '<authority>:<code>' is the preferred initialization method.\n",
      "  return _prepare_from_string(\" \".join(pjargs))\n"
     ]
    }
   ],
   "source": [
    "nyc = nyc.to_crs(epsg=4326)\n",
    "nyc.crs = {'init': 'epsg:4326', 'no_defs': True}\n",
    "circles = buffers.unary_union\n",
    "a = nyc['geometry'].intersection(circles)"
   ]
  },
  {
   "cell_type": "code",
   "execution_count": null,
   "metadata": {},
   "outputs": [],
   "source": [
    "sns.set(style='whitegrid')\n",
    "sns.mpl.rc('figure')\n",
    "fig, ax = plt.subplots()\n",
    "a.plot(ax=ax)"
   ]
  },
  {
   "cell_type": "code",
   "execution_count": null,
   "metadata": {},
   "outputs": [],
   "source": [
    "tree_radi = nyc.intersection(trees_geo_circs)\n",
    "tree_radi.plot(ax=ax)"
   ]
  },
  {
   "cell_type": "code",
   "execution_count": null,
   "metadata": {},
   "outputs": [],
   "source": []
  },
  {
   "cell_type": "code",
   "execution_count": null,
   "metadata": {},
   "outputs": [],
   "source": []
  },
  {
   "cell_type": "code",
   "execution_count": 9,
   "metadata": {
    "scrolled": false
   },
   "outputs": [
    {
     "name": "stderr",
     "output_type": "stream",
     "text": [
      "C:\\Users\\phill\\AppData\\Roaming\\Python\\Python37\\site-packages\\pandas\\core\\generic.py:6245: SettingWithCopyWarning: \n",
      "A value is trying to be set on a copy of a slice from a DataFrame\n",
      "\n",
      "See the caveats in the documentation: https://pandas.pydata.org/pandas-docs/stable/user_guide/indexing.html#returning-a-view-versus-a-copy\n",
      "  self._update_inplace(new_data)\n",
      "C:\\Users\\phill\\AppData\\Roaming\\Python\\Python37\\site-packages\\pandas\\core\\generic.py:6746: SettingWithCopyWarning: \n",
      "A value is trying to be set on a copy of a slice from a DataFrame\n",
      "\n",
      "See the caveats in the documentation: https://pandas.pydata.org/pandas-docs/stable/user_guide/indexing.html#returning-a-view-versus-a-copy\n",
      "  self._update_inplace(new_data)\n"
     ]
    }
   ],
   "source": [
    "df_sel = test_new[['tree_id',\n",
    "               'steward',\n",
    "               'guards',\n",
    "               'root_stone',\n",
    "               'root_grate',\n",
    "               'root_other',\n",
    "               'trunk_wire',\n",
    "               'trnk_light',\n",
    "               'trnk_other',\n",
    "               'brch_light',\n",
    "               'brch_shoe',\n",
    "               'brch_other',\n",
    "               'circles',\n",
    "               'health']]\n",
    "\n",
    "# Replace NaN values in features with entries signalling this tree is either dead or a stump.\n",
    "df_sel['steward'].fillna('Dead|Stump', inplace=True)\n",
    "df_sel['guards'].fillna('Dead|Stump', inplace=True)\n",
    "\n",
    "# In 'steward', replace spectrum of answers to yes (= alive) or no (= dead/stump).\n",
    "df_sel['steward'].replace(['1or2', '3or4', '4orMore', 'None'], 'Alive', inplace=True)\n",
    "\n",
    "# Replace NaN values in the target with entries signalling this tree is either dead or a stump.\n",
    "df_sel['health'].fillna('Dead|Stump', inplace=True)\n",
    "\n",
    "#df_sel['health'].replace(['Poor', 'Fair'], 'Poor|Fair', inplace=True)\n",
    "\n",
    "# One-hot encoding the categorical features and the target.\n",
    "df_sel_enc = pd.get_dummies(df_sel)"
   ]
  },
  {
   "cell_type": "code",
   "execution_count": 11,
   "metadata": {},
   "outputs": [
    {
     "data": {
      "image/png": "[encoded data removed]",
      "text/plain": [
       "<Figure size 1800x1440 with 2 Axes>"
      ]
     },
     "metadata": {
      "needs_background": "light"
     },
     "output_type": "display_data"
    }
   ],
   "source": [
    "corrmat = df_sel_enc.corr()\n",
    "plt.subplots(figsize=(25,20))\n",
    "sns.heatmap(corrmat, annot=False)\n",
    "plt.show()"
   ]
  },
  {
   "cell_type": "code",
   "execution_count": 10,
   "metadata": {},
   "outputs": [],
   "source": [
    "x = df_sel_enc[list(df_sel_enc.columns)[1:28]]\n",
    "y = df_sel_enc[list(df_sel_enc.columns)[28:]]\n",
    "\n",
    "# Split into train, test, and validation datasets, with stratification as some labels were not predicted in previous runs.\n",
    "# x_train_vali, x_test, y_train_vali, y_test = train_test_split(x, y, random_state=0)\n",
    "# x_train, x_vali, y_train, y_vali = train_test_split(x_train_vali, y_train_vali, random_state=0)\n",
    "\n",
    "x_train, x_test, y_train, y_test = train_test_split(x, y, test_size=0.5, random_state=None, stratify=y)"
   ]
  },
  {
   "cell_type": "code",
   "execution_count": 11,
   "metadata": {},
   "outputs": [
    {
     "name": "stderr",
     "output_type": "stream",
     "text": [
      "C:\\Users\\phill\\AppData\\Roaming\\Python\\Python37\\site-packages\\pandas\\plotting\\_matplotlib\\tools.py:298: MatplotlibDeprecationWarning: \n",
      "The rowNum attribute was deprecated in Matplotlib 3.2 and will be removed two minor releases later. Use ax.get_subplotspec().rowspan.start instead.\n",
      "  layout[ax.rowNum, ax.colNum] = ax.get_visible()\n",
      "C:\\Users\\phill\\AppData\\Roaming\\Python\\Python37\\site-packages\\pandas\\plotting\\_matplotlib\\tools.py:298: MatplotlibDeprecationWarning: \n",
      "The colNum attribute was deprecated in Matplotlib 3.2 and will be removed two minor releases later. Use ax.get_subplotspec().colspan.start instead.\n",
      "  layout[ax.rowNum, ax.colNum] = ax.get_visible()\n",
      "C:\\Users\\phill\\AppData\\Roaming\\Python\\Python37\\site-packages\\pandas\\plotting\\_matplotlib\\tools.py:304: MatplotlibDeprecationWarning: \n",
      "The rowNum attribute was deprecated in Matplotlib 3.2 and will be removed two minor releases later. Use ax.get_subplotspec().rowspan.start instead.\n",
      "  if not layout[ax.rowNum + 1, ax.colNum]:\n",
      "C:\\Users\\phill\\AppData\\Roaming\\Python\\Python37\\site-packages\\pandas\\plotting\\_matplotlib\\tools.py:304: MatplotlibDeprecationWarning: \n",
      "The colNum attribute was deprecated in Matplotlib 3.2 and will be removed two minor releases later. Use ax.get_subplotspec().colspan.start instead.\n",
      "  if not layout[ax.rowNum + 1, ax.colNum]:\n"
     ]
    },
    {
     "data": {
      "text/plain": [
       "array([[<matplotlib.axes._subplots.AxesSubplot object at 0x00000208A8125160>,\n",
       "        <matplotlib.axes._subplots.AxesSubplot object at 0x00000209859FAE80>],\n",
       "       [<matplotlib.axes._subplots.AxesSubplot object at 0x0000020960691128>,\n",
       "        <matplotlib.axes._subplots.AxesSubplot object at 0x00000208BD42D390>]],\n",
       "      dtype=object)"
      ]
     },
     "execution_count": 11,
     "metadata": {},
     "output_type": "execute_result"
    },
    {
     "data": {
      "image/png": "[encoded data removed]",
      "text/plain": [
       "<Figure size 432x288 with 4 Axes>"
      ]
     },
     "metadata": {
      "needs_background": "light"
     },
     "output_type": "display_data"
    }
   ],
   "source": [
    "y_train.hist()"
   ]
  },
  {
   "cell_type": "code",
   "execution_count": null,
   "metadata": {},
   "outputs": [],
   "source": [
    "target_first_class = len(y.loc[y['health_Dead|Stump'] == 0]) / len(y)\n",
    "target_second_class = len(y.loc[y['health_Fair'] == 0]) / len(y)\n",
    "target_third_class = len(y.loc[y['health_Good'] == 0]) / len(y)\n",
    "target_fourth_class = len(y.loc[y['health_Poor'] == 0]) / len(y)\n",
    "\n",
    "\n",
    "class_weight_orig = [{0:target_first_class, 1:1-target_first_class},\n",
    "                     {0:target_second_class , 1:1-target_second_class},\n",
    "                     {0:target_third_class, 1:1-target_third_class},\n",
    "                     {0:target_fourth_class, 1:1-target_fourth_class}]\n",
    "\n",
    "class_weight_manip = [{0:target_first_class, 1:1-target_first_class},\n",
    "                      {0:target_second_class/2, 1:1-target_second_class/2},\n",
    "                      {0:target_third_class, 1:1-target_third_class},\n",
    "                      {0:target_fourth_class/2, 1:1-target_fourth_class/2}]"
   ]
  },
  {
   "cell_type": "code",
   "execution_count": 43,
   "metadata": {},
   "outputs": [],
   "source": [
    "from imblearn.under_sampling import RandomUnderSampler\n",
    "\n",
    "rs = RandomUnderSampler(sampling_strategy='majority', random_state=None)\n",
    "x_train_rs_fair, y_train_rs_fair = rs.fit_sample(x_train, y_train['health_Fair'])\n",
    "x_train_rs_poor, y_train_rs_poor = rs.fit_sample(x_train, y_train['health_Poor'])\n",
    "\n",
    "\n",
    "health_fair_rs = pd.concat([x_train_rs_fair, y_train_rs_fair], axis=1)\n",
    "health_poor_rs = pd.concat([x_train_rs_poor, y_train_rs_poor], axis=1)\n",
    "health_fair_rs = health_fair_rs[health_fair_rs.health_Fair != 0]\n",
    "health_poor_rs = health_poor_rs[health_poor_rs.health_Poor != 0]\n",
    "\n",
    "df_sel_enc_rs = pd.concat([df_sel_enc, health_fair_rs, health_poor_rs], ignore_index=True)\n",
    "df_sel_enc_rs.fillna(0, inplace=True)\n",
    "df_sel_enc_rs[df_sel_enc_rs.columns[-4:]] = df_sel_enc_rs[df_sel_enc_rs.columns[-4:]].astype(int)"
   ]
  },
  {
   "cell_type": "code",
   "execution_count": 44,
   "metadata": {
    "scrolled": true
   },
   "outputs": [
    {
     "name": "stderr",
     "output_type": "stream",
     "text": [
      "C:\\Users\\phill\\AppData\\Roaming\\Python\\Python37\\site-packages\\pandas\\plotting\\_matplotlib\\tools.py:298: MatplotlibDeprecationWarning: \n",
      "The rowNum attribute was deprecated in Matplotlib 3.2 and will be removed two minor releases later. Use ax.get_subplotspec().rowspan.start instead.\n",
      "  layout[ax.rowNum, ax.colNum] = ax.get_visible()\n",
      "C:\\Users\\phill\\AppData\\Roaming\\Python\\Python37\\site-packages\\pandas\\plotting\\_matplotlib\\tools.py:298: MatplotlibDeprecationWarning: \n",
      "The colNum attribute was deprecated in Matplotlib 3.2 and will be removed two minor releases later. Use ax.get_subplotspec().colspan.start instead.\n",
      "  layout[ax.rowNum, ax.colNum] = ax.get_visible()\n",
      "C:\\Users\\phill\\AppData\\Roaming\\Python\\Python37\\site-packages\\pandas\\plotting\\_matplotlib\\tools.py:304: MatplotlibDeprecationWarning: \n",
      "The rowNum attribute was deprecated in Matplotlib 3.2 and will be removed two minor releases later. Use ax.get_subplotspec().rowspan.start instead.\n",
      "  if not layout[ax.rowNum + 1, ax.colNum]:\n",
      "C:\\Users\\phill\\AppData\\Roaming\\Python\\Python37\\site-packages\\pandas\\plotting\\_matplotlib\\tools.py:304: MatplotlibDeprecationWarning: \n",
      "The colNum attribute was deprecated in Matplotlib 3.2 and will be removed two minor releases later. Use ax.get_subplotspec().colspan.start instead.\n",
      "  if not layout[ax.rowNum + 1, ax.colNum]:\n"
     ]
    },
    {
     "data": {
      "text/plain": [
       "array([[<matplotlib.axes._subplots.AxesSubplot object at 0x00000208BCA28C88>,\n",
       "        <matplotlib.axes._subplots.AxesSubplot object at 0x00000208ADD31208>],\n",
       "       [<matplotlib.axes._subplots.AxesSubplot object at 0x00000208A81FE588>,\n",
       "        <matplotlib.axes._subplots.AxesSubplot object at 0x00000208C0EAA908>]],\n",
       "      dtype=object)"
      ]
     },
     "execution_count": 44,
     "metadata": {},
     "output_type": "execute_result"
    },
    {
     "data": {
      "image/png": "[encoded data removed]",
      "text/plain": [
       "<Figure size 432x288 with 4 Axes>"
      ]
     },
     "metadata": {
      "needs_background": "light"
     },
     "output_type": "display_data"
    }
   ],
   "source": [
    "df_sel_enc_rs[['health_Dead|Stump', 'health_Fair', 'health_Good', 'health_Poor']].hist()"
   ]
  },
  {
   "cell_type": "code",
   "execution_count": 12,
   "metadata": {
    "scrolled": true
   },
   "outputs": [],
   "source": [
    "from imblearn.over_sampling import SMOTE\n",
    "\n",
    "sm_fairpoor = SMOTE(sampling_strategy='minority', random_state=None, n_jobs=-1)\n",
    "x_train_smo_fair, y_train_smo_fair = sm_fairpoor.fit_sample(x_train, y_train['health_Fair'])\n",
    "x_train_smo_poor, y_train_smo_poor = sm_fairpoor.fit_sample(x_train, y_train['health_Poor'])\n",
    "#sm_gooddeadstump = SMOTE(sampling_strategy='not minority', random_state=None, n_jobs=-1)\n",
    "#x_train_smo_good, y_train_smo_good = sm_gooddeadstump.fit_sample(x_train, y_train['health_Good'])\n",
    "#x_train_smo_deadstump, y_train_smo_deadstump = sm_gooddeadstump.fit_sample(x_train, y_train['health_Dead|Stump'])"
   ]
  },
  {
   "cell_type": "code",
   "execution_count": 13,
   "metadata": {},
   "outputs": [],
   "source": [
    "health_fair = pd.concat([x_train_smo_fair, y_train_smo_fair], axis=1)\n",
    "health_poor = pd.concat([x_train_smo_poor, y_train_smo_poor], axis=1)\n",
    "health_fair = health_fair[health_fair.health_Fair != 0]\n",
    "health_poor = health_poor[health_poor.health_Poor != 0]\n",
    "#health_good = pd.concat([x_train_smo_good, y_train_smo_good], axis=1)\n",
    "#health_deadstump = pd.concat([x_train_smo_deadstump, y_train_smo_deadstump], axis=1)\n",
    "#df_sel_enc_smo = pd.concat([health_fair, health_poor, health_good, health_deadstump], ignore_index=True)\n",
    "df_sel_enc_smo = pd.concat([df_sel_enc, health_fair, health_poor], ignore_index=True)\n",
    "#df_sel_enc_smo.fillna(0, inplace=True)\n",
    "#df_sel_enc_smo[df_sel_enc_smo.columns[-4:]] = df_sel_enc_smo[df_sel_enc_smo.columns[-4:]].astype(int)"
   ]
  },
  {
   "cell_type": "code",
   "execution_count": 14,
   "metadata": {},
   "outputs": [],
   "source": [
    "df_sel_enc_smo.fillna(0, inplace=True)\n",
    "df_sel_enc_smo[df_sel_enc_smo.columns[-4:]] = df_sel_enc_smo[df_sel_enc_smo.columns[-4:]].astype(int)"
   ]
  },
  {
   "cell_type": "code",
   "execution_count": 283,
   "metadata": {},
   "outputs": [],
   "source": [
    "df_sel_enc_smo.drop_duplicates(inplace=True)"
   ]
  },
  {
   "cell_type": "code",
   "execution_count": 15,
   "metadata": {},
   "outputs": [],
   "source": [
    "x_new = df_sel_enc_smo[list(df_sel_enc_smo.columns)[1:28]]\n",
    "y_new = df_sel_enc_smo[list(df_sel_enc_smo.columns)[28:]]\n",
    "\n",
    "# Split into train, test, and validation datasets, with stratification as some labels were not predicted in previous runs.\n",
    "# x_train_vali, x_test, y_train_vali, y_test = train_test_split(x, y, random_state=0)\n",
    "# x_train, x_vali, y_train, y_vali = train_test_split(x_train_vali, y_train_vali, random_state=0)\n",
    "\n",
    "x_train_new, x_test_new, y_train_new, y_test_new = train_test_split(x_new, y_new, test_size=0.2, random_state=None, stratify=y_new)"
   ]
  },
  {
   "cell_type": "code",
   "execution_count": 16,
   "metadata": {
    "scrolled": true
   },
   "outputs": [
    {
     "name": "stderr",
     "output_type": "stream",
     "text": [
      "C:\\Users\\phill\\AppData\\Roaming\\Python\\Python37\\site-packages\\pandas\\plotting\\_matplotlib\\tools.py:298: MatplotlibDeprecationWarning: \n",
      "The rowNum attribute was deprecated in Matplotlib 3.2 and will be removed two minor releases later. Use ax.get_subplotspec().rowspan.start instead.\n",
      "  layout[ax.rowNum, ax.colNum] = ax.get_visible()\n",
      "C:\\Users\\phill\\AppData\\Roaming\\Python\\Python37\\site-packages\\pandas\\plotting\\_matplotlib\\tools.py:298: MatplotlibDeprecationWarning: \n",
      "The colNum attribute was deprecated in Matplotlib 3.2 and will be removed two minor releases later. Use ax.get_subplotspec().colspan.start instead.\n",
      "  layout[ax.rowNum, ax.colNum] = ax.get_visible()\n",
      "C:\\Users\\phill\\AppData\\Roaming\\Python\\Python37\\site-packages\\pandas\\plotting\\_matplotlib\\tools.py:304: MatplotlibDeprecationWarning: \n",
      "The rowNum attribute was deprecated in Matplotlib 3.2 and will be removed two minor releases later. Use ax.get_subplotspec().rowspan.start instead.\n",
      "  if not layout[ax.rowNum + 1, ax.colNum]:\n",
      "C:\\Users\\phill\\AppData\\Roaming\\Python\\Python37\\site-packages\\pandas\\plotting\\_matplotlib\\tools.py:304: MatplotlibDeprecationWarning: \n",
      "The colNum attribute was deprecated in Matplotlib 3.2 and will be removed two minor releases later. Use ax.get_subplotspec().colspan.start instead.\n",
      "  if not layout[ax.rowNum + 1, ax.colNum]:\n"
     ]
    },
    {
     "data": {
      "text/plain": [
       "array([[<matplotlib.axes._subplots.AxesSubplot object at 0x000002097AAC5C50>,\n",
       "        <matplotlib.axes._subplots.AxesSubplot object at 0x000002096D832A20>],\n",
       "       [<matplotlib.axes._subplots.AxesSubplot object at 0x00000208B9F36C88>,\n",
       "        <matplotlib.axes._subplots.AxesSubplot object at 0x00000208B0676DA0>]],\n",
       "      dtype=object)"
      ]
     },
     "execution_count": 16,
     "metadata": {},
     "output_type": "execute_result"
    },
    {
     "data": {
      "image/png": "[encoded data removed]",
      "text/plain": [
       "<Figure size 432x288 with 4 Axes>"
      ]
     },
     "metadata": {
      "needs_background": "light"
     },
     "output_type": "display_data"
    }
   ],
   "source": [
    "y_train.hist()"
   ]
  },
  {
   "cell_type": "code",
   "execution_count": 21,
   "metadata": {
    "scrolled": true
   },
   "outputs": [
    {
     "name": "stderr",
     "output_type": "stream",
     "text": [
      "C:\\Users\\phill\\AppData\\Roaming\\Python\\Python37\\site-packages\\pandas\\plotting\\_matplotlib\\tools.py:298: MatplotlibDeprecationWarning: \n",
      "The rowNum attribute was deprecated in Matplotlib 3.2 and will be removed two minor releases later. Use ax.get_subplotspec().rowspan.start instead.\n",
      "  layout[ax.rowNum, ax.colNum] = ax.get_visible()\n",
      "C:\\Users\\phill\\AppData\\Roaming\\Python\\Python37\\site-packages\\pandas\\plotting\\_matplotlib\\tools.py:298: MatplotlibDeprecationWarning: \n",
      "The colNum attribute was deprecated in Matplotlib 3.2 and will be removed two minor releases later. Use ax.get_subplotspec().colspan.start instead.\n",
      "  layout[ax.rowNum, ax.colNum] = ax.get_visible()\n",
      "C:\\Users\\phill\\AppData\\Roaming\\Python\\Python37\\site-packages\\pandas\\plotting\\_matplotlib\\tools.py:304: MatplotlibDeprecationWarning: \n",
      "The rowNum attribute was deprecated in Matplotlib 3.2 and will be removed two minor releases later. Use ax.get_subplotspec().rowspan.start instead.\n",
      "  if not layout[ax.rowNum + 1, ax.colNum]:\n",
      "C:\\Users\\phill\\AppData\\Roaming\\Python\\Python37\\site-packages\\pandas\\plotting\\_matplotlib\\tools.py:304: MatplotlibDeprecationWarning: \n",
      "The colNum attribute was deprecated in Matplotlib 3.2 and will be removed two minor releases later. Use ax.get_subplotspec().colspan.start instead.\n",
      "  if not layout[ax.rowNum + 1, ax.colNum]:\n"
     ]
    },
    {
     "data": {
      "text/plain": [
       "array([[<matplotlib.axes._subplots.AxesSubplot object at 0x0000020969FAC7F0>,\n",
       "        <matplotlib.axes._subplots.AxesSubplot object at 0x0000020961842EF0>],\n",
       "       [<matplotlib.axes._subplots.AxesSubplot object at 0x000002099796D198>,\n",
       "        <matplotlib.axes._subplots.AxesSubplot object at 0x0000020996631400>]],\n",
       "      dtype=object)"
      ]
     },
     "execution_count": 21,
     "metadata": {},
     "output_type": "execute_result"
    },
    {
     "data": {
      "image/png": "[encoded data removed]",
      "text/plain": [
       "<Figure size 432x288 with 4 Axes>"
      ]
     },
     "metadata": {
      "needs_background": "light"
     },
     "output_type": "display_data"
    }
   ],
   "source": [
    "df_sel_enc_smo[['health_Dead|Stump', 'health_Fair', 'health_Good', 'health_Poor']].hist()"
   ]
  },
  {
   "cell_type": "code",
   "execution_count": 17,
   "metadata": {},
   "outputs": [
    {
     "data": {
      "text/plain": [
       "array([[<matplotlib.axes._subplots.AxesSubplot object at 0x00000208BD4E3AC8>,\n",
       "        <matplotlib.axes._subplots.AxesSubplot object at 0x0000020980ABA550>],\n",
       "       [<matplotlib.axes._subplots.AxesSubplot object at 0x000002096C458748>,\n",
       "        <matplotlib.axes._subplots.AxesSubplot object at 0x0000020986CE09B0>]],\n",
       "      dtype=object)"
      ]
     },
     "execution_count": 17,
     "metadata": {},
     "output_type": "execute_result"
    },
    {
     "data": {
      "image/png": "[encoded data removed]",
      "text/plain": [
       "<Figure size 432x288 with 4 Axes>"
      ]
     },
     "metadata": {
      "needs_background": "light"
     },
     "output_type": "display_data"
    }
   ],
   "source": [
    "y_train_new.hist()"
   ]
  },
  {
   "cell_type": "code",
   "execution_count": 25,
   "metadata": {},
   "outputs": [],
   "source": [
    "target_first_class = len(y.loc[y['health_Dead|Stump'] == 0]) / len(y)\n",
    "target_second_class = len(y.loc[y['health_Fair'] == 0]) / len(y)\n",
    "target_third_class = len(y.loc[y['health_Good'] == 0]) / len(y)\n",
    "target_fourth_class = len(y.loc[y['health_Poor'] == 0]) / len(y)\n",
    "\n",
    "\n",
    "class_weight_orig = [{0:target_first_class, 1:1-target_first_class},\n",
    "                     {0:target_second_class , 1:1-target_second_class},\n",
    "                     {0:target_third_class, 1:1-target_third_class},\n",
    "                     {0:target_fourth_class, 1:1-target_fourth_class}]\n",
    "\n",
    "class_weight_manip = [{0:target_first_class, 1:1-target_first_class},\n",
    "                      {0:target_second_class/2, 1:1-target_second_class/2},\n",
    "                      {0:target_third_class, 1:1-target_third_class},\n",
    "                      {0:target_fourth_class/2, 1:1-target_fourth_class/2}]"
   ]
  },
  {
   "cell_type": "code",
   "execution_count": 18,
   "metadata": {},
   "outputs": [
    {
     "name": "stdout",
     "output_type": "stream",
     "text": [
      "0.06993181026330197\n"
     ]
    }
   ],
   "source": [
    "rdf_clf = RandomForestClassifier()\n",
    "rdf_clf.fit(x_train_new, y_train_new)\n",
    "y_pred_new = rdf_clf.predict(x_test_new)\n",
    "print(accuracy_score(y_test_new, y_pred_new))"
   ]
  },
  {
   "cell_type": "code",
   "execution_count": 20,
   "metadata": {},
   "outputs": [
    {
     "name": "stderr",
     "output_type": "stream",
     "text": [
      "C:\\ProgramData\\Anaconda3\\lib\\site-packages\\sklearn\\metrics\\_classification.py:1268: UndefinedMetricWarning: Precision and F-score are ill-defined and being set to 0.0 in samples with no predicted labels. Use `zero_division` parameter to control this behavior.\n",
      "  _warn_prf(average, modifier, msg_start, len(result))\n"
     ]
    },
    {
     "name": "stdout",
     "output_type": "stream",
     "text": [
      "                   precision    recall  f1-score   support\n",
      "\n",
      "health_Dead|Stump       1.00      1.00      1.00      6323\n",
      "      health_Fair       0.65      0.01      0.03     78029\n",
      "      health_Good       0.50      0.05      0.08    105770\n",
      "      health_Poor       0.70      0.09      0.15     71061\n",
      "\n",
      "        micro avg       0.70      0.07      0.13    261183\n",
      "        macro avg       0.71      0.29      0.32    261183\n",
      "     weighted avg       0.61      0.07      0.11    261183\n",
      "      samples avg       0.07      0.07      0.07    261183\n",
      "\n",
      "F1-score of positive classes: [1.         0.02685912]\n",
      "F1-score (micro): 0.16015857713846254\n",
      "F1-score (macro): 0.5134295575776593\n",
      "F1-score (weighted): 0.09980545685288252\n"
     ]
    }
   ],
   "source": [
    "print(classification_report(y_test_new, y_pred_new, target_names=y_new.columns))\n",
    "print(\"F1-score of positive classes:\", f1_score(y_test_new, y_pred_new, labels=np.unique(y_pred_new), average=None))\n",
    "print(\"F1-score (micro):\", f1_score(y_test_new, y_pred_new, labels=np.unique(y_pred_new), average='micro'))\n",
    "print(\"F1-score (macro):\", f1_score(y_test_new, y_pred_new, labels=np.unique(y_pred_new), average='macro'))\n",
    "print(\"F1-score (weighted):\", f1_score(y_test_new, y_pred_new, labels=np.unique(y_pred_new), average='weighted'))"
   ]
  },
  {
   "cell_type": "code",
   "execution_count": 26,
   "metadata": {},
   "outputs": [
    {
     "name": "stdout",
     "output_type": "stream",
     "text": [
      "0.8193679912487496\n"
     ]
    }
   ],
   "source": [
    "rdf_clf = RandomForestClassifier(class_weight=class_weight_manip)\n",
    "rdf_clf.fit(x_train, y_train)\n",
    "y_pred = rdf_clf.predict(x_test)\n",
    "print(accuracy_score(y_test, y_pred))"
   ]
  },
  {
   "cell_type": "code",
   "execution_count": 27,
   "metadata": {},
   "outputs": [
    {
     "name": "stderr",
     "output_type": "stream",
     "text": [
      "C:\\ProgramData\\Anaconda3\\lib\\site-packages\\sklearn\\metrics\\_classification.py:1268: UndefinedMetricWarning: Precision and F-score are ill-defined and being set to 0.0 in samples with no predicted labels. Use `zero_division` parameter to control this behavior.\n",
      "  _warn_prf(average, modifier, msg_start, len(result))\n"
     ]
    },
    {
     "name": "stdout",
     "output_type": "stream",
     "text": [
      "                   precision    recall  f1-score   support\n",
      "\n",
      "health_Dead|Stump       1.00      1.00      1.00     15808\n",
      "      health_Fair       0.32      0.00      0.00     48252\n",
      "      health_Good       0.81      1.00      0.90    264425\n",
      "      health_Poor       0.36      0.00      0.00     13409\n",
      "\n",
      "        micro avg       0.82      0.82      0.82    341894\n",
      "        macro avg       0.62      0.50      0.47    341894\n",
      "     weighted avg       0.73      0.82      0.74    341894\n",
      "      samples avg       0.82      0.82      0.82    341894\n",
      "\n",
      "F1-score of positive classes: [0.99996837 0.00169485]\n",
      "F1-score (micro): 0.3962148580571771\n",
      "F1-score (macro): 0.5008316073176219\n",
      "F1-score (weighted): 0.24803745948033057\n"
     ]
    }
   ],
   "source": [
    "# \"if the macromedia result is significantly lower than the micromedia one, it means your smaller labels\n",
    "# are poorly classified, whereas your larger ones are probably correctly classified.\"\n",
    "print(classification_report(y_test, y_pred, target_names=y.columns))\n",
    "print(\"F1-score of positive classes:\", f1_score(y_test, y_pred, labels=np.unique(y_pred), average=None))\n",
    "print(\"F1-score (micro):\", f1_score(y_test, y_pred, labels=np.unique(y_pred), average='micro'))\n",
    "print(\"F1-score (macro):\", f1_score(y_test, y_pred, labels=np.unique(y_pred), average='macro'))\n",
    "print(\"F1-score (weighted):\", f1_score(y_test, y_pred, labels=np.unique(y_pred), average='weighted'))"
   ]
  },
  {
   "cell_type": "code",
   "execution_count": 226,
   "metadata": {
    "scrolled": true
   },
   "outputs": [
    {
     "name": "stdout",
     "output_type": "stream",
     "text": [
      "guards_Dead|Stump                0.367684\n",
      "steward_Dead|Stump               0.339992\n",
      "guards_None                      0.161721\n",
      "brch_other_No                    0.022178\n",
      "guards_Helpful                   0.018858\n",
      "brch_other_Yes                   0.018617\n",
      "trnk_other_Yes                   0.014066\n",
      "trnk_other_No                    0.013431\n",
      "guards_Harmful                   0.005660\n",
      "root_stone_Yes                   0.005515\n",
      "root_stone_No                    0.004968\n",
      "root_other_Yes                   0.003644\n",
      "trunk_wire_Yes                   0.003497\n",
      "brch_light_No                    0.002663\n",
      "brch_light_Yes                   0.002562\n",
      "root_grate_Yes                   0.002333\n",
      "guards_Unsure                    0.002297\n",
      "root_other_No                    0.002003\n",
      "trnk_light_Yes                   0.001943\n",
      "circles_two or more neighbors    0.001723\n",
      "circles_one neighbor             0.001105\n",
      "trunk_wire_No                    0.001088\n",
      "brch_shoe_Yes                    0.001027\n",
      "root_grate_No                    0.000795\n",
      "trnk_light_No                    0.000411\n",
      "brch_shoe_No                     0.000219\n",
      "dtype: float64\n"
     ]
    }
   ],
   "source": [
    "feature_imp = pd.Series(rdf_clf.feature_importances_, index=x.columns).sort_values(ascending=False)\n",
    "print(feature_imp)"
   ]
  },
  {
   "cell_type": "code",
   "execution_count": 110,
   "metadata": {
    "collapsed": true
   },
   "outputs": [
    {
     "ename": "KeyboardInterrupt",
     "evalue": "",
     "output_type": "error",
     "traceback": [
      "\u001b[1;31m---------------------------------------------------------------------------\u001b[0m",
      "\u001b[1;31mKeyboardInterrupt\u001b[0m                         Traceback (most recent call last)",
      "\u001b[1;32m<ipython-input-110-5932c1383584>\u001b[0m in \u001b[0;36m<module>\u001b[1;34m\u001b[0m\n\u001b[0;32m      4\u001b[0m \u001b[0mx_train_fs\u001b[0m \u001b[1;33m=\u001b[0m \u001b[0mrdf_clf_sm\u001b[0m\u001b[1;33m.\u001b[0m\u001b[0mtransform\u001b[0m\u001b[1;33m(\u001b[0m\u001b[0mx_train\u001b[0m\u001b[1;33m)\u001b[0m\u001b[1;33m\u001b[0m\u001b[1;33m\u001b[0m\u001b[0m\n\u001b[0;32m      5\u001b[0m \u001b[0mx_test_fs\u001b[0m \u001b[1;33m=\u001b[0m \u001b[0mrdf_clf_sm\u001b[0m\u001b[1;33m.\u001b[0m\u001b[0mtransform\u001b[0m\u001b[1;33m(\u001b[0m\u001b[0mx_test\u001b[0m\u001b[1;33m)\u001b[0m\u001b[1;33m\u001b[0m\u001b[1;33m\u001b[0m\u001b[0m\n\u001b[1;32m----> 6\u001b[1;33m \u001b[0mrdf_clf_n\u001b[0m \u001b[1;33m=\u001b[0m \u001b[0mRandomForestClassifier\u001b[0m\u001b[1;33m(\u001b[0m\u001b[0mrandom_state\u001b[0m\u001b[1;33m=\u001b[0m\u001b[1;36m0\u001b[0m\u001b[1;33m)\u001b[0m\u001b[1;33m.\u001b[0m\u001b[0mfit\u001b[0m\u001b[1;33m(\u001b[0m\u001b[0mx_train_fs\u001b[0m\u001b[1;33m,\u001b[0m \u001b[0my_train\u001b[0m\u001b[1;33m)\u001b[0m\u001b[1;33m\u001b[0m\u001b[1;33m\u001b[0m\u001b[0m\n\u001b[0m\u001b[0;32m      7\u001b[0m \u001b[0my_pred_fs\u001b[0m \u001b[1;33m=\u001b[0m \u001b[0mrdf_clf_n\u001b[0m\u001b[1;33m.\u001b[0m\u001b[0mpredict\u001b[0m\u001b[1;33m(\u001b[0m\u001b[0mx_test_fs\u001b[0m\u001b[1;33m)\u001b[0m\u001b[1;33m\u001b[0m\u001b[1;33m\u001b[0m\u001b[0m\n\u001b[0;32m      8\u001b[0m \u001b[0maccuracy\u001b[0m \u001b[1;33m=\u001b[0m \u001b[0mrdf_clf_n\u001b[0m\u001b[1;33m.\u001b[0m\u001b[0mscore\u001b[0m\u001b[1;33m(\u001b[0m\u001b[0mx_test_fs\u001b[0m\u001b[1;33m,\u001b[0m \u001b[0my_test\u001b[0m\u001b[1;33m)\u001b[0m\u001b[1;33m\u001b[0m\u001b[1;33m\u001b[0m\u001b[0m\n",
      "\u001b[1;32mC:\\ProgramData\\Anaconda3\\lib\\site-packages\\sklearn\\ensemble\\_forest.py\u001b[0m in \u001b[0;36mfit\u001b[1;34m(self, X, y, sample_weight)\u001b[0m\n\u001b[0;32m    381\u001b[0m                     \u001b[0mverbose\u001b[0m\u001b[1;33m=\u001b[0m\u001b[0mself\u001b[0m\u001b[1;33m.\u001b[0m\u001b[0mverbose\u001b[0m\u001b[1;33m,\u001b[0m \u001b[0mclass_weight\u001b[0m\u001b[1;33m=\u001b[0m\u001b[0mself\u001b[0m\u001b[1;33m.\u001b[0m\u001b[0mclass_weight\u001b[0m\u001b[1;33m,\u001b[0m\u001b[1;33m\u001b[0m\u001b[1;33m\u001b[0m\u001b[0m\n\u001b[0;32m    382\u001b[0m                     n_samples_bootstrap=n_samples_bootstrap)\n\u001b[1;32m--> 383\u001b[1;33m                 for i, t in enumerate(trees))\n\u001b[0m\u001b[0;32m    384\u001b[0m \u001b[1;33m\u001b[0m\u001b[0m\n\u001b[0;32m    385\u001b[0m             \u001b[1;31m# Collect newly grown trees\u001b[0m\u001b[1;33m\u001b[0m\u001b[1;33m\u001b[0m\u001b[1;33m\u001b[0m\u001b[0m\n",
      "\u001b[1;32mC:\\ProgramData\\Anaconda3\\lib\\site-packages\\joblib\\parallel.py\u001b[0m in \u001b[0;36m__call__\u001b[1;34m(self, iterable)\u001b[0m\n\u001b[0;32m   1005\u001b[0m                 \u001b[0mself\u001b[0m\u001b[1;33m.\u001b[0m\u001b[0m_iterating\u001b[0m \u001b[1;33m=\u001b[0m \u001b[0mself\u001b[0m\u001b[1;33m.\u001b[0m\u001b[0m_original_iterator\u001b[0m \u001b[1;32mis\u001b[0m \u001b[1;32mnot\u001b[0m \u001b[1;32mNone\u001b[0m\u001b[1;33m\u001b[0m\u001b[1;33m\u001b[0m\u001b[0m\n\u001b[0;32m   1006\u001b[0m \u001b[1;33m\u001b[0m\u001b[0m\n\u001b[1;32m-> 1007\u001b[1;33m             \u001b[1;32mwhile\u001b[0m \u001b[0mself\u001b[0m\u001b[1;33m.\u001b[0m\u001b[0mdispatch_one_batch\u001b[0m\u001b[1;33m(\u001b[0m\u001b[0miterator\u001b[0m\u001b[1;33m)\u001b[0m\u001b[1;33m:\u001b[0m\u001b[1;33m\u001b[0m\u001b[1;33m\u001b[0m\u001b[0m\n\u001b[0m\u001b[0;32m   1008\u001b[0m                 \u001b[1;32mpass\u001b[0m\u001b[1;33m\u001b[0m\u001b[1;33m\u001b[0m\u001b[0m\n\u001b[0;32m   1009\u001b[0m \u001b[1;33m\u001b[0m\u001b[0m\n",
      "\u001b[1;32mC:\\ProgramData\\Anaconda3\\lib\\site-packages\\joblib\\parallel.py\u001b[0m in \u001b[0;36mdispatch_one_batch\u001b[1;34m(self, iterator)\u001b[0m\n\u001b[0;32m    833\u001b[0m                 \u001b[1;32mreturn\u001b[0m \u001b[1;32mFalse\u001b[0m\u001b[1;33m\u001b[0m\u001b[1;33m\u001b[0m\u001b[0m\n\u001b[0;32m    834\u001b[0m             \u001b[1;32melse\u001b[0m\u001b[1;33m:\u001b[0m\u001b[1;33m\u001b[0m\u001b[1;33m\u001b[0m\u001b[0m\n\u001b[1;32m--> 835\u001b[1;33m                 \u001b[0mself\u001b[0m\u001b[1;33m.\u001b[0m\u001b[0m_dispatch\u001b[0m\u001b[1;33m(\u001b[0m\u001b[0mtasks\u001b[0m\u001b[1;33m)\u001b[0m\u001b[1;33m\u001b[0m\u001b[1;33m\u001b[0m\u001b[0m\n\u001b[0m\u001b[0;32m    836\u001b[0m                 \u001b[1;32mreturn\u001b[0m \u001b[1;32mTrue\u001b[0m\u001b[1;33m\u001b[0m\u001b[1;33m\u001b[0m\u001b[0m\n\u001b[0;32m    837\u001b[0m \u001b[1;33m\u001b[0m\u001b[0m\n",
      "\u001b[1;32mC:\\ProgramData\\Anaconda3\\lib\\site-packages\\joblib\\parallel.py\u001b[0m in \u001b[0;36m_dispatch\u001b[1;34m(self, batch)\u001b[0m\n\u001b[0;32m    752\u001b[0m         \u001b[1;32mwith\u001b[0m \u001b[0mself\u001b[0m\u001b[1;33m.\u001b[0m\u001b[0m_lock\u001b[0m\u001b[1;33m:\u001b[0m\u001b[1;33m\u001b[0m\u001b[1;33m\u001b[0m\u001b[0m\n\u001b[0;32m    753\u001b[0m             \u001b[0mjob_idx\u001b[0m \u001b[1;33m=\u001b[0m \u001b[0mlen\u001b[0m\u001b[1;33m(\u001b[0m\u001b[0mself\u001b[0m\u001b[1;33m.\u001b[0m\u001b[0m_jobs\u001b[0m\u001b[1;33m)\u001b[0m\u001b[1;33m\u001b[0m\u001b[1;33m\u001b[0m\u001b[0m\n\u001b[1;32m--> 754\u001b[1;33m             \u001b[0mjob\u001b[0m \u001b[1;33m=\u001b[0m \u001b[0mself\u001b[0m\u001b[1;33m.\u001b[0m\u001b[0m_backend\u001b[0m\u001b[1;33m.\u001b[0m\u001b[0mapply_async\u001b[0m\u001b[1;33m(\u001b[0m\u001b[0mbatch\u001b[0m\u001b[1;33m,\u001b[0m \u001b[0mcallback\u001b[0m\u001b[1;33m=\u001b[0m\u001b[0mcb\u001b[0m\u001b[1;33m)\u001b[0m\u001b[1;33m\u001b[0m\u001b[1;33m\u001b[0m\u001b[0m\n\u001b[0m\u001b[0;32m    755\u001b[0m             \u001b[1;31m# A job can complete so quickly than its callback is\u001b[0m\u001b[1;33m\u001b[0m\u001b[1;33m\u001b[0m\u001b[1;33m\u001b[0m\u001b[0m\n\u001b[0;32m    756\u001b[0m             \u001b[1;31m# called before we get here, causing self._jobs to\u001b[0m\u001b[1;33m\u001b[0m\u001b[1;33m\u001b[0m\u001b[1;33m\u001b[0m\u001b[0m\n",
      "\u001b[1;32mC:\\ProgramData\\Anaconda3\\lib\\site-packages\\joblib\\_parallel_backends.py\u001b[0m in \u001b[0;36mapply_async\u001b[1;34m(self, func, callback)\u001b[0m\n\u001b[0;32m    207\u001b[0m     \u001b[1;32mdef\u001b[0m \u001b[0mapply_async\u001b[0m\u001b[1;33m(\u001b[0m\u001b[0mself\u001b[0m\u001b[1;33m,\u001b[0m \u001b[0mfunc\u001b[0m\u001b[1;33m,\u001b[0m \u001b[0mcallback\u001b[0m\u001b[1;33m=\u001b[0m\u001b[1;32mNone\u001b[0m\u001b[1;33m)\u001b[0m\u001b[1;33m:\u001b[0m\u001b[1;33m\u001b[0m\u001b[1;33m\u001b[0m\u001b[0m\n\u001b[0;32m    208\u001b[0m         \u001b[1;34m\"\"\"Schedule a func to be run\"\"\"\u001b[0m\u001b[1;33m\u001b[0m\u001b[1;33m\u001b[0m\u001b[0m\n\u001b[1;32m--> 209\u001b[1;33m         \u001b[0mresult\u001b[0m \u001b[1;33m=\u001b[0m \u001b[0mImmediateResult\u001b[0m\u001b[1;33m(\u001b[0m\u001b[0mfunc\u001b[0m\u001b[1;33m)\u001b[0m\u001b[1;33m\u001b[0m\u001b[1;33m\u001b[0m\u001b[0m\n\u001b[0m\u001b[0;32m    210\u001b[0m         \u001b[1;32mif\u001b[0m \u001b[0mcallback\u001b[0m\u001b[1;33m:\u001b[0m\u001b[1;33m\u001b[0m\u001b[1;33m\u001b[0m\u001b[0m\n\u001b[0;32m    211\u001b[0m             \u001b[0mcallback\u001b[0m\u001b[1;33m(\u001b[0m\u001b[0mresult\u001b[0m\u001b[1;33m)\u001b[0m\u001b[1;33m\u001b[0m\u001b[1;33m\u001b[0m\u001b[0m\n",
      "\u001b[1;32mC:\\ProgramData\\Anaconda3\\lib\\site-packages\\joblib\\_parallel_backends.py\u001b[0m in \u001b[0;36m__init__\u001b[1;34m(self, batch)\u001b[0m\n\u001b[0;32m    588\u001b[0m         \u001b[1;31m# Don't delay the application, to avoid keeping the input\u001b[0m\u001b[1;33m\u001b[0m\u001b[1;33m\u001b[0m\u001b[1;33m\u001b[0m\u001b[0m\n\u001b[0;32m    589\u001b[0m         \u001b[1;31m# arguments in memory\u001b[0m\u001b[1;33m\u001b[0m\u001b[1;33m\u001b[0m\u001b[1;33m\u001b[0m\u001b[0m\n\u001b[1;32m--> 590\u001b[1;33m         \u001b[0mself\u001b[0m\u001b[1;33m.\u001b[0m\u001b[0mresults\u001b[0m \u001b[1;33m=\u001b[0m \u001b[0mbatch\u001b[0m\u001b[1;33m(\u001b[0m\u001b[1;33m)\u001b[0m\u001b[1;33m\u001b[0m\u001b[1;33m\u001b[0m\u001b[0m\n\u001b[0m\u001b[0;32m    591\u001b[0m \u001b[1;33m\u001b[0m\u001b[0m\n\u001b[0;32m    592\u001b[0m     \u001b[1;32mdef\u001b[0m \u001b[0mget\u001b[0m\u001b[1;33m(\u001b[0m\u001b[0mself\u001b[0m\u001b[1;33m)\u001b[0m\u001b[1;33m:\u001b[0m\u001b[1;33m\u001b[0m\u001b[1;33m\u001b[0m\u001b[0m\n",
      "\u001b[1;32mC:\\ProgramData\\Anaconda3\\lib\\site-packages\\joblib\\parallel.py\u001b[0m in \u001b[0;36m__call__\u001b[1;34m(self)\u001b[0m\n\u001b[0;32m    254\u001b[0m         \u001b[1;32mwith\u001b[0m \u001b[0mparallel_backend\u001b[0m\u001b[1;33m(\u001b[0m\u001b[0mself\u001b[0m\u001b[1;33m.\u001b[0m\u001b[0m_backend\u001b[0m\u001b[1;33m,\u001b[0m \u001b[0mn_jobs\u001b[0m\u001b[1;33m=\u001b[0m\u001b[0mself\u001b[0m\u001b[1;33m.\u001b[0m\u001b[0m_n_jobs\u001b[0m\u001b[1;33m)\u001b[0m\u001b[1;33m:\u001b[0m\u001b[1;33m\u001b[0m\u001b[1;33m\u001b[0m\u001b[0m\n\u001b[0;32m    255\u001b[0m             return [func(*args, **kwargs)\n\u001b[1;32m--> 256\u001b[1;33m                     for func, args, kwargs in self.items]\n\u001b[0m\u001b[0;32m    257\u001b[0m \u001b[1;33m\u001b[0m\u001b[0m\n\u001b[0;32m    258\u001b[0m     \u001b[1;32mdef\u001b[0m \u001b[0m__len__\u001b[0m\u001b[1;33m(\u001b[0m\u001b[0mself\u001b[0m\u001b[1;33m)\u001b[0m\u001b[1;33m:\u001b[0m\u001b[1;33m\u001b[0m\u001b[1;33m\u001b[0m\u001b[0m\n",
      "\u001b[1;32mC:\\ProgramData\\Anaconda3\\lib\\site-packages\\joblib\\parallel.py\u001b[0m in \u001b[0;36m<listcomp>\u001b[1;34m(.0)\u001b[0m\n\u001b[0;32m    254\u001b[0m         \u001b[1;32mwith\u001b[0m \u001b[0mparallel_backend\u001b[0m\u001b[1;33m(\u001b[0m\u001b[0mself\u001b[0m\u001b[1;33m.\u001b[0m\u001b[0m_backend\u001b[0m\u001b[1;33m,\u001b[0m \u001b[0mn_jobs\u001b[0m\u001b[1;33m=\u001b[0m\u001b[0mself\u001b[0m\u001b[1;33m.\u001b[0m\u001b[0m_n_jobs\u001b[0m\u001b[1;33m)\u001b[0m\u001b[1;33m:\u001b[0m\u001b[1;33m\u001b[0m\u001b[1;33m\u001b[0m\u001b[0m\n\u001b[0;32m    255\u001b[0m             return [func(*args, **kwargs)\n\u001b[1;32m--> 256\u001b[1;33m                     for func, args, kwargs in self.items]\n\u001b[0m\u001b[0;32m    257\u001b[0m \u001b[1;33m\u001b[0m\u001b[0m\n\u001b[0;32m    258\u001b[0m     \u001b[1;32mdef\u001b[0m \u001b[0m__len__\u001b[0m\u001b[1;33m(\u001b[0m\u001b[0mself\u001b[0m\u001b[1;33m)\u001b[0m\u001b[1;33m:\u001b[0m\u001b[1;33m\u001b[0m\u001b[1;33m\u001b[0m\u001b[0m\n",
      "\u001b[1;32mC:\\ProgramData\\Anaconda3\\lib\\site-packages\\sklearn\\ensemble\\_forest.py\u001b[0m in \u001b[0;36m_parallel_build_trees\u001b[1;34m(tree, forest, X, y, sample_weight, tree_idx, n_trees, verbose, class_weight, n_samples_bootstrap)\u001b[0m\n\u001b[0;32m    163\u001b[0m             \u001b[0mcurr_sample_weight\u001b[0m \u001b[1;33m*=\u001b[0m \u001b[0mcompute_sample_weight\u001b[0m\u001b[1;33m(\u001b[0m\u001b[1;34m'balanced'\u001b[0m\u001b[1;33m,\u001b[0m \u001b[0my\u001b[0m\u001b[1;33m,\u001b[0m \u001b[0mindices\u001b[0m\u001b[1;33m)\u001b[0m\u001b[1;33m\u001b[0m\u001b[1;33m\u001b[0m\u001b[0m\n\u001b[0;32m    164\u001b[0m \u001b[1;33m\u001b[0m\u001b[0m\n\u001b[1;32m--> 165\u001b[1;33m         \u001b[0mtree\u001b[0m\u001b[1;33m.\u001b[0m\u001b[0mfit\u001b[0m\u001b[1;33m(\u001b[0m\u001b[0mX\u001b[0m\u001b[1;33m,\u001b[0m \u001b[0my\u001b[0m\u001b[1;33m,\u001b[0m \u001b[0msample_weight\u001b[0m\u001b[1;33m=\u001b[0m\u001b[0mcurr_sample_weight\u001b[0m\u001b[1;33m,\u001b[0m \u001b[0mcheck_input\u001b[0m\u001b[1;33m=\u001b[0m\u001b[1;32mFalse\u001b[0m\u001b[1;33m)\u001b[0m\u001b[1;33m\u001b[0m\u001b[1;33m\u001b[0m\u001b[0m\n\u001b[0m\u001b[0;32m    166\u001b[0m     \u001b[1;32melse\u001b[0m\u001b[1;33m:\u001b[0m\u001b[1;33m\u001b[0m\u001b[1;33m\u001b[0m\u001b[0m\n\u001b[0;32m    167\u001b[0m         \u001b[0mtree\u001b[0m\u001b[1;33m.\u001b[0m\u001b[0mfit\u001b[0m\u001b[1;33m(\u001b[0m\u001b[0mX\u001b[0m\u001b[1;33m,\u001b[0m \u001b[0my\u001b[0m\u001b[1;33m,\u001b[0m \u001b[0msample_weight\u001b[0m\u001b[1;33m=\u001b[0m\u001b[0msample_weight\u001b[0m\u001b[1;33m,\u001b[0m \u001b[0mcheck_input\u001b[0m\u001b[1;33m=\u001b[0m\u001b[1;32mFalse\u001b[0m\u001b[1;33m)\u001b[0m\u001b[1;33m\u001b[0m\u001b[1;33m\u001b[0m\u001b[0m\n",
      "\u001b[1;32mC:\\ProgramData\\Anaconda3\\lib\\site-packages\\sklearn\\tree\\_classes.py\u001b[0m in \u001b[0;36mfit\u001b[1;34m(self, X, y, sample_weight, check_input, X_idx_sorted)\u001b[0m\n\u001b[0;32m    874\u001b[0m             \u001b[0msample_weight\u001b[0m\u001b[1;33m=\u001b[0m\u001b[0msample_weight\u001b[0m\u001b[1;33m,\u001b[0m\u001b[1;33m\u001b[0m\u001b[1;33m\u001b[0m\u001b[0m\n\u001b[0;32m    875\u001b[0m             \u001b[0mcheck_input\u001b[0m\u001b[1;33m=\u001b[0m\u001b[0mcheck_input\u001b[0m\u001b[1;33m,\u001b[0m\u001b[1;33m\u001b[0m\u001b[1;33m\u001b[0m\u001b[0m\n\u001b[1;32m--> 876\u001b[1;33m             X_idx_sorted=X_idx_sorted)\n\u001b[0m\u001b[0;32m    877\u001b[0m         \u001b[1;32mreturn\u001b[0m \u001b[0mself\u001b[0m\u001b[1;33m\u001b[0m\u001b[1;33m\u001b[0m\u001b[0m\n\u001b[0;32m    878\u001b[0m \u001b[1;33m\u001b[0m\u001b[0m\n",
      "\u001b[1;32mC:\\ProgramData\\Anaconda3\\lib\\site-packages\\sklearn\\tree\\_classes.py\u001b[0m in \u001b[0;36mfit\u001b[1;34m(self, X, y, sample_weight, check_input, X_idx_sorted)\u001b[0m\n\u001b[0;32m    365\u001b[0m                                            min_impurity_split)\n\u001b[0;32m    366\u001b[0m \u001b[1;33m\u001b[0m\u001b[0m\n\u001b[1;32m--> 367\u001b[1;33m         \u001b[0mbuilder\u001b[0m\u001b[1;33m.\u001b[0m\u001b[0mbuild\u001b[0m\u001b[1;33m(\u001b[0m\u001b[0mself\u001b[0m\u001b[1;33m.\u001b[0m\u001b[0mtree_\u001b[0m\u001b[1;33m,\u001b[0m \u001b[0mX\u001b[0m\u001b[1;33m,\u001b[0m \u001b[0my\u001b[0m\u001b[1;33m,\u001b[0m \u001b[0msample_weight\u001b[0m\u001b[1;33m,\u001b[0m \u001b[0mX_idx_sorted\u001b[0m\u001b[1;33m)\u001b[0m\u001b[1;33m\u001b[0m\u001b[1;33m\u001b[0m\u001b[0m\n\u001b[0m\u001b[0;32m    368\u001b[0m \u001b[1;33m\u001b[0m\u001b[0m\n\u001b[0;32m    369\u001b[0m         \u001b[1;32mif\u001b[0m \u001b[0mself\u001b[0m\u001b[1;33m.\u001b[0m\u001b[0mn_outputs_\u001b[0m \u001b[1;33m==\u001b[0m \u001b[1;36m1\u001b[0m \u001b[1;32mand\u001b[0m \u001b[0mis_classifier\u001b[0m\u001b[1;33m(\u001b[0m\u001b[0mself\u001b[0m\u001b[1;33m)\u001b[0m\u001b[1;33m:\u001b[0m\u001b[1;33m\u001b[0m\u001b[1;33m\u001b[0m\u001b[0m\n",
      "\u001b[1;31mKeyboardInterrupt\u001b[0m: "
     ]
    }
   ],
   "source": [
    "# Training & pruning with model-based feature selection.\n",
    "rdf_clf_sm = SelectFromModel(RandomForestClassifier(random_state=0), threshold='median')\n",
    "rdf_clf_sm.fit(x_train, y_train)\n",
    "x_train_fs = rdf_clf_sm.transform(x_train)\n",
    "x_test_fs = rdf_clf_sm.transform(x_test)\n",
    "rdf_clf_n = RandomForestClassifier(random_state=0).fit(x_train_fs, y_train)\n",
    "y_pred_fs = rdf_clf_n.predict(x_test_fs)\n",
    "accuracy = rdf_clf_n.score(x_test_fs, y_test)\n",
    "print(\"Accuracy score:\", accuracy)"
   ]
  },
  {
   "cell_type": "code",
   "execution_count": 44,
   "metadata": {},
   "outputs": [
    {
     "name": "stdout",
     "output_type": "stream",
     "text": [
      "steward_Dead|Stump    0.369881\n",
      "guards_Dead|Stump     0.339898\n",
      "steward_Alive         0.289910\n",
      "guards_None           0.000312\n",
      "dtype: float64\n"
     ]
    }
   ],
   "source": [
    "feature_imp = pd.Series(rdf_clf_n.feature_importances_, index=x.columns[rdf_clf_sm.get_support()]).sort_values(ascending=False)\n",
    "print(feature_imp)"
   ]
  },
  {
   "cell_type": "code",
   "execution_count": 19,
   "metadata": {},
   "outputs": [
    {
     "ename": "NameError",
     "evalue": "name 'y_pred' is not defined",
     "output_type": "error",
     "traceback": [
      "\u001b[1;31m---------------------------------------------------------------------------\u001b[0m",
      "\u001b[1;31mNameError\u001b[0m                                 Traceback (most recent call last)",
      "\u001b[1;32m<ipython-input-19-9f17a8961586>\u001b[0m in \u001b[0;36m<module>\u001b[1;34m\u001b[0m\n\u001b[0;32m      1\u001b[0m \u001b[1;31m# \"if the macromedia result is significantly lower than the micromedia one, it means your smaller labels\u001b[0m\u001b[1;33m\u001b[0m\u001b[1;33m\u001b[0m\u001b[1;33m\u001b[0m\u001b[0m\n\u001b[0;32m      2\u001b[0m \u001b[1;31m# are poorly classified, whereas your larger ones are probably correctly classified.\"\u001b[0m\u001b[1;33m\u001b[0m\u001b[1;33m\u001b[0m\u001b[1;33m\u001b[0m\u001b[0m\n\u001b[1;32m----> 3\u001b[1;33m \u001b[0mprint\u001b[0m\u001b[1;33m(\u001b[0m\u001b[0mclassification_report\u001b[0m\u001b[1;33m(\u001b[0m\u001b[0my_test\u001b[0m\u001b[1;33m,\u001b[0m \u001b[0my_pred\u001b[0m\u001b[1;33m,\u001b[0m \u001b[0mtarget_names\u001b[0m\u001b[1;33m=\u001b[0m\u001b[0my\u001b[0m\u001b[1;33m.\u001b[0m\u001b[0mcolumns\u001b[0m\u001b[1;33m)\u001b[0m\u001b[1;33m)\u001b[0m\u001b[1;33m\u001b[0m\u001b[1;33m\u001b[0m\u001b[0m\n\u001b[0m\u001b[0;32m      4\u001b[0m \u001b[0mprint\u001b[0m\u001b[1;33m(\u001b[0m\u001b[1;34m\"F1-score of positive classes:\"\u001b[0m\u001b[1;33m,\u001b[0m \u001b[0mf1_score\u001b[0m\u001b[1;33m(\u001b[0m\u001b[0my_test\u001b[0m\u001b[1;33m,\u001b[0m \u001b[0my_pred\u001b[0m\u001b[1;33m,\u001b[0m \u001b[0mlabels\u001b[0m\u001b[1;33m=\u001b[0m\u001b[0mnp\u001b[0m\u001b[1;33m.\u001b[0m\u001b[0munique\u001b[0m\u001b[1;33m(\u001b[0m\u001b[0my_pred\u001b[0m\u001b[1;33m)\u001b[0m\u001b[1;33m,\u001b[0m \u001b[0maverage\u001b[0m\u001b[1;33m=\u001b[0m\u001b[1;32mNone\u001b[0m\u001b[1;33m)\u001b[0m\u001b[1;33m)\u001b[0m\u001b[1;33m\u001b[0m\u001b[1;33m\u001b[0m\u001b[0m\n\u001b[0;32m      5\u001b[0m \u001b[0mprint\u001b[0m\u001b[1;33m(\u001b[0m\u001b[1;34m\"F1-score (micro):\"\u001b[0m\u001b[1;33m,\u001b[0m \u001b[0mf1_score\u001b[0m\u001b[1;33m(\u001b[0m\u001b[0my_test\u001b[0m\u001b[1;33m,\u001b[0m \u001b[0my_pred\u001b[0m\u001b[1;33m,\u001b[0m \u001b[0mlabels\u001b[0m\u001b[1;33m=\u001b[0m\u001b[0mnp\u001b[0m\u001b[1;33m.\u001b[0m\u001b[0munique\u001b[0m\u001b[1;33m(\u001b[0m\u001b[0my_pred\u001b[0m\u001b[1;33m)\u001b[0m\u001b[1;33m,\u001b[0m \u001b[0maverage\u001b[0m\u001b[1;33m=\u001b[0m\u001b[1;34m'micro'\u001b[0m\u001b[1;33m)\u001b[0m\u001b[1;33m)\u001b[0m\u001b[1;33m\u001b[0m\u001b[1;33m\u001b[0m\u001b[0m\n",
      "\u001b[1;31mNameError\u001b[0m: name 'y_pred' is not defined"
     ]
    }
   ],
   "source": [
    "# \"if the macromedia result is significantly lower than the micromedia one, it means your smaller labels\n",
    "# are poorly classified, whereas your larger ones are probably correctly classified.\"\n",
    "print(classification_report(y_test, y_pred, target_names=y.columns))\n",
    "print(\"F1-score of positive classes:\", f1_score(y_test, y_pred, labels=np.unique(y_pred), average=None))\n",
    "print(\"F1-score (micro):\", f1_score(y_test, y_pred, labels=np.unique(y_pred), average='micro'))\n",
    "print(\"F1-score (macro):\", f1_score(y_test, y_pred, labels=np.unique(y_pred), average='macro'))\n",
    "print(\"F1-score (weighted):\", f1_score(y_test, y_pred, labels=np.unique(y_pred), average='weighted'))"
   ]
  },
  {
   "cell_type": "code",
   "execution_count": 51,
   "metadata": {},
   "outputs": [
    {
     "data": {
      "text/plain": [
       "(0.6036339939433434, 0.6666666666666666, 0.6318593312306401, None)"
      ]
     },
     "execution_count": 51,
     "metadata": {},
     "output_type": "execute_result"
    }
   ],
   "source": [
    "precision_recall_fscore_support(y_test, y_pred, average='macro')"
   ]
  },
  {
   "cell_type": "code",
   "execution_count": 56,
   "metadata": {},
   "outputs": [
    {
     "name": "stdout",
     "output_type": "stream",
     "text": [
      "health_Dead|Stump\n",
      "0    652172\n",
      "1     31616\n",
      "Name: health_Dead|Stump, dtype: int64\n",
      "health_Good\n",
      "1    528850\n",
      "0    154938\n",
      "Name: health_Good, dtype: int64\n",
      "health_Poor|Fair\n",
      "0    560466\n",
      "1    123322\n",
      "Name: health_Poor|Fair, dtype: int64\n"
     ]
    }
   ],
   "source": [
    "for col in y:\n",
    "    print(col)\n",
    "    print(y[col].value_counts())"
   ]
  },
  {
   "cell_type": "code",
   "execution_count": 60,
   "metadata": {},
   "outputs": [
    {
     "data": {
      "text/html": [
       "<div>\n",
       "<style scoped>\n",
       "    .dataframe tbody tr th:only-of-type {\n",
       "        vertical-align: middle;\n",
       "    }\n",
       "\n",
       "    .dataframe tbody tr th {\n",
       "        vertical-align: top;\n",
       "    }\n",
       "\n",
       "    .dataframe thead th {\n",
       "        text-align: right;\n",
       "    }\n",
       "</style>\n",
       "<table border=\"1\" class=\"dataframe\">\n",
       "  <thead>\n",
       "    <tr style=\"text-align: right;\">\n",
       "      <th></th>\n",
       "      <th>tree_id</th>\n",
       "      <th>steward_Alive</th>\n",
       "      <th>steward_Dead|Stump</th>\n",
       "      <th>guards_Dead|Stump</th>\n",
       "      <th>guards_Harmful</th>\n",
       "      <th>guards_Helpful</th>\n",
       "      <th>guards_None</th>\n",
       "      <th>guards_Unsure</th>\n",
       "      <th>root_stone_No</th>\n",
       "      <th>root_stone_Yes</th>\n",
       "      <th>root_grate_No</th>\n",
       "      <th>root_grate_Yes</th>\n",
       "      <th>root_other_No</th>\n",
       "      <th>root_other_Yes</th>\n",
       "      <th>trunk_wire_No</th>\n",
       "      <th>trunk_wire_Yes</th>\n",
       "      <th>trnk_light_No</th>\n",
       "      <th>trnk_light_Yes</th>\n",
       "      <th>trnk_other_No</th>\n",
       "      <th>trnk_other_Yes</th>\n",
       "      <th>brch_light_No</th>\n",
       "      <th>brch_light_Yes</th>\n",
       "      <th>brch_shoe_No</th>\n",
       "      <th>brch_shoe_Yes</th>\n",
       "      <th>brch_other_No</th>\n",
       "      <th>brch_other_Yes</th>\n",
       "      <th>circles_one neighbor</th>\n",
       "      <th>circles_two or more neighbors</th>\n",
       "      <th>health_Dead|Stump</th>\n",
       "      <th>health_Good</th>\n",
       "      <th>health_Poor|Fair</th>\n",
       "    </tr>\n",
       "  </thead>\n",
       "  <tbody>\n",
       "    <tr>\n",
       "      <th>count</th>\n",
       "      <td>123322.000000</td>\n",
       "      <td>123322.0</td>\n",
       "      <td>123322.0</td>\n",
       "      <td>123322.000000</td>\n",
       "      <td>123322.000000</td>\n",
       "      <td>123322.000000</td>\n",
       "      <td>123322.000000</td>\n",
       "      <td>123322.000000</td>\n",
       "      <td>123322.000000</td>\n",
       "      <td>123322.000000</td>\n",
       "      <td>123322.000000</td>\n",
       "      <td>123322.000000</td>\n",
       "      <td>123322.000000</td>\n",
       "      <td>123322.000000</td>\n",
       "      <td>123322.000000</td>\n",
       "      <td>123322.000000</td>\n",
       "      <td>123322.000000</td>\n",
       "      <td>123322.000000</td>\n",
       "      <td>123322.000000</td>\n",
       "      <td>123322.000000</td>\n",
       "      <td>123322.000000</td>\n",
       "      <td>123322.000000</td>\n",
       "      <td>123322.000000</td>\n",
       "      <td>123322.000000</td>\n",
       "      <td>123322.000000</td>\n",
       "      <td>123322.000000</td>\n",
       "      <td>123322.000000</td>\n",
       "      <td>123322.000000</td>\n",
       "      <td>123322.0</td>\n",
       "      <td>123322.0</td>\n",
       "      <td>123322.0</td>\n",
       "    </tr>\n",
       "    <tr>\n",
       "      <th>mean</th>\n",
       "      <td>312148.365823</td>\n",
       "      <td>1.0</td>\n",
       "      <td>0.0</td>\n",
       "      <td>0.000008</td>\n",
       "      <td>0.039977</td>\n",
       "      <td>0.074828</td>\n",
       "      <td>0.870299</td>\n",
       "      <td>0.014888</td>\n",
       "      <td>0.767381</td>\n",
       "      <td>0.232619</td>\n",
       "      <td>0.991023</td>\n",
       "      <td>0.008977</td>\n",
       "      <td>0.930199</td>\n",
       "      <td>0.069801</td>\n",
       "      <td>0.971465</td>\n",
       "      <td>0.028535</td>\n",
       "      <td>0.997754</td>\n",
       "      <td>0.002246</td>\n",
       "      <td>0.892152</td>\n",
       "      <td>0.107848</td>\n",
       "      <td>0.892201</td>\n",
       "      <td>0.107799</td>\n",
       "      <td>0.998978</td>\n",
       "      <td>0.001022</td>\n",
       "      <td>0.906375</td>\n",
       "      <td>0.093625</td>\n",
       "      <td>0.652803</td>\n",
       "      <td>0.347197</td>\n",
       "      <td>0.0</td>\n",
       "      <td>0.0</td>\n",
       "      <td>1.0</td>\n",
       "    </tr>\n",
       "    <tr>\n",
       "      <th>std</th>\n",
       "      <td>199996.442662</td>\n",
       "      <td>0.0</td>\n",
       "      <td>0.0</td>\n",
       "      <td>0.002848</td>\n",
       "      <td>0.195905</td>\n",
       "      <td>0.263115</td>\n",
       "      <td>0.335976</td>\n",
       "      <td>0.121105</td>\n",
       "      <td>0.422503</td>\n",
       "      <td>0.422503</td>\n",
       "      <td>0.094319</td>\n",
       "      <td>0.094319</td>\n",
       "      <td>0.254812</td>\n",
       "      <td>0.254812</td>\n",
       "      <td>0.166496</td>\n",
       "      <td>0.166496</td>\n",
       "      <td>0.047341</td>\n",
       "      <td>0.047341</td>\n",
       "      <td>0.310189</td>\n",
       "      <td>0.310189</td>\n",
       "      <td>0.310128</td>\n",
       "      <td>0.310128</td>\n",
       "      <td>0.031948</td>\n",
       "      <td>0.031948</td>\n",
       "      <td>0.291307</td>\n",
       "      <td>0.291307</td>\n",
       "      <td>0.476081</td>\n",
       "      <td>0.476081</td>\n",
       "      <td>0.0</td>\n",
       "      <td>0.0</td>\n",
       "      <td>0.0</td>\n",
       "    </tr>\n",
       "    <tr>\n",
       "      <th>min</th>\n",
       "      <td>7.000000</td>\n",
       "      <td>1.0</td>\n",
       "      <td>0.0</td>\n",
       "      <td>0.000000</td>\n",
       "      <td>0.000000</td>\n",
       "      <td>0.000000</td>\n",
       "      <td>0.000000</td>\n",
       "      <td>0.000000</td>\n",
       "      <td>0.000000</td>\n",
       "      <td>0.000000</td>\n",
       "      <td>0.000000</td>\n",
       "      <td>0.000000</td>\n",
       "      <td>0.000000</td>\n",
       "      <td>0.000000</td>\n",
       "      <td>0.000000</td>\n",
       "      <td>0.000000</td>\n",
       "      <td>0.000000</td>\n",
       "      <td>0.000000</td>\n",
       "      <td>0.000000</td>\n",
       "      <td>0.000000</td>\n",
       "      <td>0.000000</td>\n",
       "      <td>0.000000</td>\n",
       "      <td>0.000000</td>\n",
       "      <td>0.000000</td>\n",
       "      <td>0.000000</td>\n",
       "      <td>0.000000</td>\n",
       "      <td>0.000000</td>\n",
       "      <td>0.000000</td>\n",
       "      <td>0.0</td>\n",
       "      <td>0.0</td>\n",
       "      <td>1.0</td>\n",
       "    </tr>\n",
       "    <tr>\n",
       "      <th>25%</th>\n",
       "      <td>144045.750000</td>\n",
       "      <td>1.0</td>\n",
       "      <td>0.0</td>\n",
       "      <td>0.000000</td>\n",
       "      <td>0.000000</td>\n",
       "      <td>0.000000</td>\n",
       "      <td>1.000000</td>\n",
       "      <td>0.000000</td>\n",
       "      <td>1.000000</td>\n",
       "      <td>0.000000</td>\n",
       "      <td>1.000000</td>\n",
       "      <td>0.000000</td>\n",
       "      <td>1.000000</td>\n",
       "      <td>0.000000</td>\n",
       "      <td>1.000000</td>\n",
       "      <td>0.000000</td>\n",
       "      <td>1.000000</td>\n",
       "      <td>0.000000</td>\n",
       "      <td>1.000000</td>\n",
       "      <td>0.000000</td>\n",
       "      <td>1.000000</td>\n",
       "      <td>0.000000</td>\n",
       "      <td>1.000000</td>\n",
       "      <td>0.000000</td>\n",
       "      <td>1.000000</td>\n",
       "      <td>0.000000</td>\n",
       "      <td>0.000000</td>\n",
       "      <td>0.000000</td>\n",
       "      <td>0.0</td>\n",
       "      <td>0.0</td>\n",
       "      <td>1.0</td>\n",
       "    </tr>\n",
       "    <tr>\n",
       "      <th>50%</th>\n",
       "      <td>286565.000000</td>\n",
       "      <td>1.0</td>\n",
       "      <td>0.0</td>\n",
       "      <td>0.000000</td>\n",
       "      <td>0.000000</td>\n",
       "      <td>0.000000</td>\n",
       "      <td>1.000000</td>\n",
       "      <td>0.000000</td>\n",
       "      <td>1.000000</td>\n",
       "      <td>0.000000</td>\n",
       "      <td>1.000000</td>\n",
       "      <td>0.000000</td>\n",
       "      <td>1.000000</td>\n",
       "      <td>0.000000</td>\n",
       "      <td>1.000000</td>\n",
       "      <td>0.000000</td>\n",
       "      <td>1.000000</td>\n",
       "      <td>0.000000</td>\n",
       "      <td>1.000000</td>\n",
       "      <td>0.000000</td>\n",
       "      <td>1.000000</td>\n",
       "      <td>0.000000</td>\n",
       "      <td>1.000000</td>\n",
       "      <td>0.000000</td>\n",
       "      <td>1.000000</td>\n",
       "      <td>0.000000</td>\n",
       "      <td>1.000000</td>\n",
       "      <td>0.000000</td>\n",
       "      <td>0.0</td>\n",
       "      <td>0.0</td>\n",
       "      <td>1.0</td>\n",
       "    </tr>\n",
       "    <tr>\n",
       "      <th>75%</th>\n",
       "      <td>472063.750000</td>\n",
       "      <td>1.0</td>\n",
       "      <td>0.0</td>\n",
       "      <td>0.000000</td>\n",
       "      <td>0.000000</td>\n",
       "      <td>0.000000</td>\n",
       "      <td>1.000000</td>\n",
       "      <td>0.000000</td>\n",
       "      <td>1.000000</td>\n",
       "      <td>0.000000</td>\n",
       "      <td>1.000000</td>\n",
       "      <td>0.000000</td>\n",
       "      <td>1.000000</td>\n",
       "      <td>0.000000</td>\n",
       "      <td>1.000000</td>\n",
       "      <td>0.000000</td>\n",
       "      <td>1.000000</td>\n",
       "      <td>0.000000</td>\n",
       "      <td>1.000000</td>\n",
       "      <td>0.000000</td>\n",
       "      <td>1.000000</td>\n",
       "      <td>0.000000</td>\n",
       "      <td>1.000000</td>\n",
       "      <td>0.000000</td>\n",
       "      <td>1.000000</td>\n",
       "      <td>0.000000</td>\n",
       "      <td>1.000000</td>\n",
       "      <td>1.000000</td>\n",
       "      <td>0.0</td>\n",
       "      <td>0.0</td>\n",
       "      <td>1.0</td>\n",
       "    </tr>\n",
       "    <tr>\n",
       "      <th>max</th>\n",
       "      <td>722688.000000</td>\n",
       "      <td>1.0</td>\n",
       "      <td>0.0</td>\n",
       "      <td>1.000000</td>\n",
       "      <td>1.000000</td>\n",
       "      <td>1.000000</td>\n",
       "      <td>1.000000</td>\n",
       "      <td>1.000000</td>\n",
       "      <td>1.000000</td>\n",
       "      <td>1.000000</td>\n",
       "      <td>1.000000</td>\n",
       "      <td>1.000000</td>\n",
       "      <td>1.000000</td>\n",
       "      <td>1.000000</td>\n",
       "      <td>1.000000</td>\n",
       "      <td>1.000000</td>\n",
       "      <td>1.000000</td>\n",
       "      <td>1.000000</td>\n",
       "      <td>1.000000</td>\n",
       "      <td>1.000000</td>\n",
       "      <td>1.000000</td>\n",
       "      <td>1.000000</td>\n",
       "      <td>1.000000</td>\n",
       "      <td>1.000000</td>\n",
       "      <td>1.000000</td>\n",
       "      <td>1.000000</td>\n",
       "      <td>1.000000</td>\n",
       "      <td>1.000000</td>\n",
       "      <td>0.0</td>\n",
       "      <td>0.0</td>\n",
       "      <td>1.0</td>\n",
       "    </tr>\n",
       "  </tbody>\n",
       "</table>\n",
       "</div>"
      ],
      "text/plain": [
       "             tree_id  steward_Alive  steward_Dead|Stump  guards_Dead|Stump  \\\n",
       "count  123322.000000       123322.0            123322.0      123322.000000   \n",
       "mean   312148.365823            1.0                 0.0           0.000008   \n",
       "std    199996.442662            0.0                 0.0           0.002848   \n",
       "min         7.000000            1.0                 0.0           0.000000   \n",
       "25%    144045.750000            1.0                 0.0           0.000000   \n",
       "50%    286565.000000            1.0                 0.0           0.000000   \n",
       "75%    472063.750000            1.0                 0.0           0.000000   \n",
       "max    722688.000000            1.0                 0.0           1.000000   \n",
       "\n",
       "       guards_Harmful  guards_Helpful    guards_None  guards_Unsure  \\\n",
       "count   123322.000000   123322.000000  123322.000000  123322.000000   \n",
       "mean         0.039977        0.074828       0.870299       0.014888   \n",
       "std          0.195905        0.263115       0.335976       0.121105   \n",
       "min          0.000000        0.000000       0.000000       0.000000   \n",
       "25%          0.000000        0.000000       1.000000       0.000000   \n",
       "50%          0.000000        0.000000       1.000000       0.000000   \n",
       "75%          0.000000        0.000000       1.000000       0.000000   \n",
       "max          1.000000        1.000000       1.000000       1.000000   \n",
       "\n",
       "       root_stone_No  root_stone_Yes  root_grate_No  root_grate_Yes  \\\n",
       "count  123322.000000   123322.000000  123322.000000   123322.000000   \n",
       "mean        0.767381        0.232619       0.991023        0.008977   \n",
       "std         0.422503        0.422503       0.094319        0.094319   \n",
       "min         0.000000        0.000000       0.000000        0.000000   \n",
       "25%         1.000000        0.000000       1.000000        0.000000   \n",
       "50%         1.000000        0.000000       1.000000        0.000000   \n",
       "75%         1.000000        0.000000       1.000000        0.000000   \n",
       "max         1.000000        1.000000       1.000000        1.000000   \n",
       "\n",
       "       root_other_No  root_other_Yes  trunk_wire_No  trunk_wire_Yes  \\\n",
       "count  123322.000000   123322.000000  123322.000000   123322.000000   \n",
       "mean        0.930199        0.069801       0.971465        0.028535   \n",
       "std         0.254812        0.254812       0.166496        0.166496   \n",
       "min         0.000000        0.000000       0.000000        0.000000   \n",
       "25%         1.000000        0.000000       1.000000        0.000000   \n",
       "50%         1.000000        0.000000       1.000000        0.000000   \n",
       "75%         1.000000        0.000000       1.000000        0.000000   \n",
       "max         1.000000        1.000000       1.000000        1.000000   \n",
       "\n",
       "       trnk_light_No  trnk_light_Yes  trnk_other_No  trnk_other_Yes  \\\n",
       "count  123322.000000   123322.000000  123322.000000   123322.000000   \n",
       "mean        0.997754        0.002246       0.892152        0.107848   \n",
       "std         0.047341        0.047341       0.310189        0.310189   \n",
       "min         0.000000        0.000000       0.000000        0.000000   \n",
       "25%         1.000000        0.000000       1.000000        0.000000   \n",
       "50%         1.000000        0.000000       1.000000        0.000000   \n",
       "75%         1.000000        0.000000       1.000000        0.000000   \n",
       "max         1.000000        1.000000       1.000000        1.000000   \n",
       "\n",
       "       brch_light_No  brch_light_Yes   brch_shoe_No  brch_shoe_Yes  \\\n",
       "count  123322.000000   123322.000000  123322.000000  123322.000000   \n",
       "mean        0.892201        0.107799       0.998978       0.001022   \n",
       "std         0.310128        0.310128       0.031948       0.031948   \n",
       "min         0.000000        0.000000       0.000000       0.000000   \n",
       "25%         1.000000        0.000000       1.000000       0.000000   \n",
       "50%         1.000000        0.000000       1.000000       0.000000   \n",
       "75%         1.000000        0.000000       1.000000       0.000000   \n",
       "max         1.000000        1.000000       1.000000       1.000000   \n",
       "\n",
       "       brch_other_No  brch_other_Yes  circles_one neighbor  \\\n",
       "count  123322.000000   123322.000000         123322.000000   \n",
       "mean        0.906375        0.093625              0.652803   \n",
       "std         0.291307        0.291307              0.476081   \n",
       "min         0.000000        0.000000              0.000000   \n",
       "25%         1.000000        0.000000              0.000000   \n",
       "50%         1.000000        0.000000              1.000000   \n",
       "75%         1.000000        0.000000              1.000000   \n",
       "max         1.000000        1.000000              1.000000   \n",
       "\n",
       "       circles_two or more neighbors  health_Dead|Stump  health_Good  \\\n",
       "count                  123322.000000           123322.0     123322.0   \n",
       "mean                        0.347197                0.0          0.0   \n",
       "std                         0.476081                0.0          0.0   \n",
       "min                         0.000000                0.0          0.0   \n",
       "25%                         0.000000                0.0          0.0   \n",
       "50%                         0.000000                0.0          0.0   \n",
       "75%                         1.000000                0.0          0.0   \n",
       "max                         1.000000                0.0          0.0   \n",
       "\n",
       "       health_Poor|Fair  \n",
       "count          123322.0  \n",
       "mean                1.0  \n",
       "std                 0.0  \n",
       "min                 1.0  \n",
       "25%                 1.0  \n",
       "50%                 1.0  \n",
       "75%                 1.0  \n",
       "max                 1.0  "
      ]
     },
     "execution_count": 60,
     "metadata": {},
     "output_type": "execute_result"
    }
   ],
   "source": [
    "df_sel_enc.loc[df_sel_enc['health_Poor|Fair'] == 1].describe()"
   ]
  },
  {
   "cell_type": "code",
   "execution_count": null,
   "metadata": {},
   "outputs": [],
   "source": []
  },
  {
   "cell_type": "code",
   "execution_count": null,
   "metadata": {
    "scrolled": true
   },
   "outputs": [],
   "source": [
    "rdf_clf_n.predict([probe])"
   ]
  },
  {
   "cell_type": "code",
   "execution_count": null,
   "metadata": {},
   "outputs": [],
   "source": [
    "parameter_grid = dict(n_estimators=list(range(5000, 6001, 1000)),\n",
    "                      criterion=['gini','entropy'],\n",
    "                      max_features=list(range(1, round(np.sqrt(len(x.columns))).astype(int), 6)))\n",
    "gcv_rdf_clf = GridSearchCV(estimator=rdf_clf, param_grid=parameter_grid, cv=5, verbose=1)"
   ]
  },
  {
   "cell_type": "code",
   "execution_count": null,
   "metadata": {},
   "outputs": [],
   "source": [
    "accuracy_scores = cross_val_score(gcv_rdf_clf, x_train, y_train)\n",
    "accuracy_scores"
   ]
  }
 ],
 "metadata": {
  "kernelspec": {
   "display_name": "Python 3",
   "language": "python",
   "name": "python3"
  },
  "language_info": {
   "codemirror_mode": {
    "name": "ipython",
    "version": 3
   },
   "file_extension": ".py",
   "mimetype": "text/x-python",
   "name": "python",
   "nbconvert_exporter": "python",
   "pygments_lexer": "ipython3",
   "version": "3.7.1"
  }
 },
 "nbformat": 4,
 "nbformat_minor": 2
}
