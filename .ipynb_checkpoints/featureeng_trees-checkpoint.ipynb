{
 "cells": [
  {
   "cell_type": "code",
   "execution_count": null,
   "metadata": {},
   "outputs": [],
   "source": [
    "# Import third-party packages.\n",
    "import geopandas as gpd\n",
    "from geopy.distance import geodesic\n",
    "import matplotlib.pyplot as plt\n",
    "import numpy as np\n",
    "import pandas as pd\n",
    "from shapely.geometry import Point\n",
    "from sklearn.ensemble import RandomForestClassifier\n",
    "from sklearn.metrics import accuracy_score, classification_report\n",
    "from sklearn.model_selection import train_test_split\n",
    "\n",
    "%matplotlib inline\n",
    "\n",
    "# Change display settings for dataframes.\n",
    "pd.set_option('display.max_columns', None)"
   ]
  },
  {
   "cell_type": "code",
   "execution_count": null,
   "metadata": {},
   "outputs": [],
   "source": [
    "# Read in data on street trees.\n",
    "# df_1995 = pd.read_csv('./data/nyc_trees/nyc_tree_census_1995.csv.gz', compression='gzip')\n",
    "# df_2005 = pd.read_csv('./data/nyc_trees/nyc_tree_census_2005.csv.gz', compression='gzip')\n",
    "df_2015 = pd.read_csv('./data/nyc_trees/nyc_tree_census_2015.csv.gz', compression='gzip')\n",
    "# df_1995.drop('Unnamed: 0', axis=1, inplace=True)\n",
    "# df_2005.drop('Unnamed: 0', axis=1, inplace=True)\n",
    "df_2015.drop('Unnamed: 0', axis=1, inplace=True)\n",
    "\n",
    "# Read in geographic data on New York City.\n",
    "nyc = gpd.read_file('./data/nyc/nyc_geo.shp')"
   ]
  },
  {
   "cell_type": "code",
   "execution_count": null,
   "metadata": {},
   "outputs": [],
   "source": [
    "df = df_2015.copy()"
   ]
  },
  {
   "cell_type": "code",
   "execution_count": null,
   "metadata": {},
   "outputs": [],
   "source": [
    "# Remove irrelevant columns.\n",
    "df.drop(['block_id',\n",
    "         'created_at',\n",
    "         'tree_dbh',\n",
    "         'stump_diam',\n",
    "         'curb_loc',\n",
    "         'spc_latin',\n",
    "         'spc_common',\n",
    "         'user_type',\n",
    "         'problems',\n",
    "         'address',\n",
    "         'postcode',\n",
    "         'zip_city',\n",
    "         'community board',\n",
    "         'borocode',\n",
    "         'borough',\n",
    "         'cncldist',\n",
    "         'st_assem',\n",
    "         'st_senate',\n",
    "         'nta',\n",
    "         'nta_name',\n",
    "         'boro_ct',\n",
    "         'state',\n",
    "         'x_sp',\n",
    "         'y_sp',\n",
    "         'council district',\n",
    "         'census tract',\n",
    "         'bin',\n",
    "         'bbl'],\n",
    "         axis=1,\n",
    "         inplace=True)"
   ]
  },
  {
   "cell_type": "markdown",
   "metadata": {},
   "source": [
    "## Imputing or aggregating existing features"
   ]
  },
  {
   "cell_type": "code",
   "execution_count": null,
   "metadata": {},
   "outputs": [],
   "source": [
    "# Replace NaN values in features with entries signalling this tree is either dead or a stump.\n",
    "df['steward'].fillna('Dead|Stump', inplace=True)\n",
    "df['guards'].fillna('Dead|Stump', inplace=True)\n",
    "\n",
    "# In 'steward', replace spectrum of answers to yes (= alive) or no (= dead/stump).\n",
    "df['steward'].replace(['1or2', '3or4', '4orMore', 'None'], 'Alive', inplace=True)\n",
    "\n",
    "# Replace NaN values in the target with entries signalling this tree is either dead or a stump.\n",
    "df['health'].fillna('Dead|Stump', inplace=True)"
   ]
  },
  {
   "cell_type": "markdown",
   "metadata": {},
   "source": [
    "## Creating a new feature n_neighbors: The number of trees in a tree's proximity. "
   ]
  },
  {
   "cell_type": "code",
   "execution_count": null,
   "metadata": {},
   "outputs": [],
   "source": [
    "# Turn geographic coordinates into Shapely objects.\n",
    "trees = gpd.GeoDataFrame(df, geometry=[Point(coordinates) for coordinates in zip(df['longitude'], df['latitude'])])\n",
    "\n",
    "# Define CRS as WGS-84, then switch to a metric CRS.\n",
    "trees.crs = {'init': 'epsg:4326', 'no_defs': True}\n",
    "trees = trees.to_crs(epsg=3857)\n",
    "trees.crs = {'init': 'epsg:3857', 'no_defs': True}\n",
    "\n",
    "# Create circles with a 4.5m radius around each tree location. But since the radius of a tree might just touch another circle,\n",
    "# the maximum distance between such trees should be 9m. This is also the upper minimal distance that should exist between trees.\n",
    "buffers = trees.buffer(4.5)\n",
    "\n",
    "# Set the Shapely objects for the circle to be in the WGS-84 CRS.\n",
    "buffers = buffers.to_crs(epsg=4326)\n",
    "buffers.crs = {'init': 'epsg:4326', 'no_defs': True}\n",
    "\n",
    "# Switch the CRS again back to WGS-84.\n",
    "trees = trees.to_crs(epsg=4326)\n",
    "trees.crs = {'init': 'epsg:4326', 'no_defs': True}"
   ]
  },
  {
   "cell_type": "code",
   "execution_count": null,
   "metadata": {},
   "outputs": [],
   "source": [
    "# Turn the GeoSeries for the circles into a dataframe for a later sjoin.\n",
    "circles = gpd.GeoDataFrame(buffers, geometry=buffers)\n",
    "circles.rename(columns={0:'circles'}, inplace=True)\n",
    "\n",
    "# Spatial join to find neighboring trees.\n",
    "neighbors = gpd.sjoin(trees, circles), how='right', op='intersects')\n",
    "neighbors.drop(['index_left'], axis=1, inplace=True)\n",
    "#neighbors.drop_duplicates(inplace=True)\n",
    "\n",
    "# Count neighboring trees per tree.\n",
    "n_neighbors = neighbors.groupby('tree_id').count()\n",
    "n_neighbors.rename(columns={'circles': 'n_neighbors'}, inplace=True)\n",
    "\n",
    "# Add tree counts to data of each tree.\n",
    "df_new = pd.merge(df, n_neighbors[['n_neighbors']], on='tree_id', right_index=True)"
   ]
  },
  {
   "cell_type": "code",
   "execution_count": null,
   "metadata": {},
   "outputs": [],
   "source": [
    "# Add the count of neighboring trees to data on neighboring trees.\n",
    "neighbors_counts = pd.merge(neighbors, n_neighbors['n_neighbors'], on='tree_id')\n",
    "\n",
    "# Extract the latitudinal and longitudinal coordinates of each neighboring tree.\n",
    "neighbors_counts['circs_lat'] = neighbors_counts['geometry'].centroid.y.values\n",
    "neighbors_counts['circs_long'] = neighbors_counts['geometry'].centroid.x.values\n",
    "\n",
    "# Calculate the distance in meters between a tree and its neighboring trees respectively.\n",
    "neighbors_counts['distance'] = [geodesic((neighbors_counts['latitude'].loc[i], neighbors_counts['longitude'].loc[i]),\n",
    "                                         (neighbors_counts['circs_lat'].loc[i], neighbors_counts['circs_long'].loc[i])).meters\n",
    "                                for i in neighbors_counts.index]"
   ]
  },
  {
   "cell_type": "code",
   "execution_count": null,
   "metadata": {},
   "outputs": [],
   "source": [
    "# Find share of trees which have neighboring trees, given a circle with a 4.5m radius around each tree.\n",
    "share_neighbors = neighbors_counts[neighbors_counts['n_neighbors'] > 1]['n_neighbors'].count() / len(neighbors_counts)\n",
    "print(\"{} of all street trees in New York have a neighboring tree within 4.5m.\".format(share_neighbors))\n",
    "\n",
    "# Identify average distance of a street tree to another street tree in New York.\n",
    "neighbors_counts[(neighbors_counts['n_neighbors'] > 1) & \\\n",
    "                 (neighbors_counts['circs_lat'] != neighbors_counts['latitude']) & \\\n",
    "                 (neighbors_counts['circs_long'] != neighbors_counts['longitude'])]['distance'].mean()"
   ]
  },
  {
   "cell_type": "code",
   "execution_count": null,
   "metadata": {},
   "outputs": [],
   "source": [
    "# Encode the new feature 'n_neighbors'.\n",
    "df_new.loc[df_new['n_neighbors'] == 1, 'n_neighbors'] = 0.1\n",
    "df_new.loc[df_new['n_neighbors'] == 2, 'n_neighbors'] = 0.2\n",
    "df_new.loc[df_new['n_neighbors'] >= 3, 'n_neighbors'] = 0.3\n",
    "df_new.loc[df_new['n_neighbors'] == 0.1, 'n_neighbors'] = \"no neighbor\"\n",
    "df_new.loc[df_new['n_neighbors'] == 0.2, 'n_neighbors'] = \"one neighbor\"\n",
    "df_new.loc[df_new['n_neighbors'] == 0.3, 'n_neighbors'] = \"two or more neighbors\""
   ]
  },
  {
   "cell_type": "markdown",
   "metadata": {},
   "source": [
    "## Feature selection"
   ]
  },
  {
   "cell_type": "code",
   "execution_count": null,
   "metadata": {},
   "outputs": [],
   "source": [
    "# Selecting features and the target ('health').\n",
    "df_sel = df_new[['tree_id',\n",
    "                 'steward',\n",
    "                 'guards',\n",
    "                 'sidewalk',\n",
    "                 'root_stone',\n",
    "                 'root_grate',\n",
    "                 'root_other',\n",
    "                 'trunk_wire',\n",
    "                 'trnk_light',\n",
    "                 'trnk_other',\n",
    "                 'brch_light',\n",
    "                 'brch_shoe',\n",
    "                 'brch_other',\n",
    "                 'n_neighbors',\n",
    "                 'health']]\n",
    "\n",
    "# One-hot encoding the categorical features and the target.\n",
    "df_sel_enc = pd.get_dummies(df_sel)"
   ]
  },
  {
   "cell_type": "code",
   "execution_count": null,
   "metadata": {},
   "outputs": [],
   "source": [
    "# Search for correlations between features (and target) categories.\n",
    "corrmat = df_sel_enc.corr()\n",
    "plt.subplots(figsize=(25,20))\n",
    "sns.heatmap(corrmat, annot=False)\n",
    "plt.show()"
   ]
  },
  {
   "cell_type": "code",
   "execution_count": null,
   "metadata": {},
   "outputs": [],
   "source": [
    "x = df_sel_enc[list(df_sel_enc.columns)[1:31]]\n",
    "y = df_sel_enc[list(df_sel_enc.columns)[31:]]\n",
    "\n",
    "# Plot the data on the target. The dataset is imbalanced.\n",
    "y.hist()"
   ]
  },
  {
   "cell_type": "code",
   "execution_count": null,
   "metadata": {},
   "outputs": [],
   "source": [
    "# Conduct stratified splitting of the dataset.\n",
    "x_train, x_test, y_train, y_test = train_test_split(x, y, test_size=0.5, random_state=None, stratify=y)"
   ]
  },
  {
   "cell_type": "code",
   "execution_count": null,
   "metadata": {},
   "outputs": [],
   "source": [
    "# Run test with the RandomForestClassifier without balancing the dataset or hyperparameter tuning.\n",
    "rdf_clf = RandomForestClassifier()\n",
    "rdf_clf.fit(x_train, y_train)\n",
    "y_pred = rdf_clf.predict(x_test)\n",
    "print(\"The accuracy score for this run is:\", accuracy_score(y_test, y_pred))\n",
    "print(classification_report(y_test, y_pred, target_names=y.columns))"
   ]
  },
  {
   "cell_type": "code",
   "execution_count": null,
   "metadata": {},
   "outputs": [],
   "source": [
    "# Inspect the importance of each feature.\n",
    "feature_imp = pd.Series(rdf_clf.feature_importances_, index=x.columns).sort_values(ascending=False)\n",
    "print(feature_imp)"
   ]
  },
  {
   "cell_type": "code",
   "execution_count": null,
   "metadata": {},
   "outputs": [],
   "source": [
    "# Training & pruning with model-based feature selection.\n",
    "rdf_clf_sm = SelectFromModel(RandomForestClassifier(random_state=0), threshold='median')\n",
    "rdf_clf_sm.fit(x_train, y_train)\n",
    "x_train_fs = rdf_clf_sm.transform(x_train)\n",
    "x_test_fs = rdf_clf_sm.transform(x_test)\n",
    "\n",
    "rdf_clf_n = RandomForestClassifier(random_state=0).fit(x_train_fs, y_train)\n",
    "y_pred_fs = rdf_clf_n.predict(x_test_fs)\n",
    "accuracy = rdf_clf_n.score(x_test_fs, y_test)\n",
    "print(\"Accuracy score:\", accuracy)"
   ]
  },
  {
   "cell_type": "markdown",
   "metadata": {},
   "source": [
    "## Export feature / target dataframe as .csv file"
   ]
  },
  {
   "cell_type": "code",
   "execution_count": null,
   "metadata": {},
   "outputs": [],
   "source": [
    "df_sel_enc.to_csv('./data_preprocessed/features.csv', index=False)"
   ]
  }
 ],
 "metadata": {
  "kernelspec": {
   "display_name": "Python 3",
   "language": "python",
   "name": "python3"
  },
  "language_info": {
   "codemirror_mode": {
    "name": "ipython",
    "version": 3
   },
   "file_extension": ".py",
   "mimetype": "text/x-python",
   "name": "python",
   "nbconvert_exporter": "python",
   "pygments_lexer": "ipython3",
   "version": "3.7.1"
  }
 },
 "nbformat": 4,
 "nbformat_minor": 2
}
