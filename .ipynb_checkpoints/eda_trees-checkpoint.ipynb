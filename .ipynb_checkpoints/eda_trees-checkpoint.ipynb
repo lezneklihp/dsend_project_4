{
 "cells": [
  {
   "cell_type": "code",
   "execution_count": null,
   "metadata": {},
   "outputs": [],
   "source": [
    "# nonlinear classifier - the RandomForestClassifier. It requires little hyperparameter tuning.\n",
    "\n",
    "# No need for imputing the missing data --> data description."
   ]
  },
  {
   "cell_type": "code",
   "execution_count": null,
   "metadata": {},
   "outputs": [],
   "source": [
    "# Import third-party packages.\n",
    "import datetime\n",
    "import geopandas as gpd\n",
    "import matplotlib.pyplot as plt\n",
    "import numpy as np\n",
    "import pandas as pd\n",
    "import seaborn as sns\n",
    "from shapely.geometry import Point, Polygon\n",
    "\n",
    "%matplotlib inline"
   ]
  },
  {
   "cell_type": "code",
   "execution_count": null,
   "metadata": {},
   "outputs": [],
   "source": [
    "from sklearn.ensemble import AdaBoostClassifier, RandomForestClassifier\n",
    "from sklearn.feature_selection import RFE\n",
    "from sklearn.metrics import accuracy_score, classification_report, f1_score\n",
    "from sklearn.model_selection import train_test_split, GridSearchCV, cross_val_score"
   ]
  },
  {
   "cell_type": "code",
   "execution_count": null,
   "metadata": {},
   "outputs": [],
   "source": [
    "# Adjust matrix display settings.\n",
    "# pd.options.display.max_rows = 1000"
   ]
  },
  {
   "cell_type": "code",
   "execution_count": null,
   "metadata": {
    "scrolled": false
   },
   "outputs": [],
   "source": [
    "# Read in data on trees.\n",
    "df_1995 = pd.read_csv('./data/nyc_trees/nyc_tree_census_1995.csv.gz', compression='gzip')\n",
    "df_2005 = pd.read_csv('./data/nyc_trees/nyc_tree_census_2005.csv.gz', compression='gzip')\n",
    "df_2015 = pd.read_csv('./data/nyc_trees/nyc_tree_census_2015.csv.gz', compression='gzip')\n",
    "df_1995.drop('Unnamed: 0', axis=1, inplace=True)\n",
    "df_2005.drop('Unnamed: 0', axis=1, inplace=True)\n",
    "df_2015.drop('Unnamed: 0', axis=1, inplace=True)\n",
    "\n",
    "# Read in geographic data on New York City.\n",
    "nyc = gpd.read_file('./data/nyc/nyc_geo.shp')"
   ]
  },
  {
   "cell_type": "code",
   "execution_count": null,
   "metadata": {},
   "outputs": [],
   "source": [
    "sns.set(style='whitegrid')\n",
    "sns.mpl.rc('figure',\n",
    "           figsize=(20,20))\n",
    "fig, ax = plt.subplots()\n",
    "nyc.plot(ax=ax)"
   ]
  },
  {
   "cell_type": "code",
   "execution_count": null,
   "metadata": {},
   "outputs": [],
   "source": [
    "test = df_2015.copy()"
   ]
  },
  {
   "cell_type": "code",
   "execution_count": null,
   "metadata": {
    "scrolled": true
   },
   "outputs": [],
   "source": [
    "test.info()"
   ]
  },
  {
   "cell_type": "code",
   "execution_count": null,
   "metadata": {},
   "outputs": [],
   "source": [
    "# Replace NaN values with entries signalling this tree is either dead or a stump.\n",
    "test['health'].fillna('Dead|Stump', inplace=True)\n",
    "test['steward'].fillna('Dead|Stump', inplace=True)\n",
    "test['guards'].fillna('Dead|Stump', inplace=True)\n",
    "test['sidewalk'].fillna('Dead|Stump', inplace=True)"
   ]
  },
  {
   "cell_type": "code",
   "execution_count": null,
   "metadata": {
    "scrolled": true
   },
   "outputs": [],
   "source": [
    "test[(test.status == \"Alive\") & (test.health == \"Poor\")]"
   ]
  },
  {
   "cell_type": "code",
   "execution_count": null,
   "metadata": {},
   "outputs": [],
   "source": [
    "features = test[['tree_id',\n",
    "                 'steward',\n",
    "                 'guards',\n",
    "                 'root_stone',\n",
    "                 'root_grate',\n",
    "                 'root_other',\n",
    "                 'trunk_wire',\n",
    "                 'trnk_light',\n",
    "                 'trnk_other',\n",
    "                 'brch_light',\n",
    "                 'brch_shoe',\n",
    "                 'brch_other',\n",
    "                 'health',\n",
    "                 'status']]\n",
    "\n",
    "# One-hot encoding the categorical features.\n",
    "df_enc = pd.get_dummies(features)"
   ]
  },
  {
   "cell_type": "code",
   "execution_count": null,
   "metadata": {},
   "outputs": [],
   "source": [
    "x = df_enc[list(df_enc.columns)[1:30]]\n",
    "y = df_enc[list(df_enc.columns)[30:]]\n",
    "\n",
    "# Split into train, test, and validation datasets.\n",
    "x_train_vali, x_test, y_train_vali, y_test = train_test_split(x, y, random_state=0)\n",
    "x_train, x_vali, y_train, y_vali = train_test_split(x_train_vali, y_train_vali, random_state=0)"
   ]
  },
  {
   "cell_type": "code",
   "execution_count": null,
   "metadata": {
    "scrolled": true
   },
   "outputs": [],
   "source": [
    "# Training and feature selection.\n",
    "rdf_clf = RFE(RandomForestClassifier(random_state=0))\n",
    "rdf_clf.fit(x_train, y_train)\n",
    "y_pred = rdf_clf.predict(x_test)\n",
    "print(accuracy_score(y_test, y_pred))"
   ]
  },
  {
   "cell_type": "code",
   "execution_count": null,
   "metadata": {
    "scrolled": false
   },
   "outputs": [],
   "source": [
    "pd.Series(rdf_clf.feature_importances_, index=x.columns).sort_values(ascending=False)"
   ]
  },
  {
   "cell_type": "code",
   "execution_count": null,
   "metadata": {},
   "outputs": [],
   "source": [
    "test['steward'].replace(['1or2', '3or4', '4orMore', 'None'], 'Alive', inplace=True)\n",
    "test['steward'].fillna('Dead|Stump', inplace=True)"
   ]
  },
  {
   "cell_type": "code",
   "execution_count": null,
   "metadata": {},
   "outputs": [],
   "source": [
    "test['status'].replace(['Stump', 'Dead'], 'Dead|Stump', inplace=True)"
   ]
  },
  {
   "cell_type": "code",
   "execution_count": null,
   "metadata": {},
   "outputs": [],
   "source": [
    "test['health'].fillna('Dead|Stump', inplace=True)"
   ]
  },
  {
   "cell_type": "code",
   "execution_count": null,
   "metadata": {},
   "outputs": [],
   "source": [
    "test['guards'].fillna('Dead|Stump', inplace=True)\n",
    "test['sidewalk'].fillna('Dead|Stump', inplace=True)"
   ]
  },
  {
   "cell_type": "code",
   "execution_count": null,
   "metadata": {},
   "outputs": [],
   "source": [
    "test.health.value_counts()"
   ]
  },
  {
   "cell_type": "code",
   "execution_count": null,
   "metadata": {},
   "outputs": [],
   "source": [
    "x_test.loc[x_test[\"health_Dead|Stump\"] == 1]"
   ]
  },
  {
   "cell_type": "code",
   "execution_count": null,
   "metadata": {
    "scrolled": true
   },
   "outputs": [],
   "source": [
    "x_test.iloc[-2]"
   ]
  },
  {
   "cell_type": "code",
   "execution_count": null,
   "metadata": {
    "scrolled": true
   },
   "outputs": [],
   "source": [
    "test.iloc[241930]"
   ]
  },
  {
   "cell_type": "code",
   "execution_count": null,
   "metadata": {},
   "outputs": [],
   "source": [
    "probe = x_test.iloc[-2]"
   ]
  },
  {
   "cell_type": "code",
   "execution_count": null,
   "metadata": {},
   "outputs": [],
   "source": [
    "rdf_clf.predict([probe])"
   ]
  },
  {
   "cell_type": "code",
   "execution_count": null,
   "metadata": {},
   "outputs": [],
   "source": [
    "y.shape"
   ]
  },
  {
   "cell_type": "code",
   "execution_count": null,
   "metadata": {},
   "outputs": [],
   "source": [
    "accuracy_scores = cross_val_score(rdf_clf, x_train, y_train)"
   ]
  },
  {
   "cell_type": "code",
   "execution_count": null,
   "metadata": {},
   "outputs": [],
   "source": [
    "accuracy_scores"
   ]
  },
  {
   "cell_type": "code",
   "execution_count": null,
   "metadata": {
    "scrolled": true
   },
   "outputs": [],
   "source": [
    "category_names = list(y.columns)\n",
    "\n",
    "for col in range(len(category_names)):\n",
    "        result = classification_report(y_test.iloc[:,col], y_pred[:,col])\n",
    "        print(\"Report on\", category_names[col], \":\")\n",
    "        print(result)\n",
    "        print(\"F1-score of positive classes:\", f1_score(y_test.iloc[:,col], y_pred[:,col], labels=np.unique(y_pred), average=None))\n",
    "        print(\"F1-score (micro):\", f1_score(y_test.iloc[:,col], y_pred[:,col], labels=np.unique(y_pred), average='micro'))\n",
    "        print(\"F1-score (macro):\", f1_score(y_test.iloc[:,col], y_pred[:,col], labels=np.unique(y_pred), average='macro'))\n",
    "        print(\"F1-score (weighted):\", f1_score(y_test.iloc[:,col], y_pred[:,col], labels=np.unique(y_pred), average='weighted'))\n",
    "        print(\"Accuracy score:\", accuracy_score(y_test.iloc[:,col], y_pred[:,col]))"
   ]
  },
  {
   "cell_type": "code",
   "execution_count": null,
   "metadata": {},
   "outputs": [],
   "source": [
    "parameter_grid = dict(n_estimators=list(range(5000, 6001, 1000)),\n",
    "                      criterion=['gini','entropy'],\n",
    "                      max_features=list(range(1, round(np.sqrt(len(x.columns))).astype(int), 6)))\n",
    "gcv_rdf_clf = GridSearchCV(estimator=rdf_clf, param_grid=parameter_grid, cv=5, verbose=1)"
   ]
  },
  {
   "cell_type": "code",
   "execution_count": null,
   "metadata": {},
   "outputs": [],
   "source": [
    "accuracy_scores = cross_val_score(gcv_rdf_clf, x_train, y_train)\n",
    "accuracy_scores"
   ]
  },
  {
   "cell_type": "code",
   "execution_count": null,
   "metadata": {},
   "outputs": [],
   "source": [
    "features = test[['tree_id',\n",
    "                 'steward',\n",
    "                 'guards',\n",
    "                 'root_stone',\n",
    "                 'root_grate',\n",
    "                 'root_other',\n",
    "                 'trunk_wire',\n",
    "                 'trnk_light',\n",
    "                 'trnk_other',\n",
    "                 'brch_light',\n",
    "                 'brch_shoe',\n",
    "                 'brch_other',\n",
    "                 'health']]\n",
    "df_enc = pd.get_dummies(features)\n",
    "\n",
    "# how to fine graine features to predict the spectrum of health perception?"
   ]
  },
  {
   "cell_type": "code",
   "execution_count": null,
   "metadata": {},
   "outputs": [],
   "source": [
    "x = df_enc[list(df_enc.columns)[1:26]]\n",
    "y = df_enc[list(df_enc.columns)[26:]]\n",
    "\n",
    "x_train, x_test, y_train, y_test = train_test_split(x, y, test_size=0.4, random_state=0)"
   ]
  },
  {
   "cell_type": "code",
   "execution_count": null,
   "metadata": {},
   "outputs": [],
   "source": [
    "rdf_clf = RandomForestClassifier()\n",
    "rdf_clf.fit(x_train, y_train)\n",
    "y_pred = rdf_clf.predict(x_test)\n",
    "print(accuracy_score(y_test, y_pred))"
   ]
  },
  {
   "cell_type": "code",
   "execution_count": null,
   "metadata": {},
   "outputs": [],
   "source": [
    "category_names = list(y.columns)\n",
    "\n",
    "for col in range(len(category_names)):\n",
    "        result = classification_report(y_test.iloc[:,col], y_pred[:,col])\n",
    "        print(\"Report on\", category_names[col], \":\")\n",
    "        print(result)\n",
    "        print(\"F1-score of positive classes:\", f1_score(y_test.iloc[:,col], y_pred[:,col], labels=np.unique(y_pred), average=None))\n",
    "        print(\"F1-score (micro):\", f1_score(y_test.iloc[:,col], y_pred[:,col], labels=np.unique(y_pred), average='micro'))\n",
    "        print(\"F1-score (macro):\", f1_score(y_test.iloc[:,col], y_pred[:,col], labels=np.unique(y_pred), average='macro'))\n",
    "        print(\"F1-score (weighted):\", f1_score(y_test.iloc[:,col], y_pred[:,col], labels=np.unique(y_pred), average='weighted'))\n",
    "        print(\"Accuracy score:\", accuracy_score(y_test.iloc[:,col], y_pred[:,col]))"
   ]
  }
 ],
 "metadata": {
  "kernelspec": {
   "display_name": "Python 3",
   "language": "python",
   "name": "python3"
  },
  "language_info": {
   "codemirror_mode": {
    "name": "ipython",
    "version": 3
   },
   "file_extension": ".py",
   "mimetype": "text/x-python",
   "name": "python",
   "nbconvert_exporter": "python",
   "pygments_lexer": "ipython3",
   "version": "3.7.1"
  }
 },
 "nbformat": 4,
 "nbformat_minor": 2
}
