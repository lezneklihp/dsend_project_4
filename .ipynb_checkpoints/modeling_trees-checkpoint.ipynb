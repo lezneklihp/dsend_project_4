{
 "cells": [
  {
   "cell_type": "markdown",
   "metadata": {},
   "source": [
    "AUC?"
   ]
  },
  {
   "cell_type": "code",
   "execution_count": 38,
   "metadata": {},
   "outputs": [],
   "source": [
    "# Import third-party packages.\n",
    "import matplotlib.pyplot as plt\n",
    "import numpy as np\n",
    "import pandas as pd\n",
    "import pickle\n",
    "from sklearn.ensemble import AdaBoostClassifier, RandomForestClassifier\n",
    "from sklearn.metrics import accuracy_score, classification_report, f1_score, precision_recall_fscore_support, roc_auc_score, roc_curve\n",
    "from sklearn.model_selection import cross_val_score, GridSearchCV, train_test_split\n",
    "\n",
    "%matplotlib inline\n",
    "\n",
    "# Change display settings for dataframes.\n",
    "pd.set_option('display.max_columns', None)\n",
    "pd.set_option('display.max_rows', 500)"
   ]
  },
  {
   "cell_type": "code",
   "execution_count": 39,
   "metadata": {
    "scrolled": false
   },
   "outputs": [],
   "source": [
    "# Read in preprocessed data on trees.\n",
    "df = pd.read_csv('./data/data_preprocessed/features.csv')"
   ]
  },
  {
   "cell_type": "markdown",
   "metadata": {},
   "source": [
    "poor = df.loc[df.health_Poor == 1].copy()\n",
    "fair = df.loc[df.health_Fair == 1].copy()\n",
    "fair_2 = fair.copy()\n",
    "poor_2 = poor.copy()\n",
    "poor_3 = poor.copy()\n",
    "\n",
    "good = df.loc[df.health_Good == 1].copy()\n",
    "df = pd.concat([df, poor, fair], ignore_index=True)"
   ]
  },
  {
   "cell_type": "code",
   "execution_count": 40,
   "metadata": {},
   "outputs": [],
   "source": [
    "dfnp = df.to_numpy()\n",
    "x = dfnp[:, 1:31]\n",
    "y = dfnp[:, 31:]\n",
    "x_train, x_test, y_train, y_test = train_test_split(x, y, test_size=0.5, random_state=None, stratify=y)"
   ]
  },
  {
   "cell_type": "markdown",
   "metadata": {},
   "source": [
    "target_first_class = len(y_train.loc[y_train['health_Dead|Stump'] == 0]) / len(y_train)\n",
    "target_second_class = len(y_train.loc[y_train['health_Fair'] == 0]) / len(y_train)\n",
    "target_third_class = len(y_train.loc[y_train['health_Good'] == 0]) / len(y_train)\n",
    "target_fourth_class = len(y_train.loc[y_train['health_Poor'] == 0]) / len(y_train)\n",
    "\n",
    "\n",
    "class_weight_orig = [{0:target_first_class, 1:1-target_first_class},\n",
    "                     {0:target_second_class, 1:1-target_second_class},\n",
    "                     {0:target_third_class, 1:1-target_third_class},\n",
    "                     {0:target_fourth_class, 1:1-target_fourth_class}]\n",
    "\n",
    "class_weight_manip = [{0:target_first_class, 1:1-target_first_class},\n",
    "                      {0:1-target_second_class-0.1, 1:target_second_class+0.1},\n",
    "                      {0:target_third_class, 1:1-target_third_class},\n",
    "                      {0:1-target_fourth_class, 1:target_fourth_class}]\n",
    "\n",
    "print(class_weight_orig)\n",
    "print(class_weight_manip)"
   ]
  },
  {
   "cell_type": "code",
   "execution_count": 50,
   "metadata": {},
   "outputs": [
    {
     "name": "stdout",
     "output_type": "stream",
     "text": [
      "0.8218365926281245\n"
     ]
    }
   ],
   "source": [
    "rdf_clf = RandomForestClassifier(n_jobs=-1)\n",
    "rdf_clf.fit(x_train, y_train)\n",
    "y_pred = rdf_clf.predict(x_test)\n",
    "print(accuracy_score(y_test, y_pred))"
   ]
  },
  {
   "cell_type": "code",
   "execution_count": 5,
   "metadata": {},
   "outputs": [
    {
     "name": "stdout",
     "output_type": "stream",
     "text": [
      "                   precision    recall  f1-score   support\n",
      "\n",
      "health_Dead|Stump       1.00      1.00      1.00     15808\n",
      "      health_Good       0.82      0.99      0.90    264425\n",
      " health_Poor|Fair       0.59      0.04      0.07     61661\n",
      "\n",
      "        micro avg       0.82      0.82      0.82    341894\n",
      "        macro avg       0.80      0.68      0.65    341894\n",
      "     weighted avg       0.78      0.82      0.75    341894\n",
      "      samples avg       0.82      0.82      0.82    341894\n",
      "\n"
     ]
    }
   ],
   "source": [
    "print(classification_report(y_test, y_pred, target_names=df.columns[-3:]))"
   ]
  },
  {
   "cell_type": "code",
   "execution_count": 63,
   "metadata": {
    "scrolled": true
   },
   "outputs": [
    {
     "name": "stdout",
     "output_type": "stream",
     "text": [
      "0.7098235701916972\n"
     ]
    }
   ],
   "source": [
    "rf_auc = roc_auc_score(y_test, y_pred)\n",
    "print(rf_auc)"
   ]
  },
  {
   "cell_type": "code",
   "execution_count": 64,
   "metadata": {},
   "outputs": [
    {
     "data": {
      "text/plain": [
       "0.7348031874398976"
      ]
     },
     "execution_count": 64,
     "metadata": {},
     "output_type": "execute_result"
    }
   ],
   "source": [
    "from sklearn.metrics import average_precision_score\n",
    "\n",
    "average_precision_score(y_test, y_pred, average='micro')"
   ]
  },
  {
   "cell_type": "code",
   "execution_count": 62,
   "metadata": {},
   "outputs": [
    {
     "name": "stdout",
     "output_type": "stream",
     "text": [
      "Average precision score, micro-averaged over all classes: 0.73\n"
     ]
    }
   ],
   "source": [
    "from sklearn.metrics import precision_recall_curve\n",
    "from sklearn.metrics import average_precision_score\n",
    "\n",
    "# For each class\n",
    "precision = dict()\n",
    "recall = dict()\n",
    "average_precision = dict()\n",
    "for i in range(n_classes):\n",
    "    precision[i], recall[i], _ = precision_recall_curve(y_test[:, i],\n",
    "                                                        y_pred[:, i])\n",
    "    average_precision[i] = average_precision_score(y_test[:, i], y_pred[:, i])\n",
    "\n",
    "# A \"micro-average\": quantifying score on all classes jointly\n",
    "precision[\"micro\"], recall[\"micro\"], _ = precision_recall_curve(y_test.ravel(),\n",
    "    y_pred.ravel())\n",
    "average_precision[\"micro\"] = average_precision_score(y_test, y_pred,\n",
    "                                                     average=\"micro\")\n",
    "print('Average precision score, micro-averaged over all classes: {0:0.2f}'\n",
    "      .format(average_precision[\"micro\"]))"
   ]
  },
  {
   "cell_type": "code",
   "execution_count": 13,
   "metadata": {},
   "outputs": [
    {
     "ename": "ValueError",
     "evalue": "multilabel-indicator format is not supported",
     "output_type": "error",
     "traceback": [
      "\u001b[1;31m---------------------------------------------------------------------------\u001b[0m",
      "\u001b[1;31mValueError\u001b[0m                                Traceback (most recent call last)",
      "\u001b[1;32m<ipython-input-13-3ca439b49be4>\u001b[0m in \u001b[0;36m<module>\u001b[1;34m\u001b[0m\n\u001b[1;32m----> 1\u001b[1;33m \u001b[0mfpr_rf\u001b[0m\u001b[1;33m,\u001b[0m \u001b[0mtpr_rf\u001b[0m\u001b[1;33m,\u001b[0m \u001b[0mthresholds_rf\u001b[0m \u001b[1;33m=\u001b[0m \u001b[0mroc_curve\u001b[0m\u001b[1;33m(\u001b[0m\u001b[0my_test\u001b[0m\u001b[1;33m,\u001b[0m \u001b[0my_pred\u001b[0m\u001b[1;33m)\u001b[0m\u001b[1;33m\u001b[0m\u001b[1;33m\u001b[0m\u001b[0m\n\u001b[0m\u001b[0;32m      2\u001b[0m \u001b[0mplt\u001b[0m\u001b[1;33m.\u001b[0m\u001b[0mplot\u001b[0m\u001b[1;33m(\u001b[0m\u001b[0mfpr\u001b[0m\u001b[1;33m,\u001b[0m \u001b[0mtpr\u001b[0m\u001b[1;33m,\u001b[0m \u001b[0mlabel\u001b[0m\u001b[1;33m=\u001b[0m\u001b[1;34m\"ROC Curve SVC\"\u001b[0m\u001b[1;33m)\u001b[0m\u001b[1;33m\u001b[0m\u001b[1;33m\u001b[0m\u001b[0m\n\u001b[0;32m      3\u001b[0m \u001b[0mplt\u001b[0m\u001b[1;33m.\u001b[0m\u001b[0mplot\u001b[0m\u001b[1;33m(\u001b[0m\u001b[0mfpr_rf\u001b[0m\u001b[1;33m,\u001b[0m \u001b[0mtpr_rf\u001b[0m\u001b[1;33m,\u001b[0m \u001b[0mlabel\u001b[0m\u001b[1;33m=\u001b[0m\u001b[1;34m\"ROC Curve RF\"\u001b[0m\u001b[1;33m)\u001b[0m\u001b[1;33m\u001b[0m\u001b[1;33m\u001b[0m\u001b[0m\n\u001b[0;32m      4\u001b[0m \u001b[0mplt\u001b[0m\u001b[1;33m.\u001b[0m\u001b[0mxlabel\u001b[0m\u001b[1;33m(\u001b[0m\u001b[1;34m\"FPR\"\u001b[0m\u001b[1;33m)\u001b[0m\u001b[1;33m\u001b[0m\u001b[1;33m\u001b[0m\u001b[0m\n\u001b[0;32m      5\u001b[0m \u001b[0mplt\u001b[0m\u001b[1;33m.\u001b[0m\u001b[0mylabel\u001b[0m\u001b[1;33m(\u001b[0m\u001b[1;34m\"TPR (recall)\"\u001b[0m\u001b[1;33m)\u001b[0m\u001b[1;33m\u001b[0m\u001b[1;33m\u001b[0m\u001b[0m\n",
      "\u001b[1;32mC:\\ProgramData\\Anaconda3\\lib\\site-packages\\sklearn\\metrics\\_ranking.py\u001b[0m in \u001b[0;36mroc_curve\u001b[1;34m(y_true, y_score, pos_label, sample_weight, drop_intermediate)\u001b[0m\n\u001b[0;32m    749\u001b[0m     \"\"\"\n\u001b[0;32m    750\u001b[0m     fps, tps, thresholds = _binary_clf_curve(\n\u001b[1;32m--> 751\u001b[1;33m         y_true, y_score, pos_label=pos_label, sample_weight=sample_weight)\n\u001b[0m\u001b[0;32m    752\u001b[0m \u001b[1;33m\u001b[0m\u001b[0m\n\u001b[0;32m    753\u001b[0m     \u001b[1;31m# Attempt to drop thresholds corresponding to points in between and\u001b[0m\u001b[1;33m\u001b[0m\u001b[1;33m\u001b[0m\u001b[1;33m\u001b[0m\u001b[0m\n",
      "\u001b[1;32mC:\\ProgramData\\Anaconda3\\lib\\site-packages\\sklearn\\metrics\\_ranking.py\u001b[0m in \u001b[0;36m_binary_clf_curve\u001b[1;34m(y_true, y_score, pos_label, sample_weight)\u001b[0m\n\u001b[0;32m    514\u001b[0m     if not (y_type == \"binary\" or\n\u001b[0;32m    515\u001b[0m             (y_type == \"multiclass\" and pos_label is not None)):\n\u001b[1;32m--> 516\u001b[1;33m         \u001b[1;32mraise\u001b[0m \u001b[0mValueError\u001b[0m\u001b[1;33m(\u001b[0m\u001b[1;34m\"{0} format is not supported\"\u001b[0m\u001b[1;33m.\u001b[0m\u001b[0mformat\u001b[0m\u001b[1;33m(\u001b[0m\u001b[0my_type\u001b[0m\u001b[1;33m)\u001b[0m\u001b[1;33m)\u001b[0m\u001b[1;33m\u001b[0m\u001b[1;33m\u001b[0m\u001b[0m\n\u001b[0m\u001b[0;32m    517\u001b[0m \u001b[1;33m\u001b[0m\u001b[0m\n\u001b[0;32m    518\u001b[0m     \u001b[0mcheck_consistent_length\u001b[0m\u001b[1;33m(\u001b[0m\u001b[0my_true\u001b[0m\u001b[1;33m,\u001b[0m \u001b[0my_score\u001b[0m\u001b[1;33m,\u001b[0m \u001b[0msample_weight\u001b[0m\u001b[1;33m)\u001b[0m\u001b[1;33m\u001b[0m\u001b[1;33m\u001b[0m\u001b[0m\n",
      "\u001b[1;31mValueError\u001b[0m: multilabel-indicator format is not supported"
     ]
    }
   ],
   "source": [
    "fpr_rf, tpr_rf, thresholds_rf = roc_curve(y_test, y_pred)\n",
    "plt.plot(fpr, tpr, label=\"ROC Curve SVC\")\n",
    "plt.plot(fpr_rf, tpr_rf, label=\"ROC Curve RF\")\n",
    "plt.xlabel(\"FPR\")\n",
    "plt.ylabel(\"TPR (recall)\")\n",
    "plt.plot(fpr[close_zero], tpr[close_zero], 'o', markersize=10,\n",
    "label=\"threshold zero SVC\", fillstyle=\"none\", c='k', mew=2)\n",
    "close_default_rf = np.argmin(np.abs(thresholds_rf - 0.5))\n",
    "plt.plot(fpr_rf[close_default_rf], tpr[close_default_rf], '^', markersize=10,\n",
    "label=\"threshold 0.5 RF\", fillstyle=\"none\", c='k', mew=2)\n",
    "plt.legend(loc=4)"
   ]
  },
  {
   "cell_type": "markdown",
   "metadata": {},
   "source": [
    "# Undersampling"
   ]
  },
  {
   "cell_type": "code",
   "execution_count": 17,
   "metadata": {},
   "outputs": [],
   "source": [
    "from imblearn.under_sampling import RandomUnderSampler\n",
    "\n",
    "rs = RandomUnderSampler(sampling_strategy='majority', random_state=None)\n",
    "x_train_us_fair, y_train_us_fair = rs.fit_sample(x_train, y_train['health_Fair'])\n",
    "x_train_us_poor, y_train_us_poor = rs.fit_sample(x_train, y_train['health_Poor'])\n",
    "x_train_us_good, y_train_us_good = rs.fit_sample(x_train, y_train['health_Good'])\n",
    "\n",
    "health_fair_us = pd.concat([x_train_us_fair, y_train_us_fair], axis=1)\n",
    "health_poor_us = pd.concat([x_train_us_poor, y_train_us_poor], axis=1)\n",
    "health_good_us = pd.concat([x_train_us_good, y_train_us_good], axis=1)\n",
    "health_fair_us = health_fair_us[health_fair_us.health_Fair == 1]\n",
    "health_poor_us = health_poor_us[health_poor_us.health_Poor == 1]\n",
    "\n",
    "df_sel_enc_us = pd.concat([df, health_fair_us, health_poor_us, health_good_us], ignore_index=True)\n",
    "df_sel_enc_us.fillna(0, inplace=True)\n",
    "df_sel_enc_us[df_sel_enc_us.columns[-4:]] = df_sel_enc_us[df_sel_enc_us.columns[-4:]].astype(int)"
   ]
  },
  {
   "cell_type": "code",
   "execution_count": 26,
   "metadata": {
    "scrolled": true
   },
   "outputs": [
    {
     "name": "stdout",
     "output_type": "stream",
     "text": [
      "<class 'pandas.core.frame.DataFrame'>\n",
      "RangeIndex: 857067 entries, 0 to 857066\n",
      "Data columns (total 35 columns):\n",
      " #   Column                             Non-Null Count   Dtype  \n",
      "---  ------                             --------------   -----  \n",
      " 0   tree_id                            857067 non-null  float64\n",
      " 1   steward_Alive                      857067 non-null  int64  \n",
      " 2   steward_Dead|Stump                 857067 non-null  int64  \n",
      " 3   guards_Dead|Stump                  857067 non-null  int64  \n",
      " 4   guards_Harmful                     857067 non-null  int64  \n",
      " 5   guards_Helpful                     857067 non-null  int64  \n",
      " 6   guards_None                        857067 non-null  int64  \n",
      " 7   guards_Unsure                      857067 non-null  int64  \n",
      " 8   sidewalk_Damage                    857067 non-null  int64  \n",
      " 9   sidewalk_NoDamage                  857067 non-null  int64  \n",
      " 10  root_stone_No                      857067 non-null  int64  \n",
      " 11  root_stone_Yes                     857067 non-null  int64  \n",
      " 12  root_grate_No                      857067 non-null  int64  \n",
      " 13  root_grate_Yes                     857067 non-null  int64  \n",
      " 14  root_other_No                      857067 non-null  int64  \n",
      " 15  root_other_Yes                     857067 non-null  int64  \n",
      " 16  trunk_wire_No                      857067 non-null  int64  \n",
      " 17  trunk_wire_Yes                     857067 non-null  int64  \n",
      " 18  trnk_light_No                      857067 non-null  int64  \n",
      " 19  trnk_light_Yes                     857067 non-null  int64  \n",
      " 20  trnk_other_No                      857067 non-null  int64  \n",
      " 21  trnk_other_Yes                     857067 non-null  int64  \n",
      " 22  brch_light_No                      857067 non-null  int64  \n",
      " 23  brch_light_Yes                     857067 non-null  int64  \n",
      " 24  brch_shoe_No                       857067 non-null  int64  \n",
      " 25  brch_shoe_Yes                      857067 non-null  int64  \n",
      " 26  brch_other_No                      857067 non-null  int64  \n",
      " 27  brch_other_Yes                     857067 non-null  int64  \n",
      " 28  n_neighbors_no neighbor            857067 non-null  int64  \n",
      " 29  n_neighbors_one neighbor           857067 non-null  int64  \n",
      " 30  n_neighbors_two or more neighbors  857067 non-null  int64  \n",
      " 31  health_Dead|Stump                  857067 non-null  int64  \n",
      " 32  health_Fair                        857067 non-null  int64  \n",
      " 33  health_Good                        857067 non-null  int64  \n",
      " 34  health_Poor                        857067 non-null  int64  \n",
      "dtypes: float64(1), int64(34)\n",
      "memory usage: 228.9 MB\n"
     ]
    }
   ],
   "source": [
    "df_sel_enc_us.info()"
   ]
  },
  {
   "cell_type": "code",
   "execution_count": 132,
   "metadata": {},
   "outputs": [],
   "source": [
    "x_new_us = df_sel_enc_us[list(df_sel_enc_us.columns)[1:31]]\n",
    "y_new_us = df_sel_enc_us[list(df_sel_enc_us.columns)[31:]]\n",
    "\n",
    "# Split into train, test, and validation datasets, with stratification as some labels were not predicted in previous runs.\n",
    "# x_train_vali, x_test, y_train_vali, y_test = train_test_split(x, y, random_state=0)\n",
    "# x_train, x_vali, y_train, y_vali = train_test_split(x_train_vali, y_train_vali, random_state=0)\n",
    "\n",
    "x_train_new_us, x_test_new_us, y_train_new_us, y_test_new_us = train_test_split(x_new_us, y_new_us, test_size=0.5, random_state=None, stratify=y_new_us)\n"
   ]
  },
  {
   "cell_type": "code",
   "execution_count": 133,
   "metadata": {
    "scrolled": true
   },
   "outputs": [
    {
     "name": "stderr",
     "output_type": "stream",
     "text": [
      "/Library/Frameworks/Python.framework/Versions/3.8/lib/python3.8/site-packages/pandas/plotting/_matplotlib/tools.py:298: MatplotlibDeprecationWarning: \n",
      "The rowNum attribute was deprecated in Matplotlib 3.2 and will be removed two minor releases later. Use ax.get_subplotspec().rowspan.start instead.\n",
      "  layout[ax.rowNum, ax.colNum] = ax.get_visible()\n",
      "/Library/Frameworks/Python.framework/Versions/3.8/lib/python3.8/site-packages/pandas/plotting/_matplotlib/tools.py:298: MatplotlibDeprecationWarning: \n",
      "The colNum attribute was deprecated in Matplotlib 3.2 and will be removed two minor releases later. Use ax.get_subplotspec().colspan.start instead.\n",
      "  layout[ax.rowNum, ax.colNum] = ax.get_visible()\n",
      "/Library/Frameworks/Python.framework/Versions/3.8/lib/python3.8/site-packages/pandas/plotting/_matplotlib/tools.py:304: MatplotlibDeprecationWarning: \n",
      "The rowNum attribute was deprecated in Matplotlib 3.2 and will be removed two minor releases later. Use ax.get_subplotspec().rowspan.start instead.\n",
      "  if not layout[ax.rowNum + 1, ax.colNum]:\n",
      "/Library/Frameworks/Python.framework/Versions/3.8/lib/python3.8/site-packages/pandas/plotting/_matplotlib/tools.py:304: MatplotlibDeprecationWarning: \n",
      "The colNum attribute was deprecated in Matplotlib 3.2 and will be removed two minor releases later. Use ax.get_subplotspec().colspan.start instead.\n",
      "  if not layout[ax.rowNum + 1, ax.colNum]:\n"
     ]
    },
    {
     "data": {
      "text/plain": [
       "array([[<matplotlib.axes._subplots.AxesSubplot object at 0x16162fdc0>,\n",
       "        <matplotlib.axes._subplots.AxesSubplot object at 0x15fb60970>],\n",
       "       [<matplotlib.axes._subplots.AxesSubplot object at 0x15fb2cc70>,\n",
       "        <matplotlib.axes._subplots.AxesSubplot object at 0x15fdc8130>]],\n",
       "      dtype=object)"
      ]
     },
     "execution_count": 133,
     "metadata": {},
     "output_type": "execute_result"
    },
    {
     "data": {
      "image/png": "[encoded data removed]",
      "text/plain": [
       "<Figure size 432x288 with 4 Axes>"
      ]
     },
     "metadata": {
      "needs_background": "light"
     },
     "output_type": "display_data"
    }
   ],
   "source": [
    "y_train_new_us.hist()"
   ]
  },
  {
   "cell_type": "code",
   "execution_count": 134,
   "metadata": {},
   "outputs": [
    {
     "name": "stdout",
     "output_type": "stream",
     "text": [
      "0.7142490444165457\n"
     ]
    }
   ],
   "source": [
    "rdf_clf = RandomForestClassifier(n_jobs=-1)\n",
    "rdf_clf.fit(x_train_new_us, y_train_new_us)\n",
    "y_pred_new_us = rdf_clf.predict(x_test_new_us)\n",
    "print(accuracy_score(y_test_new_us, y_pred_new_us))"
   ]
  },
  {
   "cell_type": "code",
   "execution_count": 135,
   "metadata": {},
   "outputs": [
    {
     "name": "stdout",
     "output_type": "stream",
     "text": [
      "                   precision    recall  f1-score   support\n",
      "\n",
      "health_Dead|Stump       0.71      1.00      0.83     15808\n",
      "      health_Fair       0.31      0.00      0.00     67553\n",
      "      health_Good       0.74      0.97      0.84    295413\n",
      "      health_Poor       0.36      0.00      0.00     18772\n",
      "\n",
      "        micro avg       0.74      0.76      0.75    397546\n",
      "        macro avg       0.53      0.49      0.42    397546\n",
      "     weighted avg       0.65      0.76      0.66    397546\n",
      "      samples avg       0.71      0.71      0.71    397546\n",
      "\n"
     ]
    },
    {
     "name": "stderr",
     "output_type": "stream",
     "text": [
      "/Library/Frameworks/Python.framework/Versions/3.8/lib/python3.8/site-packages/sklearn/metrics/_classification.py:1272: UndefinedMetricWarning: Precision and F-score are ill-defined and being set to 0.0 in samples with no predicted labels. Use `zero_division` parameter to control this behavior.\n",
      "  _warn_prf(average, modifier, msg_start, len(result))\n",
      "/Library/Frameworks/Python.framework/Versions/3.8/lib/python3.8/site-packages/sklearn/metrics/_classification.py:1272: UndefinedMetricWarning: Recall and F-score are ill-defined and being set to 0.0 in samples with no true labels. Use `zero_division` parameter to control this behavior.\n",
      "  _warn_prf(average, modifier, msg_start, len(result))\n"
     ]
    }
   ],
   "source": [
    "print(classification_report(y_test_new_us, y_pred_new_us, target_names=y_new_us.columns))"
   ]
  },
  {
   "cell_type": "markdown",
   "metadata": {},
   "source": [
    "# SMOTE"
   ]
  },
  {
   "cell_type": "code",
   "execution_count": 19,
   "metadata": {
    "scrolled": true
   },
   "outputs": [],
   "source": [
    "from imblearn.over_sampling import SMOTE\n",
    "\n",
    "smote_sampler = SMOTE(sampling_strategy='not majority', random_state=None, n_jobs=-1)\n",
    "x_train_smo_fair, y_train_smo_fair = smote_sampler.fit_sample(x_train, y_train['health_Fair'])\n",
    "x_train_smo_poor, y_train_smo_poor = smote_sampler.fit_sample(x_train, y_train['health_Poor'])\n",
    "x_train_smo_good, y_train_smo_good = smote_sampler.fit_sample(x_train, y_train['health_Good'])\n",
    "x_train_smo_deadstump, y_train_smo_deadstump = smote_sampler.fit_sample(x_train, y_train['health_Dead|Stump'])"
   ]
  },
  {
   "cell_type": "code",
   "execution_count": 22,
   "metadata": {},
   "outputs": [],
   "source": [
    "health_fair_smo = pd.concat([x_train_smo_fair, y_train_smo_fair], axis=1)\n",
    "health_poor_smo = pd.concat([x_train_smo_poor, y_train_smo_poor], axis=1)\n",
    "health_fair_smo = health_fair_smo[health_fair_smo.health_Fair != 0]\n",
    "health_poor_smo = health_poor_smo[health_poor_smo.health_Poor != 0]\n",
    "health_good_smo = pd.concat([x_train_smo_good, y_train_smo_good], axis=1)\n",
    "health_good_smo = health_good_smo[health_good_smo.health_Good != 0]\n",
    "health_deadstump_smo = pd.concat([x_train_smo_deadstump, y_train_smo_deadstump], axis=1)\n",
    "health_deadstump_smo = health_deadstump_smo.loc[health_deadstump_smo['health_Dead|Stump'] == 1]\n",
    "\n",
    "df_sel_enc_smo = pd.concat([health_fair_smo, health_poor_smo, health_good_smo, health_deadstump_smo], ignore_index=True)\n",
    "\n",
    "df_sel_enc_smo.fillna(0, inplace=True)\n",
    "df_sel_enc_smo[df_sel_enc_smo.columns[-4:]] = df_sel_enc_smo[df_sel_enc_smo.columns[-4:]].astype(int)"
   ]
  },
  {
   "cell_type": "code",
   "execution_count": 23,
   "metadata": {
    "scrolled": true
   },
   "outputs": [
    {
     "name": "stdout",
     "output_type": "stream",
     "text": [
      "<class 'pandas.core.frame.DataFrame'>\n",
      "RangeIndex: 970110 entries, 0 to 970109\n",
      "Data columns (total 34 columns):\n",
      " #   Column                             Non-Null Count   Dtype\n",
      "---  ------                             --------------   -----\n",
      " 0   steward_Alive                      970110 non-null  int64\n",
      " 1   steward_Dead|Stump                 970110 non-null  int64\n",
      " 2   guards_Dead|Stump                  970110 non-null  int64\n",
      " 3   guards_Harmful                     970110 non-null  int64\n",
      " 4   guards_Helpful                     970110 non-null  int64\n",
      " 5   guards_None                        970110 non-null  int64\n",
      " 6   guards_Unsure                      970110 non-null  int64\n",
      " 7   sidewalk_Damage                    970110 non-null  int64\n",
      " 8   sidewalk_NoDamage                  970110 non-null  int64\n",
      " 9   root_stone_No                      970110 non-null  int64\n",
      " 10  root_stone_Yes                     970110 non-null  int64\n",
      " 11  root_grate_No                      970110 non-null  int64\n",
      " 12  root_grate_Yes                     970110 non-null  int64\n",
      " 13  root_other_No                      970110 non-null  int64\n",
      " 14  root_other_Yes                     970110 non-null  int64\n",
      " 15  trunk_wire_No                      970110 non-null  int64\n",
      " 16  trunk_wire_Yes                     970110 non-null  int64\n",
      " 17  trnk_light_No                      970110 non-null  int64\n",
      " 18  trnk_light_Yes                     970110 non-null  int64\n",
      " 19  trnk_other_No                      970110 non-null  int64\n",
      " 20  trnk_other_Yes                     970110 non-null  int64\n",
      " 21  brch_light_No                      970110 non-null  int64\n",
      " 22  brch_light_Yes                     970110 non-null  int64\n",
      " 23  brch_shoe_No                       970110 non-null  int64\n",
      " 24  brch_shoe_Yes                      970110 non-null  int64\n",
      " 25  brch_other_No                      970110 non-null  int64\n",
      " 26  brch_other_Yes                     970110 non-null  int64\n",
      " 27  n_neighbors_no neighbor            970110 non-null  int64\n",
      " 28  n_neighbors_one neighbor           970110 non-null  int64\n",
      " 29  n_neighbors_two or more neighbors  970110 non-null  int64\n",
      " 30  health_Fair                        970110 non-null  int64\n",
      " 31  health_Poor                        970110 non-null  int64\n",
      " 32  health_Good                        970110 non-null  int64\n",
      " 33  health_Dead|Stump                  970110 non-null  int64\n",
      "dtypes: int64(34)\n",
      "memory usage: 251.6 MB\n"
     ]
    }
   ],
   "source": [
    "df_sel_enc_smo.info()"
   ]
  },
  {
   "cell_type": "code",
   "execution_count": 139,
   "metadata": {},
   "outputs": [],
   "source": [
    "x_new_smo = df_sel_enc_smo[list(df_sel_enc_smo.columns)[0:30]]\n",
    "y_new_smo = df_sel_enc_smo[list(df_sel_enc_smo.columns)[30:]]\n",
    "\n",
    "# Split into train, test, and validation datasets, with stratification as some labels were not predicted in previous runs.\n",
    "# x_train_vali, x_test, y_train_vali, y_test = train_test_split(x, y, random_state=0)\n",
    "# x_train, x_vali, y_train, y_vali = train_test_split(x_train_vali, y_train_vali, random_state=0)\n",
    "\n",
    "x_train_new_smo, x_test_new_smo, y_train_new_smo, y_test_new_smo = train_test_split(x_new_smo, y_new_smo, test_size=0.5, random_state=None, stratify=y_new_smo)\n"
   ]
  },
  {
   "cell_type": "code",
   "execution_count": 140,
   "metadata": {
    "scrolled": true
   },
   "outputs": [
    {
     "name": "stderr",
     "output_type": "stream",
     "text": [
      "/Library/Frameworks/Python.framework/Versions/3.8/lib/python3.8/site-packages/pandas/plotting/_matplotlib/tools.py:298: MatplotlibDeprecationWarning: \n",
      "The rowNum attribute was deprecated in Matplotlib 3.2 and will be removed two minor releases later. Use ax.get_subplotspec().rowspan.start instead.\n",
      "  layout[ax.rowNum, ax.colNum] = ax.get_visible()\n",
      "/Library/Frameworks/Python.framework/Versions/3.8/lib/python3.8/site-packages/pandas/plotting/_matplotlib/tools.py:298: MatplotlibDeprecationWarning: \n",
      "The colNum attribute was deprecated in Matplotlib 3.2 and will be removed two minor releases later. Use ax.get_subplotspec().colspan.start instead.\n",
      "  layout[ax.rowNum, ax.colNum] = ax.get_visible()\n",
      "/Library/Frameworks/Python.framework/Versions/3.8/lib/python3.8/site-packages/pandas/plotting/_matplotlib/tools.py:304: MatplotlibDeprecationWarning: \n",
      "The rowNum attribute was deprecated in Matplotlib 3.2 and will be removed two minor releases later. Use ax.get_subplotspec().rowspan.start instead.\n",
      "  if not layout[ax.rowNum + 1, ax.colNum]:\n",
      "/Library/Frameworks/Python.framework/Versions/3.8/lib/python3.8/site-packages/pandas/plotting/_matplotlib/tools.py:304: MatplotlibDeprecationWarning: \n",
      "The colNum attribute was deprecated in Matplotlib 3.2 and will be removed two minor releases later. Use ax.get_subplotspec().colspan.start instead.\n",
      "  if not layout[ax.rowNum + 1, ax.colNum]:\n"
     ]
    },
    {
     "data": {
      "text/plain": [
       "array([[<matplotlib.axes._subplots.AxesSubplot object at 0x15fa962e0>,\n",
       "        <matplotlib.axes._subplots.AxesSubplot object at 0x161a1db20>],\n",
       "       [<matplotlib.axes._subplots.AxesSubplot object at 0x16903a520>,\n",
       "        <matplotlib.axes._subplots.AxesSubplot object at 0x169056ca0>]],\n",
       "      dtype=object)"
      ]
     },
     "execution_count": 140,
     "metadata": {},
     "output_type": "execute_result"
    },
    {
     "data": {
      "image/png": "[encoded data removed]",
      "text/plain": [
       "<Figure size 432x288 with 4 Axes>"
      ]
     },
     "metadata": {
      "needs_background": "light"
     },
     "output_type": "display_data"
    }
   ],
   "source": [
    "y_train_new_smo.hist()"
   ]
  },
  {
   "cell_type": "code",
   "execution_count": 101,
   "metadata": {},
   "outputs": [
    {
     "name": "stdout",
     "output_type": "stream",
     "text": [
      "[{0: 1, 1: 1}, {0: 1, 1: 1}, {0: 1, 1: 1}, {0: 1, 1: 1}]\n"
     ]
    }
   ],
   "source": [
    "target_first_class = len(y_train_new_smo.loc[y_train_new_smo['health_Dead|Stump'] == 0]) / len(y_train_new_smo)\n",
    "target_second_class = len(y_train_new_smo.loc[y_train_new_smo['health_Fair'] == 0]) / len(y_train_new_smo)\n",
    "target_third_class = len(y_train_new_smo.loc[y_train_new_smo['health_Good'] == 0]) / len(y_train_new_smo)\n",
    "target_fourth_class = len(y_train_new_smo.loc[y_train_new_smo['health_Poor'] == 0]) / len(y_train_new_smo)\n",
    "\n",
    "\n",
    "class_weight_orig = [{0:target_first_class, 1:1-target_first_class},\n",
    "                     {0:target_second_class, 1:1-target_second_class},\n",
    "                     {0:target_third_class, 1:1-target_third_class},\n",
    "                     {0:target_fourth_class, 1:1-target_fourth_class}]\n",
    "\n",
    "class_weight_manip = [{0:1, 1:1},\n",
    "                      {0:1, 1:1},\n",
    "                      {0:1, 1:1},\n",
    "                      {0:1, 1:1}]\n",
    "\n",
    "print(class_weight_manip)"
   ]
  },
  {
   "cell_type": "code",
   "execution_count": 102,
   "metadata": {},
   "outputs": [
    {
     "name": "stdout",
     "output_type": "stream",
     "text": [
      "0.32590737132902453\n"
     ]
    }
   ],
   "source": [
    "rdf_clf = RandomForestClassifier(n_jobs=-1, class_weight=class_weight_manip)\n",
    "rdf_clf.fit(x_train_new_smo, y_train_new_smo)\n",
    "y_pred_new_smo = rdf_clf.predict(x_test_new_smo)\n",
    "print(accuracy_score(y_test_new_smo, y_pred_new_smo))"
   ]
  },
  {
   "cell_type": "code",
   "execution_count": 100,
   "metadata": {},
   "outputs": [
    {
     "name": "stdout",
     "output_type": "stream",
     "text": [
      "                   precision    recall  f1-score   support\n",
      "\n",
      "      health_Fair       0.00      0.00      0.00    117456\n",
      "      health_Poor       0.00      0.00      0.00    131394\n",
      "      health_Good       0.00      0.00      0.00    105770\n",
      "health_Dead|Stump       0.00      0.00      0.00    130435\n",
      "\n",
      "        micro avg       0.00      0.00      0.00    485055\n",
      "        macro avg       0.00      0.00      0.00    485055\n",
      "     weighted avg       0.00      0.00      0.00    485055\n",
      "      samples avg       0.00      0.00      0.00    485055\n",
      "\n"
     ]
    },
    {
     "name": "stderr",
     "output_type": "stream",
     "text": [
      "/Library/Frameworks/Python.framework/Versions/3.8/lib/python3.8/site-packages/sklearn/metrics/_classification.py:1272: UndefinedMetricWarning: Precision and F-score are ill-defined and being set to 0.0 in labels with no predicted samples. Use `zero_division` parameter to control this behavior.\n",
      "  _warn_prf(average, modifier, msg_start, len(result))\n",
      "/Library/Frameworks/Python.framework/Versions/3.8/lib/python3.8/site-packages/sklearn/metrics/_classification.py:1272: UndefinedMetricWarning: Precision and F-score are ill-defined and being set to 0.0 due to no predicted samples. Use `zero_division` parameter to control this behavior.\n",
      "  _warn_prf(average, modifier, msg_start, len(result))\n",
      "/Library/Frameworks/Python.framework/Versions/3.8/lib/python3.8/site-packages/sklearn/metrics/_classification.py:1272: UndefinedMetricWarning: Precision and F-score are ill-defined and being set to 0.0 in samples with no predicted labels. Use `zero_division` parameter to control this behavior.\n",
      "  _warn_prf(average, modifier, msg_start, len(result))\n"
     ]
    }
   ],
   "source": [
    "print(classification_report(y_test_new_smo, y_pred_new_smo, target_names=y_new_smo.columns))"
   ]
  },
  {
   "cell_type": "markdown",
   "metadata": {},
   "source": [
    "# Oversampling"
   ]
  },
  {
   "cell_type": "code",
   "execution_count": 24,
   "metadata": {},
   "outputs": [],
   "source": [
    "from imblearn.over_sampling import RandomOverSampler\n",
    "\n",
    "rs = RandomOverSampler(sampling_strategy='minority', random_state=None)\n",
    "x_train_os_fair, y_train_os_fair = rs.fit_sample(x_train, y_train['health_Fair'])\n",
    "x_train_os_poor, y_train_os_poor = rs.fit_sample(x_train, y_train['health_Poor'])\n",
    "#x_train_rs_good, y_train_rs_good = rs.fit_sample(x_train, y_train['health_Good'])\n",
    "\n",
    "health_fair_os = pd.concat([x_train_os_fair, y_train_os_fair], axis=1)\n",
    "health_poor_os = pd.concat([x_train_os_poor, y_train_os_poor], axis=1)\n",
    "#health_good_rs = pd.concat([x_train_rs_good, y_train_rs_good], axis=1)\n",
    "health_fair_os = health_fair_os[health_fair_os.health_Fair == 1]\n",
    "health_poor_os = health_poor_os[health_poor_os.health_Poor == 1]\n",
    "\n",
    "df_sel_enc_os = pd.concat([df, health_fair_os, health_poor_os], ignore_index=True)\n",
    "df_sel_enc_os.fillna(0, inplace=True)\n",
    "df_sel_enc_os[df_sel_enc_os.columns[-4:]] = df_sel_enc_os[df_sel_enc_os.columns[-4:]].astype(int)"
   ]
  },
  {
   "cell_type": "code",
   "execution_count": 25,
   "metadata": {
    "scrolled": true
   },
   "outputs": [
    {
     "name": "stdout",
     "output_type": "stream",
     "text": [
      "<class 'pandas.core.frame.DataFrame'>\n",
      "RangeIndex: 1181489 entries, 0 to 1181488\n",
      "Data columns (total 35 columns):\n",
      " #   Column                             Non-Null Count    Dtype  \n",
      "---  ------                             --------------    -----  \n",
      " 0   tree_id                            1181489 non-null  float64\n",
      " 1   steward_Alive                      1181489 non-null  int64  \n",
      " 2   steward_Dead|Stump                 1181489 non-null  int64  \n",
      " 3   guards_Dead|Stump                  1181489 non-null  int64  \n",
      " 4   guards_Harmful                     1181489 non-null  int64  \n",
      " 5   guards_Helpful                     1181489 non-null  int64  \n",
      " 6   guards_None                        1181489 non-null  int64  \n",
      " 7   guards_Unsure                      1181489 non-null  int64  \n",
      " 8   sidewalk_Damage                    1181489 non-null  int64  \n",
      " 9   sidewalk_NoDamage                  1181489 non-null  int64  \n",
      " 10  root_stone_No                      1181489 non-null  int64  \n",
      " 11  root_stone_Yes                     1181489 non-null  int64  \n",
      " 12  root_grate_No                      1181489 non-null  int64  \n",
      " 13  root_grate_Yes                     1181489 non-null  int64  \n",
      " 14  root_other_No                      1181489 non-null  int64  \n",
      " 15  root_other_Yes                     1181489 non-null  int64  \n",
      " 16  trunk_wire_No                      1181489 non-null  int64  \n",
      " 17  trunk_wire_Yes                     1181489 non-null  int64  \n",
      " 18  trnk_light_No                      1181489 non-null  int64  \n",
      " 19  trnk_light_Yes                     1181489 non-null  int64  \n",
      " 20  trnk_other_No                      1181489 non-null  int64  \n",
      " 21  trnk_other_Yes                     1181489 non-null  int64  \n",
      " 22  brch_light_No                      1181489 non-null  int64  \n",
      " 23  brch_light_Yes                     1181489 non-null  int64  \n",
      " 24  brch_shoe_No                       1181489 non-null  int64  \n",
      " 25  brch_shoe_Yes                      1181489 non-null  int64  \n",
      " 26  brch_other_No                      1181489 non-null  int64  \n",
      " 27  brch_other_Yes                     1181489 non-null  int64  \n",
      " 28  n_neighbors_no neighbor            1181489 non-null  int64  \n",
      " 29  n_neighbors_one neighbor           1181489 non-null  int64  \n",
      " 30  n_neighbors_two or more neighbors  1181489 non-null  int64  \n",
      " 31  health_Dead|Stump                  1181489 non-null  int64  \n",
      " 32  health_Fair                        1181489 non-null  int64  \n",
      " 33  health_Good                        1181489 non-null  int64  \n",
      " 34  health_Poor                        1181489 non-null  int64  \n",
      "dtypes: float64(1), int64(34)\n",
      "memory usage: 315.5 MB\n"
     ]
    }
   ],
   "source": [
    "df_sel_enc_os.info()"
   ]
  },
  {
   "cell_type": "code",
   "execution_count": 143,
   "metadata": {},
   "outputs": [],
   "source": [
    "x_new_os = df_sel_enc_os[list(df_sel_enc_os.columns)[1:31]]\n",
    "y_new_os = df_sel_enc_os[list(df_sel_enc_os.columns)[31:]]\n",
    "\n",
    "# Split into train, test, and validation datasets, with stratification as some labels were not predicted in previous runs.\n",
    "# x_train_vali, x_test, y_train_vali, y_test = train_test_split(x, y, random_state=0)\n",
    "# x_train, x_vali, y_train, y_vali = train_test_split(x_train_vali, y_train_vali, random_state=0)\n",
    "\n",
    "x_train_new_os, x_test_new_os, y_train_new_os, y_test_new_os = train_test_split(x_new_os, y_new_os, test_size=0.5, random_state=None, stratify=y_new_os)"
   ]
  },
  {
   "cell_type": "code",
   "execution_count": 144,
   "metadata": {
    "scrolled": true
   },
   "outputs": [
    {
     "name": "stderr",
     "output_type": "stream",
     "text": [
      "/Library/Frameworks/Python.framework/Versions/3.8/lib/python3.8/site-packages/pandas/plotting/_matplotlib/tools.py:298: MatplotlibDeprecationWarning: \n",
      "The rowNum attribute was deprecated in Matplotlib 3.2 and will be removed two minor releases later. Use ax.get_subplotspec().rowspan.start instead.\n",
      "  layout[ax.rowNum, ax.colNum] = ax.get_visible()\n",
      "/Library/Frameworks/Python.framework/Versions/3.8/lib/python3.8/site-packages/pandas/plotting/_matplotlib/tools.py:298: MatplotlibDeprecationWarning: \n",
      "The colNum attribute was deprecated in Matplotlib 3.2 and will be removed two minor releases later. Use ax.get_subplotspec().colspan.start instead.\n",
      "  layout[ax.rowNum, ax.colNum] = ax.get_visible()\n",
      "/Library/Frameworks/Python.framework/Versions/3.8/lib/python3.8/site-packages/pandas/plotting/_matplotlib/tools.py:304: MatplotlibDeprecationWarning: \n",
      "The rowNum attribute was deprecated in Matplotlib 3.2 and will be removed two minor releases later. Use ax.get_subplotspec().rowspan.start instead.\n",
      "  if not layout[ax.rowNum + 1, ax.colNum]:\n",
      "/Library/Frameworks/Python.framework/Versions/3.8/lib/python3.8/site-packages/pandas/plotting/_matplotlib/tools.py:304: MatplotlibDeprecationWarning: \n",
      "The colNum attribute was deprecated in Matplotlib 3.2 and will be removed two minor releases later. Use ax.get_subplotspec().colspan.start instead.\n",
      "  if not layout[ax.rowNum + 1, ax.colNum]:\n"
     ]
    },
    {
     "data": {
      "text/plain": [
       "array([[<matplotlib.axes._subplots.AxesSubplot object at 0x15fa74d90>,\n",
       "        <matplotlib.axes._subplots.AxesSubplot object at 0x15fa8a7c0>],\n",
       "       [<matplotlib.axes._subplots.AxesSubplot object at 0x16aa43520>,\n",
       "        <matplotlib.axes._subplots.AxesSubplot object at 0x160cdf8b0>]],\n",
       "      dtype=object)"
      ]
     },
     "execution_count": 144,
     "metadata": {},
     "output_type": "execute_result"
    },
    {
     "data": {
      "image/png": "[encoded data removed]",
      "text/plain": [
       "<Figure size 432x288 with 4 Axes>"
      ]
     },
     "metadata": {
      "needs_background": "light"
     },
     "output_type": "display_data"
    }
   ],
   "source": [
    "y_train_new_os.hist()"
   ]
  },
  {
   "cell_type": "code",
   "execution_count": 148,
   "metadata": {},
   "outputs": [
    {
     "name": "stdout",
     "output_type": "stream",
     "text": [
      "[{0: 0.9732405238140379, 1: 0.026759476185962083}, {0: 0.28050729249895046, 1: 0.7194927075010495}, {0: 0.4476135178689923, 1: 0.5523864821310077}, {0: 0.24511971344609507, 1: 0.7548802865539049}]\n"
     ]
    }
   ],
   "source": [
    "target_first_class = len(y_train_new_os.loc[y_train_new_os['health_Dead|Stump'] == 0]) / len(y_train_new_os)\n",
    "target_second_class = len(y_train_new_os.loc[y_train_new_os['health_Fair'] == 0]) / len(y_train_new_os)\n",
    "target_third_class = len(y_train_new_os.loc[y_train_new_os['health_Good'] == 0]) / len(y_train_new_os)\n",
    "target_fourth_class = len(y_train_new_os.loc[y_train_new_os['health_Poor'] == 0]) / len(y_train_new_os)\n",
    "\n",
    "\n",
    "class_weight_orig = [{0:target_first_class, 1:1-target_first_class},\n",
    "                     {0:target_second_class, 1:1-target_second_class},\n",
    "                     {0:target_third_class, 1:1-target_third_class},\n",
    "                     {0:target_fourth_class, 1:1-target_fourth_class}]\n",
    "\n",
    "class_weight_manip = [{0:target_first_class, 1:1-target_first_class},\n",
    "                      {0:1-target_second_class, 1:target_second_class},\n",
    "                      {0:1-target_third_class, 1:target_third_class},\n",
    "                      {0:1-target_fourth_class, 1:target_fourth_class}]\n",
    "\n",
    "print(class_weight_manip)"
   ]
  },
  {
   "cell_type": "code",
   "execution_count": 149,
   "metadata": {},
   "outputs": [
    {
     "name": "stdout",
     "output_type": "stream",
     "text": [
      "0.07621562603153645\n"
     ]
    }
   ],
   "source": [
    "rdf_clf = RandomForestClassifier(n_jobs=-1, class_weight=class_weight_manip)\n",
    "rdf_clf.fit(x_train_new_os, y_train_new_os)\n",
    "y_pred_new_os = rdf_clf.predict(x_test_new_os)\n",
    "print(accuracy_score(y_test_new_os, y_pred_new_os))"
   ]
  },
  {
   "cell_type": "code",
   "execution_count": 150,
   "metadata": {},
   "outputs": [
    {
     "name": "stdout",
     "output_type": "stream",
     "text": [
      "                   precision    recall  f1-score   support\n",
      "\n",
      "health_Dead|Stump       1.00      1.00      1.00     15808\n",
      "      health_Fair       0.50      0.03      0.06    165709\n",
      "      health_Good       0.73      0.00      0.00    264425\n",
      "      health_Poor       0.53      0.16      0.24    144803\n",
      "\n",
      "        micro avg       0.63      0.08      0.14    590745\n",
      "        macro avg       0.69      0.30      0.33    590745\n",
      "     weighted avg       0.62      0.08      0.11    590745\n",
      "      samples avg       0.08      0.08      0.08    590745\n",
      "\n"
     ]
    },
    {
     "name": "stderr",
     "output_type": "stream",
     "text": [
      "/Library/Frameworks/Python.framework/Versions/3.8/lib/python3.8/site-packages/sklearn/metrics/_classification.py:1272: UndefinedMetricWarning: Precision and F-score are ill-defined and being set to 0.0 in samples with no predicted labels. Use `zero_division` parameter to control this behavior.\n",
      "  _warn_prf(average, modifier, msg_start, len(result))\n"
     ]
    }
   ],
   "source": [
    "print(classification_report(y_test_new_os, y_pred_new_os, target_names=y_new_os.columns))"
   ]
  },
  {
   "cell_type": "markdown",
   "metadata": {},
   "source": [
    "# Mixture"
   ]
  },
  {
   "cell_type": "code",
   "execution_count": 163,
   "metadata": {},
   "outputs": [],
   "source": [
    "x_train_mix = pd.concat([x_train,\n",
    "                         x_train_new_os.loc[y_train_new_os.loc[y_train_new_os['health_Poor'] == 1].index],\n",
    "                         x_train_new_os.loc[y_train_new_os.loc[y_train_new_os['health_Fair'] == 1].index]], ignore_index=True)"
   ]
  },
  {
   "cell_type": "code",
   "execution_count": 151,
   "metadata": {},
   "outputs": [],
   "source": [
    "y_train_mix = pd.concat([y_train,\n",
    "                         y_train_new_os.loc[y_train_new_os['health_Poor'] == 1],\n",
    "                         y_train_new_os.loc[y_train_new_os['health_Fair'] == 1]], ignore_index=True)"
   ]
  },
  {
   "cell_type": "code",
   "execution_count": 152,
   "metadata": {},
   "outputs": [
    {
     "name": "stderr",
     "output_type": "stream",
     "text": [
      "/Library/Frameworks/Python.framework/Versions/3.8/lib/python3.8/site-packages/pandas/plotting/_matplotlib/tools.py:298: MatplotlibDeprecationWarning: \n",
      "The rowNum attribute was deprecated in Matplotlib 3.2 and will be removed two minor releases later. Use ax.get_subplotspec().rowspan.start instead.\n",
      "  layout[ax.rowNum, ax.colNum] = ax.get_visible()\n",
      "/Library/Frameworks/Python.framework/Versions/3.8/lib/python3.8/site-packages/pandas/plotting/_matplotlib/tools.py:298: MatplotlibDeprecationWarning: \n",
      "The colNum attribute was deprecated in Matplotlib 3.2 and will be removed two minor releases later. Use ax.get_subplotspec().colspan.start instead.\n",
      "  layout[ax.rowNum, ax.colNum] = ax.get_visible()\n",
      "/Library/Frameworks/Python.framework/Versions/3.8/lib/python3.8/site-packages/pandas/plotting/_matplotlib/tools.py:304: MatplotlibDeprecationWarning: \n",
      "The rowNum attribute was deprecated in Matplotlib 3.2 and will be removed two minor releases later. Use ax.get_subplotspec().rowspan.start instead.\n",
      "  if not layout[ax.rowNum + 1, ax.colNum]:\n",
      "/Library/Frameworks/Python.framework/Versions/3.8/lib/python3.8/site-packages/pandas/plotting/_matplotlib/tools.py:304: MatplotlibDeprecationWarning: \n",
      "The colNum attribute was deprecated in Matplotlib 3.2 and will be removed two minor releases later. Use ax.get_subplotspec().colspan.start instead.\n",
      "  if not layout[ax.rowNum + 1, ax.colNum]:\n"
     ]
    },
    {
     "data": {
      "text/plain": [
       "array([[<matplotlib.axes._subplots.AxesSubplot object at 0x1615dd400>,\n",
       "        <matplotlib.axes._subplots.AxesSubplot object at 0x141290850>],\n",
       "       [<matplotlib.axes._subplots.AxesSubplot object at 0x1412a8d00>,\n",
       "        <matplotlib.axes._subplots.AxesSubplot object at 0x1476b2850>]],\n",
       "      dtype=object)"
      ]
     },
     "execution_count": 152,
     "metadata": {},
     "output_type": "execute_result"
    },
    {
     "data": {
      "image/png": "[encoded data removed]",
      "text/plain": [
       "<Figure size 432x288 with 4 Axes>"
      ]
     },
     "metadata": {
      "needs_background": "light"
     },
     "output_type": "display_data"
    }
   ],
   "source": [
    "y_train_mix.hist()"
   ]
  },
  {
   "cell_type": "code",
   "execution_count": 164,
   "metadata": {},
   "outputs": [
    {
     "name": "stdout",
     "output_type": "stream",
     "text": [
      "0.057171688119861654\n"
     ]
    }
   ],
   "source": [
    "rdf_clf = RandomForestClassifier(n_jobs=-1)\n",
    "rdf_clf.fit(x_train_mix, y_train_mix)\n",
    "y_pred = rdf_clf.predict(x_test)\n",
    "print(accuracy_score(y_test, y_pred))"
   ]
  },
  {
   "cell_type": "code",
   "execution_count": 165,
   "metadata": {},
   "outputs": [
    {
     "name": "stdout",
     "output_type": "stream",
     "text": [
      "                   precision    recall  f1-score   support\n",
      "\n",
      "health_Dead|Stump       1.00      1.00      1.00     18970\n",
      "      health_Fair       0.27      0.03      0.06     57902\n",
      "      health_Good       0.82      0.00      0.01    317310\n",
      "      health_Poor       0.23      0.08      0.12     16091\n",
      "\n",
      "        micro avg       0.70      0.06      0.11    410273\n",
      "        macro avg       0.58      0.28      0.30    410273\n",
      "     weighted avg       0.73      0.06      0.07    410273\n",
      "      samples avg       0.06      0.06      0.06    410273\n",
      "\n"
     ]
    },
    {
     "name": "stderr",
     "output_type": "stream",
     "text": [
      "/Library/Frameworks/Python.framework/Versions/3.8/lib/python3.8/site-packages/sklearn/metrics/_classification.py:1272: UndefinedMetricWarning: Precision and F-score are ill-defined and being set to 0.0 in samples with no predicted labels. Use `zero_division` parameter to control this behavior.\n",
      "  _warn_prf(average, modifier, msg_start, len(result))\n"
     ]
    }
   ],
   "source": [
    "print(classification_report(y_test, y_pred, target_names=y.columns))"
   ]
  },
  {
   "cell_type": "markdown",
   "metadata": {},
   "source": [
    "# SMOTENN"
   ]
  },
  {
   "cell_type": "code",
   "execution_count": 8,
   "metadata": {},
   "outputs": [
    {
     "ename": "KeyboardInterrupt",
     "evalue": "",
     "output_type": "error",
     "traceback": [
      "\u001b[0;31m---------------------------------------------------------------------------\u001b[0m",
      "\u001b[0;31mKeyboardInterrupt\u001b[0m                         Traceback (most recent call last)",
      "\u001b[0;32m<ipython-input-8-248f4096125d>\u001b[0m in \u001b[0;36m<module>\u001b[0;34m\u001b[0m\n\u001b[1;32m      4\u001b[0m \u001b[0;34m\u001b[0m\u001b[0m\n\u001b[1;32m      5\u001b[0m \u001b[0mx_train_smonn_fair\u001b[0m\u001b[0;34m,\u001b[0m \u001b[0my_train_smonn_fair\u001b[0m \u001b[0;34m=\u001b[0m \u001b[0msmote_nn\u001b[0m\u001b[0;34m.\u001b[0m\u001b[0mfit_resample\u001b[0m\u001b[0;34m(\u001b[0m\u001b[0mx_train\u001b[0m\u001b[0;34m,\u001b[0m \u001b[0my_train\u001b[0m\u001b[0;34m[\u001b[0m\u001b[0;34m'health_Fair'\u001b[0m\u001b[0;34m]\u001b[0m\u001b[0;34m)\u001b[0m\u001b[0;34m\u001b[0m\u001b[0;34m\u001b[0m\u001b[0m\n\u001b[0;32m----> 6\u001b[0;31m \u001b[0mx_train_smonn_poor\u001b[0m\u001b[0;34m,\u001b[0m \u001b[0my_train_smonn_poor\u001b[0m \u001b[0;34m=\u001b[0m \u001b[0msmote_nn\u001b[0m\u001b[0;34m.\u001b[0m\u001b[0mfit_resample\u001b[0m\u001b[0;34m(\u001b[0m\u001b[0mx_train\u001b[0m\u001b[0;34m,\u001b[0m \u001b[0my_train\u001b[0m\u001b[0;34m[\u001b[0m\u001b[0;34m'health_Poor'\u001b[0m\u001b[0;34m]\u001b[0m\u001b[0;34m)\u001b[0m\u001b[0;34m\u001b[0m\u001b[0;34m\u001b[0m\u001b[0m\n\u001b[0m\u001b[1;32m      7\u001b[0m \u001b[0;31m#x_train_smonn_good, y_train_smonn_good = rs.fit_sample(x_train, y_train['health_Good'])\u001b[0m\u001b[0;34m\u001b[0m\u001b[0;34m\u001b[0m\u001b[0;34m\u001b[0m\u001b[0m\n\u001b[1;32m      8\u001b[0m \u001b[0;34m\u001b[0m\u001b[0m\n",
      "\u001b[0;32m/Library/Frameworks/Python.framework/Versions/3.8/lib/python3.8/site-packages/imblearn/base.py\u001b[0m in \u001b[0;36mfit_resample\u001b[0;34m(self, X, y)\u001b[0m\n\u001b[1;32m     81\u001b[0m         )\n\u001b[1;32m     82\u001b[0m \u001b[0;34m\u001b[0m\u001b[0m\n\u001b[0;32m---> 83\u001b[0;31m         \u001b[0moutput\u001b[0m \u001b[0;34m=\u001b[0m \u001b[0mself\u001b[0m\u001b[0;34m.\u001b[0m\u001b[0m_fit_resample\u001b[0m\u001b[0;34m(\u001b[0m\u001b[0mX\u001b[0m\u001b[0;34m,\u001b[0m \u001b[0my\u001b[0m\u001b[0;34m)\u001b[0m\u001b[0;34m\u001b[0m\u001b[0;34m\u001b[0m\u001b[0m\n\u001b[0m\u001b[1;32m     84\u001b[0m \u001b[0;34m\u001b[0m\u001b[0m\n\u001b[1;32m     85\u001b[0m         y_ = (label_binarize(output[1], np.unique(y))\n",
      "\u001b[0;32m/Library/Frameworks/Python.framework/Versions/3.8/lib/python3.8/site-packages/imblearn/combine/_smote_enn.py\u001b[0m in \u001b[0;36m_fit_resample\u001b[0;34m(self, X, y)\u001b[0m\n\u001b[1;32m    140\u001b[0m \u001b[0;34m\u001b[0m\u001b[0m\n\u001b[1;32m    141\u001b[0m         \u001b[0mX_res\u001b[0m\u001b[0;34m,\u001b[0m \u001b[0my_res\u001b[0m \u001b[0;34m=\u001b[0m \u001b[0mself\u001b[0m\u001b[0;34m.\u001b[0m\u001b[0msmote_\u001b[0m\u001b[0;34m.\u001b[0m\u001b[0mfit_resample\u001b[0m\u001b[0;34m(\u001b[0m\u001b[0mX\u001b[0m\u001b[0;34m,\u001b[0m \u001b[0my\u001b[0m\u001b[0;34m)\u001b[0m\u001b[0;34m\u001b[0m\u001b[0;34m\u001b[0m\u001b[0m\n\u001b[0;32m--> 142\u001b[0;31m         \u001b[0;32mreturn\u001b[0m \u001b[0mself\u001b[0m\u001b[0;34m.\u001b[0m\u001b[0menn_\u001b[0m\u001b[0;34m.\u001b[0m\u001b[0mfit_resample\u001b[0m\u001b[0;34m(\u001b[0m\u001b[0mX_res\u001b[0m\u001b[0;34m,\u001b[0m \u001b[0my_res\u001b[0m\u001b[0;34m)\u001b[0m\u001b[0;34m\u001b[0m\u001b[0;34m\u001b[0m\u001b[0m\n\u001b[0m",
      "\u001b[0;32m/Library/Frameworks/Python.framework/Versions/3.8/lib/python3.8/site-packages/imblearn/base.py\u001b[0m in \u001b[0;36mfit_resample\u001b[0;34m(self, X, y)\u001b[0m\n\u001b[1;32m     81\u001b[0m         )\n\u001b[1;32m     82\u001b[0m \u001b[0;34m\u001b[0m\u001b[0m\n\u001b[0;32m---> 83\u001b[0;31m         \u001b[0moutput\u001b[0m \u001b[0;34m=\u001b[0m \u001b[0mself\u001b[0m\u001b[0;34m.\u001b[0m\u001b[0m_fit_resample\u001b[0m\u001b[0;34m(\u001b[0m\u001b[0mX\u001b[0m\u001b[0;34m,\u001b[0m \u001b[0my\u001b[0m\u001b[0;34m)\u001b[0m\u001b[0;34m\u001b[0m\u001b[0;34m\u001b[0m\u001b[0m\n\u001b[0m\u001b[1;32m     84\u001b[0m \u001b[0;34m\u001b[0m\u001b[0m\n\u001b[1;32m     85\u001b[0m         y_ = (label_binarize(output[1], np.unique(y))\n",
      "\u001b[0;32m/Library/Frameworks/Python.framework/Versions/3.8/lib/python3.8/site-packages/imblearn/under_sampling/_prototype_selection/_edited_nearest_neighbours.py\u001b[0m in \u001b[0;36m_fit_resample\u001b[0;34m(self, X, y)\u001b[0m\n\u001b[1;32m    131\u001b[0m                 \u001b[0mX_class\u001b[0m \u001b[0;34m=\u001b[0m \u001b[0m_safe_indexing\u001b[0m\u001b[0;34m(\u001b[0m\u001b[0mX\u001b[0m\u001b[0;34m,\u001b[0m \u001b[0mtarget_class_indices\u001b[0m\u001b[0;34m)\u001b[0m\u001b[0;34m\u001b[0m\u001b[0;34m\u001b[0m\u001b[0m\n\u001b[1;32m    132\u001b[0m                 \u001b[0my_class\u001b[0m \u001b[0;34m=\u001b[0m \u001b[0m_safe_indexing\u001b[0m\u001b[0;34m(\u001b[0m\u001b[0my\u001b[0m\u001b[0;34m,\u001b[0m \u001b[0mtarget_class_indices\u001b[0m\u001b[0;34m)\u001b[0m\u001b[0;34m\u001b[0m\u001b[0;34m\u001b[0m\u001b[0m\n\u001b[0;32m--> 133\u001b[0;31m                 nnhood_idx = self.nn_.kneighbors(\n\u001b[0m\u001b[1;32m    134\u001b[0m                     \u001b[0mX_class\u001b[0m\u001b[0;34m,\u001b[0m \u001b[0mreturn_distance\u001b[0m\u001b[0;34m=\u001b[0m\u001b[0;32mFalse\u001b[0m\u001b[0;34m\u001b[0m\u001b[0;34m\u001b[0m\u001b[0m\n\u001b[1;32m    135\u001b[0m                 )[:, 1:]\n",
      "\u001b[0;32m/Library/Frameworks/Python.framework/Versions/3.8/lib/python3.8/site-packages/sklearn/neighbors/_base.py\u001b[0m in \u001b[0;36mkneighbors\u001b[0;34m(self, X, n_neighbors, return_distance)\u001b[0m\n\u001b[1;32m    659\u001b[0m                 \u001b[0mdelayed_query\u001b[0m \u001b[0;34m=\u001b[0m \u001b[0mdelayed\u001b[0m\u001b[0;34m(\u001b[0m\u001b[0m_tree_query_parallel_helper\u001b[0m\u001b[0;34m)\u001b[0m\u001b[0;34m\u001b[0m\u001b[0;34m\u001b[0m\u001b[0m\n\u001b[1;32m    660\u001b[0m                 \u001b[0mparallel_kwargs\u001b[0m \u001b[0;34m=\u001b[0m \u001b[0;34m{\u001b[0m\u001b[0;34m\"prefer\"\u001b[0m\u001b[0;34m:\u001b[0m \u001b[0;34m\"threads\"\u001b[0m\u001b[0;34m}\u001b[0m\u001b[0;34m\u001b[0m\u001b[0;34m\u001b[0m\u001b[0m\n\u001b[0;32m--> 661\u001b[0;31m             chunked_results = Parallel(n_jobs, **parallel_kwargs)(\n\u001b[0m\u001b[1;32m    662\u001b[0m                 delayed_query(\n\u001b[1;32m    663\u001b[0m                     self._tree, X[s], n_neighbors, return_distance)\n",
      "\u001b[0;32m/Library/Frameworks/Python.framework/Versions/3.8/lib/python3.8/site-packages/joblib/parallel.py\u001b[0m in \u001b[0;36m__call__\u001b[0;34m(self, iterable)\u001b[0m\n\u001b[1;32m   1015\u001b[0m \u001b[0;34m\u001b[0m\u001b[0m\n\u001b[1;32m   1016\u001b[0m             \u001b[0;32mwith\u001b[0m \u001b[0mself\u001b[0m\u001b[0;34m.\u001b[0m\u001b[0m_backend\u001b[0m\u001b[0;34m.\u001b[0m\u001b[0mretrieval_context\u001b[0m\u001b[0;34m(\u001b[0m\u001b[0;34m)\u001b[0m\u001b[0;34m:\u001b[0m\u001b[0;34m\u001b[0m\u001b[0;34m\u001b[0m\u001b[0m\n\u001b[0;32m-> 1017\u001b[0;31m                 \u001b[0mself\u001b[0m\u001b[0;34m.\u001b[0m\u001b[0mretrieve\u001b[0m\u001b[0;34m(\u001b[0m\u001b[0;34m)\u001b[0m\u001b[0;34m\u001b[0m\u001b[0;34m\u001b[0m\u001b[0m\n\u001b[0m\u001b[1;32m   1018\u001b[0m             \u001b[0;31m# Make sure that we get a last message telling us we are done\u001b[0m\u001b[0;34m\u001b[0m\u001b[0;34m\u001b[0m\u001b[0;34m\u001b[0m\u001b[0m\n\u001b[1;32m   1019\u001b[0m             \u001b[0melapsed_time\u001b[0m \u001b[0;34m=\u001b[0m \u001b[0mtime\u001b[0m\u001b[0;34m.\u001b[0m\u001b[0mtime\u001b[0m\u001b[0;34m(\u001b[0m\u001b[0;34m)\u001b[0m \u001b[0;34m-\u001b[0m \u001b[0mself\u001b[0m\u001b[0;34m.\u001b[0m\u001b[0m_start_time\u001b[0m\u001b[0;34m\u001b[0m\u001b[0;34m\u001b[0m\u001b[0m\n",
      "\u001b[0;32m/Library/Frameworks/Python.framework/Versions/3.8/lib/python3.8/site-packages/joblib/parallel.py\u001b[0m in \u001b[0;36mretrieve\u001b[0;34m(self)\u001b[0m\n\u001b[1;32m    907\u001b[0m             \u001b[0;32mtry\u001b[0m\u001b[0;34m:\u001b[0m\u001b[0;34m\u001b[0m\u001b[0;34m\u001b[0m\u001b[0m\n\u001b[1;32m    908\u001b[0m                 \u001b[0;32mif\u001b[0m \u001b[0mgetattr\u001b[0m\u001b[0;34m(\u001b[0m\u001b[0mself\u001b[0m\u001b[0;34m.\u001b[0m\u001b[0m_backend\u001b[0m\u001b[0;34m,\u001b[0m \u001b[0;34m'supports_timeout'\u001b[0m\u001b[0;34m,\u001b[0m \u001b[0;32mFalse\u001b[0m\u001b[0;34m)\u001b[0m\u001b[0;34m:\u001b[0m\u001b[0;34m\u001b[0m\u001b[0;34m\u001b[0m\u001b[0m\n\u001b[0;32m--> 909\u001b[0;31m                     \u001b[0mself\u001b[0m\u001b[0;34m.\u001b[0m\u001b[0m_output\u001b[0m\u001b[0;34m.\u001b[0m\u001b[0mextend\u001b[0m\u001b[0;34m(\u001b[0m\u001b[0mjob\u001b[0m\u001b[0;34m.\u001b[0m\u001b[0mget\u001b[0m\u001b[0;34m(\u001b[0m\u001b[0mtimeout\u001b[0m\u001b[0;34m=\u001b[0m\u001b[0mself\u001b[0m\u001b[0;34m.\u001b[0m\u001b[0mtimeout\u001b[0m\u001b[0;34m)\u001b[0m\u001b[0;34m)\u001b[0m\u001b[0;34m\u001b[0m\u001b[0;34m\u001b[0m\u001b[0m\n\u001b[0m\u001b[1;32m    910\u001b[0m                 \u001b[0;32melse\u001b[0m\u001b[0;34m:\u001b[0m\u001b[0;34m\u001b[0m\u001b[0;34m\u001b[0m\u001b[0m\n\u001b[1;32m    911\u001b[0m                     \u001b[0mself\u001b[0m\u001b[0;34m.\u001b[0m\u001b[0m_output\u001b[0m\u001b[0;34m.\u001b[0m\u001b[0mextend\u001b[0m\u001b[0;34m(\u001b[0m\u001b[0mjob\u001b[0m\u001b[0;34m.\u001b[0m\u001b[0mget\u001b[0m\u001b[0;34m(\u001b[0m\u001b[0;34m)\u001b[0m\u001b[0;34m)\u001b[0m\u001b[0;34m\u001b[0m\u001b[0;34m\u001b[0m\u001b[0m\n",
      "\u001b[0;32m/Library/Frameworks/Python.framework/Versions/3.8/lib/python3.8/multiprocessing/pool.py\u001b[0m in \u001b[0;36mget\u001b[0;34m(self, timeout)\u001b[0m\n\u001b[1;32m    760\u001b[0m \u001b[0;34m\u001b[0m\u001b[0m\n\u001b[1;32m    761\u001b[0m     \u001b[0;32mdef\u001b[0m \u001b[0mget\u001b[0m\u001b[0;34m(\u001b[0m\u001b[0mself\u001b[0m\u001b[0;34m,\u001b[0m \u001b[0mtimeout\u001b[0m\u001b[0;34m=\u001b[0m\u001b[0;32mNone\u001b[0m\u001b[0;34m)\u001b[0m\u001b[0;34m:\u001b[0m\u001b[0;34m\u001b[0m\u001b[0;34m\u001b[0m\u001b[0m\n\u001b[0;32m--> 762\u001b[0;31m         \u001b[0mself\u001b[0m\u001b[0;34m.\u001b[0m\u001b[0mwait\u001b[0m\u001b[0;34m(\u001b[0m\u001b[0mtimeout\u001b[0m\u001b[0;34m)\u001b[0m\u001b[0;34m\u001b[0m\u001b[0;34m\u001b[0m\u001b[0m\n\u001b[0m\u001b[1;32m    763\u001b[0m         \u001b[0;32mif\u001b[0m \u001b[0;32mnot\u001b[0m \u001b[0mself\u001b[0m\u001b[0;34m.\u001b[0m\u001b[0mready\u001b[0m\u001b[0;34m(\u001b[0m\u001b[0;34m)\u001b[0m\u001b[0;34m:\u001b[0m\u001b[0;34m\u001b[0m\u001b[0;34m\u001b[0m\u001b[0m\n\u001b[1;32m    764\u001b[0m             \u001b[0;32mraise\u001b[0m \u001b[0mTimeoutError\u001b[0m\u001b[0;34m\u001b[0m\u001b[0;34m\u001b[0m\u001b[0m\n",
      "\u001b[0;32m/Library/Frameworks/Python.framework/Versions/3.8/lib/python3.8/multiprocessing/pool.py\u001b[0m in \u001b[0;36mwait\u001b[0;34m(self, timeout)\u001b[0m\n\u001b[1;32m    757\u001b[0m \u001b[0;34m\u001b[0m\u001b[0m\n\u001b[1;32m    758\u001b[0m     \u001b[0;32mdef\u001b[0m \u001b[0mwait\u001b[0m\u001b[0;34m(\u001b[0m\u001b[0mself\u001b[0m\u001b[0;34m,\u001b[0m \u001b[0mtimeout\u001b[0m\u001b[0;34m=\u001b[0m\u001b[0;32mNone\u001b[0m\u001b[0;34m)\u001b[0m\u001b[0;34m:\u001b[0m\u001b[0;34m\u001b[0m\u001b[0;34m\u001b[0m\u001b[0m\n\u001b[0;32m--> 759\u001b[0;31m         \u001b[0mself\u001b[0m\u001b[0;34m.\u001b[0m\u001b[0m_event\u001b[0m\u001b[0;34m.\u001b[0m\u001b[0mwait\u001b[0m\u001b[0;34m(\u001b[0m\u001b[0mtimeout\u001b[0m\u001b[0;34m)\u001b[0m\u001b[0;34m\u001b[0m\u001b[0;34m\u001b[0m\u001b[0m\n\u001b[0m\u001b[1;32m    760\u001b[0m \u001b[0;34m\u001b[0m\u001b[0m\n\u001b[1;32m    761\u001b[0m     \u001b[0;32mdef\u001b[0m \u001b[0mget\u001b[0m\u001b[0;34m(\u001b[0m\u001b[0mself\u001b[0m\u001b[0;34m,\u001b[0m \u001b[0mtimeout\u001b[0m\u001b[0;34m=\u001b[0m\u001b[0;32mNone\u001b[0m\u001b[0;34m)\u001b[0m\u001b[0;34m:\u001b[0m\u001b[0;34m\u001b[0m\u001b[0;34m\u001b[0m\u001b[0m\n",
      "\u001b[0;32m/Library/Frameworks/Python.framework/Versions/3.8/lib/python3.8/threading.py\u001b[0m in \u001b[0;36mwait\u001b[0;34m(self, timeout)\u001b[0m\n\u001b[1;32m    556\u001b[0m             \u001b[0msignaled\u001b[0m \u001b[0;34m=\u001b[0m \u001b[0mself\u001b[0m\u001b[0;34m.\u001b[0m\u001b[0m_flag\u001b[0m\u001b[0;34m\u001b[0m\u001b[0;34m\u001b[0m\u001b[0m\n\u001b[1;32m    557\u001b[0m             \u001b[0;32mif\u001b[0m \u001b[0;32mnot\u001b[0m \u001b[0msignaled\u001b[0m\u001b[0;34m:\u001b[0m\u001b[0;34m\u001b[0m\u001b[0;34m\u001b[0m\u001b[0m\n\u001b[0;32m--> 558\u001b[0;31m                 \u001b[0msignaled\u001b[0m \u001b[0;34m=\u001b[0m \u001b[0mself\u001b[0m\u001b[0;34m.\u001b[0m\u001b[0m_cond\u001b[0m\u001b[0;34m.\u001b[0m\u001b[0mwait\u001b[0m\u001b[0;34m(\u001b[0m\u001b[0mtimeout\u001b[0m\u001b[0;34m)\u001b[0m\u001b[0;34m\u001b[0m\u001b[0;34m\u001b[0m\u001b[0m\n\u001b[0m\u001b[1;32m    559\u001b[0m             \u001b[0;32mreturn\u001b[0m \u001b[0msignaled\u001b[0m\u001b[0;34m\u001b[0m\u001b[0;34m\u001b[0m\u001b[0m\n\u001b[1;32m    560\u001b[0m \u001b[0;34m\u001b[0m\u001b[0m\n",
      "\u001b[0;32m/Library/Frameworks/Python.framework/Versions/3.8/lib/python3.8/threading.py\u001b[0m in \u001b[0;36mwait\u001b[0;34m(self, timeout)\u001b[0m\n\u001b[1;32m    300\u001b[0m         \u001b[0;32mtry\u001b[0m\u001b[0;34m:\u001b[0m    \u001b[0;31m# restore state no matter what (e.g., KeyboardInterrupt)\u001b[0m\u001b[0;34m\u001b[0m\u001b[0;34m\u001b[0m\u001b[0m\n\u001b[1;32m    301\u001b[0m             \u001b[0;32mif\u001b[0m \u001b[0mtimeout\u001b[0m \u001b[0;32mis\u001b[0m \u001b[0;32mNone\u001b[0m\u001b[0;34m:\u001b[0m\u001b[0;34m\u001b[0m\u001b[0;34m\u001b[0m\u001b[0m\n\u001b[0;32m--> 302\u001b[0;31m                 \u001b[0mwaiter\u001b[0m\u001b[0;34m.\u001b[0m\u001b[0macquire\u001b[0m\u001b[0;34m(\u001b[0m\u001b[0;34m)\u001b[0m\u001b[0;34m\u001b[0m\u001b[0;34m\u001b[0m\u001b[0m\n\u001b[0m\u001b[1;32m    303\u001b[0m                 \u001b[0mgotit\u001b[0m \u001b[0;34m=\u001b[0m \u001b[0;32mTrue\u001b[0m\u001b[0;34m\u001b[0m\u001b[0;34m\u001b[0m\u001b[0m\n\u001b[1;32m    304\u001b[0m             \u001b[0;32melse\u001b[0m\u001b[0;34m:\u001b[0m\u001b[0;34m\u001b[0m\u001b[0;34m\u001b[0m\u001b[0m\n",
      "\u001b[0;31mKeyboardInterrupt\u001b[0m: "
     ]
    }
   ],
   "source": [
    "from imblearn.combine import SMOTEENN\n",
    "\n",
    "smote_nn = SMOTEENN(random_state=None, n_jobs=-1)\n",
    "\n",
    "x_train_smonn_fair, y_train_smonn_fair = smote_nn.fit_resample(x_train, y_train['health_Fair'])\n",
    "x_train_smonn_poor, y_train_smonn_poor = smote_nn.fit_resample(x_train, y_train['health_Poor'])\n",
    "#x_train_smonn_good, y_train_smonn_good = rs.fit_sample(x_train, y_train['health_Good'])\n",
    "\n",
    "health_fair_smonn = pd.concat([x_train_smonn_fair, y_train_smonn_fair], axis=1)\n",
    "health_poor_smonn = pd.concat([x_train_smonn_poor, y_train_smonn_poor], axis=1)\n",
    "#health_good_smonn = pd.concat([x_train_smonn_good, y_train_smonn_good], axis=1)\n",
    "health_fair_smonn = health_fair_smonn[health_fair_smonn.health_Fair == 1]\n",
    "health_poor_smonn = health_poor_smonn[health_poor_smonn.health_Poor == 1]\n",
    "\n",
    "df_sel_enc_smonn = pd.concat([df, health_fair_smonn, health_poor_smonn], ignore_index=True)\n",
    "df_sel_enc_smonn.fillna(0, inplace=True)\n",
    "df_sel_enc_smonn[df_sel_enc_smonn.columns[-4:]] = df_sel_enc_smonn[df_sel_enc_smonn.columns[-4:]].astype(int)"
   ]
  },
  {
   "cell_type": "code",
   "execution_count": null,
   "metadata": {},
   "outputs": [],
   "source": [
    "x_new_smonn = df_sel_enc_os[list(df_sel_enc_os.columns)[1:31]]\n",
    "y_new_smonn = df_sel_enc_os[list(df_sel_enc_os.columns)[31:]]\n",
    "\n",
    "# Split into train, test, and validation datasets, with stratification as some labels were not predicted in previous runs.\n",
    "# x_train_vali, x_test, y_train_vali, y_test = train_test_split(x, y, random_state=0)\n",
    "# x_train, x_vali, y_train, y_vali = train_test_split(x_train_vali, y_train_vali, random_state=0)\n",
    "\n",
    "x_train_new_smonn, x_test_new_smonn, y_train_new_smonn, y_test_new_smonn = train_test_split(x_new_smonn, y_new_smonn, test_size=0.5, random_state=None, stratify=y_new_smonn)\n",
    "\n"
   ]
  },
  {
   "cell_type": "code",
   "execution_count": null,
   "metadata": {},
   "outputs": [],
   "source": [
    "y_train_new_smonn.hist()"
   ]
  },
  {
   "cell_type": "code",
   "execution_count": null,
   "metadata": {},
   "outputs": [],
   "source": [
    "rdf_clf = RandomForestClassifier(n_jobs=-1)\n",
    "rdf_clf.fit(x_train_new_smonn, y_train_new_smonn)\n",
    "y_pred_new_smonn = rdf_clf.predict(x_test_new_os)\n",
    "print(accuracy_score(y_test_new_smonn, y_pred_new_smonn))"
   ]
  },
  {
   "cell_type": "markdown",
   "metadata": {},
   "source": [
    "# Gridsearch"
   ]
  },
  {
   "cell_type": "code",
   "execution_count": 185,
   "metadata": {},
   "outputs": [],
   "source": [
    "parameter_grid = dict(n_estimators=[1000],\n",
    "                      criterion=['entropy'],\n",
    "                      max_features=[len(x.columns)])\n",
    "gcv_rdf_clf = GridSearchCV(estimator=rdf_clf, param_grid=parameter_grid, cv=2, verbose=10, n_jobs=-1)"
   ]
  },
  {
   "cell_type": "code",
   "execution_count": 186,
   "metadata": {
    "scrolled": true
   },
   "outputs": [
    {
     "name": "stdout",
     "output_type": "stream",
     "text": [
      "Fitting 2 folds for each of 1 candidates, totalling 2 fits\n"
     ]
    },
    {
     "name": "stderr",
     "output_type": "stream",
     "text": [
      "[Parallel(n_jobs=-1)]: Using backend LokyBackend with 12 concurrent workers.\n",
      "[Parallel(n_jobs=-1)]: Done   2 out of   2 | elapsed:  1.7min remaining:    0.0s\n",
      "[Parallel(n_jobs=-1)]: Done   2 out of   2 | elapsed:  1.7min finished\n"
     ]
    },
    {
     "name": "stdout",
     "output_type": "stream",
     "text": [
      "Fitting 2 folds for each of 1 candidates, totalling 2 fits\n"
     ]
    },
    {
     "name": "stderr",
     "output_type": "stream",
     "text": [
      "[Parallel(n_jobs=-1)]: Using backend LokyBackend with 12 concurrent workers.\n",
      "[Parallel(n_jobs=-1)]: Done   2 out of   2 | elapsed:  1.7min remaining:    0.0s\n",
      "[Parallel(n_jobs=-1)]: Done   2 out of   2 | elapsed:  1.7min finished\n"
     ]
    },
    {
     "name": "stdout",
     "output_type": "stream",
     "text": [
      "Fitting 2 folds for each of 1 candidates, totalling 2 fits\n"
     ]
    },
    {
     "name": "stderr",
     "output_type": "stream",
     "text": [
      "[Parallel(n_jobs=-1)]: Using backend LokyBackend with 12 concurrent workers.\n",
      "[Parallel(n_jobs=-1)]: Done   2 out of   2 | elapsed:  1.7min remaining:    0.0s\n",
      "[Parallel(n_jobs=-1)]: Done   2 out of   2 | elapsed:  1.7min finished\n"
     ]
    },
    {
     "name": "stdout",
     "output_type": "stream",
     "text": [
      "Fitting 2 folds for each of 1 candidates, totalling 2 fits\n"
     ]
    },
    {
     "name": "stderr",
     "output_type": "stream",
     "text": [
      "[Parallel(n_jobs=-1)]: Using backend LokyBackend with 12 concurrent workers.\n",
      "[Parallel(n_jobs=-1)]: Done   2 out of   2 | elapsed:  1.7min remaining:    0.0s\n",
      "[Parallel(n_jobs=-1)]: Done   2 out of   2 | elapsed:  1.7min finished\n"
     ]
    },
    {
     "name": "stdout",
     "output_type": "stream",
     "text": [
      "Fitting 2 folds for each of 1 candidates, totalling 2 fits\n"
     ]
    },
    {
     "name": "stderr",
     "output_type": "stream",
     "text": [
      "[Parallel(n_jobs=-1)]: Using backend LokyBackend with 12 concurrent workers.\n",
      "[Parallel(n_jobs=-1)]: Done   2 out of   2 | elapsed:  1.9min remaining:    0.0s\n",
      "[Parallel(n_jobs=-1)]: Done   2 out of   2 | elapsed:  1.9min finished\n"
     ]
    },
    {
     "data": {
      "text/plain": [
       "array([0.81693874, 0.81436119, 0.81244173, 0.81626236, 0.81628064])"
      ]
     },
     "execution_count": 186,
     "metadata": {},
     "output_type": "execute_result"
    }
   ],
   "source": [
    "accuracy_scores = cross_val_score(gcv_rdf_clf, x_train, y_train)\n",
    "accuracy_scores"
   ]
  },
  {
   "cell_type": "markdown",
   "metadata": {},
   "source": [
    "# Save current status"
   ]
  },
  {
   "cell_type": "code",
   "execution_count": null,
   "metadata": {},
   "outputs": [],
   "source": [
    "pickle.dump(rdf, open('rdf.pkl', 'wb'))"
   ]
  }
 ],
 "metadata": {
  "kernelspec": {
   "display_name": "Python 3",
   "language": "python",
   "name": "python3"
  },
  "language_info": {
   "codemirror_mode": {
    "name": "ipython",
    "version": 3
   },
   "file_extension": ".py",
   "mimetype": "text/x-python",
   "name": "python",
   "nbconvert_exporter": "python",
   "pygments_lexer": "ipython3",
   "version": "3.7.1"
  }
 },
 "nbformat": 4,
 "nbformat_minor": 2
}
